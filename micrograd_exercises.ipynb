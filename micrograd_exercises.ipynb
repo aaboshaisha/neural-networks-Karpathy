{
 "cells": [
  {
   "cell_type": "markdown",
   "metadata": {
    "id": "JnGHatCI51JP"
   },
   "source": [
    "# micrograd exercises\n",
    "\n",
    "1. watch the [micrograd video](https://www.youtube.com/watch?v=VMj-3S1tku0) on YouTube\n",
    "2. come back and complete these exercises to level up :)"
   ]
  },
  {
   "cell_type": "markdown",
   "metadata": {
    "id": "OFt6NKOz6iBZ"
   },
   "source": [
    "## section 1: derivatives"
   ]
  },
  {
   "cell_type": "code",
   "execution_count": 1,
   "metadata": {
    "id": "3Jx9fCXl5xHd",
    "tags": []
   },
   "outputs": [
    {
     "name": "stdout",
     "output_type": "stream",
     "text": [
      "6.336362190988558\n"
     ]
    }
   ],
   "source": [
    "# here is a mathematical expression that takes 3 inputs and produces one output\n",
    "from math import sin, cos\n",
    "\n",
    "def f(a, b, c):\n",
    "    return -a**3 + sin(3*b) - 1.0/c + b**2.5 - a**0.5\n",
    "\n",
    "print(f(2, 3, 4))"
   ]
  },
  {
   "cell_type": "code",
   "execution_count": 6,
   "metadata": {
    "id": "qXaH59eL9zxf",
    "tags": []
   },
   "outputs": [
    {
     "name": "stdout",
     "output_type": "stream",
     "text": [
      "OK for dim 0: expected -12.353553390593273, yours returns -12.353553390593273\n",
      "OK for dim 1: expected 10.25699027111255, yours returns 10.25699027111255\n",
      "OK for dim 2: expected 0.0625, yours returns 0.0625\n"
     ]
    }
   ],
   "source": [
    "# write the function df that returns the analytical gradient of f\n",
    "# i.e. use your skills from calculus to take the derivative, then implement the formula\n",
    "# if you do not calculus then feel free to ask wolframalpha, e.g.:\n",
    "# https://www.wolframalpha.com/input?i=d%2Fda%28sin%283*a%29%29%29\n",
    "\n",
    "def gradf(a, b, c):\n",
    "    dfda = -3*a**2 - 0.5 * a**-0.5\n",
    "    dfdb = 3*cos(3*b) + 2.5 * b**1.5\n",
    "    dfdc = c**-2\n",
    "    return [dfda, dfdb, dfdc] # todo, return [df/da, df/db, df/dc]\n",
    "\n",
    "# expected answer is the list of\n",
    "ans = [-12.353553390593273, 10.25699027111255, 0.0625]\n",
    "yours = gradf(2, 3, 4)\n",
    "for dim in range(3):\n",
    "    ok = 'OK' if abs(yours[dim] - ans[dim]) < 1e-5 else 'WRONG!'\n",
    "    print(f\"{ok} for dim {dim}: expected {ans[dim]}, yours returns {yours[dim]}\")\n"
   ]
  },
  {
   "cell_type": "code",
   "execution_count": 10,
   "metadata": {
    "id": "_27n-KTA9Qla",
    "tags": []
   },
   "outputs": [
    {
     "name": "stdout",
     "output_type": "stream",
     "text": [
      "OK for dim 0: expected -12.353553390593273, yours returns -12.353553380251014\n",
      "OK for dim 1: expected 10.25699027111255, yours returns 10.256990368162633\n",
      "OK for dim 2: expected 0.0625, yours returns 0.0624999607623522\n"
     ]
    }
   ],
   "source": [
    "# now estimate the gradient numerically without any calculus, using\n",
    "# the approximation we used in the video.\n",
    "# you should not call the function df from the last cell\n",
    "\n",
    "# -----------\n",
    "h = 1e-8; a=2; b=3; c=4;\n",
    "dfda = (f(a+h,b,c) - f(a,b,c))/h\n",
    "dfdb = (f(a,b+h,c) - f(a,b,c))/h\n",
    "dfdc = (f(a,b,c+h) - f(a,b,c))/h\n",
    "\n",
    "numerical_grad = [dfda, dfdb, dfdc] # TODO\n",
    "# -----------\n",
    "\n",
    "for dim in range(3):\n",
    "    ok = 'OK' if abs(numerical_grad[dim] - ans[dim]) < 1e-5 else 'WRONG!'\n",
    "    print(f\"{ok} for dim {dim}: expected {ans[dim]}, yours returns {numerical_grad[dim]}\")\n"
   ]
  },
  {
   "cell_type": "code",
   "execution_count": 12,
   "metadata": {
    "id": "BUqsGb5o_h2P",
    "tags": []
   },
   "outputs": [
    {
     "name": "stdout",
     "output_type": "stream",
     "text": [
      "OK for dim 0: expected -12.353553390593273, yours returns -12.353553291433172\n",
      "OK for dim 1: expected 10.25699027111255, yours returns 10.256990368162633\n",
      "OK for dim 2: expected 0.0625, yours returns 0.0624999607623522\n"
     ]
    }
   ],
   "source": [
    "# there is an alternative formula that provides a much better numerical\n",
    "# approximation to the derivative of a function.\n",
    "# learn about it here: https://en.wikipedia.org/wiki/Symmetric_derivative\n",
    "# implement it. confirm that for the same step size h this version gives a\n",
    "# better approximation.\n",
    "\n",
    "# -----------\n",
    "h = 1e-8; a=2; b=3; c=4;\n",
    "\n",
    "dfda = (f(a+h,b,c) - f(a-h,b,c))/(2*h)\n",
    "dfdb = (f(a,b+h,c) - f(a,b-h,c))/(2*h)\n",
    "dfdc = (f(a,b,c+h) - f(a,b,c-h))/(2*h)\n",
    "\n",
    "numerical_grad2 = [dfda, dfdb, dfdc] # TODO\n",
    "# -----------\n",
    "\n",
    "for dim in range(3):\n",
    "    ok = 'OK' if abs(numerical_grad2[dim] - ans[dim]) < 1e-5 else 'WRONG!'\n",
    "    print(f\"{ok} for dim {dim}: expected {ans[dim]}, yours returns {numerical_grad2[dim]}\")\n"
   ]
  },
  {
   "cell_type": "markdown",
   "metadata": {},
   "source": [
    "From Wikipedia: *The symmetric derivative at a given point equals the arithmetic mean of the left and right derivatives at that point, if the latter two both exist*\n",
    "\n",
    "Formula:\n",
    "\n",
    "$$\\lim_{h \\to 0} \\frac{f(x + h) - f(x - h)}{ 2h}$$\n",
    "\n",
    "(we use - for $ - f(x - h) $ beacause the 2 derivatives are on both sides of a point and will have opposite signs, so using -ve means adding them to get the mean). \n",
    "\n",
    "Intuition for the formula: we nudge x a little bit to the right AND a little bit to the left, sum both and get the average."
   ]
  },
  {
   "cell_type": "markdown",
   "metadata": {
    "id": "tklF9s_4AtlI"
   },
   "source": [
    "## section 2: support for softmax"
   ]
  },
  {
   "cell_type": "code",
   "execution_count": 16,
   "metadata": {
    "tags": []
   },
   "outputs": [],
   "source": [
    "import math"
   ]
  },
  {
   "cell_type": "code",
   "execution_count": 40,
   "metadata": {
    "id": "nAPe_RVrCTeO",
    "tags": []
   },
   "outputs": [],
   "source": [
    "# Value class starter code, with many functions taken out\n",
    "from math import exp, log\n",
    "\n",
    "class Value:\n",
    "    def __init__(self, data, _children=(), _op='', label=''):\n",
    "        self.data = data\n",
    "        self.grad = 0.0\n",
    "        self._backward = lambda: None\n",
    "        self._prev = set(_children)\n",
    "        self._op = _op\n",
    "        self.label = label\n",
    "\n",
    "    def __repr__(self):\n",
    "        return f\"Value(data={self.data})\"\n",
    "\n",
    "    def __add__(self, other):\n",
    "        other = other if isinstance(other, Value) else Value(other) # make sure we add similar objects\n",
    "        out = Value(self.data + other.data, (self, other), '+') # forward pass\n",
    "        def _backward():\n",
    "            self.grad += 1.0 * out.grad\n",
    "            other.grad += 1.0 * out.grad\n",
    "        out._backward = _backward\n",
    "        \n",
    "        return out\n",
    "\n",
    "  # ------\n",
    "  # re-implement all the other functions needed for the exercises below\n",
    "  # your code here\n",
    "  # TODO\n",
    "  # ------\n",
    "    def __mul__(self, other):\n",
    "        other = other if isinstance(other, Value) else Value(other)\n",
    "        out = Value(self.data * other.data, (self, other), '*') #forward pass\n",
    "        \n",
    "        def _backward():\n",
    "            self.grad += other.data * out.grad # dout/dself * out.grad\n",
    "            other.grad += self.data * out.grad\n",
    "        out._backward = _backward\n",
    "        \n",
    "        return out\n",
    "\n",
    "    def __neg__(self): # we'll define negation to use in subtraction\n",
    "        return self * -1\n",
    "    def __sub__(self, other): # we define subtraction as addition + (-num)\n",
    "        return self + (-other)\n",
    "    \n",
    "\n",
    "\n",
    "    def __pow__(self, other):\n",
    "        assert isinstance(other, (int, float)) #support only int and float powers for now\n",
    "        out = Value(self.data**other, (self, ), f'**{other}')\n",
    "        \n",
    "        def _backward(): # use the power rule from calculus d(X^n) = n * X^(n-1)\n",
    "            self.grad += other * (self.data ** (other - 1)) * out.grad # as always we propagate the loca out grad\n",
    "        out._backward = _backward\n",
    "        \n",
    "        return out\n",
    "\n",
    "\n",
    "    def __truediv__(self, other): # we implement division as multiplication by denominator^-1\n",
    "        return self * other**-1\n",
    "\n",
    "\n",
    "\n",
    "    def tanh(self):\n",
    "        x = self.data\n",
    "        t = (math.exp(2*x) - 1)/(math.exp(2*x) + 1)\n",
    "        out = Value(t, (self, ), 'tanh')\n",
    "\n",
    "        def _backward():\n",
    "            self.grad += (1 - t**2) * out.grad\n",
    "        out._backward = _backward\n",
    "\n",
    "        return out\n",
    "\n",
    "\n",
    "    def exp(self):\n",
    "        x = self.data\n",
    "        out = Value(math.exp(x), (self, ), 'exp')\n",
    "\n",
    "        def _backward():\n",
    "            self.grad += out.data * out.grad\n",
    "        out._backward = _backward\n",
    "            \n",
    "        return out\n",
    "    \n",
    "    def log(self):\n",
    "        x = self.data\n",
    "        out = Value(math.log(x), (self, ), 'log')\n",
    "        \n",
    "        def _backward():\n",
    "            self.grad += x**-1 * out.grad\n",
    "        out._backward = _backward\n",
    "        \n",
    "        return out\n",
    "\n",
    "    # the reverse operations \n",
    "    def __radd__(self, other):\n",
    "        return self + other\n",
    "    def __rmul__(self, other):\n",
    "        return self * other\n",
    "    \n",
    "    # then we implement backward by using topological sort\n",
    "    def backward(self):\n",
    "        topo = []\n",
    "        visited = set()\n",
    "        \n",
    "        def build_topo(v):\n",
    "            if v not in visited:\n",
    "                visited.add(v)\n",
    "                for child in v._prev:\n",
    "                    build_topo(child)\n",
    "                topo.append(v)\n",
    "        \n",
    "        build_topo(self)\n",
    "        self.grad = 1.0\n",
    "        for node in reversed(topo):\n",
    "            node._backward()"
   ]
  },
  {
   "cell_type": "code",
   "execution_count": 41,
   "metadata": {
    "id": "VgWvwVQNAvnI",
    "tags": []
   },
   "outputs": [
    {
     "name": "stdout",
     "output_type": "stream",
     "text": [
      "2.1755153626167147\n",
      "OK for dim 0: expected 0.041772570515350445, yours returns 0.041772570515350445\n",
      "OK for dim 1: expected 0.8390245074625319, yours returns 0.8390245074625319\n",
      "OK for dim 2: expected 0.005653302662216329, yours returns 0.005653302662216329\n",
      "OK for dim 3: expected -0.8864503806400986, yours returns -0.8864503806400986\n"
     ]
    }
   ],
   "source": [
    "# without referencing our code/video __too__ much, make this cell work\n",
    "# you'll have to implement (in some cases re-implemented) a number of functions\n",
    "# of the Value object, similar to what we've seen in the video.\n",
    "# instead of the squared error loss this implements the negative log likelihood\n",
    "# loss, which is very often used in classification.\n",
    "\n",
    "# this is the softmax function\n",
    "# https://en.wikipedia.org/wiki/Softmax_function\n",
    "def softmax(logits):\n",
    "    counts = [logit.exp() for logit in logits]\n",
    "    denominator = sum(counts)\n",
    "    out = [c / denominator for c in counts]\n",
    "    return out\n",
    "\n",
    "# this is the negative log likelihood loss function, pervasive in classification\n",
    "logits = [Value(0.0), Value(3.0), Value(-2.0), Value(1.0)]\n",
    "probs = softmax(logits)\n",
    "loss = -probs[3].log() # dim 3 acts as the label for this input example\n",
    "loss.backward()\n",
    "print(loss.data)\n",
    "\n",
    "ans = [0.041772570515350445, 0.8390245074625319, 0.005653302662216329, -0.8864503806400986]\n",
    "for dim in range(4):\n",
    "    ok = 'OK' if abs(logits[dim].grad - ans[dim]) < 1e-5 else 'WRONG!'\n",
    "    print(f\"{ok} for dim {dim}: expected {ans[dim]}, yours returns {logits[dim].grad}\")\n"
   ]
  },
  {
   "cell_type": "code",
   "execution_count": 76,
   "metadata": {
    "id": "q7ca1SVAGG1S",
    "tags": []
   },
   "outputs": [
    {
     "name": "stdout",
     "output_type": "stream",
     "text": [
      "tensor(2.1755)\n",
      "OK for dim 0: expected 0.041772570515350445, yours returns 0.041772566735744476\n",
      "OK for dim 1: expected 0.8390245074625319, yours returns 0.8390244245529175\n",
      "OK for dim 2: expected 0.005653302662216329, yours returns 0.005653302185237408\n",
      "OK for dim 3: expected -0.8864503806400986, yours returns -0.8864503502845764\n"
     ]
    }
   ],
   "source": [
    "# verify the gradient using the torch library\n",
    "# torch should give you the exact same gradient\n",
    "import torch\n",
    "\n",
    "logits2 = torch.tensor([0.0, 3.0, -2.0, 1.0], requires_grad=True)\n",
    "probs2 = softmax(logits2)\n",
    "loss2 = -probs2[3].log() # dim 3 acts as the label for this input example\n",
    "loss2.backward()\n",
    "print(loss2.data)\n",
    "\n",
    "ans = [0.041772570515350445, 0.8390245074625319, 0.005653302662216329, -0.8864503806400986]\n",
    "for dim in range(4):\n",
    "    ok = 'OK' if abs(logits2.grad[dim].item() - ans[dim]) < 1e-5 else 'WRONG!'\n",
    "    print(f\"{ok} for dim {dim}: expected {ans[dim]}, yours returns {logits2.grad[dim].item()}\")"
   ]
  },
  {
   "cell_type": "code",
   "execution_count": null,
   "metadata": {},
   "outputs": [],
   "source": []
  }
 ],
 "metadata": {
  "colab": {
   "provenance": []
  },
  "kernelspec": {
   "display_name": "Python 3 (ipykernel)",
   "language": "python",
   "name": "python3"
  },
  "language_info": {
   "codemirror_mode": {
    "name": "ipython",
    "version": 3
   },
   "file_extension": ".py",
   "mimetype": "text/x-python",
   "name": "python",
   "nbconvert_exporter": "python",
   "pygments_lexer": "ipython3",
   "version": "3.10.9"
  }
 },
 "nbformat": 4,
 "nbformat_minor": 4
}
