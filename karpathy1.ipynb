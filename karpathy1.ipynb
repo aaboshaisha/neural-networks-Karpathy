{
 "cells": [
  {
   "cell_type": "markdown",
   "id": "15b4c791-98e4-43b9-9dcc-87eaf847acc6",
   "metadata": {},
   "source": [
    "What is micrograd? \n",
    "\n",
    "Is an Autograd engine (automatic gradient) -> implements backpropagation.\n",
    "\n",
    "Backpropagation is an algorithm that allows u to efficiently evaluate the gradient (derivative) of some kind of loss function wrt the weights of a NN. This allows us to adjust the weights to minimize the loss.\n",
    "\n",
    "It will be at the mathematical core of any DL Library."
   ]
  },
  {
   "cell_type": "markdown",
   "id": "e5a7c578-c336-4dc1-a047-14220f49cc13",
   "metadata": {},
   "source": [
    "Its functionality: Micrograd allows us to build mathematical expressions. \n",
    "\n",
    "```\n",
    "from micrograd.engine import Value\n",
    "\n",
    "# Here, we're building mathematical expression with 2 inputs a & b.\n",
    "# micrograd wraps these inside Value object\n",
    "\n",
    "a = Value(-4.0) \n",
    "b = Value(2.0)\n",
    "\n",
    "# we build the math expression where a and b are transformed into c, d then e, f and g\n",
    "\n",
    "c = a + b # can add 2 value objects\n",
    "d = a * b + b**3 # multiply, raise to power .. etc\n",
    "\n",
    "#micrograd builds these math expressions in the background. It knows that c is also a Value object and that it resulted from and addition operation. It also knows the child nodes of c are a & b since it maintains pointers to them. \n",
    "\n",
    "c += c + 1\n",
    "c += 1 + c + (-a)\n",
    "d += d * 2 + (b + a).relu()\n",
    "d += 3 * d + (b - a).relu()\n",
    "e = c - d\n",
    "f = e**2\n",
    "g = f / 2.0\n",
    "g += 10.0 / f\n",
    "print(f'{g.data:.4f}') # prints 24.7041, the outcome of this forward pass\n",
    "g.backward() # we can call this and initialize bp at node g. It will start at g and go back through that expression graph and recursively apply the chain rule from calculus. This allows us to calculate the derivative of g wrt all internal nodes and initial a & b\n",
    "\n",
    "print(f'{a.grad:.4f}') # prints 138.8338, i.e. the numerical value of dg/da\n",
    "print(f'{b.grad:.4f}') # prints 645.5773, i.e. the numerical value of dg/db\n",
    "```\n",
    "\n",
    "NNs are just mathematical expressions. \n",
    "\n",
    "BP doesn't care about NNs. It just deals with arbitrary math expressions. \n",
    "\n",
    "micrograd is a scalar-valued autograd engine (works at the level of individual scalars like 4.0 and -2.0). In production, we use Tensors (n-dimensional). These Tensors are filled with scalars but we make operations on them (tensors / large arrays) such it allows us to make use of the parallelism in computers so operations can be done in parallel and make it more efficient.  \n",
    "\n",
    "micrograd is what u need to train NNs. Everything else is just efficiency. "
   ]
  },
  {
   "cell_type": "markdown",
   "id": "0725c996-22cd-4457-af1e-f9d2b53f9ffb",
   "metadata": {},
   "source": [
    "Let's build micrograd step by step"
   ]
  },
  {
   "cell_type": "code",
   "execution_count": 3,
   "id": "c148c310-830c-48dc-88e0-d078986d0153",
   "metadata": {
    "tags": []
   },
   "outputs": [],
   "source": [
    "import math\n",
    "import numpy as np\n",
    "import matplotlib.pyplot as plt\n",
    "%matplotlib inline"
   ]
  },
  {
   "cell_type": "markdown",
   "id": "3f0f601e-f5b7-4152-bb75-f360b462f410",
   "metadata": {
    "tags": []
   },
   "source": [
    "#### First: What is a derivative? "
   ]
  },
  {
   "cell_type": "markdown",
   "id": "5ac6e832-7290-4121-8ad9-ff46f465e731",
   "metadata": {},
   "source": [
    "We'll use the numerical definition (not the symbolic manipulation). \n",
    "\n",
    "Assuming a function f(x), if we nudge its input x a tiny bit, how will the function respond (+ , 0 , -)? \n",
    "\n",
    "$df = \\frac{f(x + h) - f(x)} {h}$ \n",
    "\n",
    "NB: we normalize through dividing by h to get a slope not an absolute value. \n",
    "\n",
    "$f(x + h) - f(x)$ how much the function increased / decreased when bumped by h\n",
    "\n",
    "$ / h $ normalized through dividing by $h$ to get the slope"
   ]
  },
  {
   "cell_type": "code",
   "execution_count": 1,
   "id": "e29ed5fe-3b1b-4b52-adfb-ad5d1061d6f7",
   "metadata": {
    "tags": []
   },
   "outputs": [],
   "source": [
    "def f(x): return 3*x**2 + 4*x + 5"
   ]
  },
  {
   "cell_type": "code",
   "execution_count": 2,
   "id": "a45925d7-0461-425a-94d2-527160e3dca8",
   "metadata": {
    "tags": []
   },
   "outputs": [
    {
     "data": {
      "text/plain": [
       "44.0"
      ]
     },
     "execution_count": 2,
     "metadata": {},
     "output_type": "execute_result"
    }
   ],
   "source": [
    "f(3.0)"
   ]
  },
  {
   "cell_type": "code",
   "execution_count": 4,
   "id": "15165164-0750-4dcf-920e-b9167fc13a31",
   "metadata": {
    "tags": []
   },
   "outputs": [
    {
     "data": {
      "image/png": "[encoded data removed]",
      "text/plain": [
       "<Figure size 640x480 with 1 Axes>"
      ]
     },
     "metadata": {},
     "output_type": "display_data"
    }
   ],
   "source": [
    "xs = np.arange(-5, 5, 0.25)\n",
    "ys = f(xs)\n",
    "plt.plot(xs, ys);"
   ]
  },
  {
   "cell_type": "code",
   "execution_count": 6,
   "id": "a7e6a32d-1193-4070-888a-d50fa1af3097",
   "metadata": {
    "tags": []
   },
   "outputs": [
    {
     "data": {
      "text/plain": [
       "22.002999999997996"
      ]
     },
     "execution_count": 6,
     "metadata": {},
     "output_type": "execute_result"
    }
   ],
   "source": [
    "h = 0.001\n",
    "x = 3\n",
    "(f(x + h) - f(x)) / h"
   ]
  },
  {
   "cell_type": "markdown",
   "id": "6af2ad12-2657-45ae-a4cc-2864238512da",
   "metadata": {},
   "source": [
    "Now we'll move to NNs. NNs will be massive mathematical expressions so we need data structures that maintain them. That's what we'll build."
   ]
  },
  {
   "cell_type": "markdown",
   "id": "70738640-2c1b-4dcd-817f-8aae057cae67",
   "metadata": {},
   "source": [
    "#### Building Value object & forward pass:"
   ]
  },
  {
   "cell_type": "markdown",
   "id": "4ff55bf5-f765-4466-968d-054ce86007de",
   "metadata": {},
   "source": [
    "We'll start by building the value object. It takes a scalar object and wraps it."
   ]
  },
  {
   "cell_type": "code",
   "execution_count": 9,
   "id": "06926c32-880d-48d9-8496-fbc9451cb19d",
   "metadata": {
    "tags": []
   },
   "outputs": [],
   "source": [
    "class Value:\n",
    "    def __init__(self, data):\n",
    "        self.data = data\n",
    "    \n",
    "    def __repr__(self):\n",
    "        return f\"Value(data={self.data})\""
   ]
  },
  {
   "cell_type": "code",
   "execution_count": 11,
   "id": "4cb83868-cdad-4297-8696-41462b839337",
   "metadata": {
    "tags": []
   },
   "outputs": [
    {
     "data": {
      "text/plain": [
       "(Value(data=2.0), Value(data=-3.0))"
      ]
     },
     "execution_count": 11,
     "metadata": {},
     "output_type": "execute_result"
    }
   ],
   "source": [
    "a = Value(2.0)\n",
    "b = Value(-3.0)\n",
    "a, b"
   ]
  },
  {
   "cell_type": "markdown",
   "id": "cb0298b2-d962-4cb9-93a4-451c6be32dc1",
   "metadata": {},
   "source": [
    "Now we want to be able to add 2 value objects:"
   ]
  },
  {
   "cell_type": "code",
   "execution_count": 12,
   "id": "0f20fd26-1936-460e-aa07-70285007b0f3",
   "metadata": {
    "tags": []
   },
   "outputs": [],
   "source": [
    "class Value:\n",
    "    def __init__(self, data):\n",
    "        self.data = data\n",
    "    \n",
    "    def __add__(self, other):\n",
    "        out = Value(self.data + other.data)\n",
    "        return out\n",
    "    \n",
    "    def __repr__(self):\n",
    "        return f\"Value(data={self.data})\""
   ]
  },
  {
   "cell_type": "markdown",
   "id": "6d7af30a-4a43-4db4-9304-63d55b2547e0",
   "metadata": {},
   "source": [
    "NB: when we use `__add__` , Python will call `a.__add__(b)`\n",
    "\n",
    "NB: Remeber, since `data` in `self.data = data` is the actual Python number, the result of `a.__add__(b)` will be a number (a floating point) not a Value object (we're not adding objects, we're adding numbers)."
   ]
  },
  {
   "cell_type": "code",
   "execution_count": 14,
   "id": "bd4e424e-2998-4683-a006-84d7c0be1011",
   "metadata": {
    "tags": []
   },
   "outputs": [
    {
     "data": {
      "text/plain": [
       "Value(data=-1.0)"
      ]
     },
     "execution_count": 14,
     "metadata": {},
     "output_type": "execute_result"
    }
   ],
   "source": [
    "a = Value(2.0)\n",
    "b = Value(-3.0)\n",
    "a + b"
   ]
  },
  {
   "cell_type": "markdown",
   "id": "33a13152-b65c-4cc2-805d-44b7f49520ae",
   "metadata": {},
   "source": [
    "Let's implement multiply:"
   ]
  },
  {
   "cell_type": "code",
   "execution_count": 17,
   "id": "55ba2fd0-485b-4593-9a00-dd88a5a0a166",
   "metadata": {
    "tags": []
   },
   "outputs": [],
   "source": [
    "class Value:\n",
    "    def __init__(self, data):\n",
    "        self.data = data\n",
    "    \n",
    "    def __add__(self, other):\n",
    "        out = Value(self.data + other.data)\n",
    "        return out\n",
    "    \n",
    "    def __mul__(self, other):\n",
    "        out = Value(self.data * other.data)\n",
    "        return out\n",
    "    \n",
    "    def __repr__(self):\n",
    "        return f\"Value(data={self.data})\""
   ]
  },
  {
   "cell_type": "code",
   "execution_count": 18,
   "id": "b09f81c8-2458-428e-8c1d-1a8a08b343de",
   "metadata": {
    "tags": []
   },
   "outputs": [
    {
     "data": {
      "text/plain": [
       "Value(data=-6.0)"
      ]
     },
     "execution_count": 18,
     "metadata": {},
     "output_type": "execute_result"
    }
   ],
   "source": [
    "a = Value(2.0)\n",
    "b = Value(-3.0)\n",
    "c = Value(10.0)\n",
    "a*b"
   ]
  },
  {
   "cell_type": "code",
   "execution_count": 20,
   "id": "bd795b65-e656-473d-aced-d4b06ba499ec",
   "metadata": {
    "tags": []
   },
   "outputs": [
    {
     "data": {
      "text/plain": [
       "Value(data=4.0)"
      ]
     },
     "execution_count": 20,
     "metadata": {},
     "output_type": "execute_result"
    }
   ],
   "source": [
    "d = a*b + c\n",
    "d"
   ]
  },
  {
   "cell_type": "markdown",
   "id": "0ebb0734-8c85-42e3-96ca-7044db514915",
   "metadata": {
    "tags": []
   },
   "source": [
    "This is: `(a.__mul(b)).__add__(c)`"
   ]
  },
  {
   "cell_type": "markdown",
   "id": "842cdd0a-f7f6-4fa0-b2b2-b62183ab289b",
   "metadata": {},
   "source": [
    "Now what we're missing is the connective tissue of this graph. We need to keep track of what values produce other values through pointers."
   ]
  },
  {
   "cell_type": "markdown",
   "id": "0015017e-282f-49cb-b59e-966514469fa3",
   "metadata": {
    "tags": []
   },
   "source": [
    "```\n",
    "class Value:\n",
    "    # we introduce an extra input _children as empty tuple by default\n",
    "    def __init__(self, data, _children=()):\n",
    "        self.data = data\n",
    "        self._prev = set(_children) # we'll add _prev now as a set to maintan children (andrej doesn't remeber why tuple then set but maybe for efficiency \n",
    "    \n",
    "    def __add__(self, other):\n",
    "        out = Value(self.data + other.data, (self, other)) # add children as input\n",
    "        return out\n",
    "    \n",
    "    def __mul__(self, other):\n",
    "        out = Value(self.data * other.data, (self, other)) # add children as input\n",
    "        return out\n",
    "    \n",
    "    def __repr__(self):\n",
    "        return f\"Value(data={self.data})\"\n",
    "```"
   ]
  },
  {
   "cell_type": "code",
   "execution_count": 22,
   "id": "52678af0-c300-4176-8203-19054535f2fe",
   "metadata": {
    "tags": []
   },
   "outputs": [],
   "source": [
    "class Value:\n",
    "    def __init__(self, data, _children=()):\n",
    "        self.data = data\n",
    "        self._prev = set(_children) \n",
    "    \n",
    "    def __add__(self, other):\n",
    "        out = Value(self.data + other.data, (self, other)) \n",
    "        return out\n",
    "    \n",
    "    def __mul__(self, other):\n",
    "        out = Value(self.data * other.data, (self, other))\n",
    "        return out\n",
    "    \n",
    "    def __repr__(self):\n",
    "        return f\"Value(data={self.data})\""
   ]
  },
  {
   "cell_type": "code",
   "execution_count": 23,
   "id": "34585ff7-f244-4a58-9abf-84560b824b95",
   "metadata": {
    "tags": []
   },
   "outputs": [
    {
     "data": {
      "text/plain": [
       "{Value(data=-6.0), Value(data=10.0)}"
      ]
     },
     "execution_count": 23,
     "metadata": {},
     "output_type": "execute_result"
    }
   ],
   "source": [
    "a = Value(2.0)\n",
    "b = Value(-3.0)\n",
    "c = Value(10.0)\n",
    "d = a*b + c\n",
    "d._prev"
   ]
  },
  {
   "cell_type": "markdown",
   "id": "2c127b23-a878-40a0-bbef-d93bb06c63d8",
   "metadata": {},
   "source": [
    "Now, we know what children created each value but we don't know what operation. \n",
    "\n",
    "Similar to how we created children, we'll do one more attribute that we'll call `_op`"
   ]
  },
  {
   "cell_type": "code",
   "execution_count": 24,
   "id": "f98e27a5-939c-497c-8c97-15ee02fc08a8",
   "metadata": {
    "tags": []
   },
   "outputs": [],
   "source": [
    "class Value:\n",
    "    def __init__(self, data, _children=(), _op=''):\n",
    "        self.data = data\n",
    "        self._prev = set(_children) \n",
    "        self._op = _op\n",
    "    \n",
    "    def __add__(self, other):\n",
    "        out = Value(self.data + other.data, (self, other), '+') \n",
    "        return out\n",
    "    \n",
    "    def __mul__(self, other):\n",
    "        out = Value(self.data * other.data, (self, other), '*')\n",
    "        return out\n",
    "    \n",
    "    def __repr__(self):\n",
    "        return f\"Value(data={self.data})\""
   ]
  },
  {
   "cell_type": "code",
   "execution_count": 25,
   "id": "0a8592e3-d2fc-4766-8b2b-741df4b0d6e0",
   "metadata": {
    "tags": []
   },
   "outputs": [
    {
     "data": {
      "text/plain": [
       "'+'"
      ]
     },
     "execution_count": 25,
     "metadata": {},
     "output_type": "execute_result"
    }
   ],
   "source": [
    "a = Value(2.0)\n",
    "b = Value(-3.0)\n",
    "c = Value(10.0)\n",
    "d = a*b + c\n",
    "d._op"
   ]
  },
  {
   "cell_type": "markdown",
   "id": "baea8cdc-1707-457e-ba8e-cb7e352174d1",
   "metadata": {},
   "source": [
    "Now we know how each expression came to be: from what values and through what operation. "
   ]
  },
  {
   "cell_type": "markdown",
   "id": "c315b11b-9ed3-48a9-adb8-424481c14d49",
   "metadata": {},
   "source": [
    "These expressions are about to get large. We need a way to visualize them."
   ]
  },
  {
   "cell_type": "code",
   "execution_count": 33,
   "id": "16526ac7-8c37-420d-a613-0b73a1b48121",
   "metadata": {
    "tags": []
   },
   "outputs": [],
   "source": [
    "# for now, just copying this code\n",
    "\n",
    "from graphviz import Digraph\n",
    "\n",
    "def trace(root):\n",
    "  # builds a set of all nodes and edges in a graph\n",
    "  nodes, edges = set(), set()\n",
    "  def build(v):\n",
    "    if v not in nodes:\n",
    "      nodes.add(v)\n",
    "      for child in v._prev:\n",
    "        edges.add((child, v))\n",
    "        build(child)\n",
    "  build(root)\n",
    "  return nodes, edges\n",
    "\n",
    "def draw_dot(root):\n",
    "  dot = Digraph(format='svg', graph_attr={'rankdir': 'LR'}) # LR = left to right\n",
    "  \n",
    "  nodes, edges = trace(root)\n",
    "  for n in nodes:\n",
    "    uid = str(id(n))\n",
    "    # for any value in the graph, create a rectangular ('record') node for it\n",
    "    dot.node(name = uid, label = \"{ data %.4f }\" % (n.data, ), shape='record')\n",
    "    if n._op:\n",
    "      # if this value is a result of some operation, create an op node for it\n",
    "      dot.node(name = uid + n._op, label = n._op)\n",
    "      # and connect this node to it\n",
    "      dot.edge(uid + n._op, uid)\n",
    "\n",
    "  for n1, n2 in edges:\n",
    "    # connect n1 to the op node of n2\n",
    "    dot.edge(str(id(n1)), str(id(n2)) + n2._op)\n",
    "\n",
    "  return dot"
   ]
  },
  {
   "cell_type": "code",
   "execution_count": 34,
   "id": "7bcfbb84-927e-4a0e-a228-08fe608ee9a5",
   "metadata": {
    "tags": []
   },
   "outputs": [
    {
     "data": {
      "image/svg+xml": [
       "<?xml version=\"1.0\" encoding=\"UTF-8\" standalone=\"no\"?>\n",
       "<!DOCTYPE svg PUBLIC \"-//W3C//DTD SVG 1.1//EN\"\n",
       " \"http://www.w3.org/Graphics/SVG/1.1/DTD/svg11.dtd\">\n",
       "<!-- Generated by graphviz version 7.1.0 (0)\n",
       " -->\n",
       "<!-- Pages: 1 -->\n",
       "<svg width=\"512pt\" height=\"128pt\"\n",
       " viewBox=\"0.00 0.00 512.00 128.00\" xmlns=\"http://www.w3.org/2000/svg\" xmlns:xlink=\"http://www.w3.org/1999/xlink\">\n",
       "<g id=\"graph0\" class=\"graph\" transform=\"scale(1 1) rotate(0) translate(4 124)\">\n",
       "<polygon fill=\"white\" stroke=\"none\" points=\"-4,4 -4,-124 508,-124 508,4 -4,4\"/>\n",
       "<!-- 4426619088 -->\n",
       "<g id=\"node1\" class=\"node\">\n",
       "<title>4426619088</title>\n",
       "<polygon fill=\"none\" stroke=\"black\" points=\"2.5,-83.5 2.5,-119.5 82.5,-119.5 82.5,-83.5 2.5,-83.5\"/>\n",
       "<text text-anchor=\"middle\" x=\"42.5\" y=\"-97.8\" font-family=\"Times,serif\" font-size=\"14.00\">data 2.0000</text>\n",
       "</g>\n",
       "<!-- 4426625856* -->\n",
       "<g id=\"node3\" class=\"node\">\n",
       "<title>4426625856*</title>\n",
       "<ellipse fill=\"none\" stroke=\"black\" cx=\"148\" cy=\"-73.5\" rx=\"27\" ry=\"18\"/>\n",
       "<text text-anchor=\"middle\" x=\"148\" y=\"-69.8\" font-family=\"Times,serif\" font-size=\"14.00\">*</text>\n",
       "</g>\n",
       "<!-- 4426619088&#45;&gt;4426625856* -->\n",
       "<g id=\"edge3\" class=\"edge\">\n",
       "<title>4426619088&#45;&gt;4426625856*</title>\n",
       "<path fill=\"none\" stroke=\"black\" d=\"M82.33,-90.99C91.88,-88.41 102.04,-85.66 111.42,-83.12\"/>\n",
       "<polygon fill=\"black\" stroke=\"black\" points=\"112.18,-86.55 120.92,-80.56 110.35,-79.79 112.18,-86.55\"/>\n",
       "</g>\n",
       "<!-- 4426625856 -->\n",
       "<g id=\"node2\" class=\"node\">\n",
       "<title>4426625856</title>\n",
       "<polygon fill=\"none\" stroke=\"black\" points=\"212,-55.5 212,-91.5 297,-91.5 297,-55.5 212,-55.5\"/>\n",
       "<text text-anchor=\"middle\" x=\"254.5\" y=\"-69.8\" font-family=\"Times,serif\" font-size=\"14.00\">data &#45;6.0000</text>\n",
       "</g>\n",
       "<!-- 4427393888+ -->\n",
       "<g id=\"node5\" class=\"node\">\n",
       "<title>4427393888+</title>\n",
       "<ellipse fill=\"none\" stroke=\"black\" cx=\"361\" cy=\"-45.5\" rx=\"27\" ry=\"18\"/>\n",
       "<text text-anchor=\"middle\" x=\"361\" y=\"-41.8\" font-family=\"Times,serif\" font-size=\"14.00\">+</text>\n",
       "</g>\n",
       "<!-- 4426625856&#45;&gt;4427393888+ -->\n",
       "<g id=\"edge4\" class=\"edge\">\n",
       "<title>4426625856&#45;&gt;4427393888+</title>\n",
       "<path fill=\"none\" stroke=\"black\" d=\"M296.8,-62.43C306.03,-59.96 315.73,-57.36 324.69,-54.96\"/>\n",
       "<polygon fill=\"black\" stroke=\"black\" points=\"325.33,-58.41 334.08,-52.44 323.52,-51.65 325.33,-58.41\"/>\n",
       "</g>\n",
       "<!-- 4426625856*&#45;&gt;4426625856 -->\n",
       "<g id=\"edge1\" class=\"edge\">\n",
       "<title>4426625856*&#45;&gt;4426625856</title>\n",
       "<path fill=\"none\" stroke=\"black\" d=\"M175.37,-73.5C183.11,-73.5 191.85,-73.5 200.62,-73.5\"/>\n",
       "<polygon fill=\"black\" stroke=\"black\" points=\"200.57,-77 210.57,-73.5 200.57,-70 200.57,-77\"/>\n",
       "</g>\n",
       "<!-- 4427393888 -->\n",
       "<g id=\"node4\" class=\"node\">\n",
       "<title>4427393888</title>\n",
       "<polygon fill=\"none\" stroke=\"black\" points=\"424,-27.5 424,-63.5 504,-63.5 504,-27.5 424,-27.5\"/>\n",
       "<text text-anchor=\"middle\" x=\"464\" y=\"-41.8\" font-family=\"Times,serif\" font-size=\"14.00\">data 4.0000</text>\n",
       "</g>\n",
       "<!-- 4427393888+&#45;&gt;4427393888 -->\n",
       "<g id=\"edge2\" class=\"edge\">\n",
       "<title>4427393888+&#45;&gt;4427393888</title>\n",
       "<path fill=\"none\" stroke=\"black\" d=\"M388.27,-45.5C395.83,-45.5 404.33,-45.5 412.82,-45.5\"/>\n",
       "<polygon fill=\"black\" stroke=\"black\" points=\"412.79,-49 422.79,-45.5 412.79,-42 412.79,-49\"/>\n",
       "</g>\n",
       "<!-- 4427497328 -->\n",
       "<g id=\"node6\" class=\"node\">\n",
       "<title>4427497328</title>\n",
       "<polygon fill=\"none\" stroke=\"black\" points=\"211,-0.5 211,-36.5 298,-36.5 298,-0.5 211,-0.5\"/>\n",
       "<text text-anchor=\"middle\" x=\"254.5\" y=\"-14.8\" font-family=\"Times,serif\" font-size=\"14.00\">data 10.0000</text>\n",
       "</g>\n",
       "<!-- 4427497328&#45;&gt;4427393888+ -->\n",
       "<g id=\"edge5\" class=\"edge\">\n",
       "<title>4427497328&#45;&gt;4427393888+</title>\n",
       "<path fill=\"none\" stroke=\"black\" d=\"M297.7,-29.4C306.5,-31.68 315.7,-34.05 324.24,-36.26\"/>\n",
       "<polygon fill=\"black\" stroke=\"black\" points=\"323.36,-39.65 333.92,-38.76 325.11,-32.87 323.36,-39.65\"/>\n",
       "</g>\n",
       "<!-- 4376148384 -->\n",
       "<g id=\"node7\" class=\"node\">\n",
       "<title>4376148384</title>\n",
       "<polygon fill=\"none\" stroke=\"black\" points=\"0,-28.5 0,-64.5 85,-64.5 85,-28.5 0,-28.5\"/>\n",
       "<text text-anchor=\"middle\" x=\"42.5\" y=\"-42.8\" font-family=\"Times,serif\" font-size=\"14.00\">data &#45;3.0000</text>\n",
       "</g>\n",
       "<!-- 4376148384&#45;&gt;4426625856* -->\n",
       "<g id=\"edge6\" class=\"edge\">\n",
       "<title>4376148384&#45;&gt;4426625856*</title>\n",
       "<path fill=\"none\" stroke=\"black\" d=\"M84.7,-57.25C93.56,-59.56 102.85,-61.98 111.47,-64.23\"/>\n",
       "<polygon fill=\"black\" stroke=\"black\" points=\"110.3,-67.54 120.86,-66.68 112.07,-60.77 110.3,-67.54\"/>\n",
       "</g>\n",
       "</g>\n",
       "</svg>\n"
      ],
      "text/plain": [
       "<graphviz.graphs.Digraph at 0x107bee470>"
      ]
     },
     "execution_count": 34,
     "metadata": {},
     "output_type": "execute_result"
    }
   ],
   "source": [
    "draw_dot(d)"
   ]
  },
  {
   "cell_type": "markdown",
   "id": "4fcd0551-1914-43c7-a759-1b850cdef250",
   "metadata": {},
   "source": [
    "Let's add labels to nodes: "
   ]
  },
  {
   "cell_type": "code",
   "execution_count": 35,
   "id": "143389a2-13cf-4afb-b0df-46423af91fe0",
   "metadata": {
    "tags": []
   },
   "outputs": [],
   "source": [
    "class Value:\n",
    "    def __init__(self, data, _children=(), _op='', label=''):\n",
    "        self.data = data\n",
    "        self._prev = set(_children) \n",
    "        self._op = _op\n",
    "        self.label = label\n",
    "    \n",
    "    def __add__(self, other):\n",
    "        out = Value(self.data + other.data, (self, other), '+') \n",
    "        return out\n",
    "    \n",
    "    def __mul__(self, other):\n",
    "        out = Value(self.data * other.data, (self, other), '*')\n",
    "        return out\n",
    "    \n",
    "    def __repr__(self):\n",
    "        return f\"Value(data={self.data})\""
   ]
  },
  {
   "cell_type": "code",
   "execution_count": 50,
   "id": "c71352d3-7361-42aa-ac86-7a00e5645cb7",
   "metadata": {
    "tags": []
   },
   "outputs": [
    {
     "data": {
      "text/plain": [
       "Value(data=4.0)"
      ]
     },
     "execution_count": 50,
     "metadata": {},
     "output_type": "execute_result"
    }
   ],
   "source": [
    "a = Value(2.0, label='a')\n",
    "b = Value(-3.0, label='b')\n",
    "c = Value(10.0, label='c')\n",
    "e = a*b; e.label = 'e'\n",
    "d = e + c; d.label = 'd'\n",
    "d"
   ]
  },
  {
   "cell_type": "markdown",
   "id": "22f60f5b-b417-48c8-9b64-f80c01d900c1",
   "metadata": {},
   "source": [
    "And modify graphviz to display them:"
   ]
  },
  {
   "cell_type": "code",
   "execution_count": 51,
   "id": "a153a796-ff2e-4be2-a003-d075b5ce0bca",
   "metadata": {
    "tags": []
   },
   "outputs": [],
   "source": [
    "# for now, just copying this code\n",
    "\n",
    "from graphviz import Digraph\n",
    "\n",
    "def trace(root):\n",
    "  # builds a set of all nodes and edges in a graph\n",
    "  nodes, edges = set(), set()\n",
    "  def build(v):\n",
    "    if v not in nodes:\n",
    "      nodes.add(v)\n",
    "      for child in v._prev:\n",
    "        edges.add((child, v))\n",
    "        build(child)\n",
    "  build(root)\n",
    "  return nodes, edges\n",
    "\n",
    "def draw_dot(root):\n",
    "  dot = Digraph(format='svg', graph_attr={'rankdir': 'LR'}) # LR = left to right\n",
    "  \n",
    "  nodes, edges = trace(root)\n",
    "  for n in nodes:\n",
    "    uid = str(id(n))\n",
    "    # for any value in the graph, create a rectangular ('record') node for it\n",
    "    dot.node(name = uid, label = \"{ %s | data %.4f }\" % (n.label, n.data, ), shape='record')\n",
    "    if n._op:\n",
    "      # if this value is a result of some operation, create an op node for it\n",
    "      dot.node(name = uid + n._op, label = n._op)\n",
    "      # and connect this node to it\n",
    "      dot.edge(uid + n._op, uid)\n",
    "\n",
    "  for n1, n2 in edges:\n",
    "    # connect n1 to the op node of n2\n",
    "    dot.edge(str(id(n1)), str(id(n2)) + n2._op)\n",
    "\n",
    "  return dot"
   ]
  },
  {
   "cell_type": "code",
   "execution_count": 52,
   "id": "97ec048f-984a-4142-ad04-7dc2de52961f",
   "metadata": {
    "tags": []
   },
   "outputs": [
    {
     "data": {
      "image/svg+xml": [
       "<?xml version=\"1.0\" encoding=\"UTF-8\" standalone=\"no\"?>\n",
       "<!DOCTYPE svg PUBLIC \"-//W3C//DTD SVG 1.1//EN\"\n",
       " \"http://www.w3.org/Graphics/SVG/1.1/DTD/svg11.dtd\">\n",
       "<!-- Generated by graphviz version 7.1.0 (0)\n",
       " -->\n",
       "<!-- Pages: 1 -->\n",
       "<svg width=\"581pt\" height=\"128pt\"\n",
       " viewBox=\"0.00 0.00 581.00 128.00\" xmlns=\"http://www.w3.org/2000/svg\" xmlns:xlink=\"http://www.w3.org/1999/xlink\">\n",
       "<g id=\"graph0\" class=\"graph\" transform=\"scale(1 1) rotate(0) translate(4 124)\">\n",
       "<polygon fill=\"white\" stroke=\"none\" points=\"-4,4 -4,-124 577,-124 577,4 -4,4\"/>\n",
       "<!-- 4424982608 -->\n",
       "<g id=\"node1\" class=\"node\">\n",
       "<title>4424982608</title>\n",
       "<polygon fill=\"none\" stroke=\"black\" points=\"470,-27.5 470,-63.5 573,-63.5 573,-27.5 470,-27.5\"/>\n",
       "<text text-anchor=\"middle\" x=\"481.5\" y=\"-41.8\" font-family=\"Times,serif\" font-size=\"14.00\">d</text>\n",
       "<polyline fill=\"none\" stroke=\"black\" points=\"493,-27.5 493,-63.5\"/>\n",
       "<text text-anchor=\"middle\" x=\"533\" y=\"-41.8\" font-family=\"Times,serif\" font-size=\"14.00\">data 4.0000</text>\n",
       "</g>\n",
       "<!-- 4424982608+ -->\n",
       "<g id=\"node2\" class=\"node\">\n",
       "<title>4424982608+</title>\n",
       "<ellipse fill=\"none\" stroke=\"black\" cx=\"407\" cy=\"-45.5\" rx=\"27\" ry=\"18\"/>\n",
       "<text text-anchor=\"middle\" x=\"407\" y=\"-41.8\" font-family=\"Times,serif\" font-size=\"14.00\">+</text>\n",
       "</g>\n",
       "<!-- 4424982608+&#45;&gt;4424982608 -->\n",
       "<g id=\"edge1\" class=\"edge\">\n",
       "<title>4424982608+&#45;&gt;4424982608</title>\n",
       "<path fill=\"none\" stroke=\"black\" d=\"M434.38,-45.5C441.87,-45.5 450.37,-45.5 459.03,-45.5\"/>\n",
       "<polygon fill=\"black\" stroke=\"black\" points=\"458.92,-49 468.92,-45.5 458.92,-42 458.92,-49\"/>\n",
       "</g>\n",
       "<!-- 4424984672 -->\n",
       "<g id=\"node3\" class=\"node\">\n",
       "<title>4424984672</title>\n",
       "<polygon fill=\"none\" stroke=\"black\" points=\"2.5,-83.5 2.5,-119.5 105.5,-119.5 105.5,-83.5 2.5,-83.5\"/>\n",
       "<text text-anchor=\"middle\" x=\"14\" y=\"-97.8\" font-family=\"Times,serif\" font-size=\"14.00\">a</text>\n",
       "<polyline fill=\"none\" stroke=\"black\" points=\"25.5,-83.5 25.5,-119.5\"/>\n",
       "<text text-anchor=\"middle\" x=\"65.5\" y=\"-97.8\" font-family=\"Times,serif\" font-size=\"14.00\">data 2.0000</text>\n",
       "</g>\n",
       "<!-- 4424975744* -->\n",
       "<g id=\"node5\" class=\"node\">\n",
       "<title>4424975744*</title>\n",
       "<ellipse fill=\"none\" stroke=\"black\" cx=\"171\" cy=\"-73.5\" rx=\"27\" ry=\"18\"/>\n",
       "<text text-anchor=\"middle\" x=\"171\" y=\"-69.8\" font-family=\"Times,serif\" font-size=\"14.00\">*</text>\n",
       "</g>\n",
       "<!-- 4424984672&#45;&gt;4424975744* -->\n",
       "<g id=\"edge5\" class=\"edge\">\n",
       "<title>4424984672&#45;&gt;4424975744*</title>\n",
       "<path fill=\"none\" stroke=\"black\" d=\"M105.44,-89.22C115.12,-86.86 125.06,-84.44 134.16,-82.23\"/>\n",
       "<polygon fill=\"black\" stroke=\"black\" points=\"134.79,-85.68 143.68,-79.91 133.13,-78.87 134.79,-85.68\"/>\n",
       "</g>\n",
       "<!-- 4424975744 -->\n",
       "<g id=\"node4\" class=\"node\">\n",
       "<title>4424975744</title>\n",
       "<polygon fill=\"none\" stroke=\"black\" points=\"235,-55.5 235,-91.5 343,-91.5 343,-55.5 235,-55.5\"/>\n",
       "<text text-anchor=\"middle\" x=\"246.5\" y=\"-69.8\" font-family=\"Times,serif\" font-size=\"14.00\">e</text>\n",
       "<polyline fill=\"none\" stroke=\"black\" points=\"258,-55.5 258,-91.5\"/>\n",
       "<text text-anchor=\"middle\" x=\"300.5\" y=\"-69.8\" font-family=\"Times,serif\" font-size=\"14.00\">data &#45;6.0000</text>\n",
       "</g>\n",
       "<!-- 4424975744&#45;&gt;4424982608+ -->\n",
       "<g id=\"edge3\" class=\"edge\">\n",
       "<title>4424975744&#45;&gt;4424982608+</title>\n",
       "<path fill=\"none\" stroke=\"black\" d=\"M342.91,-60.73C352.11,-58.51 361.48,-56.25 370.09,-54.17\"/>\n",
       "<polygon fill=\"black\" stroke=\"black\" points=\"370.9,-57.57 379.8,-51.82 369.26,-50.77 370.9,-57.57\"/>\n",
       "</g>\n",
       "<!-- 4424975744*&#45;&gt;4424975744 -->\n",
       "<g id=\"edge2\" class=\"edge\">\n",
       "<title>4424975744*&#45;&gt;4424975744</title>\n",
       "<path fill=\"none\" stroke=\"black\" d=\"M198.32,-73.5C206.03,-73.5 214.82,-73.5 223.8,-73.5\"/>\n",
       "<polygon fill=\"black\" stroke=\"black\" points=\"223.71,-77 233.71,-73.5 223.71,-70 223.71,-77\"/>\n",
       "</g>\n",
       "<!-- 4424988080 -->\n",
       "<g id=\"node6\" class=\"node\">\n",
       "<title>4424988080</title>\n",
       "<polygon fill=\"none\" stroke=\"black\" points=\"234,-0.5 234,-36.5 344,-36.5 344,-0.5 234,-0.5\"/>\n",
       "<text text-anchor=\"middle\" x=\"245.5\" y=\"-14.8\" font-family=\"Times,serif\" font-size=\"14.00\">c</text>\n",
       "<polyline fill=\"none\" stroke=\"black\" points=\"257,-0.5 257,-36.5\"/>\n",
       "<text text-anchor=\"middle\" x=\"300.5\" y=\"-14.8\" font-family=\"Times,serif\" font-size=\"14.00\">data 10.0000</text>\n",
       "</g>\n",
       "<!-- 4424988080&#45;&gt;4424982608+ -->\n",
       "<g id=\"edge4\" class=\"edge\">\n",
       "<title>4424988080&#45;&gt;4424982608+</title>\n",
       "<path fill=\"none\" stroke=\"black\" d=\"M343.92,-31.05C352.77,-33.11 361.75,-35.2 370.02,-37.12\"/>\n",
       "<polygon fill=\"black\" stroke=\"black\" points=\"369.15,-40.52 379.69,-39.38 370.74,-33.7 369.15,-40.52\"/>\n",
       "</g>\n",
       "<!-- 4424982464 -->\n",
       "<g id=\"node7\" class=\"node\">\n",
       "<title>4424982464</title>\n",
       "<polygon fill=\"none\" stroke=\"black\" points=\"0,-28.5 0,-64.5 108,-64.5 108,-28.5 0,-28.5\"/>\n",
       "<text text-anchor=\"middle\" x=\"11.5\" y=\"-42.8\" font-family=\"Times,serif\" font-size=\"14.00\">b</text>\n",
       "<polyline fill=\"none\" stroke=\"black\" points=\"23,-28.5 23,-64.5\"/>\n",
       "<text text-anchor=\"middle\" x=\"65.5\" y=\"-42.8\" font-family=\"Times,serif\" font-size=\"14.00\">data &#45;3.0000</text>\n",
       "</g>\n",
       "<!-- 4424982464&#45;&gt;4424975744* -->\n",
       "<g id=\"edge6\" class=\"edge\">\n",
       "<title>4424982464&#45;&gt;4424975744*</title>\n",
       "<path fill=\"none\" stroke=\"black\" d=\"M107.79,-58.89C116.62,-60.97 125.6,-63.07 133.88,-65.02\"/>\n",
       "<polygon fill=\"black\" stroke=\"black\" points=\"133.04,-68.42 143.58,-67.3 134.64,-61.6 133.04,-68.42\"/>\n",
       "</g>\n",
       "</g>\n",
       "</svg>\n"
      ],
      "text/plain": [
       "<graphviz.graphs.Digraph at 0x1079cfc70>"
      ]
     },
     "execution_count": 52,
     "metadata": {},
     "output_type": "execute_result"
    }
   ],
   "source": [
    "draw_dot(d)"
   ]
  },
  {
   "cell_type": "code",
   "execution_count": 53,
   "id": "17b52169-4721-47e7-b625-10dba09958e7",
   "metadata": {
    "tags": []
   },
   "outputs": [
    {
     "data": {
      "text/plain": [
       "Value(data=-8.0)"
      ]
     },
     "execution_count": 53,
     "metadata": {},
     "output_type": "execute_result"
    }
   ],
   "source": [
    "# let's add one more variable to the graph \n",
    "a = Value(2.0, label='a')\n",
    "b = Value(-3.0, label='b')\n",
    "c = Value(10.0, label='c')\n",
    "e = a*b; e.label = 'e'\n",
    "d = e + c; d.label = 'd'\n",
    "f = Value(-2.0, label='f')\n",
    "L = d * f #output of graph\n",
    "L.label = 'L'\n",
    "L"
   ]
  },
  {
   "cell_type": "code",
   "execution_count": 54,
   "id": "2f331a63-485c-456f-9a08-49fd2d3f2473",
   "metadata": {
    "tags": []
   },
   "outputs": [
    {
     "data": {
      "image/svg+xml": [
       "<?xml version=\"1.0\" encoding=\"UTF-8\" standalone=\"no\"?>\n",
       "<!DOCTYPE svg PUBLIC \"-//W3C//DTD SVG 1.1//EN\"\n",
       " \"http://www.w3.org/Graphics/SVG/1.1/DTD/svg11.dtd\">\n",
       "<!-- Generated by graphviz version 7.1.0 (0)\n",
       " -->\n",
       "<!-- Pages: 1 -->\n",
       "<svg width=\"820pt\" height=\"156pt\"\n",
       " viewBox=\"0.00 0.00 820.00 156.00\" xmlns=\"http://www.w3.org/2000/svg\" xmlns:xlink=\"http://www.w3.org/1999/xlink\">\n",
       "<g id=\"graph0\" class=\"graph\" transform=\"scale(1 1) rotate(0) translate(4 152)\">\n",
       "<polygon fill=\"white\" stroke=\"none\" points=\"-4,4 -4,-152 816,-152 816,4 -4,4\"/>\n",
       "<!-- 4422690816 -->\n",
       "<g id=\"node1\" class=\"node\">\n",
       "<title>4422690816</title>\n",
       "<polygon fill=\"none\" stroke=\"black\" points=\"0,-111.5 0,-147.5 108,-147.5 108,-111.5 0,-111.5\"/>\n",
       "<text text-anchor=\"middle\" x=\"11.5\" y=\"-125.8\" font-family=\"Times,serif\" font-size=\"14.00\">b</text>\n",
       "<polyline fill=\"none\" stroke=\"black\" points=\"23,-111.5 23,-147.5\"/>\n",
       "<text text-anchor=\"middle\" x=\"65.5\" y=\"-125.8\" font-family=\"Times,serif\" font-size=\"14.00\">data &#45;3.0000</text>\n",
       "</g>\n",
       "<!-- 4424918992* -->\n",
       "<g id=\"node10\" class=\"node\">\n",
       "<title>4424918992*</title>\n",
       "<ellipse fill=\"none\" stroke=\"black\" cx=\"171\" cy=\"-101.5\" rx=\"27\" ry=\"18\"/>\n",
       "<text text-anchor=\"middle\" x=\"171\" y=\"-97.8\" font-family=\"Times,serif\" font-size=\"14.00\">*</text>\n",
       "</g>\n",
       "<!-- 4422690816&#45;&gt;4424918992* -->\n",
       "<g id=\"edge5\" class=\"edge\">\n",
       "<title>4422690816&#45;&gt;4424918992*</title>\n",
       "<path fill=\"none\" stroke=\"black\" d=\"M107.79,-116.65C116.62,-114.5 125.6,-112.31 133.88,-110.29\"/>\n",
       "<polygon fill=\"black\" stroke=\"black\" points=\"134.69,-113.7 143.58,-107.93 133.04,-106.9 134.69,-113.7\"/>\n",
       "</g>\n",
       "<!-- 4425553456 -->\n",
       "<g id=\"node2\" class=\"node\">\n",
       "<title>4425553456</title>\n",
       "<polygon fill=\"none\" stroke=\"black\" points=\"234,-28.5 234,-64.5 344,-64.5 344,-28.5 234,-28.5\"/>\n",
       "<text text-anchor=\"middle\" x=\"245.5\" y=\"-42.8\" font-family=\"Times,serif\" font-size=\"14.00\">c</text>\n",
       "<polyline fill=\"none\" stroke=\"black\" points=\"257,-28.5 257,-64.5\"/>\n",
       "<text text-anchor=\"middle\" x=\"300.5\" y=\"-42.8\" font-family=\"Times,serif\" font-size=\"14.00\">data 10.0000</text>\n",
       "</g>\n",
       "<!-- 4424915776+ -->\n",
       "<g id=\"node7\" class=\"node\">\n",
       "<title>4424915776+</title>\n",
       "<ellipse fill=\"none\" stroke=\"black\" cx=\"407\" cy=\"-73.5\" rx=\"27\" ry=\"18\"/>\n",
       "<text text-anchor=\"middle\" x=\"407\" y=\"-69.8\" font-family=\"Times,serif\" font-size=\"14.00\">+</text>\n",
       "</g>\n",
       "<!-- 4425553456&#45;&gt;4424915776+ -->\n",
       "<g id=\"edge9\" class=\"edge\">\n",
       "<title>4425553456&#45;&gt;4424915776+</title>\n",
       "<path fill=\"none\" stroke=\"black\" d=\"M343.92,-59.05C352.77,-61.11 361.75,-63.2 370.02,-65.12\"/>\n",
       "<polygon fill=\"black\" stroke=\"black\" points=\"369.15,-68.52 379.69,-67.38 370.74,-61.7 369.15,-68.52\"/>\n",
       "</g>\n",
       "<!-- 4424912512 -->\n",
       "<g id=\"node3\" class=\"node\">\n",
       "<title>4424912512</title>\n",
       "<polygon fill=\"none\" stroke=\"black\" points=\"702,-27.5 702,-63.5 812,-63.5 812,-27.5 702,-27.5\"/>\n",
       "<text text-anchor=\"middle\" x=\"714.5\" y=\"-41.8\" font-family=\"Times,serif\" font-size=\"14.00\">L</text>\n",
       "<polyline fill=\"none\" stroke=\"black\" points=\"727,-27.5 727,-63.5\"/>\n",
       "<text text-anchor=\"middle\" x=\"769.5\" y=\"-41.8\" font-family=\"Times,serif\" font-size=\"14.00\">data &#45;8.0000</text>\n",
       "</g>\n",
       "<!-- 4424912512* -->\n",
       "<g id=\"node4\" class=\"node\">\n",
       "<title>4424912512*</title>\n",
       "<ellipse fill=\"none\" stroke=\"black\" cx=\"639\" cy=\"-45.5\" rx=\"27\" ry=\"18\"/>\n",
       "<text text-anchor=\"middle\" x=\"639\" y=\"-41.8\" font-family=\"Times,serif\" font-size=\"14.00\">*</text>\n",
       "</g>\n",
       "<!-- 4424912512*&#45;&gt;4424912512 -->\n",
       "<g id=\"edge1\" class=\"edge\">\n",
       "<title>4424912512*&#45;&gt;4424912512</title>\n",
       "<path fill=\"none\" stroke=\"black\" d=\"M666.32,-45.5C673.76,-45.5 682.2,-45.5 690.85,-45.5\"/>\n",
       "<polygon fill=\"black\" stroke=\"black\" points=\"690.77,-49 700.77,-45.5 690.77,-42 690.77,-49\"/>\n",
       "</g>\n",
       "<!-- 4424915584 -->\n",
       "<g id=\"node5\" class=\"node\">\n",
       "<title>4424915584</title>\n",
       "<polygon fill=\"none\" stroke=\"black\" points=\"2.5,-56.5 2.5,-92.5 105.5,-92.5 105.5,-56.5 2.5,-56.5\"/>\n",
       "<text text-anchor=\"middle\" x=\"14\" y=\"-70.8\" font-family=\"Times,serif\" font-size=\"14.00\">a</text>\n",
       "<polyline fill=\"none\" stroke=\"black\" points=\"25.5,-56.5 25.5,-92.5\"/>\n",
       "<text text-anchor=\"middle\" x=\"65.5\" y=\"-70.8\" font-family=\"Times,serif\" font-size=\"14.00\">data 2.0000</text>\n",
       "</g>\n",
       "<!-- 4424915584&#45;&gt;4424918992* -->\n",
       "<g id=\"edge4\" class=\"edge\">\n",
       "<title>4424915584&#45;&gt;4424918992*</title>\n",
       "<path fill=\"none\" stroke=\"black\" d=\"M105.44,-86.34C115.12,-88.61 125.06,-90.95 134.16,-93.09\"/>\n",
       "<polygon fill=\"black\" stroke=\"black\" points=\"133.14,-96.44 143.67,-95.32 134.74,-89.63 133.14,-96.44\"/>\n",
       "</g>\n",
       "<!-- 4424915776 -->\n",
       "<g id=\"node6\" class=\"node\">\n",
       "<title>4424915776</title>\n",
       "<polygon fill=\"none\" stroke=\"black\" points=\"471.5,-55.5 471.5,-91.5 574.5,-91.5 574.5,-55.5 471.5,-55.5\"/>\n",
       "<text text-anchor=\"middle\" x=\"483\" y=\"-69.8\" font-family=\"Times,serif\" font-size=\"14.00\">d</text>\n",
       "<polyline fill=\"none\" stroke=\"black\" points=\"494.5,-55.5 494.5,-91.5\"/>\n",
       "<text text-anchor=\"middle\" x=\"534.5\" y=\"-69.8\" font-family=\"Times,serif\" font-size=\"14.00\">data 4.0000</text>\n",
       "</g>\n",
       "<!-- 4424915776&#45;&gt;4424912512* -->\n",
       "<g id=\"edge7\" class=\"edge\">\n",
       "<title>4424915776&#45;&gt;4424912512*</title>\n",
       "<path fill=\"none\" stroke=\"black\" d=\"M574.33,-61.14C583.71,-58.84 593.32,-56.47 602.15,-54.3\"/>\n",
       "<polygon fill=\"black\" stroke=\"black\" points=\"602.87,-57.73 611.75,-51.95 601.2,-50.93 602.87,-57.73\"/>\n",
       "</g>\n",
       "<!-- 4424915776+&#45;&gt;4424915776 -->\n",
       "<g id=\"edge2\" class=\"edge\">\n",
       "<title>4424915776+&#45;&gt;4424915776</title>\n",
       "<path fill=\"none\" stroke=\"black\" d=\"M434.44,-73.5C442.21,-73.5 451.06,-73.5 460.07,-73.5\"/>\n",
       "<polygon fill=\"black\" stroke=\"black\" points=\"459.99,-77 469.99,-73.5 459.99,-70 459.99,-77\"/>\n",
       "</g>\n",
       "<!-- 4424916304 -->\n",
       "<g id=\"node8\" class=\"node\">\n",
       "<title>4424916304</title>\n",
       "<polygon fill=\"none\" stroke=\"black\" points=\"470,-0.5 470,-36.5 576,-36.5 576,-0.5 470,-0.5\"/>\n",
       "<text text-anchor=\"middle\" x=\"480.5\" y=\"-14.8\" font-family=\"Times,serif\" font-size=\"14.00\">f</text>\n",
       "<polyline fill=\"none\" stroke=\"black\" points=\"491,-0.5 491,-36.5\"/>\n",
       "<text text-anchor=\"middle\" x=\"533.5\" y=\"-14.8\" font-family=\"Times,serif\" font-size=\"14.00\">data &#45;2.0000</text>\n",
       "</g>\n",
       "<!-- 4424916304&#45;&gt;4424912512* -->\n",
       "<g id=\"edge8\" class=\"edge\">\n",
       "<title>4424916304&#45;&gt;4424912512*</title>\n",
       "<path fill=\"none\" stroke=\"black\" d=\"M576,-30.81C584.78,-32.89 593.72,-35.01 601.98,-36.97\"/>\n",
       "<polygon fill=\"black\" stroke=\"black\" points=\"601.1,-40.36 611.63,-39.26 602.71,-33.55 601.1,-40.36\"/>\n",
       "</g>\n",
       "<!-- 4424918992 -->\n",
       "<g id=\"node9\" class=\"node\">\n",
       "<title>4424918992</title>\n",
       "<polygon fill=\"none\" stroke=\"black\" points=\"235,-83.5 235,-119.5 343,-119.5 343,-83.5 235,-83.5\"/>\n",
       "<text text-anchor=\"middle\" x=\"246.5\" y=\"-97.8\" font-family=\"Times,serif\" font-size=\"14.00\">e</text>\n",
       "<polyline fill=\"none\" stroke=\"black\" points=\"258,-83.5 258,-119.5\"/>\n",
       "<text text-anchor=\"middle\" x=\"300.5\" y=\"-97.8\" font-family=\"Times,serif\" font-size=\"14.00\">data &#45;6.0000</text>\n",
       "</g>\n",
       "<!-- 4424918992&#45;&gt;4424915776+ -->\n",
       "<g id=\"edge6\" class=\"edge\">\n",
       "<title>4424918992&#45;&gt;4424915776+</title>\n",
       "<path fill=\"none\" stroke=\"black\" d=\"M342.91,-88.73C352.11,-86.51 361.48,-84.25 370.09,-82.17\"/>\n",
       "<polygon fill=\"black\" stroke=\"black\" points=\"370.9,-85.57 379.8,-79.82 369.26,-78.77 370.9,-85.57\"/>\n",
       "</g>\n",
       "<!-- 4424918992*&#45;&gt;4424918992 -->\n",
       "<g id=\"edge3\" class=\"edge\">\n",
       "<title>4424918992*&#45;&gt;4424918992</title>\n",
       "<path fill=\"none\" stroke=\"black\" d=\"M198.32,-101.5C206.03,-101.5 214.82,-101.5 223.8,-101.5\"/>\n",
       "<polygon fill=\"black\" stroke=\"black\" points=\"223.71,-105 233.71,-101.5 223.71,-98 223.71,-105\"/>\n",
       "</g>\n",
       "</g>\n",
       "</svg>\n"
      ],
      "text/plain": [
       "<graphviz.graphs.Digraph at 0x1079cfc10>"
      ]
     },
     "execution_count": 54,
     "metadata": {},
     "output_type": "execute_result"
    }
   ],
   "source": [
    "draw_dot(L)"
   ]
  },
  {
   "cell_type": "markdown",
   "id": "50f1feda-8bd6-4fb6-8b74-45bcf98f93e7",
   "metadata": {},
   "source": [
    "Now, we're able to build this forward pass - mathematical expressions using only + and * for the time. \n",
    "\n",
    "What we'd like to do next is to run backpropagation: start at L and compute the gradient for all the intermediate values (wrt L) (these will eventually represent weights of NN). "
   ]
  },
  {
   "cell_type": "markdown",
   "id": "fa541386-6dfb-4240-a375-1a41699b1365",
   "metadata": {},
   "source": [
    "#### Building Backpropagation:"
   ]
  },
  {
   "cell_type": "markdown",
   "id": "2c0c4212-b5f5-437d-a3eb-1c60493b0ab4",
   "metadata": {},
   "source": [
    "The main derivative we want to compute is the derivative of the output (in this case L) w.r.t each node. We'll start by creating an attribute `grad` to store it. We'll also modify `draw_dot` to visualize it:"
   ]
  },
  {
   "cell_type": "code",
   "execution_count": 55,
   "id": "d1540d1e-2c82-40a2-a11b-c03aa7635a56",
   "metadata": {
    "tags": []
   },
   "outputs": [],
   "source": [
    "class Value:\n",
    "    def __init__(self, data, _children=(), _op='', label=''):\n",
    "        self.data = data\n",
    "        self.grad = 0.0 # we're assuming by default no effect of input on output -> 0 derivative\n",
    "        self._prev = set(_children) \n",
    "        self._op = _op\n",
    "        self.label = label\n",
    "    \n",
    "    def __add__(self, other):\n",
    "        out = Value(self.data + other.data, (self, other), '+') \n",
    "        return out\n",
    "    \n",
    "    def __mul__(self, other):\n",
    "        out = Value(self.data * other.data, (self, other), '*')\n",
    "        return out\n",
    "    \n",
    "    def __repr__(self):\n",
    "        return f\"Value(data={self.data})\""
   ]
  },
  {
   "cell_type": "code",
   "execution_count": 56,
   "id": "98ba4e83-64e7-411c-a6a4-db38273bb0a4",
   "metadata": {
    "tags": []
   },
   "outputs": [],
   "source": [
    "from graphviz import Digraph\n",
    "\n",
    "def trace(root):\n",
    "  # builds a set of all nodes and edges in a graph\n",
    "  nodes, edges = set(), set()\n",
    "  def build(v):\n",
    "    if v not in nodes:\n",
    "      nodes.add(v)\n",
    "      for child in v._prev:\n",
    "        edges.add((child, v))\n",
    "        build(child)\n",
    "  build(root)\n",
    "  return nodes, edges\n",
    "\n",
    "def draw_dot(root):\n",
    "  dot = Digraph(format='svg', graph_attr={'rankdir': 'LR'}) # LR = left to right\n",
    "  \n",
    "  nodes, edges = trace(root)\n",
    "  for n in nodes:\n",
    "    uid = str(id(n))\n",
    "    # for any value in the graph, create a rectangular ('record') node for it\n",
    "    dot.node(name = uid, label = \"{ %s | data %.4f | grad %.4f }\" % (n.label, n.data, n.grad), shape='record')\n",
    "    if n._op:\n",
    "      # if this value is a result of some operation, create an op node for it\n",
    "      dot.node(name = uid + n._op, label = n._op)\n",
    "      # and connect this node to it\n",
    "      dot.edge(uid + n._op, uid)\n",
    "\n",
    "  for n1, n2 in edges:\n",
    "    # connect n1 to the op node of n2\n",
    "    dot.edge(str(id(n1)), str(id(n2)) + n2._op)\n",
    "\n",
    "  return dot"
   ]
  },
  {
   "cell_type": "code",
   "execution_count": 57,
   "id": "c57edef4-51ce-4b30-bb1e-733a6735805f",
   "metadata": {
    "tags": []
   },
   "outputs": [
    {
     "data": {
      "image/svg+xml": [
       "<?xml version=\"1.0\" encoding=\"UTF-8\" standalone=\"no\"?>\n",
       "<!DOCTYPE svg PUBLIC \"-//W3C//DTD SVG 1.1//EN\"\n",
       " \"http://www.w3.org/Graphics/SVG/1.1/DTD/svg11.dtd\">\n",
       "<!-- Generated by graphviz version 7.1.0 (0)\n",
       " -->\n",
       "<!-- Pages: 1 -->\n",
       "<svg width=\"1148pt\" height=\"128pt\"\n",
       " viewBox=\"0.00 0.00 1148.00 128.00\" xmlns=\"http://www.w3.org/2000/svg\" xmlns:xlink=\"http://www.w3.org/1999/xlink\">\n",
       "<g id=\"graph0\" class=\"graph\" transform=\"scale(1 1) rotate(0) translate(4 124)\">\n",
       "<polygon fill=\"white\" stroke=\"none\" points=\"-4,4 -4,-124 1144,-124 1144,4 -4,4\"/>\n",
       "<!-- 4425088544 -->\n",
       "<g id=\"node1\" class=\"node\">\n",
       "<title>4425088544</title>\n",
       "<polygon fill=\"none\" stroke=\"black\" points=\"948,-54.5 948,-90.5 1140,-90.5 1140,-54.5 948,-54.5\"/>\n",
       "<text text-anchor=\"middle\" x=\"960.5\" y=\"-68.8\" font-family=\"Times,serif\" font-size=\"14.00\">L</text>\n",
       "<polyline fill=\"none\" stroke=\"black\" points=\"973,-54.5 973,-90.5\"/>\n",
       "<text text-anchor=\"middle\" x=\"1015.5\" y=\"-68.8\" font-family=\"Times,serif\" font-size=\"14.00\">data &#45;8.0000</text>\n",
       "<polyline fill=\"none\" stroke=\"black\" points=\"1058,-54.5 1058,-90.5\"/>\n",
       "<text text-anchor=\"middle\" x=\"1099\" y=\"-68.8\" font-family=\"Times,serif\" font-size=\"14.00\">grad 0.0000</text>\n",
       "</g>\n",
       "<!-- 4425088544* -->\n",
       "<g id=\"node2\" class=\"node\">\n",
       "<title>4425088544*</title>\n",
       "<ellipse fill=\"none\" stroke=\"black\" cx=\"885\" cy=\"-72.5\" rx=\"27\" ry=\"18\"/>\n",
       "<text text-anchor=\"middle\" x=\"885\" y=\"-68.8\" font-family=\"Times,serif\" font-size=\"14.00\">*</text>\n",
       "</g>\n",
       "<!-- 4425088544*&#45;&gt;4425088544 -->\n",
       "<g id=\"edge1\" class=\"edge\">\n",
       "<title>4425088544*&#45;&gt;4425088544</title>\n",
       "<path fill=\"none\" stroke=\"black\" d=\"M912.28,-72.5C919.52,-72.5 927.85,-72.5 936.72,-72.5\"/>\n",
       "<polygon fill=\"black\" stroke=\"black\" points=\"936.69,-76 946.69,-72.5 936.69,-69 936.69,-76\"/>\n",
       "</g>\n",
       "<!-- 4425088064 -->\n",
       "<g id=\"node3\" class=\"node\">\n",
       "<title>4425088064</title>\n",
       "<polygon fill=\"none\" stroke=\"black\" points=\"317,-55.5 317,-91.5 507,-91.5 507,-55.5 317,-55.5\"/>\n",
       "<text text-anchor=\"middle\" x=\"328.5\" y=\"-69.8\" font-family=\"Times,serif\" font-size=\"14.00\">e</text>\n",
       "<polyline fill=\"none\" stroke=\"black\" points=\"340,-55.5 340,-91.5\"/>\n",
       "<text text-anchor=\"middle\" x=\"382.5\" y=\"-69.8\" font-family=\"Times,serif\" font-size=\"14.00\">data &#45;6.0000</text>\n",
       "<polyline fill=\"none\" stroke=\"black\" points=\"425,-55.5 425,-91.5\"/>\n",
       "<text text-anchor=\"middle\" x=\"466\" y=\"-69.8\" font-family=\"Times,serif\" font-size=\"14.00\">grad 0.0000</text>\n",
       "</g>\n",
       "<!-- 4425082496+ -->\n",
       "<g id=\"node7\" class=\"node\">\n",
       "<title>4425082496+</title>\n",
       "<ellipse fill=\"none\" stroke=\"black\" cx=\"571\" cy=\"-45.5\" rx=\"27\" ry=\"18\"/>\n",
       "<text text-anchor=\"middle\" x=\"571\" y=\"-41.8\" font-family=\"Times,serif\" font-size=\"14.00\">+</text>\n",
       "</g>\n",
       "<!-- 4425088064&#45;&gt;4425082496+ -->\n",
       "<g id=\"edge9\" class=\"edge\">\n",
       "<title>4425088064&#45;&gt;4425082496+</title>\n",
       "<path fill=\"none\" stroke=\"black\" d=\"M506.59,-56.81C516.06,-55.12 525.22,-53.49 533.49,-52.01\"/>\n",
       "<polygon fill=\"black\" stroke=\"black\" points=\"533.82,-55.51 543.05,-50.31 532.59,-48.62 533.82,-55.51\"/>\n",
       "</g>\n",
       "<!-- 4425088064* -->\n",
       "<g id=\"node4\" class=\"node\">\n",
       "<title>4425088064*</title>\n",
       "<ellipse fill=\"none\" stroke=\"black\" cx=\"253\" cy=\"-73.5\" rx=\"27\" ry=\"18\"/>\n",
       "<text text-anchor=\"middle\" x=\"253\" y=\"-69.8\" font-family=\"Times,serif\" font-size=\"14.00\">*</text>\n",
       "</g>\n",
       "<!-- 4425088064*&#45;&gt;4425088064 -->\n",
       "<g id=\"edge2\" class=\"edge\">\n",
       "<title>4425088064*&#45;&gt;4425088064</title>\n",
       "<path fill=\"none\" stroke=\"black\" d=\"M280.28,-73.5C287.79,-73.5 296.46,-73.5 305.7,-73.5\"/>\n",
       "<polygon fill=\"black\" stroke=\"black\" points=\"305.7,-77 315.7,-73.5 305.7,-70 305.7,-77\"/>\n",
       "</g>\n",
       "<!-- 4425088592 -->\n",
       "<g id=\"node5\" class=\"node\">\n",
       "<title>4425088592</title>\n",
       "<polygon fill=\"none\" stroke=\"black\" points=\"634,-82.5 634,-118.5 822,-118.5 822,-82.5 634,-82.5\"/>\n",
       "<text text-anchor=\"middle\" x=\"644.5\" y=\"-96.8\" font-family=\"Times,serif\" font-size=\"14.00\">f</text>\n",
       "<polyline fill=\"none\" stroke=\"black\" points=\"655,-82.5 655,-118.5\"/>\n",
       "<text text-anchor=\"middle\" x=\"697.5\" y=\"-96.8\" font-family=\"Times,serif\" font-size=\"14.00\">data &#45;2.0000</text>\n",
       "<polyline fill=\"none\" stroke=\"black\" points=\"740,-82.5 740,-118.5\"/>\n",
       "<text text-anchor=\"middle\" x=\"781\" y=\"-96.8\" font-family=\"Times,serif\" font-size=\"14.00\">grad 0.0000</text>\n",
       "</g>\n",
       "<!-- 4425088592&#45;&gt;4425088544* -->\n",
       "<g id=\"edge5\" class=\"edge\">\n",
       "<title>4425088592&#45;&gt;4425088544*</title>\n",
       "<path fill=\"none\" stroke=\"black\" d=\"M821.85,-83.73C830.75,-82.12 839.38,-80.56 847.22,-79.14\"/>\n",
       "<polygon fill=\"black\" stroke=\"black\" points=\"847.76,-82.6 856.98,-77.38 846.52,-75.71 847.76,-82.6\"/>\n",
       "</g>\n",
       "<!-- 4425082496 -->\n",
       "<g id=\"node6\" class=\"node\">\n",
       "<title>4425082496</title>\n",
       "<polygon fill=\"none\" stroke=\"black\" points=\"635.5,-27.5 635.5,-63.5 820.5,-63.5 820.5,-27.5 635.5,-27.5\"/>\n",
       "<text text-anchor=\"middle\" x=\"647\" y=\"-41.8\" font-family=\"Times,serif\" font-size=\"14.00\">d</text>\n",
       "<polyline fill=\"none\" stroke=\"black\" points=\"658.5,-27.5 658.5,-63.5\"/>\n",
       "<text text-anchor=\"middle\" x=\"698.5\" y=\"-41.8\" font-family=\"Times,serif\" font-size=\"14.00\">data 4.0000</text>\n",
       "<polyline fill=\"none\" stroke=\"black\" points=\"738.5,-27.5 738.5,-63.5\"/>\n",
       "<text text-anchor=\"middle\" x=\"779.5\" y=\"-41.8\" font-family=\"Times,serif\" font-size=\"14.00\">grad 0.0000</text>\n",
       "</g>\n",
       "<!-- 4425082496&#45;&gt;4425088544* -->\n",
       "<g id=\"edge8\" class=\"edge\">\n",
       "<title>4425082496&#45;&gt;4425088544*</title>\n",
       "<path fill=\"none\" stroke=\"black\" d=\"M820.06,-61.36C829.65,-63.03 838.94,-64.65 847.35,-66.12\"/>\n",
       "<polygon fill=\"black\" stroke=\"black\" points=\"846.62,-69.54 857.07,-67.81 847.82,-62.65 846.62,-69.54\"/>\n",
       "</g>\n",
       "<!-- 4425082496+&#45;&gt;4425082496 -->\n",
       "<g id=\"edge3\" class=\"edge\">\n",
       "<title>4425082496+&#45;&gt;4425082496</title>\n",
       "<path fill=\"none\" stroke=\"black\" d=\"M598.29,-45.5C605.99,-45.5 614.91,-45.5 624.39,-45.5\"/>\n",
       "<polygon fill=\"black\" stroke=\"black\" points=\"624.22,-49 634.22,-45.5 624.22,-42 624.22,-49\"/>\n",
       "</g>\n",
       "<!-- 4424915632 -->\n",
       "<g id=\"node8\" class=\"node\">\n",
       "<title>4424915632</title>\n",
       "<polygon fill=\"none\" stroke=\"black\" points=\"316,-0.5 316,-36.5 508,-36.5 508,-0.5 316,-0.5\"/>\n",
       "<text text-anchor=\"middle\" x=\"327.5\" y=\"-14.8\" font-family=\"Times,serif\" font-size=\"14.00\">c</text>\n",
       "<polyline fill=\"none\" stroke=\"black\" points=\"339,-0.5 339,-36.5\"/>\n",
       "<text text-anchor=\"middle\" x=\"382.5\" y=\"-14.8\" font-family=\"Times,serif\" font-size=\"14.00\">data 10.0000</text>\n",
       "<polyline fill=\"none\" stroke=\"black\" points=\"426,-0.5 426,-36.5\"/>\n",
       "<text text-anchor=\"middle\" x=\"467\" y=\"-14.8\" font-family=\"Times,serif\" font-size=\"14.00\">grad 0.0000</text>\n",
       "</g>\n",
       "<!-- 4424915632&#45;&gt;4425082496+ -->\n",
       "<g id=\"edge6\" class=\"edge\">\n",
       "<title>4424915632&#45;&gt;4425082496+</title>\n",
       "<path fill=\"none\" stroke=\"black\" d=\"M507.95,-34.83C516.87,-36.36 525.49,-37.85 533.33,-39.19\"/>\n",
       "<polygon fill=\"black\" stroke=\"black\" points=\"532.62,-42.62 543.07,-40.87 533.8,-35.72 532.62,-42.62\"/>\n",
       "</g>\n",
       "<!-- 4424916160 -->\n",
       "<g id=\"node9\" class=\"node\">\n",
       "<title>4424916160</title>\n",
       "<polygon fill=\"none\" stroke=\"black\" points=\"2.5,-83.5 2.5,-119.5 187.5,-119.5 187.5,-83.5 2.5,-83.5\"/>\n",
       "<text text-anchor=\"middle\" x=\"14\" y=\"-97.8\" font-family=\"Times,serif\" font-size=\"14.00\">a</text>\n",
       "<polyline fill=\"none\" stroke=\"black\" points=\"25.5,-83.5 25.5,-119.5\"/>\n",
       "<text text-anchor=\"middle\" x=\"65.5\" y=\"-97.8\" font-family=\"Times,serif\" font-size=\"14.00\">data 2.0000</text>\n",
       "<polyline fill=\"none\" stroke=\"black\" points=\"105.5,-83.5 105.5,-119.5\"/>\n",
       "<text text-anchor=\"middle\" x=\"146.5\" y=\"-97.8\" font-family=\"Times,serif\" font-size=\"14.00\">grad 0.0000</text>\n",
       "</g>\n",
       "<!-- 4424916160&#45;&gt;4425088064* -->\n",
       "<g id=\"edge4\" class=\"edge\">\n",
       "<title>4424916160&#45;&gt;4425088064*</title>\n",
       "<path fill=\"none\" stroke=\"black\" d=\"M187.2,-85.13C197.1,-83.35 206.71,-81.63 215.36,-80.08\"/>\n",
       "<polygon fill=\"black\" stroke=\"black\" points=\"215.79,-83.55 225.02,-78.34 214.56,-76.66 215.79,-83.55\"/>\n",
       "</g>\n",
       "<!-- 4424912608 -->\n",
       "<g id=\"node10\" class=\"node\">\n",
       "<title>4424912608</title>\n",
       "<polygon fill=\"none\" stroke=\"black\" points=\"0,-28.5 0,-64.5 190,-64.5 190,-28.5 0,-28.5\"/>\n",
       "<text text-anchor=\"middle\" x=\"11.5\" y=\"-42.8\" font-family=\"Times,serif\" font-size=\"14.00\">b</text>\n",
       "<polyline fill=\"none\" stroke=\"black\" points=\"23,-28.5 23,-64.5\"/>\n",
       "<text text-anchor=\"middle\" x=\"65.5\" y=\"-42.8\" font-family=\"Times,serif\" font-size=\"14.00\">data &#45;3.0000</text>\n",
       "<polyline fill=\"none\" stroke=\"black\" points=\"108,-28.5 108,-64.5\"/>\n",
       "<text text-anchor=\"middle\" x=\"149\" y=\"-42.8\" font-family=\"Times,serif\" font-size=\"14.00\">grad 0.0000</text>\n",
       "</g>\n",
       "<!-- 4424912608&#45;&gt;4425088064* -->\n",
       "<g id=\"edge7\" class=\"edge\">\n",
       "<title>4424912608&#45;&gt;4425088064*</title>\n",
       "<path fill=\"none\" stroke=\"black\" d=\"M189.9,-62.75C198.81,-64.29 207.43,-65.79 215.28,-67.14\"/>\n",
       "<polygon fill=\"black\" stroke=\"black\" points=\"214.57,-70.57 225.02,-68.83 215.76,-63.68 214.57,-70.57\"/>\n",
       "</g>\n",
       "</g>\n",
       "</svg>\n"
      ],
      "text/plain": [
       "<graphviz.graphs.Digraph at 0x1079ce770>"
      ]
     },
     "execution_count": 57,
     "metadata": {},
     "output_type": "execute_result"
    }
   ],
   "source": [
    "a = Value(2.0, label='a')\n",
    "b = Value(-3.0, label='b')\n",
    "c = Value(10.0, label='c')\n",
    "e = a*b; e.label = 'e'\n",
    "d = e + c; d.label = 'd'\n",
    "f = Value(-2.0, label='f')\n",
    "L = d * f #output of graph\n",
    "L.label = 'L'\n",
    "draw_dot(L)"
   ]
  },
  {
   "cell_type": "markdown",
   "id": "6f43ede7-7e5f-4e10-b404-35354955dfb2",
   "metadata": {},
   "source": [
    "`grad` at each node represents the derivative of the output `L` w.r.t that node eg derivative of `L` wrt `e` or `d` ... etc"
   ]
  },
  {
   "cell_type": "markdown",
   "id": "0f2d19fa-0501-47a7-a5e0-cba1ecf666e8",
   "metadata": {},
   "source": [
    "Manual Backpropagation:\n",
    "\n",
    "What is derivative of L wrt L? -> $1.0$\n",
    "\n",
    "What is derivative of L wrt d? \n",
    "\n",
    "We know:\n",
    "\n",
    "$$ L = d * f $$\n",
    "$$ dL / dd = f = -2.0$$\n",
    "\n",
    "Same for L wrt f \n",
    "$$ dL / df = d  = 4.0 $$\n",
    "\n",
    "Now, what is $ dL / de $ ?? \n",
    "\n",
    "Remeber, each node only knows about the children that produced it and the operation that did. `L` knows nothing about `e`. d knows about `e`. `d` can compute its drivative wrt `e`. But if we know how `d` changes relative to `e` and how `L` changes relative to `d` then we can find how `L` changes relative to `e`. In short: we multiply.\n",
    "\n",
    "_From Wikipedia: As put by George F. Simmons: \"If a car travels twice as fast as a bicycle and the bicycle is four times as fast as a walking man, then the car travels 2 × 4 = 8 times as fast as the man.\"_\n",
    "\n"
   ]
  },
  {
   "cell_type": "markdown",
   "id": "16f0be66-aa79-4d45-8c01-de1e1ef240b2",
   "metadata": {},
   "source": [
    "But, what is $ dd / de $? Well, since it's a `+` operation the derivative is 1.0\n",
    "\n",
    "$$ d = c + e $$\n",
    "\n",
    "$$ dd / de = 0 + 1.0 = 1.0 $$\n",
    "\n",
    "or from limit expression: \n",
    "\n",
    "$$ dd / de = \\frac{f(c + e + h) - f(c + e)}{h} = h/h = 1.0 $$\n",
    "\n",
    "So, $ dL / de  = dL / dd * dd / de = -2.0 * 1.0 = -2.0 $\n"
   ]
  },
  {
   "cell_type": "markdown",
   "id": "838d3ba4-470c-48f1-8b0f-abf7640da45f",
   "metadata": {},
   "source": [
    "And that is all there is to backpropagation. We compute local gradients at each node and recursively apply the chain rule - via multiplication - till the end of the graph. We go on and recursively multiply on the local derivatives. And that's what backpropagation is: recursive application of the chain rule through the computation graph"
   ]
  },
  {
   "cell_type": "markdown",
   "id": "c3c229cd-ed83-4fc4-ae5b-3c4dc6660b00",
   "metadata": {},
   "source": [
    "From this we can manually compute all the gradients for all the nodes in the graph wrt `L`:"
   ]
  },
  {
   "cell_type": "code",
   "execution_count": 66,
   "id": "c2e65ea6-3b72-4dbd-8ab6-9b3e3abf3266",
   "metadata": {
    "tags": []
   },
   "outputs": [
    {
     "data": {
      "image/svg+xml": [
       "<?xml version=\"1.0\" encoding=\"UTF-8\" standalone=\"no\"?>\n",
       "<!DOCTYPE svg PUBLIC \"-//W3C//DTD SVG 1.1//EN\"\n",
       " \"http://www.w3.org/Graphics/SVG/1.1/DTD/svg11.dtd\">\n",
       "<!-- Generated by graphviz version 7.1.0 (0)\n",
       " -->\n",
       "<!-- Pages: 1 -->\n",
       "<svg width=\"1157pt\" height=\"154pt\"\n",
       " viewBox=\"0.00 0.00 1157.00 154.00\" xmlns=\"http://www.w3.org/2000/svg\" xmlns:xlink=\"http://www.w3.org/1999/xlink\">\n",
       "<g id=\"graph0\" class=\"graph\" transform=\"scale(1 1) rotate(0) translate(4 150)\">\n",
       "<polygon fill=\"white\" stroke=\"none\" points=\"-4,4 -4,-150 1153,-150 1153,4 -4,4\"/>\n",
       "<!-- 4424980496 -->\n",
       "<g id=\"node1\" class=\"node\">\n",
       "<title>4424980496</title>\n",
       "<polygon fill=\"none\" stroke=\"black\" points=\"642,-54.5 642,-90.5 831,-90.5 831,-54.5 642,-54.5\"/>\n",
       "<text text-anchor=\"middle\" x=\"653.5\" y=\"-68.8\" font-family=\"Times,serif\" font-size=\"14.00\">d</text>\n",
       "<polyline fill=\"none\" stroke=\"black\" points=\"665,-54.5 665,-90.5\"/>\n",
       "<text text-anchor=\"middle\" x=\"705\" y=\"-68.8\" font-family=\"Times,serif\" font-size=\"14.00\">data 4.0000</text>\n",
       "<polyline fill=\"none\" stroke=\"black\" points=\"745,-54.5 745,-90.5\"/>\n",
       "<text text-anchor=\"middle\" x=\"788\" y=\"-68.8\" font-family=\"Times,serif\" font-size=\"14.00\">grad &#45;2.0000</text>\n",
       "</g>\n",
       "<!-- 4424975024* -->\n",
       "<g id=\"node5\" class=\"node\">\n",
       "<title>4424975024*</title>\n",
       "<ellipse fill=\"none\" stroke=\"black\" cx=\"894\" cy=\"-99.5\" rx=\"27\" ry=\"18\"/>\n",
       "<text text-anchor=\"middle\" x=\"894\" y=\"-95.8\" font-family=\"Times,serif\" font-size=\"14.00\">*</text>\n",
       "</g>\n",
       "<!-- 4424980496&#45;&gt;4424975024* -->\n",
       "<g id=\"edge8\" class=\"edge\">\n",
       "<title>4424980496&#45;&gt;4424975024*</title>\n",
       "<path fill=\"none\" stroke=\"black\" d=\"M830.65,-88.67C839.58,-90.22 848.23,-91.73 856.11,-93.09\"/>\n",
       "<polygon fill=\"black\" stroke=\"black\" points=\"855.45,-96.53 865.9,-94.79 856.64,-89.63 855.45,-96.53\"/>\n",
       "</g>\n",
       "<!-- 4424980496+ -->\n",
       "<g id=\"node2\" class=\"node\">\n",
       "<title>4424980496+</title>\n",
       "<ellipse fill=\"none\" stroke=\"black\" cx=\"579\" cy=\"-72.5\" rx=\"27\" ry=\"18\"/>\n",
       "<text text-anchor=\"middle\" x=\"579\" y=\"-68.8\" font-family=\"Times,serif\" font-size=\"14.00\">+</text>\n",
       "</g>\n",
       "<!-- 4424980496+&#45;&gt;4424980496 -->\n",
       "<g id=\"edge1\" class=\"edge\">\n",
       "<title>4424980496+&#45;&gt;4424980496</title>\n",
       "<path fill=\"none\" stroke=\"black\" d=\"M606.38,-72.5C613.63,-72.5 621.96,-72.5 630.82,-72.5\"/>\n",
       "<polygon fill=\"black\" stroke=\"black\" points=\"630.77,-76 640.77,-72.5 630.77,-69 630.77,-76\"/>\n",
       "</g>\n",
       "<!-- 4424976032 -->\n",
       "<g id=\"node3\" class=\"node\">\n",
       "<title>4424976032</title>\n",
       "<polygon fill=\"none\" stroke=\"black\" points=\"320,-82.5 320,-118.5 516,-118.5 516,-82.5 320,-82.5\"/>\n",
       "<text text-anchor=\"middle\" x=\"331.5\" y=\"-96.8\" font-family=\"Times,serif\" font-size=\"14.00\">c</text>\n",
       "<polyline fill=\"none\" stroke=\"black\" points=\"343,-82.5 343,-118.5\"/>\n",
       "<text text-anchor=\"middle\" x=\"386.5\" y=\"-96.8\" font-family=\"Times,serif\" font-size=\"14.00\">data 10.0000</text>\n",
       "<polyline fill=\"none\" stroke=\"black\" points=\"430,-82.5 430,-118.5\"/>\n",
       "<text text-anchor=\"middle\" x=\"473\" y=\"-96.8\" font-family=\"Times,serif\" font-size=\"14.00\">grad &#45;2.0000</text>\n",
       "</g>\n",
       "<!-- 4424976032&#45;&gt;4424980496+ -->\n",
       "<g id=\"edge4\" class=\"edge\">\n",
       "<title>4424976032&#45;&gt;4424980496+</title>\n",
       "<path fill=\"none\" stroke=\"black\" d=\"M515.62,-83.49C524.6,-81.9 533.27,-80.38 541.15,-78.99\"/>\n",
       "<polygon fill=\"black\" stroke=\"black\" points=\"541.71,-82.44 550.95,-77.26 540.5,-75.55 541.71,-82.44\"/>\n",
       "</g>\n",
       "<!-- 4424975024 -->\n",
       "<g id=\"node4\" class=\"node\">\n",
       "<title>4424975024</title>\n",
       "<polygon fill=\"none\" stroke=\"black\" points=\"957,-81.5 957,-117.5 1149,-117.5 1149,-81.5 957,-81.5\"/>\n",
       "<text text-anchor=\"middle\" x=\"969.5\" y=\"-95.8\" font-family=\"Times,serif\" font-size=\"14.00\">L</text>\n",
       "<polyline fill=\"none\" stroke=\"black\" points=\"982,-81.5 982,-117.5\"/>\n",
       "<text text-anchor=\"middle\" x=\"1024.5\" y=\"-95.8\" font-family=\"Times,serif\" font-size=\"14.00\">data &#45;8.0000</text>\n",
       "<polyline fill=\"none\" stroke=\"black\" points=\"1067,-81.5 1067,-117.5\"/>\n",
       "<text text-anchor=\"middle\" x=\"1108\" y=\"-95.8\" font-family=\"Times,serif\" font-size=\"14.00\">grad 1.0000</text>\n",
       "</g>\n",
       "<!-- 4424975024*&#45;&gt;4424975024 -->\n",
       "<g id=\"edge2\" class=\"edge\">\n",
       "<title>4424975024*&#45;&gt;4424975024</title>\n",
       "<path fill=\"none\" stroke=\"black\" d=\"M921.28,-99.5C928.52,-99.5 936.85,-99.5 945.72,-99.5\"/>\n",
       "<polygon fill=\"black\" stroke=\"black\" points=\"945.69,-103 955.69,-99.5 945.69,-96 945.69,-103\"/>\n",
       "</g>\n",
       "<!-- 4424978096 -->\n",
       "<g id=\"node6\" class=\"node\">\n",
       "<title>4424978096</title>\n",
       "<polygon fill=\"none\" stroke=\"black\" points=\"321,-27.5 321,-63.5 515,-63.5 515,-27.5 321,-27.5\"/>\n",
       "<text text-anchor=\"middle\" x=\"332.5\" y=\"-41.8\" font-family=\"Times,serif\" font-size=\"14.00\">e</text>\n",
       "<polyline fill=\"none\" stroke=\"black\" points=\"344,-27.5 344,-63.5\"/>\n",
       "<text text-anchor=\"middle\" x=\"386.5\" y=\"-41.8\" font-family=\"Times,serif\" font-size=\"14.00\">data &#45;6.0000</text>\n",
       "<polyline fill=\"none\" stroke=\"black\" points=\"429,-27.5 429,-63.5\"/>\n",
       "<text text-anchor=\"middle\" x=\"472\" y=\"-41.8\" font-family=\"Times,serif\" font-size=\"14.00\">grad &#45;2.0000</text>\n",
       "</g>\n",
       "<!-- 4424978096&#45;&gt;4424980496+ -->\n",
       "<g id=\"edge7\" class=\"edge\">\n",
       "<title>4424978096&#45;&gt;4424980496+</title>\n",
       "<path fill=\"none\" stroke=\"black\" d=\"M514.7,-61.75C523.98,-63.33 532.95,-64.85 541.08,-66.23\"/>\n",
       "<polygon fill=\"black\" stroke=\"black\" points=\"540.39,-69.66 550.84,-67.89 541.56,-62.76 540.39,-69.66\"/>\n",
       "</g>\n",
       "<!-- 4424978096* -->\n",
       "<g id=\"node7\" class=\"node\">\n",
       "<title>4424978096*</title>\n",
       "<ellipse fill=\"none\" stroke=\"black\" cx=\"257\" cy=\"-45.5\" rx=\"27\" ry=\"18\"/>\n",
       "<text text-anchor=\"middle\" x=\"257\" y=\"-41.8\" font-family=\"Times,serif\" font-size=\"14.00\">*</text>\n",
       "</g>\n",
       "<!-- 4424978096*&#45;&gt;4424978096 -->\n",
       "<g id=\"edge3\" class=\"edge\">\n",
       "<title>4424978096*&#45;&gt;4424978096</title>\n",
       "<path fill=\"none\" stroke=\"black\" d=\"M284.26,-45.5C291.86,-45.5 300.67,-45.5 310.07,-45.5\"/>\n",
       "<polygon fill=\"black\" stroke=\"black\" points=\"309.81,-49 319.81,-45.5 309.81,-42 309.81,-49\"/>\n",
       "</g>\n",
       "<!-- 4424985296 -->\n",
       "<g id=\"node8\" class=\"node\">\n",
       "<title>4424985296</title>\n",
       "<polygon fill=\"none\" stroke=\"black\" points=\"4.5,-55.5 4.5,-91.5 189.5,-91.5 189.5,-55.5 4.5,-55.5\"/>\n",
       "<text text-anchor=\"middle\" x=\"16\" y=\"-69.8\" font-family=\"Times,serif\" font-size=\"14.00\">a</text>\n",
       "<polyline fill=\"none\" stroke=\"black\" points=\"27.5,-55.5 27.5,-91.5\"/>\n",
       "<text text-anchor=\"middle\" x=\"67.5\" y=\"-69.8\" font-family=\"Times,serif\" font-size=\"14.00\">data 2.0000</text>\n",
       "<polyline fill=\"none\" stroke=\"black\" points=\"107.5,-55.5 107.5,-91.5\"/>\n",
       "<text text-anchor=\"middle\" x=\"148.5\" y=\"-69.8\" font-family=\"Times,serif\" font-size=\"14.00\">grad 6.0000</text>\n",
       "</g>\n",
       "<!-- 4424985296&#45;&gt;4424978096* -->\n",
       "<g id=\"edge6\" class=\"edge\">\n",
       "<title>4424985296&#45;&gt;4424978096*</title>\n",
       "<path fill=\"none\" stroke=\"black\" d=\"M189.45,-57.29C199.89,-55.44 210.03,-53.65 219.12,-52.04\"/>\n",
       "<polygon fill=\"black\" stroke=\"black\" points=\"219.68,-55.49 228.91,-50.3 218.46,-48.6 219.68,-55.49\"/>\n",
       "</g>\n",
       "<!-- 4424979680 -->\n",
       "<g id=\"node9\" class=\"node\">\n",
       "<title>4424979680</title>\n",
       "<polygon fill=\"none\" stroke=\"black\" points=\"0,-0.5 0,-36.5 194,-36.5 194,-0.5 0,-0.5\"/>\n",
       "<text text-anchor=\"middle\" x=\"11.5\" y=\"-14.8\" font-family=\"Times,serif\" font-size=\"14.00\">b</text>\n",
       "<polyline fill=\"none\" stroke=\"black\" points=\"23,-0.5 23,-36.5\"/>\n",
       "<text text-anchor=\"middle\" x=\"65.5\" y=\"-14.8\" font-family=\"Times,serif\" font-size=\"14.00\">data &#45;3.0000</text>\n",
       "<polyline fill=\"none\" stroke=\"black\" points=\"108,-0.5 108,-36.5\"/>\n",
       "<text text-anchor=\"middle\" x=\"151\" y=\"-14.8\" font-family=\"Times,serif\" font-size=\"14.00\">grad &#45;4.0000</text>\n",
       "</g>\n",
       "<!-- 4424979680&#45;&gt;4424978096* -->\n",
       "<g id=\"edge5\" class=\"edge\">\n",
       "<title>4424979680&#45;&gt;4424978096*</title>\n",
       "<path fill=\"none\" stroke=\"black\" d=\"M193.55,-34.83C202.53,-36.36 211.21,-37.85 219.1,-39.19\"/>\n",
       "<polygon fill=\"black\" stroke=\"black\" points=\"218.46,-42.63 228.9,-40.87 219.64,-35.73 218.46,-42.63\"/>\n",
       "</g>\n",
       "<!-- 4424977760 -->\n",
       "<g id=\"node10\" class=\"node\">\n",
       "<title>4424977760</title>\n",
       "<polygon fill=\"none\" stroke=\"black\" points=\"642.5,-109.5 642.5,-145.5 830.5,-145.5 830.5,-109.5 642.5,-109.5\"/>\n",
       "<text text-anchor=\"middle\" x=\"653\" y=\"-123.8\" font-family=\"Times,serif\" font-size=\"14.00\">f</text>\n",
       "<polyline fill=\"none\" stroke=\"black\" points=\"663.5,-109.5 663.5,-145.5\"/>\n",
       "<text text-anchor=\"middle\" x=\"706\" y=\"-123.8\" font-family=\"Times,serif\" font-size=\"14.00\">data &#45;2.0000</text>\n",
       "<polyline fill=\"none\" stroke=\"black\" points=\"748.5,-109.5 748.5,-145.5\"/>\n",
       "<text text-anchor=\"middle\" x=\"789.5\" y=\"-123.8\" font-family=\"Times,serif\" font-size=\"14.00\">grad 4.0000</text>\n",
       "</g>\n",
       "<!-- 4424977760&#45;&gt;4424975024* -->\n",
       "<g id=\"edge9\" class=\"edge\">\n",
       "<title>4424977760&#45;&gt;4424975024*</title>\n",
       "<path fill=\"none\" stroke=\"black\" d=\"M830.2,-110.81C839.38,-109.16 848.27,-107.56 856.33,-106.1\"/>\n",
       "<polygon fill=\"black\" stroke=\"black\" points=\"856.77,-109.58 865.99,-104.36 855.53,-102.69 856.77,-109.58\"/>\n",
       "</g>\n",
       "</g>\n",
       "</svg>\n"
      ],
      "text/plain": [
       "<graphviz.graphs.Digraph at 0x107bfe830>"
      ]
     },
     "execution_count": 66,
     "metadata": {},
     "output_type": "execute_result"
    }
   ],
   "source": [
    "a = Value(2.0, label='a')\n",
    "b = Value(-3.0, label='b')\n",
    "c = Value(10.0, label='c')\n",
    "e = a*b; e.label = 'e'\n",
    "d = e + c; d.label = 'd'\n",
    "f = Value(-2.0, label='f')\n",
    "L = d * f #output of graph\n",
    "L.label = 'L'\n",
    "\n",
    "L.grad = 1.0\n",
    "f.grad = 4.0\n",
    "d.grad = -2.0\n",
    "e.grad = 1.0 * -2.0\n",
    "c.grad = 1.0 * -2.0 \n",
    "a.grad = -3.0 * -2.0\n",
    "b.grad = 2.0 * -2.0\n",
    "draw_dot(L)"
   ]
  },
  {
   "cell_type": "markdown",
   "id": "14377a3e-f405-4740-82b1-e652270b1eb1",
   "metadata": {},
   "source": [
    "And now we can see this power in action. Suppose now we want to nudge `L` up a bit. What we can do (if we treat a,b,c... as weights) is we can nudge their values in the direction of their gradients (their slopes. Think of them on the graph)."
   ]
  },
  {
   "cell_type": "code",
   "execution_count": 67,
   "id": "3a9c8753-6857-4980-a93a-d5bac5a0cb87",
   "metadata": {
    "tags": []
   },
   "outputs": [
    {
     "data": {
      "text/plain": [
       "Value(data=-7.286496)"
      ]
     },
     "execution_count": 67,
     "metadata": {},
     "output_type": "execute_result"
    }
   ],
   "source": [
    "a.data += 0.01 * a.grad\n",
    "b.data += 0.01 * b.grad\n",
    "c.data += 0.01 * c.grad\n",
    "f.data += 0.01 * f.grad \n",
    "\n",
    "e = a*b; e.label = 'e'\n",
    "d = e + c; d.label = 'd'\n",
    "L = d * f #output of graph\n",
    "L.label = 'L'\n",
    "L"
   ]
  },
  {
   "cell_type": "markdown",
   "id": "8d376995-d15d-4940-be67-480e8740a6d1",
   "metadata": {},
   "source": [
    "Let's see this in a more complex setting: "
   ]
  },
  {
   "attachments": {
    "537263f4-8c3b-4e18-a617-4303106a3ae2.jpeg": {
     "image/jpeg": "[encoded data removed]"
    }
   },
   "cell_type": "markdown",
   "id": "d0866020-92d3-4949-911a-1dd78959a61b",
   "metadata": {},
   "source": [
    "<div>\n",
    "<img src=\"attachment:537263f4-8c3b-4e18-a617-4303106a3ae2.jpeg\" width=\"500\"/>\n",
    "</div>"
   ]
  },
  {
   "cell_type": "markdown",
   "id": "aa0c81af-59d4-4506-81a9-4acd40fb3487",
   "metadata": {},
   "source": [
    "This is a simplified model of biological neurons. Here, data from other neurons $x_0$. We have synapses that have weights on them $w_0$. The synapse interacts with the input to the neuron multiplicatively so what flows to the cell body of the neuron is $ w * x$. There are multiple inputs. There is also bias that is like the \"innate trigger happiness\" (can be more or less trigger happy). The neuron takes all inputs (summed) + bias through an activation function $f$ that is usually a squashing function eg $tanh$. \n",
    "What comes out is the activation function applied to the dot product of weights and inputs."
   ]
  },
  {
   "cell_type": "code",
   "execution_count": 72,
   "id": "f2c87c83-3797-47b0-b661-da43876d4a7c",
   "metadata": {
    "tags": []
   },
   "outputs": [
    {
     "data": {
      "image/png": "[encoded data removed]",
      "text/plain": [
       "<Figure size 640x480 with 1 Axes>"
      ]
     },
     "metadata": {},
     "output_type": "display_data"
    }
   ],
   "source": [
    "plt.plot(np.arange(-5,5,0.2), np.tanh(np.arange(-5,5,0.2))); plt.grid();"
   ]
  },
  {
   "cell_type": "code",
   "execution_count": 74,
   "id": "23840d7c-0158-47a8-89e1-adf79e2f1e79",
   "metadata": {
    "tags": []
   },
   "outputs": [
    {
     "data": {
      "image/svg+xml": [
       "<?xml version=\"1.0\" encoding=\"UTF-8\" standalone=\"no\"?>\n",
       "<!DOCTYPE svg PUBLIC \"-//W3C//DTD SVG 1.1//EN\"\n",
       " \"http://www.w3.org/Graphics/SVG/1.1/DTD/svg11.dtd\">\n",
       "<!-- Generated by graphviz version 7.1.0 (0)\n",
       " -->\n",
       "<!-- Pages: 1 -->\n",
       "<svg width=\"1229pt\" height=\"210pt\"\n",
       " viewBox=\"0.00 0.00 1229.00 210.00\" xmlns=\"http://www.w3.org/2000/svg\" xmlns:xlink=\"http://www.w3.org/1999/xlink\">\n",
       "<g id=\"graph0\" class=\"graph\" transform=\"scale(1 1) rotate(0) translate(4 206)\">\n",
       "<polygon fill=\"white\" stroke=\"none\" points=\"-4,4 -4,-206 1225,-206 1225,4 -4,4\"/>\n",
       "<!-- 4475642416 -->\n",
       "<g id=\"node1\" class=\"node\">\n",
       "<title>4475642416</title>\n",
       "<polygon fill=\"none\" stroke=\"black\" points=\"328.5,-55.5 328.5,-91.5 537.5,-91.5 537.5,-55.5 328.5,-55.5\"/>\n",
       "<text text-anchor=\"middle\" x=\"352\" y=\"-69.8\" font-family=\"Times,serif\" font-size=\"14.00\">x2w2</text>\n",
       "<polyline fill=\"none\" stroke=\"black\" points=\"375.5,-55.5 375.5,-91.5\"/>\n",
       "<text text-anchor=\"middle\" x=\"415.5\" y=\"-69.8\" font-family=\"Times,serif\" font-size=\"14.00\">data 0.0000</text>\n",
       "<polyline fill=\"none\" stroke=\"black\" points=\"455.5,-55.5 455.5,-91.5\"/>\n",
       "<text text-anchor=\"middle\" x=\"496.5\" y=\"-69.8\" font-family=\"Times,serif\" font-size=\"14.00\">grad 0.0000</text>\n",
       "</g>\n",
       "<!-- 4475642224+ -->\n",
       "<g id=\"node12\" class=\"node\">\n",
       "<title>4475642224+</title>\n",
       "<ellipse fill=\"none\" stroke=\"black\" cx=\"603\" cy=\"-100.5\" rx=\"27\" ry=\"18\"/>\n",
       "<text text-anchor=\"middle\" x=\"603\" y=\"-96.8\" font-family=\"Times,serif\" font-size=\"14.00\">+</text>\n",
       "</g>\n",
       "<!-- 4475642416&#45;&gt;4475642224+ -->\n",
       "<g id=\"edge7\" class=\"edge\">\n",
       "<title>4475642416&#45;&gt;4475642224+</title>\n",
       "<path fill=\"none\" stroke=\"black\" d=\"M537.05,-90.06C547.04,-91.67 556.65,-93.21 565.28,-94.6\"/>\n",
       "<polygon fill=\"black\" stroke=\"black\" points=\"564.45,-98.01 574.88,-96.14 565.56,-91.1 564.45,-98.01\"/>\n",
       "</g>\n",
       "<!-- 4475642416* -->\n",
       "<g id=\"node2\" class=\"node\">\n",
       "<title>4475642416*</title>\n",
       "<ellipse fill=\"none\" stroke=\"black\" cx=\"263\" cy=\"-73.5\" rx=\"27\" ry=\"18\"/>\n",
       "<text text-anchor=\"middle\" x=\"263\" y=\"-69.8\" font-family=\"Times,serif\" font-size=\"14.00\">*</text>\n",
       "</g>\n",
       "<!-- 4475642416*&#45;&gt;4475642416 -->\n",
       "<g id=\"edge1\" class=\"edge\">\n",
       "<title>4475642416*&#45;&gt;4475642416</title>\n",
       "<path fill=\"none\" stroke=\"black\" d=\"M290.25,-73.5C298.16,-73.5 307.4,-73.5 317.3,-73.5\"/>\n",
       "<polygon fill=\"black\" stroke=\"black\" points=\"317.2,-77 327.2,-73.5 317.2,-70 317.2,-77\"/>\n",
       "</g>\n",
       "<!-- 4476003536 -->\n",
       "<g id=\"node3\" class=\"node\">\n",
       "<title>4476003536</title>\n",
       "<polygon fill=\"none\" stroke=\"black\" points=\"4,-55.5 4,-91.5 196,-91.5 196,-55.5 4,-55.5\"/>\n",
       "<text text-anchor=\"middle\" x=\"19\" y=\"-69.8\" font-family=\"Times,serif\" font-size=\"14.00\">x2</text>\n",
       "<polyline fill=\"none\" stroke=\"black\" points=\"34,-55.5 34,-91.5\"/>\n",
       "<text text-anchor=\"middle\" x=\"74\" y=\"-69.8\" font-family=\"Times,serif\" font-size=\"14.00\">data 0.0000</text>\n",
       "<polyline fill=\"none\" stroke=\"black\" points=\"114,-55.5 114,-91.5\"/>\n",
       "<text text-anchor=\"middle\" x=\"155\" y=\"-69.8\" font-family=\"Times,serif\" font-size=\"14.00\">grad 0.0000</text>\n",
       "</g>\n",
       "<!-- 4476003536&#45;&gt;4475642416* -->\n",
       "<g id=\"edge6\" class=\"edge\">\n",
       "<title>4476003536&#45;&gt;4475642416*</title>\n",
       "<path fill=\"none\" stroke=\"black\" d=\"M195.59,-73.5C205.66,-73.5 215.42,-73.5 224.23,-73.5\"/>\n",
       "<polygon fill=\"black\" stroke=\"black\" points=\"224.07,-77 234.07,-73.5 224.07,-70 224.07,-77\"/>\n",
       "</g>\n",
       "<!-- 4475640544 -->\n",
       "<g id=\"node4\" class=\"node\">\n",
       "<title>4475640544</title>\n",
       "<polygon fill=\"none\" stroke=\"black\" points=\"326,-110.5 326,-146.5 540,-146.5 540,-110.5 326,-110.5\"/>\n",
       "<text text-anchor=\"middle\" x=\"349.5\" y=\"-124.8\" font-family=\"Times,serif\" font-size=\"14.00\">x1w1</text>\n",
       "<polyline fill=\"none\" stroke=\"black\" points=\"373,-110.5 373,-146.5\"/>\n",
       "<text text-anchor=\"middle\" x=\"415.5\" y=\"-124.8\" font-family=\"Times,serif\" font-size=\"14.00\">data &#45;6.0000</text>\n",
       "<polyline fill=\"none\" stroke=\"black\" points=\"458,-110.5 458,-146.5\"/>\n",
       "<text text-anchor=\"middle\" x=\"499\" y=\"-124.8\" font-family=\"Times,serif\" font-size=\"14.00\">grad 0.0000</text>\n",
       "</g>\n",
       "<!-- 4475640544&#45;&gt;4475642224+ -->\n",
       "<g id=\"edge8\" class=\"edge\">\n",
       "<title>4475640544&#45;&gt;4475642224+</title>\n",
       "<path fill=\"none\" stroke=\"black\" d=\"M539.92,-110.85C548.88,-109.35 557.49,-107.92 565.29,-106.62\"/>\n",
       "<polygon fill=\"black\" stroke=\"black\" points=\"565.66,-110.1 574.95,-105.01 564.51,-103.2 565.66,-110.1\"/>\n",
       "</g>\n",
       "<!-- 4475640544* -->\n",
       "<g id=\"node5\" class=\"node\">\n",
       "<title>4475640544*</title>\n",
       "<ellipse fill=\"none\" stroke=\"black\" cx=\"263\" cy=\"-128.5\" rx=\"27\" ry=\"18\"/>\n",
       "<text text-anchor=\"middle\" x=\"263\" y=\"-124.8\" font-family=\"Times,serif\" font-size=\"14.00\">*</text>\n",
       "</g>\n",
       "<!-- 4475640544*&#45;&gt;4475640544 -->\n",
       "<g id=\"edge2\" class=\"edge\">\n",
       "<title>4475640544*&#45;&gt;4475640544</title>\n",
       "<path fill=\"none\" stroke=\"black\" d=\"M290.25,-128.5C297.53,-128.5 305.94,-128.5 314.95,-128.5\"/>\n",
       "<polygon fill=\"black\" stroke=\"black\" points=\"314.69,-132 324.69,-128.5 314.69,-125 314.69,-132\"/>\n",
       "</g>\n",
       "<!-- 4476007664 -->\n",
       "<g id=\"node6\" class=\"node\">\n",
       "<title>4476007664</title>\n",
       "<polygon fill=\"none\" stroke=\"black\" points=\"4,-165.5 4,-201.5 196,-201.5 196,-165.5 4,-165.5\"/>\n",
       "<text text-anchor=\"middle\" x=\"19\" y=\"-179.8\" font-family=\"Times,serif\" font-size=\"14.00\">x1</text>\n",
       "<polyline fill=\"none\" stroke=\"black\" points=\"34,-165.5 34,-201.5\"/>\n",
       "<text text-anchor=\"middle\" x=\"74\" y=\"-179.8\" font-family=\"Times,serif\" font-size=\"14.00\">data 2.0000</text>\n",
       "<polyline fill=\"none\" stroke=\"black\" points=\"114,-165.5 114,-201.5\"/>\n",
       "<text text-anchor=\"middle\" x=\"155\" y=\"-179.8\" font-family=\"Times,serif\" font-size=\"14.00\">grad 0.0000</text>\n",
       "</g>\n",
       "<!-- 4476007664&#45;&gt;4475640544* -->\n",
       "<g id=\"edge9\" class=\"edge\">\n",
       "<title>4476007664&#45;&gt;4475640544*</title>\n",
       "<path fill=\"none\" stroke=\"black\" d=\"M172.27,-165.52C181.67,-162.72 191.12,-159.7 200,-156.5 210.09,-152.87 220.83,-148.29 230.48,-143.89\"/>\n",
       "<polygon fill=\"black\" stroke=\"black\" points=\"231.87,-147.11 239.45,-139.71 228.91,-140.76 231.87,-147.11\"/>\n",
       "</g>\n",
       "<!-- 4475648272 -->\n",
       "<g id=\"node7\" class=\"node\">\n",
       "<title>4475648272</title>\n",
       "<polygon fill=\"none\" stroke=\"black\" points=\"2.5,-0.5 2.5,-36.5 197.5,-36.5 197.5,-0.5 2.5,-0.5\"/>\n",
       "<text text-anchor=\"middle\" x=\"19\" y=\"-14.8\" font-family=\"Times,serif\" font-size=\"14.00\">w2</text>\n",
       "<polyline fill=\"none\" stroke=\"black\" points=\"35.5,-0.5 35.5,-36.5\"/>\n",
       "<text text-anchor=\"middle\" x=\"75.5\" y=\"-14.8\" font-family=\"Times,serif\" font-size=\"14.00\">data 1.0000</text>\n",
       "<polyline fill=\"none\" stroke=\"black\" points=\"115.5,-0.5 115.5,-36.5\"/>\n",
       "<text text-anchor=\"middle\" x=\"156.5\" y=\"-14.8\" font-family=\"Times,serif\" font-size=\"14.00\">grad 0.0000</text>\n",
       "</g>\n",
       "<!-- 4475648272&#45;&gt;4475642416* -->\n",
       "<g id=\"edge5\" class=\"edge\">\n",
       "<title>4475648272&#45;&gt;4475642416*</title>\n",
       "<path fill=\"none\" stroke=\"black\" d=\"M169.02,-36.42C179.47,-39.56 190.08,-42.95 200,-46.5 209.96,-50.06 220.59,-54.46 230.18,-58.66\"/>\n",
       "<polygon fill=\"black\" stroke=\"black\" points=\"228.54,-61.76 239.1,-62.66 231.4,-55.37 228.54,-61.76\"/>\n",
       "</g>\n",
       "<!-- 4475640640 -->\n",
       "<g id=\"node8\" class=\"node\">\n",
       "<title>4475640640</title>\n",
       "<polygon fill=\"none\" stroke=\"black\" points=\"695.5,-137.5 695.5,-173.5 880.5,-173.5 880.5,-137.5 695.5,-137.5\"/>\n",
       "<text text-anchor=\"middle\" x=\"707\" y=\"-151.8\" font-family=\"Times,serif\" font-size=\"14.00\">b</text>\n",
       "<polyline fill=\"none\" stroke=\"black\" points=\"718.5,-137.5 718.5,-173.5\"/>\n",
       "<text text-anchor=\"middle\" x=\"758.5\" y=\"-151.8\" font-family=\"Times,serif\" font-size=\"14.00\">data 6.7000</text>\n",
       "<polyline fill=\"none\" stroke=\"black\" points=\"798.5,-137.5 798.5,-173.5\"/>\n",
       "<text text-anchor=\"middle\" x=\"839.5\" y=\"-151.8\" font-family=\"Times,serif\" font-size=\"14.00\">grad 0.0000</text>\n",
       "</g>\n",
       "<!-- 4475643712+ -->\n",
       "<g id=\"node10\" class=\"node\">\n",
       "<title>4475643712+</title>\n",
       "<ellipse fill=\"none\" stroke=\"black\" cx=\"973\" cy=\"-127.5\" rx=\"27\" ry=\"18\"/>\n",
       "<text text-anchor=\"middle\" x=\"973\" y=\"-123.8\" font-family=\"Times,serif\" font-size=\"14.00\">+</text>\n",
       "</g>\n",
       "<!-- 4475640640&#45;&gt;4475643712+ -->\n",
       "<g id=\"edge11\" class=\"edge\">\n",
       "<title>4475640640&#45;&gt;4475643712+</title>\n",
       "<path fill=\"none\" stroke=\"black\" d=\"M880.5,-141.5C899.91,-138.53 919.33,-135.56 935.25,-133.12\"/>\n",
       "<polygon fill=\"black\" stroke=\"black\" points=\"935.32,-136.65 944.67,-131.68 934.26,-129.73 935.32,-136.65\"/>\n",
       "</g>\n",
       "<!-- 4475643712 -->\n",
       "<g id=\"node9\" class=\"node\">\n",
       "<title>4475643712</title>\n",
       "<polygon fill=\"none\" stroke=\"black\" points=\"1036,-109.5 1036,-145.5 1221,-145.5 1221,-109.5 1036,-109.5\"/>\n",
       "<text text-anchor=\"middle\" x=\"1047.5\" y=\"-123.8\" font-family=\"Times,serif\" font-size=\"14.00\">n</text>\n",
       "<polyline fill=\"none\" stroke=\"black\" points=\"1059,-109.5 1059,-145.5\"/>\n",
       "<text text-anchor=\"middle\" x=\"1099\" y=\"-123.8\" font-family=\"Times,serif\" font-size=\"14.00\">data 0.7000</text>\n",
       "<polyline fill=\"none\" stroke=\"black\" points=\"1139,-109.5 1139,-145.5\"/>\n",
       "<text text-anchor=\"middle\" x=\"1180\" y=\"-123.8\" font-family=\"Times,serif\" font-size=\"14.00\">grad 0.0000</text>\n",
       "</g>\n",
       "<!-- 4475643712+&#45;&gt;4475643712 -->\n",
       "<g id=\"edge3\" class=\"edge\">\n",
       "<title>4475643712+&#45;&gt;4475643712</title>\n",
       "<path fill=\"none\" stroke=\"black\" d=\"M1000.39,-127.5C1007.62,-127.5 1015.92,-127.5 1024.74,-127.5\"/>\n",
       "<polygon fill=\"black\" stroke=\"black\" points=\"1024.64,-131 1034.64,-127.5 1024.64,-124 1024.64,-131\"/>\n",
       "</g>\n",
       "<!-- 4475642224 -->\n",
       "<g id=\"node11\" class=\"node\">\n",
       "<title>4475642224</title>\n",
       "<polygon fill=\"none\" stroke=\"black\" points=\"666,-82.5 666,-118.5 910,-118.5 910,-82.5 666,-82.5\"/>\n",
       "<text text-anchor=\"middle\" x=\"704.5\" y=\"-96.8\" font-family=\"Times,serif\" font-size=\"14.00\">x1w1x2w2</text>\n",
       "<polyline fill=\"none\" stroke=\"black\" points=\"743,-82.5 743,-118.5\"/>\n",
       "<text text-anchor=\"middle\" x=\"785.5\" y=\"-96.8\" font-family=\"Times,serif\" font-size=\"14.00\">data &#45;6.0000</text>\n",
       "<polyline fill=\"none\" stroke=\"black\" points=\"828,-82.5 828,-118.5\"/>\n",
       "<text text-anchor=\"middle\" x=\"869\" y=\"-96.8\" font-family=\"Times,serif\" font-size=\"14.00\">grad 0.0000</text>\n",
       "</g>\n",
       "<!-- 4475642224&#45;&gt;4475643712+ -->\n",
       "<g id=\"edge12\" class=\"edge\">\n",
       "<title>4475642224&#45;&gt;4475643712+</title>\n",
       "<path fill=\"none\" stroke=\"black\" d=\"M909.79,-118.32C918.72,-119.64 927.23,-120.89 934.93,-122.03\"/>\n",
       "<polygon fill=\"black\" stroke=\"black\" points=\"934.42,-125.49 944.82,-123.49 935.44,-118.57 934.42,-125.49\"/>\n",
       "</g>\n",
       "<!-- 4475642224+&#45;&gt;4475642224 -->\n",
       "<g id=\"edge4\" class=\"edge\">\n",
       "<title>4475642224+&#45;&gt;4475642224</title>\n",
       "<path fill=\"none\" stroke=\"black\" d=\"M630.22,-100.5C637.46,-100.5 645.83,-100.5 654.87,-100.5\"/>\n",
       "<polygon fill=\"black\" stroke=\"black\" points=\"654.68,-104 664.68,-100.5 654.68,-97 654.68,-104\"/>\n",
       "</g>\n",
       "<!-- 4475994512 -->\n",
       "<g id=\"node13\" class=\"node\">\n",
       "<title>4475994512</title>\n",
       "<polygon fill=\"none\" stroke=\"black\" points=\"0,-110.5 0,-146.5 200,-146.5 200,-110.5 0,-110.5\"/>\n",
       "<text text-anchor=\"middle\" x=\"16.5\" y=\"-124.8\" font-family=\"Times,serif\" font-size=\"14.00\">w1</text>\n",
       "<polyline fill=\"none\" stroke=\"black\" points=\"33,-110.5 33,-146.5\"/>\n",
       "<text text-anchor=\"middle\" x=\"75.5\" y=\"-124.8\" font-family=\"Times,serif\" font-size=\"14.00\">data &#45;3.0000</text>\n",
       "<polyline fill=\"none\" stroke=\"black\" points=\"118,-110.5 118,-146.5\"/>\n",
       "<text text-anchor=\"middle\" x=\"159\" y=\"-124.8\" font-family=\"Times,serif\" font-size=\"14.00\">grad 0.0000</text>\n",
       "</g>\n",
       "<!-- 4475994512&#45;&gt;4475640544* -->\n",
       "<g id=\"edge10\" class=\"edge\">\n",
       "<title>4475994512&#45;&gt;4475640544*</title>\n",
       "<path fill=\"none\" stroke=\"black\" d=\"M199.75,-128.5C208.38,-128.5 216.71,-128.5 224.33,-128.5\"/>\n",
       "<polygon fill=\"black\" stroke=\"black\" points=\"224.12,-132 234.12,-128.5 224.12,-125 224.12,-132\"/>\n",
       "</g>\n",
       "</g>\n",
       "</svg>\n"
      ],
      "text/plain": [
       "<graphviz.graphs.Digraph at 0x10aca4700>"
      ]
     },
     "execution_count": 74,
     "metadata": {},
     "output_type": "execute_result"
    }
   ],
   "source": [
    "# let's write one out\n",
    "\n",
    "# inputs x1, x2\n",
    "x1 = Value(2.0, label='x1')\n",
    "x2 = Value(0.0, label='x2')\n",
    "\n",
    "# weights w1, w2\n",
    "w1 = Value(-3.0, label='w1')\n",
    "w2 = Value(1.0, label='w2')\n",
    "# bias\n",
    "b = Value(6.7, label='b')\n",
    "\n",
    "x1w1 = x1*w1; x1w1.label = 'x1w1'\n",
    "x2w2 = x2*w2; x2w2.label = 'x2w2'\n",
    "x1w1x2w2 = x1w1 + x2w2; x1w1x2w2.label = 'x1w1x2w2'\n",
    "n = x1w1x2w2 + b; n.label = 'n' # n is the cell body's raw activation \n",
    "\n",
    "draw_dot(n)"
   ]
  },
  {
   "cell_type": "markdown",
   "id": "c659a6e7-93a7-42bd-9542-6577044725ec",
   "metadata": {},
   "source": [
    "But in order to produce the final output, our neuron (Value object here) needs to be able to do the $tanh$ function. \n",
    "We'll add it to our Value object and it's important to know that we can add any function we want as long as we know how to compute a local derivative for it."
   ]
  },
  {
   "cell_type": "code",
   "execution_count": 77,
   "id": "97adab31-a5ac-41b9-b7b1-53e717351653",
   "metadata": {
    "tags": []
   },
   "outputs": [],
   "source": [
    "class Value:\n",
    "    def __init__(self, data, _children=(), _op='', label=''):\n",
    "        self.data = data\n",
    "        self.grad = 0.0\n",
    "        self._prev = set(_children) \n",
    "        self._op = _op\n",
    "        self.label = label\n",
    "    \n",
    "    def __add__(self, other):\n",
    "        out = Value(self.data + other.data, (self, other), '+') \n",
    "        return out\n",
    "    \n",
    "    def __mul__(self, other):\n",
    "        out = Value(self.data * other.data, (self, other), '*')\n",
    "        return out\n",
    "    \n",
    "    def tanh(self):\n",
    "        x = self.data\n",
    "        t = (math.exp(2*x) - 1) / (math.exp(2*x) + 1)\n",
    "        out = Value(t, (self, ), 'tanh')\n",
    "        return out\n",
    "    \n",
    "    def __repr__(self):\n",
    "        return f\"Value(data={self.data})\""
   ]
  },
  {
   "cell_type": "code",
   "execution_count": 82,
   "id": "60ceadc0-d765-402d-b708-7df7da7c5782",
   "metadata": {
    "tags": []
   },
   "outputs": [
    {
     "data": {
      "image/svg+xml": [
       "<?xml version=\"1.0\" encoding=\"UTF-8\" standalone=\"no\"?>\n",
       "<!DOCTYPE svg PUBLIC \"-//W3C//DTD SVG 1.1//EN\"\n",
       " \"http://www.w3.org/Graphics/SVG/1.1/DTD/svg11.dtd\">\n",
       "<!-- Generated by graphviz version 7.1.0 (0)\n",
       " -->\n",
       "<!-- Pages: 1 -->\n",
       "<svg width=\"1540pt\" height=\"210pt\"\n",
       " viewBox=\"0.00 0.00 1540.00 210.00\" xmlns=\"http://www.w3.org/2000/svg\" xmlns:xlink=\"http://www.w3.org/1999/xlink\">\n",
       "<g id=\"graph0\" class=\"graph\" transform=\"scale(1 1) rotate(0) translate(4 206)\">\n",
       "<polygon fill=\"white\" stroke=\"none\" points=\"-4,4 -4,-206 1536,-206 1536,4 -4,4\"/>\n",
       "<!-- 4475637760 -->\n",
       "<g id=\"node1\" class=\"node\">\n",
       "<title>4475637760</title>\n",
       "<polygon fill=\"none\" stroke=\"black\" points=\"4,-165.5 4,-201.5 196,-201.5 196,-165.5 4,-165.5\"/>\n",
       "<text text-anchor=\"middle\" x=\"19\" y=\"-179.8\" font-family=\"Times,serif\" font-size=\"14.00\">x1</text>\n",
       "<polyline fill=\"none\" stroke=\"black\" points=\"34,-165.5 34,-201.5\"/>\n",
       "<text text-anchor=\"middle\" x=\"74\" y=\"-179.8\" font-family=\"Times,serif\" font-size=\"14.00\">data 2.0000</text>\n",
       "<polyline fill=\"none\" stroke=\"black\" points=\"114,-165.5 114,-201.5\"/>\n",
       "<text text-anchor=\"middle\" x=\"155\" y=\"-179.8\" font-family=\"Times,serif\" font-size=\"14.00\">grad 0.0000</text>\n",
       "</g>\n",
       "<!-- 4475647984* -->\n",
       "<g id=\"node15\" class=\"node\">\n",
       "<title>4475647984*</title>\n",
       "<ellipse fill=\"none\" stroke=\"black\" cx=\"263\" cy=\"-128.5\" rx=\"27\" ry=\"18\"/>\n",
       "<text text-anchor=\"middle\" x=\"263\" y=\"-124.8\" font-family=\"Times,serif\" font-size=\"14.00\">*</text>\n",
       "</g>\n",
       "<!-- 4475637760&#45;&gt;4475647984* -->\n",
       "<g id=\"edge8\" class=\"edge\">\n",
       "<title>4475637760&#45;&gt;4475647984*</title>\n",
       "<path fill=\"none\" stroke=\"black\" d=\"M172.27,-165.52C181.67,-162.72 191.12,-159.7 200,-156.5 210.09,-152.87 220.83,-148.29 230.48,-143.89\"/>\n",
       "<polygon fill=\"black\" stroke=\"black\" points=\"231.87,-147.11 239.45,-139.71 228.91,-140.76 231.87,-147.11\"/>\n",
       "</g>\n",
       "<!-- 4426009136 -->\n",
       "<g id=\"node2\" class=\"node\">\n",
       "<title>4426009136</title>\n",
       "<polygon fill=\"none\" stroke=\"black\" points=\"0,-110.5 0,-146.5 200,-146.5 200,-110.5 0,-110.5\"/>\n",
       "<text text-anchor=\"middle\" x=\"16.5\" y=\"-124.8\" font-family=\"Times,serif\" font-size=\"14.00\">w1</text>\n",
       "<polyline fill=\"none\" stroke=\"black\" points=\"33,-110.5 33,-146.5\"/>\n",
       "<text text-anchor=\"middle\" x=\"75.5\" y=\"-124.8\" font-family=\"Times,serif\" font-size=\"14.00\">data &#45;3.0000</text>\n",
       "<polyline fill=\"none\" stroke=\"black\" points=\"118,-110.5 118,-146.5\"/>\n",
       "<text text-anchor=\"middle\" x=\"159\" y=\"-124.8\" font-family=\"Times,serif\" font-size=\"14.00\">grad 0.0000</text>\n",
       "</g>\n",
       "<!-- 4426009136&#45;&gt;4475647984* -->\n",
       "<g id=\"edge10\" class=\"edge\">\n",
       "<title>4426009136&#45;&gt;4475647984*</title>\n",
       "<path fill=\"none\" stroke=\"black\" d=\"M199.75,-128.5C208.38,-128.5 216.71,-128.5 224.33,-128.5\"/>\n",
       "<polygon fill=\"black\" stroke=\"black\" points=\"224.12,-132 234.12,-128.5 224.12,-125 224.12,-132\"/>\n",
       "</g>\n",
       "<!-- 4475644528 -->\n",
       "<g id=\"node3\" class=\"node\">\n",
       "<title>4475644528</title>\n",
       "<polygon fill=\"none\" stroke=\"black\" points=\"666,-82.5 666,-118.5 910,-118.5 910,-82.5 666,-82.5\"/>\n",
       "<text text-anchor=\"middle\" x=\"704.5\" y=\"-96.8\" font-family=\"Times,serif\" font-size=\"14.00\">x1w1x2w2</text>\n",
       "<polyline fill=\"none\" stroke=\"black\" points=\"743,-82.5 743,-118.5\"/>\n",
       "<text text-anchor=\"middle\" x=\"785.5\" y=\"-96.8\" font-family=\"Times,serif\" font-size=\"14.00\">data &#45;6.0000</text>\n",
       "<polyline fill=\"none\" stroke=\"black\" points=\"828,-82.5 828,-118.5\"/>\n",
       "<text text-anchor=\"middle\" x=\"869\" y=\"-96.8\" font-family=\"Times,serif\" font-size=\"14.00\">grad 0.0000</text>\n",
       "</g>\n",
       "<!-- 4475647600+ -->\n",
       "<g id=\"node6\" class=\"node\">\n",
       "<title>4475647600+</title>\n",
       "<ellipse fill=\"none\" stroke=\"black\" cx=\"973\" cy=\"-72.5\" rx=\"27\" ry=\"18\"/>\n",
       "<text text-anchor=\"middle\" x=\"973\" y=\"-68.8\" font-family=\"Times,serif\" font-size=\"14.00\">+</text>\n",
       "</g>\n",
       "<!-- 4475644528&#45;&gt;4475647600+ -->\n",
       "<g id=\"edge14\" class=\"edge\">\n",
       "<title>4475644528&#45;&gt;4475647600+</title>\n",
       "<path fill=\"none\" stroke=\"black\" d=\"M906.45,-82.53C916.69,-80.96 926.46,-79.47 935.18,-78.13\"/>\n",
       "<polygon fill=\"black\" stroke=\"black\" points=\"935.52,-81.62 944.87,-76.65 934.46,-74.7 935.52,-81.62\"/>\n",
       "</g>\n",
       "<!-- 4475644528+ -->\n",
       "<g id=\"node4\" class=\"node\">\n",
       "<title>4475644528+</title>\n",
       "<ellipse fill=\"none\" stroke=\"black\" cx=\"603\" cy=\"-100.5\" rx=\"27\" ry=\"18\"/>\n",
       "<text text-anchor=\"middle\" x=\"603\" y=\"-96.8\" font-family=\"Times,serif\" font-size=\"14.00\">+</text>\n",
       "</g>\n",
       "<!-- 4475644528+&#45;&gt;4475644528 -->\n",
       "<g id=\"edge1\" class=\"edge\">\n",
       "<title>4475644528+&#45;&gt;4475644528</title>\n",
       "<path fill=\"none\" stroke=\"black\" d=\"M630.22,-100.5C637.46,-100.5 645.83,-100.5 654.87,-100.5\"/>\n",
       "<polygon fill=\"black\" stroke=\"black\" points=\"654.68,-104 664.68,-100.5 654.68,-97 654.68,-104\"/>\n",
       "</g>\n",
       "<!-- 4475647600 -->\n",
       "<g id=\"node5\" class=\"node\">\n",
       "<title>4475647600</title>\n",
       "<polygon fill=\"none\" stroke=\"black\" points=\"1036,-54.5 1036,-90.5 1221,-90.5 1221,-54.5 1036,-54.5\"/>\n",
       "<text text-anchor=\"middle\" x=\"1047.5\" y=\"-68.8\" font-family=\"Times,serif\" font-size=\"14.00\">n</text>\n",
       "<polyline fill=\"none\" stroke=\"black\" points=\"1059,-54.5 1059,-90.5\"/>\n",
       "<text text-anchor=\"middle\" x=\"1099\" y=\"-68.8\" font-family=\"Times,serif\" font-size=\"14.00\">data 0.8814</text>\n",
       "<polyline fill=\"none\" stroke=\"black\" points=\"1139,-54.5 1139,-90.5\"/>\n",
       "<text text-anchor=\"middle\" x=\"1180\" y=\"-68.8\" font-family=\"Times,serif\" font-size=\"14.00\">grad 0.0000</text>\n",
       "</g>\n",
       "<!-- 4475641024tanh -->\n",
       "<g id=\"node9\" class=\"node\">\n",
       "<title>4475641024tanh</title>\n",
       "<ellipse fill=\"none\" stroke=\"black\" cx=\"1284\" cy=\"-72.5\" rx=\"27\" ry=\"18\"/>\n",
       "<text text-anchor=\"middle\" x=\"1284\" y=\"-68.8\" font-family=\"Times,serif\" font-size=\"14.00\">tanh</text>\n",
       "</g>\n",
       "<!-- 4475647600&#45;&gt;4475641024tanh -->\n",
       "<g id=\"edge11\" class=\"edge\">\n",
       "<title>4475647600&#45;&gt;4475641024tanh</title>\n",
       "<path fill=\"none\" stroke=\"black\" d=\"M1220.57,-72.5C1229.21,-72.5 1237.6,-72.5 1245.28,-72.5\"/>\n",
       "<polygon fill=\"black\" stroke=\"black\" points=\"1245.19,-76 1255.19,-72.5 1245.19,-69 1245.19,-76\"/>\n",
       "</g>\n",
       "<!-- 4475647600+&#45;&gt;4475647600 -->\n",
       "<g id=\"edge2\" class=\"edge\">\n",
       "<title>4475647600+&#45;&gt;4475647600</title>\n",
       "<path fill=\"none\" stroke=\"black\" d=\"M1000.39,-72.5C1007.62,-72.5 1015.92,-72.5 1024.74,-72.5\"/>\n",
       "<polygon fill=\"black\" stroke=\"black\" points=\"1024.64,-76 1034.64,-72.5 1024.64,-69 1024.64,-76\"/>\n",
       "</g>\n",
       "<!-- 4475644576 -->\n",
       "<g id=\"node7\" class=\"node\">\n",
       "<title>4475644576</title>\n",
       "<polygon fill=\"none\" stroke=\"black\" points=\"695.5,-27.5 695.5,-63.5 880.5,-63.5 880.5,-27.5 695.5,-27.5\"/>\n",
       "<text text-anchor=\"middle\" x=\"707\" y=\"-41.8\" font-family=\"Times,serif\" font-size=\"14.00\">b</text>\n",
       "<polyline fill=\"none\" stroke=\"black\" points=\"718.5,-27.5 718.5,-63.5\"/>\n",
       "<text text-anchor=\"middle\" x=\"758.5\" y=\"-41.8\" font-family=\"Times,serif\" font-size=\"14.00\">data 6.8814</text>\n",
       "<polyline fill=\"none\" stroke=\"black\" points=\"798.5,-27.5 798.5,-63.5\"/>\n",
       "<text text-anchor=\"middle\" x=\"839.5\" y=\"-41.8\" font-family=\"Times,serif\" font-size=\"14.00\">grad 0.0000</text>\n",
       "</g>\n",
       "<!-- 4475644576&#45;&gt;4475647600+ -->\n",
       "<g id=\"edge7\" class=\"edge\">\n",
       "<title>4475644576&#45;&gt;4475647600+</title>\n",
       "<path fill=\"none\" stroke=\"black\" d=\"M880.5,-59C899.73,-61.84 918.95,-64.67 934.78,-67.01\"/>\n",
       "<polygon fill=\"black\" stroke=\"black\" points=\"934.27,-70.47 944.67,-68.47 935.29,-63.55 934.27,-70.47\"/>\n",
       "</g>\n",
       "<!-- 4475641024 -->\n",
       "<g id=\"node8\" class=\"node\">\n",
       "<title>4475641024</title>\n",
       "<polygon fill=\"none\" stroke=\"black\" points=\"1347,-54.5 1347,-90.5 1532,-90.5 1532,-54.5 1347,-54.5\"/>\n",
       "<text text-anchor=\"middle\" x=\"1358.5\" y=\"-68.8\" font-family=\"Times,serif\" font-size=\"14.00\">o</text>\n",
       "<polyline fill=\"none\" stroke=\"black\" points=\"1370,-54.5 1370,-90.5\"/>\n",
       "<text text-anchor=\"middle\" x=\"1410\" y=\"-68.8\" font-family=\"Times,serif\" font-size=\"14.00\">data 0.7071</text>\n",
       "<polyline fill=\"none\" stroke=\"black\" points=\"1450,-54.5 1450,-90.5\"/>\n",
       "<text text-anchor=\"middle\" x=\"1491\" y=\"-68.8\" font-family=\"Times,serif\" font-size=\"14.00\">grad 0.0000</text>\n",
       "</g>\n",
       "<!-- 4475641024tanh&#45;&gt;4475641024 -->\n",
       "<g id=\"edge3\" class=\"edge\">\n",
       "<title>4475641024tanh&#45;&gt;4475641024</title>\n",
       "<path fill=\"none\" stroke=\"black\" d=\"M1311.39,-72.5C1318.62,-72.5 1326.92,-72.5 1335.74,-72.5\"/>\n",
       "<polygon fill=\"black\" stroke=\"black\" points=\"1335.64,-76 1345.64,-72.5 1335.64,-69 1335.64,-76\"/>\n",
       "</g>\n",
       "<!-- 4475645872 -->\n",
       "<g id=\"node10\" class=\"node\">\n",
       "<title>4475645872</title>\n",
       "<polygon fill=\"none\" stroke=\"black\" points=\"328.5,-55.5 328.5,-91.5 537.5,-91.5 537.5,-55.5 328.5,-55.5\"/>\n",
       "<text text-anchor=\"middle\" x=\"352\" y=\"-69.8\" font-family=\"Times,serif\" font-size=\"14.00\">x2w2</text>\n",
       "<polyline fill=\"none\" stroke=\"black\" points=\"375.5,-55.5 375.5,-91.5\"/>\n",
       "<text text-anchor=\"middle\" x=\"415.5\" y=\"-69.8\" font-family=\"Times,serif\" font-size=\"14.00\">data 0.0000</text>\n",
       "<polyline fill=\"none\" stroke=\"black\" points=\"455.5,-55.5 455.5,-91.5\"/>\n",
       "<text text-anchor=\"middle\" x=\"496.5\" y=\"-69.8\" font-family=\"Times,serif\" font-size=\"14.00\">grad 0.0000</text>\n",
       "</g>\n",
       "<!-- 4475645872&#45;&gt;4475644528+ -->\n",
       "<g id=\"edge12\" class=\"edge\">\n",
       "<title>4475645872&#45;&gt;4475644528+</title>\n",
       "<path fill=\"none\" stroke=\"black\" d=\"M537.05,-90.06C547.04,-91.67 556.65,-93.21 565.28,-94.6\"/>\n",
       "<polygon fill=\"black\" stroke=\"black\" points=\"564.45,-98.01 574.88,-96.14 565.56,-91.1 564.45,-98.01\"/>\n",
       "</g>\n",
       "<!-- 4475645872* -->\n",
       "<g id=\"node11\" class=\"node\">\n",
       "<title>4475645872*</title>\n",
       "<ellipse fill=\"none\" stroke=\"black\" cx=\"263\" cy=\"-73.5\" rx=\"27\" ry=\"18\"/>\n",
       "<text text-anchor=\"middle\" x=\"263\" y=\"-69.8\" font-family=\"Times,serif\" font-size=\"14.00\">*</text>\n",
       "</g>\n",
       "<!-- 4475645872*&#45;&gt;4475645872 -->\n",
       "<g id=\"edge4\" class=\"edge\">\n",
       "<title>4475645872*&#45;&gt;4475645872</title>\n",
       "<path fill=\"none\" stroke=\"black\" d=\"M290.25,-73.5C298.16,-73.5 307.4,-73.5 317.3,-73.5\"/>\n",
       "<polygon fill=\"black\" stroke=\"black\" points=\"317.2,-77 327.2,-73.5 317.2,-70 317.2,-77\"/>\n",
       "</g>\n",
       "<!-- 4426009040 -->\n",
       "<g id=\"node12\" class=\"node\">\n",
       "<title>4426009040</title>\n",
       "<polygon fill=\"none\" stroke=\"black\" points=\"4,-55.5 4,-91.5 196,-91.5 196,-55.5 4,-55.5\"/>\n",
       "<text text-anchor=\"middle\" x=\"19\" y=\"-69.8\" font-family=\"Times,serif\" font-size=\"14.00\">x2</text>\n",
       "<polyline fill=\"none\" stroke=\"black\" points=\"34,-55.5 34,-91.5\"/>\n",
       "<text text-anchor=\"middle\" x=\"74\" y=\"-69.8\" font-family=\"Times,serif\" font-size=\"14.00\">data 0.0000</text>\n",
       "<polyline fill=\"none\" stroke=\"black\" points=\"114,-55.5 114,-91.5\"/>\n",
       "<text text-anchor=\"middle\" x=\"155\" y=\"-69.8\" font-family=\"Times,serif\" font-size=\"14.00\">grad 0.0000</text>\n",
       "</g>\n",
       "<!-- 4426009040&#45;&gt;4475645872* -->\n",
       "<g id=\"edge6\" class=\"edge\">\n",
       "<title>4426009040&#45;&gt;4475645872*</title>\n",
       "<path fill=\"none\" stroke=\"black\" d=\"M195.59,-73.5C205.66,-73.5 215.42,-73.5 224.23,-73.5\"/>\n",
       "<polygon fill=\"black\" stroke=\"black\" points=\"224.07,-77 234.07,-73.5 224.07,-70 224.07,-77\"/>\n",
       "</g>\n",
       "<!-- 4475642848 -->\n",
       "<g id=\"node13\" class=\"node\">\n",
       "<title>4475642848</title>\n",
       "<polygon fill=\"none\" stroke=\"black\" points=\"2.5,-0.5 2.5,-36.5 197.5,-36.5 197.5,-0.5 2.5,-0.5\"/>\n",
       "<text text-anchor=\"middle\" x=\"19\" y=\"-14.8\" font-family=\"Times,serif\" font-size=\"14.00\">w2</text>\n",
       "<polyline fill=\"none\" stroke=\"black\" points=\"35.5,-0.5 35.5,-36.5\"/>\n",
       "<text text-anchor=\"middle\" x=\"75.5\" y=\"-14.8\" font-family=\"Times,serif\" font-size=\"14.00\">data 1.0000</text>\n",
       "<polyline fill=\"none\" stroke=\"black\" points=\"115.5,-0.5 115.5,-36.5\"/>\n",
       "<text text-anchor=\"middle\" x=\"156.5\" y=\"-14.8\" font-family=\"Times,serif\" font-size=\"14.00\">grad 0.0000</text>\n",
       "</g>\n",
       "<!-- 4475642848&#45;&gt;4475645872* -->\n",
       "<g id=\"edge13\" class=\"edge\">\n",
       "<title>4475642848&#45;&gt;4475645872*</title>\n",
       "<path fill=\"none\" stroke=\"black\" d=\"M169.02,-36.42C179.47,-39.56 190.08,-42.95 200,-46.5 209.96,-50.06 220.59,-54.46 230.18,-58.66\"/>\n",
       "<polygon fill=\"black\" stroke=\"black\" points=\"228.54,-61.76 239.1,-62.66 231.4,-55.37 228.54,-61.76\"/>\n",
       "</g>\n",
       "<!-- 4475647984 -->\n",
       "<g id=\"node14\" class=\"node\">\n",
       "<title>4475647984</title>\n",
       "<polygon fill=\"none\" stroke=\"black\" points=\"326,-110.5 326,-146.5 540,-146.5 540,-110.5 326,-110.5\"/>\n",
       "<text text-anchor=\"middle\" x=\"349.5\" y=\"-124.8\" font-family=\"Times,serif\" font-size=\"14.00\">x1w1</text>\n",
       "<polyline fill=\"none\" stroke=\"black\" points=\"373,-110.5 373,-146.5\"/>\n",
       "<text text-anchor=\"middle\" x=\"415.5\" y=\"-124.8\" font-family=\"Times,serif\" font-size=\"14.00\">data &#45;6.0000</text>\n",
       "<polyline fill=\"none\" stroke=\"black\" points=\"458,-110.5 458,-146.5\"/>\n",
       "<text text-anchor=\"middle\" x=\"499\" y=\"-124.8\" font-family=\"Times,serif\" font-size=\"14.00\">grad 0.0000</text>\n",
       "</g>\n",
       "<!-- 4475647984&#45;&gt;4475644528+ -->\n",
       "<g id=\"edge9\" class=\"edge\">\n",
       "<title>4475647984&#45;&gt;4475644528+</title>\n",
       "<path fill=\"none\" stroke=\"black\" d=\"M539.92,-110.85C548.88,-109.35 557.49,-107.92 565.29,-106.62\"/>\n",
       "<polygon fill=\"black\" stroke=\"black\" points=\"565.66,-110.1 574.95,-105.01 564.51,-103.2 565.66,-110.1\"/>\n",
       "</g>\n",
       "<!-- 4475647984*&#45;&gt;4475647984 -->\n",
       "<g id=\"edge5\" class=\"edge\">\n",
       "<title>4475647984*&#45;&gt;4475647984</title>\n",
       "<path fill=\"none\" stroke=\"black\" d=\"M290.25,-128.5C297.53,-128.5 305.94,-128.5 314.95,-128.5\"/>\n",
       "<polygon fill=\"black\" stroke=\"black\" points=\"314.69,-132 324.69,-128.5 314.69,-125 314.69,-132\"/>\n",
       "</g>\n",
       "</g>\n",
       "</svg>\n"
      ],
      "text/plain": [
       "<graphviz.graphs.Digraph at 0x10ac4e110>"
      ]
     },
     "execution_count": 82,
     "metadata": {},
     "output_type": "execute_result"
    }
   ],
   "source": [
    "# inputs x1, x2\n",
    "x1 = Value(2.0, label='x1')\n",
    "x2 = Value(0.0, label='x2')\n",
    "\n",
    "# weights w1, w2\n",
    "w1 = Value(-3.0, label='w1')\n",
    "w2 = Value(1.0, label='w2')\n",
    "# bias\n",
    "b = Value(6.8813735870195432, label='b') # this value of b to make numbers nicer for us when we do backprop \n",
    "\n",
    "x1w1 = x1*w1; x1w1.label = 'x1w1'\n",
    "x2w2 = x2*w2; x2w2.label = 'x2w2'\n",
    "x1w1x2w2 = x1w1 + x2w2; x1w1x2w2.label = 'x1w1x2w2'\n",
    "n = x1w1x2w2 + b; n.label = 'n' # n is the cell body's raw activation \n",
    "o = n.tanh(); o.label = 'o'\n",
    "draw_dot(o)"
   ]
  },
  {
   "cell_type": "code",
   "execution_count": null,
   "id": "f1843b3b-9f20-4a7f-9b68-1758146e4bf2",
   "metadata": {},
   "outputs": [],
   "source": []
  }
 ],
 "metadata": {
  "kernelspec": {
   "display_name": "Python 3 (ipykernel)",
   "language": "python",
   "name": "python3"
  },
  "language_info": {
   "codemirror_mode": {
    "name": "ipython",
    "version": 3
   },
   "file_extension": ".py",
   "mimetype": "text/x-python",
   "name": "python",
   "nbconvert_exporter": "python",
   "pygments_lexer": "ipython3",
   "version": "3.10.9"
  }
 },
 "nbformat": 4,
 "nbformat_minor": 5
}
