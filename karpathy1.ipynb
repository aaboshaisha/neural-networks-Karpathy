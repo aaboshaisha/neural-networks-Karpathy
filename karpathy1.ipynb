{
 "cells": [
  {
   "cell_type": "markdown",
   "id": "15b4c791-98e4-43b9-9dcc-87eaf847acc6",
   "metadata": {},
   "source": [
    "What is micrograd? \n",
    "\n",
    "Is an Autograd engine (automatic gradient) -> implements backpropagation.\n",
    "\n",
    "Backpropagation is an algorithm that allows u to efficiently evaluate the gradient (derivative) of some kind of loss function wrt the weights of a NN. This allows us to adjust the weights to minimize the loss.\n",
    "\n",
    "It will be at the mathematical core of any DL Library."
   ]
  },
  {
   "cell_type": "markdown",
   "id": "e5a7c578-c336-4dc1-a047-14220f49cc13",
   "metadata": {},
   "source": [
    "Its functionality: Micrograd allows us to build mathematical expressions. \n",
    "\n",
    "```\n",
    "from micrograd.engine import Value\n",
    "\n",
    "# Here, we're building mathematical expression with 2 inputs a & b.\n",
    "# micrograd wraps these inside Value object\n",
    "\n",
    "a = Value(-4.0) \n",
    "b = Value(2.0)\n",
    "\n",
    "# we build the math expression where a and b are transformed into c, d then e, f and g\n",
    "\n",
    "c = a + b # can add 2 value objects\n",
    "d = a * b + b**3 # multiply, raise to power .. etc\n",
    "\n",
    "#micrograd builds these math expressions in the background. It knows that c is also a Value object and that it resulted from and addition operation. It also knows the child nodes of c are a & b since it maintains pointers to them. \n",
    "\n",
    "c += c + 1\n",
    "c += 1 + c + (-a)\n",
    "d += d * 2 + (b + a).relu()\n",
    "d += 3 * d + (b - a).relu()\n",
    "e = c - d\n",
    "f = e**2\n",
    "g = f / 2.0\n",
    "g += 10.0 / f\n",
    "print(f'{g.data:.4f}') # prints 24.7041, the outcome of this forward pass\n",
    "g.backward() # we can call this and initialize bp at node g. It will start at g and go back through that expression graph and recursively apply the chain rule from calculus. This allows us to calculate the derivative of g wrt all internal nodes and initial a & b\n",
    "\n",
    "print(f'{a.grad:.4f}') # prints 138.8338, i.e. the numerical value of dg/da\n",
    "print(f'{b.grad:.4f}') # prints 645.5773, i.e. the numerical value of dg/db\n",
    "```\n",
    "\n",
    "NNs are just mathematical expressions. \n",
    "\n",
    "BP doesn't care about NNs. It just deals with arbitrary math expressions. \n",
    "\n",
    "micrograd is a scalar-valued autograd engine (works at the level of individual scalars like 4.0 and -2.0). In production, we use Tensors (n-dimensional). These Tensors are filled with scalars but we make operations on them (tensors / large arrays) such it allows us to make use of the parallelism in computers so operations can be done in parallel and make it more efficient.  \n",
    "\n",
    "micrograd is what u need to train NNs. Everything else is just efficiency. "
   ]
  },
  {
   "cell_type": "markdown",
   "id": "0725c996-22cd-4457-af1e-f9d2b53f9ffb",
   "metadata": {},
   "source": [
    "Let's build micrograd step by step"
   ]
  },
  {
   "cell_type": "code",
   "execution_count": 1,
   "id": "c148c310-830c-48dc-88e0-d078986d0153",
   "metadata": {
    "tags": []
   },
   "outputs": [],
   "source": [
    "import math\n",
    "import numpy as np\n",
    "import matplotlib.pyplot as plt\n",
    "%matplotlib inline"
   ]
  },
  {
   "cell_type": "markdown",
   "id": "3f0f601e-f5b7-4152-bb75-f360b462f410",
   "metadata": {
    "tags": []
   },
   "source": [
    "#### First: What is a derivative? "
   ]
  },
  {
   "cell_type": "markdown",
   "id": "5ac6e832-7290-4121-8ad9-ff46f465e731",
   "metadata": {},
   "source": [
    "We'll use the numerical definition (not the symbolic manipulation). \n",
    "\n",
    "Assuming a function f(x), if we nudge its input x a tiny bit, how will the function respond (+ , 0 , -)? \n",
    "\n",
    "$df = \\frac{f(x + h) - f(x)} {h}$ \n",
    "\n",
    "NB: we normalize through dividing by h to get a slope not an absolute value. \n",
    "\n",
    "$f(x + h) - f(x)$ how much the function increased / decreased when bumped by h\n",
    "\n",
    "$ / h $ normalized through dividing by $h$ to get the slope"
   ]
  },
  {
   "cell_type": "code",
   "execution_count": 2,
   "id": "e29ed5fe-3b1b-4b52-adfb-ad5d1061d6f7",
   "metadata": {
    "tags": []
   },
   "outputs": [],
   "source": [
    "def f(x): return 3*x**2 + 4*x + 5"
   ]
  },
  {
   "cell_type": "code",
   "execution_count": 3,
   "id": "a45925d7-0461-425a-94d2-527160e3dca8",
   "metadata": {
    "tags": []
   },
   "outputs": [
    {
     "data": {
      "text/plain": [
       "44.0"
      ]
     },
     "execution_count": 3,
     "metadata": {},
     "output_type": "execute_result"
    }
   ],
   "source": [
    "f(3.0)"
   ]
  },
  {
   "cell_type": "code",
   "execution_count": 4,
   "id": "15165164-0750-4dcf-920e-b9167fc13a31",
   "metadata": {
    "tags": []
   },
   "outputs": [
    {
     "data": {
      "image/png": "[encoded data removed]",
      "text/plain": [
       "<Figure size 640x480 with 1 Axes>"
      ]
     },
     "metadata": {},
     "output_type": "display_data"
    }
   ],
   "source": [
    "xs = np.arange(-5, 5, 0.25)\n",
    "ys = f(xs)\n",
    "plt.plot(xs, ys);"
   ]
  },
  {
   "cell_type": "code",
   "execution_count": 5,
   "id": "a7e6a32d-1193-4070-888a-d50fa1af3097",
   "metadata": {
    "tags": []
   },
   "outputs": [
    {
     "data": {
      "text/plain": [
       "22.002999999997996"
      ]
     },
     "execution_count": 5,
     "metadata": {},
     "output_type": "execute_result"
    }
   ],
   "source": [
    "h = 0.001\n",
    "x = 3\n",
    "(f(x + h) - f(x)) / h"
   ]
  },
  {
   "cell_type": "markdown",
   "id": "6af2ad12-2657-45ae-a4cc-2864238512da",
   "metadata": {},
   "source": [
    "Now we'll move to NNs. NNs will be massive mathematical expressions so we need data structures that maintain them. That's what we'll build."
   ]
  },
  {
   "cell_type": "markdown",
   "id": "70738640-2c1b-4dcd-817f-8aae057cae67",
   "metadata": {},
   "source": [
    "#### Building Value object & forward pass:"
   ]
  },
  {
   "cell_type": "markdown",
   "id": "4ff55bf5-f765-4466-968d-054ce86007de",
   "metadata": {},
   "source": [
    "We'll start by building the value object. It takes a scalar object and wraps it."
   ]
  },
  {
   "cell_type": "code",
   "execution_count": 6,
   "id": "06926c32-880d-48d9-8496-fbc9451cb19d",
   "metadata": {
    "tags": []
   },
   "outputs": [],
   "source": [
    "class Value:\n",
    "    def __init__(self, data):\n",
    "        self.data = data\n",
    "    \n",
    "    def __repr__(self):\n",
    "        return f\"Value(data={self.data})\""
   ]
  },
  {
   "cell_type": "code",
   "execution_count": 7,
   "id": "4cb83868-cdad-4297-8696-41462b839337",
   "metadata": {
    "tags": []
   },
   "outputs": [
    {
     "data": {
      "text/plain": [
       "(Value(data=2.0), Value(data=-3.0))"
      ]
     },
     "execution_count": 7,
     "metadata": {},
     "output_type": "execute_result"
    }
   ],
   "source": [
    "a = Value(2.0)\n",
    "b = Value(-3.0)\n",
    "a, b"
   ]
  },
  {
   "cell_type": "markdown",
   "id": "cb0298b2-d962-4cb9-93a4-451c6be32dc1",
   "metadata": {},
   "source": [
    "Now we want to be able to add 2 value objects:"
   ]
  },
  {
   "cell_type": "code",
   "execution_count": 8,
   "id": "0f20fd26-1936-460e-aa07-70285007b0f3",
   "metadata": {
    "tags": []
   },
   "outputs": [],
   "source": [
    "class Value:\n",
    "    def __init__(self, data):\n",
    "        self.data = data\n",
    "    \n",
    "    def __add__(self, other):\n",
    "        out = Value(self.data + other.data)\n",
    "        return out\n",
    "    \n",
    "    def __repr__(self):\n",
    "        return f\"Value(data={self.data})\""
   ]
  },
  {
   "cell_type": "markdown",
   "id": "6d7af30a-4a43-4db4-9304-63d55b2547e0",
   "metadata": {},
   "source": [
    "NB: when we use `__add__` , Python will call `a.__add__(b)`\n",
    "\n",
    "NB: Remeber, since `data` in `self.data = data` is the actual Python number, the result of `a.__add__(b)` will be a number (a floating point) not a Value object (we're not adding objects, we're adding numbers)."
   ]
  },
  {
   "cell_type": "code",
   "execution_count": 9,
   "id": "bd4e424e-2998-4683-a006-84d7c0be1011",
   "metadata": {
    "tags": []
   },
   "outputs": [
    {
     "data": {
      "text/plain": [
       "Value(data=-1.0)"
      ]
     },
     "execution_count": 9,
     "metadata": {},
     "output_type": "execute_result"
    }
   ],
   "source": [
    "a = Value(2.0)\n",
    "b = Value(-3.0)\n",
    "a + b"
   ]
  },
  {
   "cell_type": "markdown",
   "id": "33a13152-b65c-4cc2-805d-44b7f49520ae",
   "metadata": {},
   "source": [
    "Let's implement multiply:"
   ]
  },
  {
   "cell_type": "code",
   "execution_count": 10,
   "id": "55ba2fd0-485b-4593-9a00-dd88a5a0a166",
   "metadata": {
    "tags": []
   },
   "outputs": [],
   "source": [
    "class Value:\n",
    "    def __init__(self, data):\n",
    "        self.data = data\n",
    "    \n",
    "    def __add__(self, other):\n",
    "        out = Value(self.data + other.data)\n",
    "        return out\n",
    "    \n",
    "    def __mul__(self, other):\n",
    "        out = Value(self.data * other.data)\n",
    "        return out\n",
    "    \n",
    "    def __repr__(self):\n",
    "        return f\"Value(data={self.data})\""
   ]
  },
  {
   "cell_type": "code",
   "execution_count": 11,
   "id": "b09f81c8-2458-428e-8c1d-1a8a08b343de",
   "metadata": {
    "tags": []
   },
   "outputs": [
    {
     "data": {
      "text/plain": [
       "Value(data=-6.0)"
      ]
     },
     "execution_count": 11,
     "metadata": {},
     "output_type": "execute_result"
    }
   ],
   "source": [
    "a = Value(2.0)\n",
    "b = Value(-3.0)\n",
    "c = Value(10.0)\n",
    "a*b"
   ]
  },
  {
   "cell_type": "code",
   "execution_count": 12,
   "id": "bd795b65-e656-473d-aced-d4b06ba499ec",
   "metadata": {
    "tags": []
   },
   "outputs": [
    {
     "data": {
      "text/plain": [
       "Value(data=4.0)"
      ]
     },
     "execution_count": 12,
     "metadata": {},
     "output_type": "execute_result"
    }
   ],
   "source": [
    "d = a*b + c\n",
    "d"
   ]
  },
  {
   "cell_type": "markdown",
   "id": "0ebb0734-8c85-42e3-96ca-7044db514915",
   "metadata": {
    "tags": []
   },
   "source": [
    "This is: `(a.__mul(b)).__add__(c)`"
   ]
  },
  {
   "cell_type": "markdown",
   "id": "842cdd0a-f7f6-4fa0-b2b2-b62183ab289b",
   "metadata": {},
   "source": [
    "Now what we're missing is the connective tissue of this graph. We need to keep track of what values produce other values through pointers."
   ]
  },
  {
   "cell_type": "markdown",
   "id": "0015017e-282f-49cb-b59e-966514469fa3",
   "metadata": {
    "tags": []
   },
   "source": [
    "```\n",
    "class Value:\n",
    "    # we introduce an extra input _children as empty tuple by default\n",
    "    def __init__(self, data, _children=()):\n",
    "        self.data = data\n",
    "        self._prev = set(_children) # we'll add _prev now as a set to maintan children (andrej doesn't remeber why tuple then set but maybe for efficiency \n",
    "    \n",
    "    def __add__(self, other):\n",
    "        out = Value(self.data + other.data, (self, other)) # add children as input\n",
    "        return out\n",
    "    \n",
    "    def __mul__(self, other):\n",
    "        out = Value(self.data * other.data, (self, other)) # add children as input\n",
    "        return out\n",
    "    \n",
    "    def __repr__(self):\n",
    "        return f\"Value(data={self.data})\"\n",
    "```"
   ]
  },
  {
   "cell_type": "code",
   "execution_count": 13,
   "id": "52678af0-c300-4176-8203-19054535f2fe",
   "metadata": {
    "tags": []
   },
   "outputs": [],
   "source": [
    "class Value:\n",
    "    def __init__(self, data, _children=()):\n",
    "        self.data = data\n",
    "        self._prev = set(_children) \n",
    "    \n",
    "    def __add__(self, other):\n",
    "        out = Value(self.data + other.data, (self, other)) \n",
    "        return out\n",
    "    \n",
    "    def __mul__(self, other):\n",
    "        out = Value(self.data * other.data, (self, other))\n",
    "        return out\n",
    "    \n",
    "    def __repr__(self):\n",
    "        return f\"Value(data={self.data})\""
   ]
  },
  {
   "cell_type": "code",
   "execution_count": 14,
   "id": "34585ff7-f244-4a58-9abf-84560b824b95",
   "metadata": {
    "tags": []
   },
   "outputs": [
    {
     "data": {
      "text/plain": [
       "{Value(data=-6.0), Value(data=10.0)}"
      ]
     },
     "execution_count": 14,
     "metadata": {},
     "output_type": "execute_result"
    }
   ],
   "source": [
    "a = Value(2.0)\n",
    "b = Value(-3.0)\n",
    "c = Value(10.0)\n",
    "d = a*b + c\n",
    "d._prev"
   ]
  },
  {
   "cell_type": "markdown",
   "id": "2c127b23-a878-40a0-bbef-d93bb06c63d8",
   "metadata": {},
   "source": [
    "Now, we know what children created each value but we don't know what operation. \n",
    "\n",
    "Similar to how we created children, we'll do one more attribute that we'll call `_op`"
   ]
  },
  {
   "cell_type": "code",
   "execution_count": 15,
   "id": "f98e27a5-939c-497c-8c97-15ee02fc08a8",
   "metadata": {
    "tags": []
   },
   "outputs": [],
   "source": [
    "class Value:\n",
    "    def __init__(self, data, _children=(), _op=''):\n",
    "        self.data = data\n",
    "        self._prev = set(_children) \n",
    "        self._op = _op\n",
    "    \n",
    "    def __add__(self, other):\n",
    "        out = Value(self.data + other.data, (self, other), '+') \n",
    "        return out\n",
    "    \n",
    "    def __mul__(self, other):\n",
    "        out = Value(self.data * other.data, (self, other), '*')\n",
    "        return out\n",
    "    \n",
    "    def __repr__(self):\n",
    "        return f\"Value(data={self.data})\""
   ]
  },
  {
   "cell_type": "code",
   "execution_count": 16,
   "id": "0a8592e3-d2fc-4766-8b2b-741df4b0d6e0",
   "metadata": {
    "tags": []
   },
   "outputs": [
    {
     "data": {
      "text/plain": [
       "'+'"
      ]
     },
     "execution_count": 16,
     "metadata": {},
     "output_type": "execute_result"
    }
   ],
   "source": [
    "a = Value(2.0)\n",
    "b = Value(-3.0)\n",
    "c = Value(10.0)\n",
    "d = a*b + c\n",
    "d._op"
   ]
  },
  {
   "cell_type": "markdown",
   "id": "baea8cdc-1707-457e-ba8e-cb7e352174d1",
   "metadata": {},
   "source": [
    "Now we know how each expression came to be: from what values and through what operation. "
   ]
  },
  {
   "cell_type": "markdown",
   "id": "c315b11b-9ed3-48a9-adb8-424481c14d49",
   "metadata": {},
   "source": [
    "These expressions are about to get large. We need a way to visualize them."
   ]
  },
  {
   "cell_type": "code",
   "execution_count": 17,
   "id": "16526ac7-8c37-420d-a613-0b73a1b48121",
   "metadata": {
    "tags": []
   },
   "outputs": [],
   "source": [
    "# for now, just copying this code\n",
    "\n",
    "from graphviz import Digraph\n",
    "\n",
    "def trace(root):\n",
    "  # builds a set of all nodes and edges in a graph\n",
    "  nodes, edges = set(), set()\n",
    "  def build(v):\n",
    "    if v not in nodes:\n",
    "      nodes.add(v)\n",
    "      for child in v._prev:\n",
    "        edges.add((child, v))\n",
    "        build(child)\n",
    "  build(root)\n",
    "  return nodes, edges\n",
    "\n",
    "def draw_dot(root):\n",
    "  dot = Digraph(format='svg', graph_attr={'rankdir': 'LR'}) # LR = left to right\n",
    "  \n",
    "  nodes, edges = trace(root)\n",
    "  for n in nodes:\n",
    "    uid = str(id(n))\n",
    "    # for any value in the graph, create a rectangular ('record') node for it\n",
    "    dot.node(name = uid, label = \"{ data %.4f }\" % (n.data, ), shape='record')\n",
    "    if n._op:\n",
    "      # if this value is a result of some operation, create an op node for it\n",
    "      dot.node(name = uid + n._op, label = n._op)\n",
    "      # and connect this node to it\n",
    "      dot.edge(uid + n._op, uid)\n",
    "\n",
    "  for n1, n2 in edges:\n",
    "    # connect n1 to the op node of n2\n",
    "    dot.edge(str(id(n1)), str(id(n2)) + n2._op)\n",
    "\n",
    "  return dot"
   ]
  },
  {
   "cell_type": "code",
   "execution_count": 18,
   "id": "7bcfbb84-927e-4a0e-a228-08fe608ee9a5",
   "metadata": {
    "tags": []
   },
   "outputs": [
    {
     "data": {
      "image/svg+xml": [
       "<?xml version=\"1.0\" encoding=\"UTF-8\" standalone=\"no\"?>\n",
       "<!DOCTYPE svg PUBLIC \"-//W3C//DTD SVG 1.1//EN\"\n",
       " \"http://www.w3.org/Graphics/SVG/1.1/DTD/svg11.dtd\">\n",
       "<!-- Generated by graphviz version 7.1.0 (0)\n",
       " -->\n",
       "<!-- Pages: 1 -->\n",
       "<svg width=\"512pt\" height=\"128pt\"\n",
       " viewBox=\"0.00 0.00 512.00 128.00\" xmlns=\"http://www.w3.org/2000/svg\" xmlns:xlink=\"http://www.w3.org/1999/xlink\">\n",
       "<g id=\"graph0\" class=\"graph\" transform=\"scale(1 1) rotate(0) translate(4 124)\">\n",
       "<polygon fill=\"white\" stroke=\"none\" points=\"-4,4 -4,-124 508,-124 508,4 -4,4\"/>\n",
       "<!-- 4476368976 -->\n",
       "<g id=\"node1\" class=\"node\">\n",
       "<title>4476368976</title>\n",
       "<polygon fill=\"none\" stroke=\"black\" points=\"2.5,-83.5 2.5,-119.5 82.5,-119.5 82.5,-83.5 2.5,-83.5\"/>\n",
       "<text text-anchor=\"middle\" x=\"42.5\" y=\"-97.8\" font-family=\"Times,serif\" font-size=\"14.00\">data 2.0000</text>\n",
       "</g>\n",
       "<!-- 4476646160* -->\n",
       "<g id=\"node5\" class=\"node\">\n",
       "<title>4476646160*</title>\n",
       "<ellipse fill=\"none\" stroke=\"black\" cx=\"148\" cy=\"-73.5\" rx=\"27\" ry=\"18\"/>\n",
       "<text text-anchor=\"middle\" x=\"148\" y=\"-69.8\" font-family=\"Times,serif\" font-size=\"14.00\">*</text>\n",
       "</g>\n",
       "<!-- 4476368976&#45;&gt;4476646160* -->\n",
       "<g id=\"edge6\" class=\"edge\">\n",
       "<title>4476368976&#45;&gt;4476646160*</title>\n",
       "<path fill=\"none\" stroke=\"black\" d=\"M82.33,-90.99C91.88,-88.41 102.04,-85.66 111.42,-83.12\"/>\n",
       "<polygon fill=\"black\" stroke=\"black\" points=\"112.18,-86.55 120.92,-80.56 110.35,-79.79 112.18,-86.55\"/>\n",
       "</g>\n",
       "<!-- 4476633872 -->\n",
       "<g id=\"node2\" class=\"node\">\n",
       "<title>4476633872</title>\n",
       "<polygon fill=\"none\" stroke=\"black\" points=\"424,-27.5 424,-63.5 504,-63.5 504,-27.5 424,-27.5\"/>\n",
       "<text text-anchor=\"middle\" x=\"464\" y=\"-41.8\" font-family=\"Times,serif\" font-size=\"14.00\">data 4.0000</text>\n",
       "</g>\n",
       "<!-- 4476633872+ -->\n",
       "<g id=\"node3\" class=\"node\">\n",
       "<title>4476633872+</title>\n",
       "<ellipse fill=\"none\" stroke=\"black\" cx=\"361\" cy=\"-45.5\" rx=\"27\" ry=\"18\"/>\n",
       "<text text-anchor=\"middle\" x=\"361\" y=\"-41.8\" font-family=\"Times,serif\" font-size=\"14.00\">+</text>\n",
       "</g>\n",
       "<!-- 4476633872+&#45;&gt;4476633872 -->\n",
       "<g id=\"edge1\" class=\"edge\">\n",
       "<title>4476633872+&#45;&gt;4476633872</title>\n",
       "<path fill=\"none\" stroke=\"black\" d=\"M388.27,-45.5C395.83,-45.5 404.33,-45.5 412.82,-45.5\"/>\n",
       "<polygon fill=\"black\" stroke=\"black\" points=\"412.79,-49 422.79,-45.5 412.79,-42 412.79,-49\"/>\n",
       "</g>\n",
       "<!-- 4476646160 -->\n",
       "<g id=\"node4\" class=\"node\">\n",
       "<title>4476646160</title>\n",
       "<polygon fill=\"none\" stroke=\"black\" points=\"212,-55.5 212,-91.5 297,-91.5 297,-55.5 212,-55.5\"/>\n",
       "<text text-anchor=\"middle\" x=\"254.5\" y=\"-69.8\" font-family=\"Times,serif\" font-size=\"14.00\">data &#45;6.0000</text>\n",
       "</g>\n",
       "<!-- 4476646160&#45;&gt;4476633872+ -->\n",
       "<g id=\"edge3\" class=\"edge\">\n",
       "<title>4476646160&#45;&gt;4476633872+</title>\n",
       "<path fill=\"none\" stroke=\"black\" d=\"M296.8,-62.43C306.03,-59.96 315.73,-57.36 324.69,-54.96\"/>\n",
       "<polygon fill=\"black\" stroke=\"black\" points=\"325.33,-58.41 334.08,-52.44 323.52,-51.65 325.33,-58.41\"/>\n",
       "</g>\n",
       "<!-- 4476646160*&#45;&gt;4476646160 -->\n",
       "<g id=\"edge2\" class=\"edge\">\n",
       "<title>4476646160*&#45;&gt;4476646160</title>\n",
       "<path fill=\"none\" stroke=\"black\" d=\"M175.37,-73.5C183.11,-73.5 191.85,-73.5 200.62,-73.5\"/>\n",
       "<polygon fill=\"black\" stroke=\"black\" points=\"200.57,-77 210.57,-73.5 200.57,-70 200.57,-77\"/>\n",
       "</g>\n",
       "<!-- 4476369264 -->\n",
       "<g id=\"node6\" class=\"node\">\n",
       "<title>4476369264</title>\n",
       "<polygon fill=\"none\" stroke=\"black\" points=\"211,-0.5 211,-36.5 298,-36.5 298,-0.5 211,-0.5\"/>\n",
       "<text text-anchor=\"middle\" x=\"254.5\" y=\"-14.8\" font-family=\"Times,serif\" font-size=\"14.00\">data 10.0000</text>\n",
       "</g>\n",
       "<!-- 4476369264&#45;&gt;4476633872+ -->\n",
       "<g id=\"edge5\" class=\"edge\">\n",
       "<title>4476369264&#45;&gt;4476633872+</title>\n",
       "<path fill=\"none\" stroke=\"black\" d=\"M297.7,-29.4C306.5,-31.68 315.7,-34.05 324.24,-36.26\"/>\n",
       "<polygon fill=\"black\" stroke=\"black\" points=\"323.36,-39.65 333.92,-38.76 325.11,-32.87 323.36,-39.65\"/>\n",
       "</g>\n",
       "<!-- 4476369312 -->\n",
       "<g id=\"node7\" class=\"node\">\n",
       "<title>4476369312</title>\n",
       "<polygon fill=\"none\" stroke=\"black\" points=\"0,-28.5 0,-64.5 85,-64.5 85,-28.5 0,-28.5\"/>\n",
       "<text text-anchor=\"middle\" x=\"42.5\" y=\"-42.8\" font-family=\"Times,serif\" font-size=\"14.00\">data &#45;3.0000</text>\n",
       "</g>\n",
       "<!-- 4476369312&#45;&gt;4476646160* -->\n",
       "<g id=\"edge4\" class=\"edge\">\n",
       "<title>4476369312&#45;&gt;4476646160*</title>\n",
       "<path fill=\"none\" stroke=\"black\" d=\"M84.7,-57.25C93.56,-59.56 102.85,-61.98 111.47,-64.23\"/>\n",
       "<polygon fill=\"black\" stroke=\"black\" points=\"110.3,-67.54 120.86,-66.68 112.07,-60.77 110.3,-67.54\"/>\n",
       "</g>\n",
       "</g>\n",
       "</svg>\n"
      ],
      "text/plain": [
       "<graphviz.graphs.Digraph at 0x10ad434f0>"
      ]
     },
     "execution_count": 18,
     "metadata": {},
     "output_type": "execute_result"
    }
   ],
   "source": [
    "draw_dot(d)"
   ]
  },
  {
   "cell_type": "markdown",
   "id": "4fcd0551-1914-43c7-a759-1b850cdef250",
   "metadata": {},
   "source": [
    "Let's add labels to nodes: "
   ]
  },
  {
   "cell_type": "code",
   "execution_count": 19,
   "id": "143389a2-13cf-4afb-b0df-46423af91fe0",
   "metadata": {
    "tags": []
   },
   "outputs": [],
   "source": [
    "class Value:\n",
    "    def __init__(self, data, _children=(), _op='', label=''):\n",
    "        self.data = data\n",
    "        self._prev = set(_children) \n",
    "        self._op = _op\n",
    "        self.label = label\n",
    "    \n",
    "    def __add__(self, other):\n",
    "        out = Value(self.data + other.data, (self, other), '+') \n",
    "        return out\n",
    "    \n",
    "    def __mul__(self, other):\n",
    "        out = Value(self.data * other.data, (self, other), '*')\n",
    "        return out\n",
    "    \n",
    "    def __repr__(self):\n",
    "        return f\"Value(data={self.data})\""
   ]
  },
  {
   "cell_type": "code",
   "execution_count": 20,
   "id": "c71352d3-7361-42aa-ac86-7a00e5645cb7",
   "metadata": {
    "tags": []
   },
   "outputs": [
    {
     "data": {
      "text/plain": [
       "Value(data=4.0)"
      ]
     },
     "execution_count": 20,
     "metadata": {},
     "output_type": "execute_result"
    }
   ],
   "source": [
    "a = Value(2.0, label='a')\n",
    "b = Value(-3.0, label='b')\n",
    "c = Value(10.0, label='c')\n",
    "e = a*b; e.label = 'e'\n",
    "d = e + c; d.label = 'd'\n",
    "d"
   ]
  },
  {
   "cell_type": "markdown",
   "id": "22f60f5b-b417-48c8-9b64-f80c01d900c1",
   "metadata": {},
   "source": [
    "And modify graphviz to display them:"
   ]
  },
  {
   "cell_type": "code",
   "execution_count": 21,
   "id": "a153a796-ff2e-4be2-a003-d075b5ce0bca",
   "metadata": {
    "tags": []
   },
   "outputs": [],
   "source": [
    "# for now, just copying this code\n",
    "\n",
    "from graphviz import Digraph\n",
    "\n",
    "def trace(root):\n",
    "  # builds a set of all nodes and edges in a graph\n",
    "  nodes, edges = set(), set()\n",
    "  def build(v):\n",
    "    if v not in nodes:\n",
    "      nodes.add(v)\n",
    "      for child in v._prev:\n",
    "        edges.add((child, v))\n",
    "        build(child)\n",
    "  build(root)\n",
    "  return nodes, edges\n",
    "\n",
    "def draw_dot(root):\n",
    "  dot = Digraph(format='svg', graph_attr={'rankdir': 'LR'}) # LR = left to right\n",
    "  \n",
    "  nodes, edges = trace(root)\n",
    "  for n in nodes:\n",
    "    uid = str(id(n))\n",
    "    # for any value in the graph, create a rectangular ('record') node for it\n",
    "    dot.node(name = uid, label = \"{ %s | data %.4f }\" % (n.label, n.data, ), shape='record')\n",
    "    if n._op:\n",
    "      # if this value is a result of some operation, create an op node for it\n",
    "      dot.node(name = uid + n._op, label = n._op)\n",
    "      # and connect this node to it\n",
    "      dot.edge(uid + n._op, uid)\n",
    "\n",
    "  for n1, n2 in edges:\n",
    "    # connect n1 to the op node of n2\n",
    "    dot.edge(str(id(n1)), str(id(n2)) + n2._op)\n",
    "\n",
    "  return dot"
   ]
  },
  {
   "cell_type": "code",
   "execution_count": 22,
   "id": "97ec048f-984a-4142-ad04-7dc2de52961f",
   "metadata": {
    "tags": []
   },
   "outputs": [
    {
     "data": {
      "image/svg+xml": [
       "<?xml version=\"1.0\" encoding=\"UTF-8\" standalone=\"no\"?>\n",
       "<!DOCTYPE svg PUBLIC \"-//W3C//DTD SVG 1.1//EN\"\n",
       " \"http://www.w3.org/Graphics/SVG/1.1/DTD/svg11.dtd\">\n",
       "<!-- Generated by graphviz version 7.1.0 (0)\n",
       " -->\n",
       "<!-- Pages: 1 -->\n",
       "<svg width=\"581pt\" height=\"127pt\"\n",
       " viewBox=\"0.00 0.00 581.00 127.00\" xmlns=\"http://www.w3.org/2000/svg\" xmlns:xlink=\"http://www.w3.org/1999/xlink\">\n",
       "<g id=\"graph0\" class=\"graph\" transform=\"scale(1 1) rotate(0) translate(4 123)\">\n",
       "<polygon fill=\"white\" stroke=\"none\" points=\"-4,4 -4,-123 577,-123 577,4 -4,4\"/>\n",
       "<!-- 4476643184 -->\n",
       "<g id=\"node1\" class=\"node\">\n",
       "<title>4476643184</title>\n",
       "<polygon fill=\"none\" stroke=\"black\" points=\"470,-54.5 470,-90.5 573,-90.5 573,-54.5 470,-54.5\"/>\n",
       "<text text-anchor=\"middle\" x=\"481.5\" y=\"-68.8\" font-family=\"Times,serif\" font-size=\"14.00\">d</text>\n",
       "<polyline fill=\"none\" stroke=\"black\" points=\"493,-54.5 493,-90.5\"/>\n",
       "<text text-anchor=\"middle\" x=\"533\" y=\"-68.8\" font-family=\"Times,serif\" font-size=\"14.00\">data 4.0000</text>\n",
       "</g>\n",
       "<!-- 4476643184+ -->\n",
       "<g id=\"node2\" class=\"node\">\n",
       "<title>4476643184+</title>\n",
       "<ellipse fill=\"none\" stroke=\"black\" cx=\"407\" cy=\"-72.5\" rx=\"27\" ry=\"18\"/>\n",
       "<text text-anchor=\"middle\" x=\"407\" y=\"-68.8\" font-family=\"Times,serif\" font-size=\"14.00\">+</text>\n",
       "</g>\n",
       "<!-- 4476643184+&#45;&gt;4476643184 -->\n",
       "<g id=\"edge1\" class=\"edge\">\n",
       "<title>4476643184+&#45;&gt;4476643184</title>\n",
       "<path fill=\"none\" stroke=\"black\" d=\"M434.38,-72.5C441.87,-72.5 450.37,-72.5 459.03,-72.5\"/>\n",
       "<polygon fill=\"black\" stroke=\"black\" points=\"458.92,-76 468.92,-72.5 458.92,-69 458.92,-76\"/>\n",
       "</g>\n",
       "<!-- 4476635936 -->\n",
       "<g id=\"node3\" class=\"node\">\n",
       "<title>4476635936</title>\n",
       "<polygon fill=\"none\" stroke=\"black\" points=\"234,-82.5 234,-118.5 344,-118.5 344,-82.5 234,-82.5\"/>\n",
       "<text text-anchor=\"middle\" x=\"245.5\" y=\"-96.8\" font-family=\"Times,serif\" font-size=\"14.00\">c</text>\n",
       "<polyline fill=\"none\" stroke=\"black\" points=\"257,-82.5 257,-118.5\"/>\n",
       "<text text-anchor=\"middle\" x=\"300.5\" y=\"-96.8\" font-family=\"Times,serif\" font-size=\"14.00\">data 10.0000</text>\n",
       "</g>\n",
       "<!-- 4476635936&#45;&gt;4476643184+ -->\n",
       "<g id=\"edge3\" class=\"edge\">\n",
       "<title>4476635936&#45;&gt;4476643184+</title>\n",
       "<path fill=\"none\" stroke=\"black\" d=\"M343.92,-87.48C352.77,-85.35 361.75,-83.18 370.02,-81.19\"/>\n",
       "<polygon fill=\"black\" stroke=\"black\" points=\"370.79,-84.6 379.69,-78.85 369.15,-77.8 370.79,-84.6\"/>\n",
       "</g>\n",
       "<!-- 4476638576 -->\n",
       "<g id=\"node4\" class=\"node\">\n",
       "<title>4476638576</title>\n",
       "<polygon fill=\"none\" stroke=\"black\" points=\"0,-55.5 0,-91.5 108,-91.5 108,-55.5 0,-55.5\"/>\n",
       "<text text-anchor=\"middle\" x=\"11.5\" y=\"-69.8\" font-family=\"Times,serif\" font-size=\"14.00\">b</text>\n",
       "<polyline fill=\"none\" stroke=\"black\" points=\"23,-55.5 23,-91.5\"/>\n",
       "<text text-anchor=\"middle\" x=\"65.5\" y=\"-69.8\" font-family=\"Times,serif\" font-size=\"14.00\">data &#45;3.0000</text>\n",
       "</g>\n",
       "<!-- 4476644240* -->\n",
       "<g id=\"node6\" class=\"node\">\n",
       "<title>4476644240*</title>\n",
       "<ellipse fill=\"none\" stroke=\"black\" cx=\"171\" cy=\"-45.5\" rx=\"27\" ry=\"18\"/>\n",
       "<text text-anchor=\"middle\" x=\"171\" y=\"-41.8\" font-family=\"Times,serif\" font-size=\"14.00\">*</text>\n",
       "</g>\n",
       "<!-- 4476638576&#45;&gt;4476644240* -->\n",
       "<g id=\"edge5\" class=\"edge\">\n",
       "<title>4476638576&#45;&gt;4476644240*</title>\n",
       "<path fill=\"none\" stroke=\"black\" d=\"M107.79,-60.65C116.62,-58.5 125.6,-56.31 133.88,-54.29\"/>\n",
       "<polygon fill=\"black\" stroke=\"black\" points=\"134.69,-57.7 143.58,-51.93 133.04,-50.9 134.69,-57.7\"/>\n",
       "</g>\n",
       "<!-- 4476644240 -->\n",
       "<g id=\"node5\" class=\"node\">\n",
       "<title>4476644240</title>\n",
       "<polygon fill=\"none\" stroke=\"black\" points=\"235,-27.5 235,-63.5 343,-63.5 343,-27.5 235,-27.5\"/>\n",
       "<text text-anchor=\"middle\" x=\"246.5\" y=\"-41.8\" font-family=\"Times,serif\" font-size=\"14.00\">e</text>\n",
       "<polyline fill=\"none\" stroke=\"black\" points=\"258,-27.5 258,-63.5\"/>\n",
       "<text text-anchor=\"middle\" x=\"300.5\" y=\"-41.8\" font-family=\"Times,serif\" font-size=\"14.00\">data &#45;6.0000</text>\n",
       "</g>\n",
       "<!-- 4476644240&#45;&gt;4476643184+ -->\n",
       "<g id=\"edge4\" class=\"edge\">\n",
       "<title>4476644240&#45;&gt;4476643184+</title>\n",
       "<path fill=\"none\" stroke=\"black\" d=\"M342.91,-57.81C352.03,-59.94 361.32,-62.1 369.86,-64.09\"/>\n",
       "<polygon fill=\"black\" stroke=\"black\" points=\"368.97,-67.47 379.5,-66.33 370.55,-60.66 368.97,-67.47\"/>\n",
       "</g>\n",
       "<!-- 4476644240*&#45;&gt;4476644240 -->\n",
       "<g id=\"edge2\" class=\"edge\">\n",
       "<title>4476644240*&#45;&gt;4476644240</title>\n",
       "<path fill=\"none\" stroke=\"black\" d=\"M198.32,-45.5C206.03,-45.5 214.82,-45.5 223.8,-45.5\"/>\n",
       "<polygon fill=\"black\" stroke=\"black\" points=\"223.71,-49 233.71,-45.5 223.71,-42 223.71,-49\"/>\n",
       "</g>\n",
       "<!-- 4476646880 -->\n",
       "<g id=\"node7\" class=\"node\">\n",
       "<title>4476646880</title>\n",
       "<polygon fill=\"none\" stroke=\"black\" points=\"2.5,-0.5 2.5,-36.5 105.5,-36.5 105.5,-0.5 2.5,-0.5\"/>\n",
       "<text text-anchor=\"middle\" x=\"14\" y=\"-14.8\" font-family=\"Times,serif\" font-size=\"14.00\">a</text>\n",
       "<polyline fill=\"none\" stroke=\"black\" points=\"25.5,-0.5 25.5,-36.5\"/>\n",
       "<text text-anchor=\"middle\" x=\"65.5\" y=\"-14.8\" font-family=\"Times,serif\" font-size=\"14.00\">data 2.0000</text>\n",
       "</g>\n",
       "<!-- 4476646880&#45;&gt;4476644240* -->\n",
       "<g id=\"edge6\" class=\"edge\">\n",
       "<title>4476646880&#45;&gt;4476644240*</title>\n",
       "<path fill=\"none\" stroke=\"black\" d=\"M105.44,-30.34C115.12,-32.61 125.06,-34.95 134.16,-37.09\"/>\n",
       "<polygon fill=\"black\" stroke=\"black\" points=\"133.14,-40.44 143.67,-39.32 134.74,-33.63 133.14,-40.44\"/>\n",
       "</g>\n",
       "</g>\n",
       "</svg>\n"
      ],
      "text/plain": [
       "<graphviz.graphs.Digraph at 0x10ad41e70>"
      ]
     },
     "execution_count": 22,
     "metadata": {},
     "output_type": "execute_result"
    }
   ],
   "source": [
    "draw_dot(d)"
   ]
  },
  {
   "cell_type": "code",
   "execution_count": 23,
   "id": "17b52169-4721-47e7-b625-10dba09958e7",
   "metadata": {
    "tags": []
   },
   "outputs": [
    {
     "data": {
      "text/plain": [
       "Value(data=-8.0)"
      ]
     },
     "execution_count": 23,
     "metadata": {},
     "output_type": "execute_result"
    }
   ],
   "source": [
    "# let's add one more variable to the graph \n",
    "a = Value(2.0, label='a')\n",
    "b = Value(-3.0, label='b')\n",
    "c = Value(10.0, label='c')\n",
    "e = a*b; e.label = 'e'\n",
    "d = e + c; d.label = 'd'\n",
    "f = Value(-2.0, label='f')\n",
    "L = d * f #output of graph\n",
    "L.label = 'L'\n",
    "L"
   ]
  },
  {
   "cell_type": "code",
   "execution_count": 24,
   "id": "2f331a63-485c-456f-9a08-49fd2d3f2473",
   "metadata": {
    "tags": []
   },
   "outputs": [
    {
     "data": {
      "image/svg+xml": [
       "<?xml version=\"1.0\" encoding=\"UTF-8\" standalone=\"no\"?>\n",
       "<!DOCTYPE svg PUBLIC \"-//W3C//DTD SVG 1.1//EN\"\n",
       " \"http://www.w3.org/Graphics/SVG/1.1/DTD/svg11.dtd\">\n",
       "<!-- Generated by graphviz version 7.1.0 (0)\n",
       " -->\n",
       "<!-- Pages: 1 -->\n",
       "<svg width=\"820pt\" height=\"156pt\"\n",
       " viewBox=\"0.00 0.00 820.00 156.00\" xmlns=\"http://www.w3.org/2000/svg\" xmlns:xlink=\"http://www.w3.org/1999/xlink\">\n",
       "<g id=\"graph0\" class=\"graph\" transform=\"scale(1 1) rotate(0) translate(4 152)\">\n",
       "<polygon fill=\"white\" stroke=\"none\" points=\"-4,4 -4,-152 816,-152 816,4 -4,4\"/>\n",
       "<!-- 4476648560 -->\n",
       "<g id=\"node1\" class=\"node\">\n",
       "<title>4476648560</title>\n",
       "<polygon fill=\"none\" stroke=\"black\" points=\"2.5,-111.5 2.5,-147.5 105.5,-147.5 105.5,-111.5 2.5,-111.5\"/>\n",
       "<text text-anchor=\"middle\" x=\"14\" y=\"-125.8\" font-family=\"Times,serif\" font-size=\"14.00\">a</text>\n",
       "<polyline fill=\"none\" stroke=\"black\" points=\"25.5,-111.5 25.5,-147.5\"/>\n",
       "<text text-anchor=\"middle\" x=\"65.5\" y=\"-125.8\" font-family=\"Times,serif\" font-size=\"14.00\">data 2.0000</text>\n",
       "</g>\n",
       "<!-- 4476648416* -->\n",
       "<g id=\"node10\" class=\"node\">\n",
       "<title>4476648416*</title>\n",
       "<ellipse fill=\"none\" stroke=\"black\" cx=\"171\" cy=\"-101.5\" rx=\"27\" ry=\"18\"/>\n",
       "<text text-anchor=\"middle\" x=\"171\" y=\"-97.8\" font-family=\"Times,serif\" font-size=\"14.00\">*</text>\n",
       "</g>\n",
       "<!-- 4476648560&#45;&gt;4476648416* -->\n",
       "<g id=\"edge4\" class=\"edge\">\n",
       "<title>4476648560&#45;&gt;4476648416*</title>\n",
       "<path fill=\"none\" stroke=\"black\" d=\"M105.44,-117.22C115.12,-114.86 125.06,-112.44 134.16,-110.23\"/>\n",
       "<polygon fill=\"black\" stroke=\"black\" points=\"134.79,-113.68 143.68,-107.91 133.13,-106.87 134.79,-113.68\"/>\n",
       "</g>\n",
       "<!-- 4476642992 -->\n",
       "<g id=\"node2\" class=\"node\">\n",
       "<title>4476642992</title>\n",
       "<polygon fill=\"none\" stroke=\"black\" points=\"234,-28.5 234,-64.5 344,-64.5 344,-28.5 234,-28.5\"/>\n",
       "<text text-anchor=\"middle\" x=\"245.5\" y=\"-42.8\" font-family=\"Times,serif\" font-size=\"14.00\">c</text>\n",
       "<polyline fill=\"none\" stroke=\"black\" points=\"257,-28.5 257,-64.5\"/>\n",
       "<text text-anchor=\"middle\" x=\"300.5\" y=\"-42.8\" font-family=\"Times,serif\" font-size=\"14.00\">data 10.0000</text>\n",
       "</g>\n",
       "<!-- 4476634496+ -->\n",
       "<g id=\"node7\" class=\"node\">\n",
       "<title>4476634496+</title>\n",
       "<ellipse fill=\"none\" stroke=\"black\" cx=\"407\" cy=\"-73.5\" rx=\"27\" ry=\"18\"/>\n",
       "<text text-anchor=\"middle\" x=\"407\" y=\"-69.8\" font-family=\"Times,serif\" font-size=\"14.00\">+</text>\n",
       "</g>\n",
       "<!-- 4476642992&#45;&gt;4476634496+ -->\n",
       "<g id=\"edge6\" class=\"edge\">\n",
       "<title>4476642992&#45;&gt;4476634496+</title>\n",
       "<path fill=\"none\" stroke=\"black\" d=\"M343.92,-59.05C352.77,-61.11 361.75,-63.2 370.02,-65.12\"/>\n",
       "<polygon fill=\"black\" stroke=\"black\" points=\"369.15,-68.52 379.69,-67.38 370.74,-61.7 369.15,-68.52\"/>\n",
       "</g>\n",
       "<!-- 4476644096 -->\n",
       "<g id=\"node3\" class=\"node\">\n",
       "<title>4476644096</title>\n",
       "<polygon fill=\"none\" stroke=\"black\" points=\"470,-0.5 470,-36.5 576,-36.5 576,-0.5 470,-0.5\"/>\n",
       "<text text-anchor=\"middle\" x=\"480.5\" y=\"-14.8\" font-family=\"Times,serif\" font-size=\"14.00\">f</text>\n",
       "<polyline fill=\"none\" stroke=\"black\" points=\"491,-0.5 491,-36.5\"/>\n",
       "<text text-anchor=\"middle\" x=\"533.5\" y=\"-14.8\" font-family=\"Times,serif\" font-size=\"14.00\">data &#45;2.0000</text>\n",
       "</g>\n",
       "<!-- 4476634400* -->\n",
       "<g id=\"node5\" class=\"node\">\n",
       "<title>4476634400*</title>\n",
       "<ellipse fill=\"none\" stroke=\"black\" cx=\"639\" cy=\"-45.5\" rx=\"27\" ry=\"18\"/>\n",
       "<text text-anchor=\"middle\" x=\"639\" y=\"-41.8\" font-family=\"Times,serif\" font-size=\"14.00\">*</text>\n",
       "</g>\n",
       "<!-- 4476644096&#45;&gt;4476634400* -->\n",
       "<g id=\"edge8\" class=\"edge\">\n",
       "<title>4476644096&#45;&gt;4476634400*</title>\n",
       "<path fill=\"none\" stroke=\"black\" d=\"M576,-30.81C584.78,-32.89 593.72,-35.01 601.98,-36.97\"/>\n",
       "<polygon fill=\"black\" stroke=\"black\" points=\"601.1,-40.36 611.63,-39.26 602.71,-33.55 601.1,-40.36\"/>\n",
       "</g>\n",
       "<!-- 4476634400 -->\n",
       "<g id=\"node4\" class=\"node\">\n",
       "<title>4476634400</title>\n",
       "<polygon fill=\"none\" stroke=\"black\" points=\"702,-27.5 702,-63.5 812,-63.5 812,-27.5 702,-27.5\"/>\n",
       "<text text-anchor=\"middle\" x=\"714.5\" y=\"-41.8\" font-family=\"Times,serif\" font-size=\"14.00\">L</text>\n",
       "<polyline fill=\"none\" stroke=\"black\" points=\"727,-27.5 727,-63.5\"/>\n",
       "<text text-anchor=\"middle\" x=\"769.5\" y=\"-41.8\" font-family=\"Times,serif\" font-size=\"14.00\">data &#45;8.0000</text>\n",
       "</g>\n",
       "<!-- 4476634400*&#45;&gt;4476634400 -->\n",
       "<g id=\"edge1\" class=\"edge\">\n",
       "<title>4476634400*&#45;&gt;4476634400</title>\n",
       "<path fill=\"none\" stroke=\"black\" d=\"M666.32,-45.5C673.76,-45.5 682.2,-45.5 690.85,-45.5\"/>\n",
       "<polygon fill=\"black\" stroke=\"black\" points=\"690.77,-49 700.77,-45.5 690.77,-42 690.77,-49\"/>\n",
       "</g>\n",
       "<!-- 4476634496 -->\n",
       "<g id=\"node6\" class=\"node\">\n",
       "<title>4476634496</title>\n",
       "<polygon fill=\"none\" stroke=\"black\" points=\"471.5,-55.5 471.5,-91.5 574.5,-91.5 574.5,-55.5 471.5,-55.5\"/>\n",
       "<text text-anchor=\"middle\" x=\"483\" y=\"-69.8\" font-family=\"Times,serif\" font-size=\"14.00\">d</text>\n",
       "<polyline fill=\"none\" stroke=\"black\" points=\"494.5,-55.5 494.5,-91.5\"/>\n",
       "<text text-anchor=\"middle\" x=\"534.5\" y=\"-69.8\" font-family=\"Times,serif\" font-size=\"14.00\">data 4.0000</text>\n",
       "</g>\n",
       "<!-- 4476634496&#45;&gt;4476634400* -->\n",
       "<g id=\"edge7\" class=\"edge\">\n",
       "<title>4476634496&#45;&gt;4476634400*</title>\n",
       "<path fill=\"none\" stroke=\"black\" d=\"M574.33,-61.14C583.71,-58.84 593.32,-56.47 602.15,-54.3\"/>\n",
       "<polygon fill=\"black\" stroke=\"black\" points=\"602.87,-57.73 611.75,-51.95 601.2,-50.93 602.87,-57.73\"/>\n",
       "</g>\n",
       "<!-- 4476634496+&#45;&gt;4476634496 -->\n",
       "<g id=\"edge2\" class=\"edge\">\n",
       "<title>4476634496+&#45;&gt;4476634496</title>\n",
       "<path fill=\"none\" stroke=\"black\" d=\"M434.44,-73.5C442.21,-73.5 451.06,-73.5 460.07,-73.5\"/>\n",
       "<polygon fill=\"black\" stroke=\"black\" points=\"459.99,-77 469.99,-73.5 459.99,-70 459.99,-77\"/>\n",
       "</g>\n",
       "<!-- 4476646304 -->\n",
       "<g id=\"node8\" class=\"node\">\n",
       "<title>4476646304</title>\n",
       "<polygon fill=\"none\" stroke=\"black\" points=\"0,-56.5 0,-92.5 108,-92.5 108,-56.5 0,-56.5\"/>\n",
       "<text text-anchor=\"middle\" x=\"11.5\" y=\"-70.8\" font-family=\"Times,serif\" font-size=\"14.00\">b</text>\n",
       "<polyline fill=\"none\" stroke=\"black\" points=\"23,-56.5 23,-92.5\"/>\n",
       "<text text-anchor=\"middle\" x=\"65.5\" y=\"-70.8\" font-family=\"Times,serif\" font-size=\"14.00\">data &#45;3.0000</text>\n",
       "</g>\n",
       "<!-- 4476646304&#45;&gt;4476648416* -->\n",
       "<g id=\"edge5\" class=\"edge\">\n",
       "<title>4476646304&#45;&gt;4476648416*</title>\n",
       "<path fill=\"none\" stroke=\"black\" d=\"M107.79,-86.89C116.62,-88.97 125.6,-91.07 133.88,-93.02\"/>\n",
       "<polygon fill=\"black\" stroke=\"black\" points=\"133.04,-96.42 143.58,-95.3 134.64,-89.6 133.04,-96.42\"/>\n",
       "</g>\n",
       "<!-- 4476648416 -->\n",
       "<g id=\"node9\" class=\"node\">\n",
       "<title>4476648416</title>\n",
       "<polygon fill=\"none\" stroke=\"black\" points=\"235,-83.5 235,-119.5 343,-119.5 343,-83.5 235,-83.5\"/>\n",
       "<text text-anchor=\"middle\" x=\"246.5\" y=\"-97.8\" font-family=\"Times,serif\" font-size=\"14.00\">e</text>\n",
       "<polyline fill=\"none\" stroke=\"black\" points=\"258,-83.5 258,-119.5\"/>\n",
       "<text text-anchor=\"middle\" x=\"300.5\" y=\"-97.8\" font-family=\"Times,serif\" font-size=\"14.00\">data &#45;6.0000</text>\n",
       "</g>\n",
       "<!-- 4476648416&#45;&gt;4476634496+ -->\n",
       "<g id=\"edge9\" class=\"edge\">\n",
       "<title>4476648416&#45;&gt;4476634496+</title>\n",
       "<path fill=\"none\" stroke=\"black\" d=\"M342.91,-88.73C352.11,-86.51 361.48,-84.25 370.09,-82.17\"/>\n",
       "<polygon fill=\"black\" stroke=\"black\" points=\"370.9,-85.57 379.8,-79.82 369.26,-78.77 370.9,-85.57\"/>\n",
       "</g>\n",
       "<!-- 4476648416*&#45;&gt;4476648416 -->\n",
       "<g id=\"edge3\" class=\"edge\">\n",
       "<title>4476648416*&#45;&gt;4476648416</title>\n",
       "<path fill=\"none\" stroke=\"black\" d=\"M198.32,-101.5C206.03,-101.5 214.82,-101.5 223.8,-101.5\"/>\n",
       "<polygon fill=\"black\" stroke=\"black\" points=\"223.71,-105 233.71,-101.5 223.71,-98 223.71,-105\"/>\n",
       "</g>\n",
       "</g>\n",
       "</svg>\n"
      ],
      "text/plain": [
       "<graphviz.graphs.Digraph at 0x10ad42d70>"
      ]
     },
     "execution_count": 24,
     "metadata": {},
     "output_type": "execute_result"
    }
   ],
   "source": [
    "draw_dot(L)"
   ]
  },
  {
   "cell_type": "markdown",
   "id": "50f1feda-8bd6-4fb6-8b74-45bcf98f93e7",
   "metadata": {},
   "source": [
    "Now, we're able to build this forward pass - mathematical expressions using only + and * for the time. \n",
    "\n",
    "What we'd like to do next is to run backpropagation: start at L and compute the gradient for all the intermediate values (wrt L) (these will eventually represent weights of NN). "
   ]
  },
  {
   "cell_type": "markdown",
   "id": "fa541386-6dfb-4240-a375-1a41699b1365",
   "metadata": {},
   "source": [
    "#### Building Backpropagation:"
   ]
  },
  {
   "cell_type": "markdown",
   "id": "2c0c4212-b5f5-437d-a3eb-1c60493b0ab4",
   "metadata": {},
   "source": [
    "The main derivative we want to compute is the derivative of the output (in this case L) w.r.t each node. We'll start by creating an attribute `grad` to store it. We'll also modify `draw_dot` to visualize it:"
   ]
  },
  {
   "cell_type": "code",
   "execution_count": 25,
   "id": "d1540d1e-2c82-40a2-a11b-c03aa7635a56",
   "metadata": {
    "tags": []
   },
   "outputs": [],
   "source": [
    "class Value:\n",
    "    def __init__(self, data, _children=(), _op='', label=''):\n",
    "        self.data = data\n",
    "        self.grad = 0.0 # we're assuming by default no effect of input on output -> 0 derivative\n",
    "        self._prev = set(_children) \n",
    "        self._op = _op\n",
    "        self.label = label\n",
    "    \n",
    "    def __add__(self, other):\n",
    "        out = Value(self.data + other.data, (self, other), '+') \n",
    "        return out\n",
    "    \n",
    "    def __mul__(self, other):\n",
    "        out = Value(self.data * other.data, (self, other), '*')\n",
    "        return out\n",
    "    \n",
    "    def __repr__(self):\n",
    "        return f\"Value(data={self.data})\""
   ]
  },
  {
   "cell_type": "code",
   "execution_count": 26,
   "id": "98ba4e83-64e7-411c-a6a4-db38273bb0a4",
   "metadata": {
    "tags": []
   },
   "outputs": [],
   "source": [
    "from graphviz import Digraph\n",
    "\n",
    "def trace(root):\n",
    "  # builds a set of all nodes and edges in a graph\n",
    "  nodes, edges = set(), set()\n",
    "  def build(v):\n",
    "    if v not in nodes:\n",
    "      nodes.add(v)\n",
    "      for child in v._prev:\n",
    "        edges.add((child, v))\n",
    "        build(child)\n",
    "  build(root)\n",
    "  return nodes, edges\n",
    "\n",
    "def draw_dot(root):\n",
    "  dot = Digraph(format='svg', graph_attr={'rankdir': 'LR'}) # LR = left to right\n",
    "  \n",
    "  nodes, edges = trace(root)\n",
    "  for n in nodes:\n",
    "    uid = str(id(n))\n",
    "    # for any value in the graph, create a rectangular ('record') node for it\n",
    "    dot.node(name = uid, label = \"{ %s | data %.4f | grad %.4f }\" % (n.label, n.data, n.grad), shape='record')\n",
    "    if n._op:\n",
    "      # if this value is a result of some operation, create an op node for it\n",
    "      dot.node(name = uid + n._op, label = n._op)\n",
    "      # and connect this node to it\n",
    "      dot.edge(uid + n._op, uid)\n",
    "\n",
    "  for n1, n2 in edges:\n",
    "    # connect n1 to the op node of n2\n",
    "    dot.edge(str(id(n1)), str(id(n2)) + n2._op)\n",
    "\n",
    "  return dot"
   ]
  },
  {
   "cell_type": "code",
   "execution_count": 27,
   "id": "c57edef4-51ce-4b30-bb1e-733a6735805f",
   "metadata": {
    "tags": []
   },
   "outputs": [
    {
     "data": {
      "image/svg+xml": [
       "<?xml version=\"1.0\" encoding=\"UTF-8\" standalone=\"no\"?>\n",
       "<!DOCTYPE svg PUBLIC \"-//W3C//DTD SVG 1.1//EN\"\n",
       " \"http://www.w3.org/Graphics/SVG/1.1/DTD/svg11.dtd\">\n",
       "<!-- Generated by graphviz version 7.1.0 (0)\n",
       " -->\n",
       "<!-- Pages: 1 -->\n",
       "<svg width=\"1148pt\" height=\"154pt\"\n",
       " viewBox=\"0.00 0.00 1148.00 154.00\" xmlns=\"http://www.w3.org/2000/svg\" xmlns:xlink=\"http://www.w3.org/1999/xlink\">\n",
       "<g id=\"graph0\" class=\"graph\" transform=\"scale(1 1) rotate(0) translate(4 150)\">\n",
       "<polygon fill=\"white\" stroke=\"none\" points=\"-4,4 -4,-150 1144,-150 1144,4 -4,4\"/>\n",
       "<!-- 4505092736 -->\n",
       "<g id=\"node1\" class=\"node\">\n",
       "<title>4505092736</title>\n",
       "<polygon fill=\"none\" stroke=\"black\" points=\"634,-109.5 634,-145.5 822,-145.5 822,-109.5 634,-109.5\"/>\n",
       "<text text-anchor=\"middle\" x=\"644.5\" y=\"-123.8\" font-family=\"Times,serif\" font-size=\"14.00\">f</text>\n",
       "<polyline fill=\"none\" stroke=\"black\" points=\"655,-109.5 655,-145.5\"/>\n",
       "<text text-anchor=\"middle\" x=\"697.5\" y=\"-123.8\" font-family=\"Times,serif\" font-size=\"14.00\">data &#45;2.0000</text>\n",
       "<polyline fill=\"none\" stroke=\"black\" points=\"740,-109.5 740,-145.5\"/>\n",
       "<text text-anchor=\"middle\" x=\"781\" y=\"-123.8\" font-family=\"Times,serif\" font-size=\"14.00\">grad 0.0000</text>\n",
       "</g>\n",
       "<!-- 4505106272* -->\n",
       "<g id=\"node8\" class=\"node\">\n",
       "<title>4505106272*</title>\n",
       "<ellipse fill=\"none\" stroke=\"black\" cx=\"885\" cy=\"-99.5\" rx=\"27\" ry=\"18\"/>\n",
       "<text text-anchor=\"middle\" x=\"885\" y=\"-95.8\" font-family=\"Times,serif\" font-size=\"14.00\">*</text>\n",
       "</g>\n",
       "<!-- 4505092736&#45;&gt;4505106272* -->\n",
       "<g id=\"edge5\" class=\"edge\">\n",
       "<title>4505092736&#45;&gt;4505106272*</title>\n",
       "<path fill=\"none\" stroke=\"black\" d=\"M821.85,-110.73C830.75,-109.12 839.38,-107.56 847.22,-106.14\"/>\n",
       "<polygon fill=\"black\" stroke=\"black\" points=\"847.76,-109.6 856.98,-104.38 846.52,-102.71 847.76,-109.6\"/>\n",
       "</g>\n",
       "<!-- 4505096864 -->\n",
       "<g id=\"node2\" class=\"node\">\n",
       "<title>4505096864</title>\n",
       "<polygon fill=\"none\" stroke=\"black\" points=\"0,-55.5 0,-91.5 190,-91.5 190,-55.5 0,-55.5\"/>\n",
       "<text text-anchor=\"middle\" x=\"11.5\" y=\"-69.8\" font-family=\"Times,serif\" font-size=\"14.00\">b</text>\n",
       "<polyline fill=\"none\" stroke=\"black\" points=\"23,-55.5 23,-91.5\"/>\n",
       "<text text-anchor=\"middle\" x=\"65.5\" y=\"-69.8\" font-family=\"Times,serif\" font-size=\"14.00\">data &#45;3.0000</text>\n",
       "<polyline fill=\"none\" stroke=\"black\" points=\"108,-55.5 108,-91.5\"/>\n",
       "<text text-anchor=\"middle\" x=\"149\" y=\"-69.8\" font-family=\"Times,serif\" font-size=\"14.00\">grad 0.0000</text>\n",
       "</g>\n",
       "<!-- 4505106800* -->\n",
       "<g id=\"node10\" class=\"node\">\n",
       "<title>4505106800*</title>\n",
       "<ellipse fill=\"none\" stroke=\"black\" cx=\"253\" cy=\"-45.5\" rx=\"27\" ry=\"18\"/>\n",
       "<text text-anchor=\"middle\" x=\"253\" y=\"-41.8\" font-family=\"Times,serif\" font-size=\"14.00\">*</text>\n",
       "</g>\n",
       "<!-- 4505096864&#45;&gt;4505106800* -->\n",
       "<g id=\"edge4\" class=\"edge\">\n",
       "<title>4505096864&#45;&gt;4505106800*</title>\n",
       "<path fill=\"none\" stroke=\"black\" d=\"M189.9,-56.65C198.81,-55.05 207.43,-53.5 215.28,-52.09\"/>\n",
       "<polygon fill=\"black\" stroke=\"black\" points=\"215.8,-55.55 225.02,-50.34 214.56,-48.66 215.8,-55.55\"/>\n",
       "</g>\n",
       "<!-- 4505092832 -->\n",
       "<g id=\"node3\" class=\"node\">\n",
       "<title>4505092832</title>\n",
       "<polygon fill=\"none\" stroke=\"black\" points=\"635.5,-54.5 635.5,-90.5 820.5,-90.5 820.5,-54.5 635.5,-54.5\"/>\n",
       "<text text-anchor=\"middle\" x=\"647\" y=\"-68.8\" font-family=\"Times,serif\" font-size=\"14.00\">d</text>\n",
       "<polyline fill=\"none\" stroke=\"black\" points=\"658.5,-54.5 658.5,-90.5\"/>\n",
       "<text text-anchor=\"middle\" x=\"698.5\" y=\"-68.8\" font-family=\"Times,serif\" font-size=\"14.00\">data 4.0000</text>\n",
       "<polyline fill=\"none\" stroke=\"black\" points=\"738.5,-54.5 738.5,-90.5\"/>\n",
       "<text text-anchor=\"middle\" x=\"779.5\" y=\"-68.8\" font-family=\"Times,serif\" font-size=\"14.00\">grad 0.0000</text>\n",
       "</g>\n",
       "<!-- 4505092832&#45;&gt;4505106272* -->\n",
       "<g id=\"edge7\" class=\"edge\">\n",
       "<title>4505092832&#45;&gt;4505106272*</title>\n",
       "<path fill=\"none\" stroke=\"black\" d=\"M820.06,-88.36C829.65,-90.03 838.94,-91.65 847.35,-93.12\"/>\n",
       "<polygon fill=\"black\" stroke=\"black\" points=\"846.62,-96.54 857.07,-94.81 847.82,-89.65 846.62,-96.54\"/>\n",
       "</g>\n",
       "<!-- 4505092832+ -->\n",
       "<g id=\"node4\" class=\"node\">\n",
       "<title>4505092832+</title>\n",
       "<ellipse fill=\"none\" stroke=\"black\" cx=\"571\" cy=\"-72.5\" rx=\"27\" ry=\"18\"/>\n",
       "<text text-anchor=\"middle\" x=\"571\" y=\"-68.8\" font-family=\"Times,serif\" font-size=\"14.00\">+</text>\n",
       "</g>\n",
       "<!-- 4505092832+&#45;&gt;4505092832 -->\n",
       "<g id=\"edge1\" class=\"edge\">\n",
       "<title>4505092832+&#45;&gt;4505092832</title>\n",
       "<path fill=\"none\" stroke=\"black\" d=\"M598.29,-72.5C605.99,-72.5 614.91,-72.5 624.39,-72.5\"/>\n",
       "<polygon fill=\"black\" stroke=\"black\" points=\"624.22,-76 634.22,-72.5 624.22,-69 624.22,-76\"/>\n",
       "</g>\n",
       "<!-- 4505102576 -->\n",
       "<g id=\"node5\" class=\"node\">\n",
       "<title>4505102576</title>\n",
       "<polygon fill=\"none\" stroke=\"black\" points=\"2.5,-0.5 2.5,-36.5 187.5,-36.5 187.5,-0.5 2.5,-0.5\"/>\n",
       "<text text-anchor=\"middle\" x=\"14\" y=\"-14.8\" font-family=\"Times,serif\" font-size=\"14.00\">a</text>\n",
       "<polyline fill=\"none\" stroke=\"black\" points=\"25.5,-0.5 25.5,-36.5\"/>\n",
       "<text text-anchor=\"middle\" x=\"65.5\" y=\"-14.8\" font-family=\"Times,serif\" font-size=\"14.00\">data 2.0000</text>\n",
       "<polyline fill=\"none\" stroke=\"black\" points=\"105.5,-0.5 105.5,-36.5\"/>\n",
       "<text text-anchor=\"middle\" x=\"146.5\" y=\"-14.8\" font-family=\"Times,serif\" font-size=\"14.00\">grad 0.0000</text>\n",
       "</g>\n",
       "<!-- 4505102576&#45;&gt;4505106800* -->\n",
       "<g id=\"edge9\" class=\"edge\">\n",
       "<title>4505102576&#45;&gt;4505106800*</title>\n",
       "<path fill=\"none\" stroke=\"black\" d=\"M187.2,-34.28C197.1,-36 206.71,-37.66 215.36,-39.16\"/>\n",
       "<polygon fill=\"black\" stroke=\"black\" points=\"214.57,-42.57 225.02,-40.83 215.76,-35.68 214.57,-42.57\"/>\n",
       "</g>\n",
       "<!-- 4505096528 -->\n",
       "<g id=\"node6\" class=\"node\">\n",
       "<title>4505096528</title>\n",
       "<polygon fill=\"none\" stroke=\"black\" points=\"316,-82.5 316,-118.5 508,-118.5 508,-82.5 316,-82.5\"/>\n",
       "<text text-anchor=\"middle\" x=\"327.5\" y=\"-96.8\" font-family=\"Times,serif\" font-size=\"14.00\">c</text>\n",
       "<polyline fill=\"none\" stroke=\"black\" points=\"339,-82.5 339,-118.5\"/>\n",
       "<text text-anchor=\"middle\" x=\"382.5\" y=\"-96.8\" font-family=\"Times,serif\" font-size=\"14.00\">data 10.0000</text>\n",
       "<polyline fill=\"none\" stroke=\"black\" points=\"426,-82.5 426,-118.5\"/>\n",
       "<text text-anchor=\"middle\" x=\"467\" y=\"-96.8\" font-family=\"Times,serif\" font-size=\"14.00\">grad 0.0000</text>\n",
       "</g>\n",
       "<!-- 4505096528&#45;&gt;4505092832+ -->\n",
       "<g id=\"edge6\" class=\"edge\">\n",
       "<title>4505096528&#45;&gt;4505092832+</title>\n",
       "<path fill=\"none\" stroke=\"black\" d=\"M507.95,-83.57C516.87,-81.98 525.49,-80.44 533.33,-79.04\"/>\n",
       "<polygon fill=\"black\" stroke=\"black\" points=\"533.84,-82.5 543.07,-77.3 532.61,-75.61 533.84,-82.5\"/>\n",
       "</g>\n",
       "<!-- 4505106272 -->\n",
       "<g id=\"node7\" class=\"node\">\n",
       "<title>4505106272</title>\n",
       "<polygon fill=\"none\" stroke=\"black\" points=\"948,-81.5 948,-117.5 1140,-117.5 1140,-81.5 948,-81.5\"/>\n",
       "<text text-anchor=\"middle\" x=\"960.5\" y=\"-95.8\" font-family=\"Times,serif\" font-size=\"14.00\">L</text>\n",
       "<polyline fill=\"none\" stroke=\"black\" points=\"973,-81.5 973,-117.5\"/>\n",
       "<text text-anchor=\"middle\" x=\"1015.5\" y=\"-95.8\" font-family=\"Times,serif\" font-size=\"14.00\">data &#45;8.0000</text>\n",
       "<polyline fill=\"none\" stroke=\"black\" points=\"1058,-81.5 1058,-117.5\"/>\n",
       "<text text-anchor=\"middle\" x=\"1099\" y=\"-95.8\" font-family=\"Times,serif\" font-size=\"14.00\">grad 0.0000</text>\n",
       "</g>\n",
       "<!-- 4505106272*&#45;&gt;4505106272 -->\n",
       "<g id=\"edge2\" class=\"edge\">\n",
       "<title>4505106272*&#45;&gt;4505106272</title>\n",
       "<path fill=\"none\" stroke=\"black\" d=\"M912.28,-99.5C919.52,-99.5 927.85,-99.5 936.72,-99.5\"/>\n",
       "<polygon fill=\"black\" stroke=\"black\" points=\"936.69,-103 946.69,-99.5 936.69,-96 936.69,-103\"/>\n",
       "</g>\n",
       "<!-- 4505106800 -->\n",
       "<g id=\"node9\" class=\"node\">\n",
       "<title>4505106800</title>\n",
       "<polygon fill=\"none\" stroke=\"black\" points=\"317,-27.5 317,-63.5 507,-63.5 507,-27.5 317,-27.5\"/>\n",
       "<text text-anchor=\"middle\" x=\"328.5\" y=\"-41.8\" font-family=\"Times,serif\" font-size=\"14.00\">e</text>\n",
       "<polyline fill=\"none\" stroke=\"black\" points=\"340,-27.5 340,-63.5\"/>\n",
       "<text text-anchor=\"middle\" x=\"382.5\" y=\"-41.8\" font-family=\"Times,serif\" font-size=\"14.00\">data &#45;6.0000</text>\n",
       "<polyline fill=\"none\" stroke=\"black\" points=\"425,-27.5 425,-63.5\"/>\n",
       "<text text-anchor=\"middle\" x=\"466\" y=\"-41.8\" font-family=\"Times,serif\" font-size=\"14.00\">grad 0.0000</text>\n",
       "</g>\n",
       "<!-- 4505106800&#45;&gt;4505092832+ -->\n",
       "<g id=\"edge8\" class=\"edge\">\n",
       "<title>4505106800&#45;&gt;4505092832+</title>\n",
       "<path fill=\"none\" stroke=\"black\" d=\"M506.59,-61.6C515.95,-63.2 525,-64.76 533.21,-66.17\"/>\n",
       "<polygon fill=\"black\" stroke=\"black\" points=\"532.6,-69.62 543.05,-67.87 533.79,-62.72 532.6,-69.62\"/>\n",
       "</g>\n",
       "<!-- 4505106800*&#45;&gt;4505106800 -->\n",
       "<g id=\"edge3\" class=\"edge\">\n",
       "<title>4505106800*&#45;&gt;4505106800</title>\n",
       "<path fill=\"none\" stroke=\"black\" d=\"M280.28,-45.5C287.79,-45.5 296.46,-45.5 305.7,-45.5\"/>\n",
       "<polygon fill=\"black\" stroke=\"black\" points=\"305.7,-49 315.7,-45.5 305.7,-42 305.7,-49\"/>\n",
       "</g>\n",
       "</g>\n",
       "</svg>\n"
      ],
      "text/plain": [
       "<graphviz.graphs.Digraph at 0x10c867010>"
      ]
     },
     "execution_count": 27,
     "metadata": {},
     "output_type": "execute_result"
    }
   ],
   "source": [
    "a = Value(2.0, label='a')\n",
    "b = Value(-3.0, label='b')\n",
    "c = Value(10.0, label='c')\n",
    "e = a*b; e.label = 'e'\n",
    "d = e + c; d.label = 'd'\n",
    "f = Value(-2.0, label='f')\n",
    "L = d * f #output of graph\n",
    "L.label = 'L'\n",
    "draw_dot(L)"
   ]
  },
  {
   "cell_type": "markdown",
   "id": "6f43ede7-7e5f-4e10-b404-35354955dfb2",
   "metadata": {},
   "source": [
    "`grad` at each node represents the derivative of the output `L` w.r.t that node eg derivative of `L` wrt `e` or `d` ... etc"
   ]
  },
  {
   "cell_type": "markdown",
   "id": "0f2d19fa-0501-47a7-a5e0-cba1ecf666e8",
   "metadata": {},
   "source": [
    "Manual Backpropagation:\n",
    "\n",
    "What is derivative of L wrt L? -> $1.0$\n",
    "\n",
    "What is derivative of L wrt d? \n",
    "\n",
    "We know:\n",
    "\n",
    "$$ L = d * f $$\n",
    "$$ dL / dd = f = -2.0$$\n",
    "\n",
    "Same for L wrt f \n",
    "$$ dL / df = d  = 4.0 $$\n",
    "\n",
    "Now, what is $ dL / de $ ?? \n",
    "\n",
    "Remeber, each node only knows about the children that produced it and the operation that did. `L` knows nothing about `e`. d knows about `e`. `d` can compute its drivative wrt `e`. But if we know how `d` changes relative to `e` and how `L` changes relative to `d` then we can find how `L` changes relative to `e`. In short: we multiply.\n",
    "\n",
    "_From Wikipedia: As put by George F. Simmons: \"If a car travels twice as fast as a bicycle and the bicycle is four times as fast as a walking man, then the car travels 2 × 4 = 8 times as fast as the man.\"_\n",
    "\n"
   ]
  },
  {
   "cell_type": "markdown",
   "id": "16f0be66-aa79-4d45-8c01-de1e1ef240b2",
   "metadata": {},
   "source": [
    "But, what is $ dd / de $? Well, since it's a `+` operation the derivative is 1.0\n",
    "\n",
    "$$ d = c + e $$\n",
    "\n",
    "$$ dd / de = 0 + 1.0 = 1.0 $$\n",
    "\n",
    "or from limit expression: \n",
    "\n",
    "$$ dd / de = \\frac{f(c + e + h) - f(c + e)}{h} = h/h = 1.0 $$\n",
    "\n",
    "So, $ dL / de  = dL / dd * dd / de = -2.0 * 1.0 = -2.0 $\n"
   ]
  },
  {
   "cell_type": "markdown",
   "id": "838d3ba4-470c-48f1-8b0f-abf7640da45f",
   "metadata": {},
   "source": [
    "And that is all there is to backpropagation. We compute local gradients at each node and recursively apply the chain rule - via multiplication - till the end of the graph. We go on and recursively multiply on the local derivatives. And that's what backpropagation is: recursive application of the chain rule through the computation graph"
   ]
  },
  {
   "cell_type": "markdown",
   "id": "c3c229cd-ed83-4fc4-ae5b-3c4dc6660b00",
   "metadata": {},
   "source": [
    "From this we can manually compute all the gradients for all the nodes in the graph wrt `L`:"
   ]
  },
  {
   "cell_type": "code",
   "execution_count": 28,
   "id": "c2e65ea6-3b72-4dbd-8ab6-9b3e3abf3266",
   "metadata": {
    "tags": []
   },
   "outputs": [
    {
     "data": {
      "image/svg+xml": [
       "<?xml version=\"1.0\" encoding=\"UTF-8\" standalone=\"no\"?>\n",
       "<!DOCTYPE svg PUBLIC \"-//W3C//DTD SVG 1.1//EN\"\n",
       " \"http://www.w3.org/Graphics/SVG/1.1/DTD/svg11.dtd\">\n",
       "<!-- Generated by graphviz version 7.1.0 (0)\n",
       " -->\n",
       "<!-- Pages: 1 -->\n",
       "<svg width=\"1157pt\" height=\"128pt\"\n",
       " viewBox=\"0.00 0.00 1157.00 128.00\" xmlns=\"http://www.w3.org/2000/svg\" xmlns:xlink=\"http://www.w3.org/1999/xlink\">\n",
       "<g id=\"graph0\" class=\"graph\" transform=\"scale(1 1) rotate(0) translate(4 124)\">\n",
       "<polygon fill=\"white\" stroke=\"none\" points=\"-4,4 -4,-124 1153,-124 1153,4 -4,4\"/>\n",
       "<!-- 4505106512 -->\n",
       "<g id=\"node1\" class=\"node\">\n",
       "<title>4505106512</title>\n",
       "<polygon fill=\"none\" stroke=\"black\" points=\"642.5,-82.5 642.5,-118.5 830.5,-118.5 830.5,-82.5 642.5,-82.5\"/>\n",
       "<text text-anchor=\"middle\" x=\"653\" y=\"-96.8\" font-family=\"Times,serif\" font-size=\"14.00\">f</text>\n",
       "<polyline fill=\"none\" stroke=\"black\" points=\"663.5,-82.5 663.5,-118.5\"/>\n",
       "<text text-anchor=\"middle\" x=\"706\" y=\"-96.8\" font-family=\"Times,serif\" font-size=\"14.00\">data &#45;2.0000</text>\n",
       "<polyline fill=\"none\" stroke=\"black\" points=\"748.5,-82.5 748.5,-118.5\"/>\n",
       "<text text-anchor=\"middle\" x=\"789.5\" y=\"-96.8\" font-family=\"Times,serif\" font-size=\"14.00\">grad 4.0000</text>\n",
       "</g>\n",
       "<!-- 4505100656* -->\n",
       "<g id=\"node10\" class=\"node\">\n",
       "<title>4505100656*</title>\n",
       "<ellipse fill=\"none\" stroke=\"black\" cx=\"894\" cy=\"-72.5\" rx=\"27\" ry=\"18\"/>\n",
       "<text text-anchor=\"middle\" x=\"894\" y=\"-68.8\" font-family=\"Times,serif\" font-size=\"14.00\">*</text>\n",
       "</g>\n",
       "<!-- 4505106512&#45;&gt;4505100656* -->\n",
       "<g id=\"edge7\" class=\"edge\">\n",
       "<title>4505106512&#45;&gt;4505100656*</title>\n",
       "<path fill=\"none\" stroke=\"black\" d=\"M830.2,-83.81C839.38,-82.16 848.27,-80.56 856.33,-79.1\"/>\n",
       "<polygon fill=\"black\" stroke=\"black\" points=\"856.77,-82.58 865.99,-77.36 855.53,-75.69 856.77,-82.58\"/>\n",
       "</g>\n",
       "<!-- 4505099888 -->\n",
       "<g id=\"node2\" class=\"node\">\n",
       "<title>4505099888</title>\n",
       "<polygon fill=\"none\" stroke=\"black\" points=\"0,-83.5 0,-119.5 194,-119.5 194,-83.5 0,-83.5\"/>\n",
       "<text text-anchor=\"middle\" x=\"11.5\" y=\"-97.8\" font-family=\"Times,serif\" font-size=\"14.00\">b</text>\n",
       "<polyline fill=\"none\" stroke=\"black\" points=\"23,-83.5 23,-119.5\"/>\n",
       "<text text-anchor=\"middle\" x=\"65.5\" y=\"-97.8\" font-family=\"Times,serif\" font-size=\"14.00\">data &#45;3.0000</text>\n",
       "<polyline fill=\"none\" stroke=\"black\" points=\"108,-83.5 108,-119.5\"/>\n",
       "<text text-anchor=\"middle\" x=\"151\" y=\"-97.8\" font-family=\"Times,serif\" font-size=\"14.00\">grad &#45;4.0000</text>\n",
       "</g>\n",
       "<!-- 4505095808* -->\n",
       "<g id=\"node4\" class=\"node\">\n",
       "<title>4505095808*</title>\n",
       "<ellipse fill=\"none\" stroke=\"black\" cx=\"257\" cy=\"-73.5\" rx=\"27\" ry=\"18\"/>\n",
       "<text text-anchor=\"middle\" x=\"257\" y=\"-69.8\" font-family=\"Times,serif\" font-size=\"14.00\">*</text>\n",
       "</g>\n",
       "<!-- 4505099888&#45;&gt;4505095808* -->\n",
       "<g id=\"edge5\" class=\"edge\">\n",
       "<title>4505099888&#45;&gt;4505095808*</title>\n",
       "<path fill=\"none\" stroke=\"black\" d=\"M193.55,-84.57C202.53,-82.98 211.21,-81.44 219.1,-80.04\"/>\n",
       "<polygon fill=\"black\" stroke=\"black\" points=\"219.67,-83.49 228.9,-78.3 218.45,-76.6 219.67,-83.49\"/>\n",
       "</g>\n",
       "<!-- 4505095808 -->\n",
       "<g id=\"node3\" class=\"node\">\n",
       "<title>4505095808</title>\n",
       "<polygon fill=\"none\" stroke=\"black\" points=\"321,-55.5 321,-91.5 515,-91.5 515,-55.5 321,-55.5\"/>\n",
       "<text text-anchor=\"middle\" x=\"332.5\" y=\"-69.8\" font-family=\"Times,serif\" font-size=\"14.00\">e</text>\n",
       "<polyline fill=\"none\" stroke=\"black\" points=\"344,-55.5 344,-91.5\"/>\n",
       "<text text-anchor=\"middle\" x=\"386.5\" y=\"-69.8\" font-family=\"Times,serif\" font-size=\"14.00\">data &#45;6.0000</text>\n",
       "<polyline fill=\"none\" stroke=\"black\" points=\"429,-55.5 429,-91.5\"/>\n",
       "<text text-anchor=\"middle\" x=\"472\" y=\"-69.8\" font-family=\"Times,serif\" font-size=\"14.00\">grad &#45;2.0000</text>\n",
       "</g>\n",
       "<!-- 4505100128+ -->\n",
       "<g id=\"node8\" class=\"node\">\n",
       "<title>4505100128+</title>\n",
       "<ellipse fill=\"none\" stroke=\"black\" cx=\"579\" cy=\"-45.5\" rx=\"27\" ry=\"18\"/>\n",
       "<text text-anchor=\"middle\" x=\"579\" y=\"-41.8\" font-family=\"Times,serif\" font-size=\"14.00\">+</text>\n",
       "</g>\n",
       "<!-- 4505095808&#45;&gt;4505100128+ -->\n",
       "<g id=\"edge8\" class=\"edge\">\n",
       "<title>4505095808&#45;&gt;4505100128+</title>\n",
       "<path fill=\"none\" stroke=\"black\" d=\"M514.7,-56.65C524.07,-55 533.12,-53.4 541.32,-51.96\"/>\n",
       "<polygon fill=\"black\" stroke=\"black\" points=\"541.9,-55.41 551.14,-50.23 540.69,-48.52 541.9,-55.41\"/>\n",
       "</g>\n",
       "<!-- 4505095808*&#45;&gt;4505095808 -->\n",
       "<g id=\"edge1\" class=\"edge\">\n",
       "<title>4505095808*&#45;&gt;4505095808</title>\n",
       "<path fill=\"none\" stroke=\"black\" d=\"M284.26,-73.5C291.86,-73.5 300.67,-73.5 310.07,-73.5\"/>\n",
       "<polygon fill=\"black\" stroke=\"black\" points=\"309.81,-77 319.81,-73.5 309.81,-70 309.81,-77\"/>\n",
       "</g>\n",
       "<!-- 4505094272 -->\n",
       "<g id=\"node5\" class=\"node\">\n",
       "<title>4505094272</title>\n",
       "<polygon fill=\"none\" stroke=\"black\" points=\"4.5,-28.5 4.5,-64.5 189.5,-64.5 189.5,-28.5 4.5,-28.5\"/>\n",
       "<text text-anchor=\"middle\" x=\"16\" y=\"-42.8\" font-family=\"Times,serif\" font-size=\"14.00\">a</text>\n",
       "<polyline fill=\"none\" stroke=\"black\" points=\"27.5,-28.5 27.5,-64.5\"/>\n",
       "<text text-anchor=\"middle\" x=\"67.5\" y=\"-42.8\" font-family=\"Times,serif\" font-size=\"14.00\">data 2.0000</text>\n",
       "<polyline fill=\"none\" stroke=\"black\" points=\"107.5,-28.5 107.5,-64.5\"/>\n",
       "<text text-anchor=\"middle\" x=\"148.5\" y=\"-42.8\" font-family=\"Times,serif\" font-size=\"14.00\">grad 6.0000</text>\n",
       "</g>\n",
       "<!-- 4505094272&#45;&gt;4505095808* -->\n",
       "<g id=\"edge9\" class=\"edge\">\n",
       "<title>4505094272&#45;&gt;4505095808*</title>\n",
       "<path fill=\"none\" stroke=\"black\" d=\"M189.45,-62.13C199.89,-63.91 210.03,-65.64 219.12,-67.2\"/>\n",
       "<polygon fill=\"black\" stroke=\"black\" points=\"218.46,-70.64 228.91,-68.87 219.64,-63.74 218.46,-70.64\"/>\n",
       "</g>\n",
       "<!-- 4505096384 -->\n",
       "<g id=\"node6\" class=\"node\">\n",
       "<title>4505096384</title>\n",
       "<polygon fill=\"none\" stroke=\"black\" points=\"320,-0.5 320,-36.5 516,-36.5 516,-0.5 320,-0.5\"/>\n",
       "<text text-anchor=\"middle\" x=\"331.5\" y=\"-14.8\" font-family=\"Times,serif\" font-size=\"14.00\">c</text>\n",
       "<polyline fill=\"none\" stroke=\"black\" points=\"343,-0.5 343,-36.5\"/>\n",
       "<text text-anchor=\"middle\" x=\"386.5\" y=\"-14.8\" font-family=\"Times,serif\" font-size=\"14.00\">data 10.0000</text>\n",
       "<polyline fill=\"none\" stroke=\"black\" points=\"430,-0.5 430,-36.5\"/>\n",
       "<text text-anchor=\"middle\" x=\"473\" y=\"-14.8\" font-family=\"Times,serif\" font-size=\"14.00\">grad &#45;2.0000</text>\n",
       "</g>\n",
       "<!-- 4505096384&#45;&gt;4505100128+ -->\n",
       "<g id=\"edge4\" class=\"edge\">\n",
       "<title>4505096384&#45;&gt;4505100128+</title>\n",
       "<path fill=\"none\" stroke=\"black\" d=\"M515.62,-34.91C524.6,-36.43 533.27,-37.9 541.15,-39.24\"/>\n",
       "<polygon fill=\"black\" stroke=\"black\" points=\"540.51,-42.68 550.95,-40.91 541.68,-35.78 540.51,-42.68\"/>\n",
       "</g>\n",
       "<!-- 4505100128 -->\n",
       "<g id=\"node7\" class=\"node\">\n",
       "<title>4505100128</title>\n",
       "<polygon fill=\"none\" stroke=\"black\" points=\"642,-27.5 642,-63.5 831,-63.5 831,-27.5 642,-27.5\"/>\n",
       "<text text-anchor=\"middle\" x=\"653.5\" y=\"-41.8\" font-family=\"Times,serif\" font-size=\"14.00\">d</text>\n",
       "<polyline fill=\"none\" stroke=\"black\" points=\"665,-27.5 665,-63.5\"/>\n",
       "<text text-anchor=\"middle\" x=\"705\" y=\"-41.8\" font-family=\"Times,serif\" font-size=\"14.00\">data 4.0000</text>\n",
       "<polyline fill=\"none\" stroke=\"black\" points=\"745,-27.5 745,-63.5\"/>\n",
       "<text text-anchor=\"middle\" x=\"788\" y=\"-41.8\" font-family=\"Times,serif\" font-size=\"14.00\">grad &#45;2.0000</text>\n",
       "</g>\n",
       "<!-- 4505100128&#45;&gt;4505100656* -->\n",
       "<g id=\"edge6\" class=\"edge\">\n",
       "<title>4505100128&#45;&gt;4505100656*</title>\n",
       "<path fill=\"none\" stroke=\"black\" d=\"M830.65,-61.67C839.58,-63.22 848.23,-64.73 856.11,-66.09\"/>\n",
       "<polygon fill=\"black\" stroke=\"black\" points=\"855.45,-69.53 865.9,-67.79 856.64,-62.63 855.45,-69.53\"/>\n",
       "</g>\n",
       "<!-- 4505100128+&#45;&gt;4505100128 -->\n",
       "<g id=\"edge2\" class=\"edge\">\n",
       "<title>4505100128+&#45;&gt;4505100128</title>\n",
       "<path fill=\"none\" stroke=\"black\" d=\"M606.38,-45.5C613.63,-45.5 621.96,-45.5 630.82,-45.5\"/>\n",
       "<polygon fill=\"black\" stroke=\"black\" points=\"630.77,-49 640.77,-45.5 630.77,-42 630.77,-49\"/>\n",
       "</g>\n",
       "<!-- 4505100656 -->\n",
       "<g id=\"node9\" class=\"node\">\n",
       "<title>4505100656</title>\n",
       "<polygon fill=\"none\" stroke=\"black\" points=\"957,-54.5 957,-90.5 1149,-90.5 1149,-54.5 957,-54.5\"/>\n",
       "<text text-anchor=\"middle\" x=\"969.5\" y=\"-68.8\" font-family=\"Times,serif\" font-size=\"14.00\">L</text>\n",
       "<polyline fill=\"none\" stroke=\"black\" points=\"982,-54.5 982,-90.5\"/>\n",
       "<text text-anchor=\"middle\" x=\"1024.5\" y=\"-68.8\" font-family=\"Times,serif\" font-size=\"14.00\">data &#45;8.0000</text>\n",
       "<polyline fill=\"none\" stroke=\"black\" points=\"1067,-54.5 1067,-90.5\"/>\n",
       "<text text-anchor=\"middle\" x=\"1108\" y=\"-68.8\" font-family=\"Times,serif\" font-size=\"14.00\">grad 1.0000</text>\n",
       "</g>\n",
       "<!-- 4505100656*&#45;&gt;4505100656 -->\n",
       "<g id=\"edge3\" class=\"edge\">\n",
       "<title>4505100656*&#45;&gt;4505100656</title>\n",
       "<path fill=\"none\" stroke=\"black\" d=\"M921.28,-72.5C928.52,-72.5 936.85,-72.5 945.72,-72.5\"/>\n",
       "<polygon fill=\"black\" stroke=\"black\" points=\"945.69,-76 955.69,-72.5 945.69,-69 945.69,-76\"/>\n",
       "</g>\n",
       "</g>\n",
       "</svg>\n"
      ],
      "text/plain": [
       "<graphviz.graphs.Digraph at 0x10c867df0>"
      ]
     },
     "execution_count": 28,
     "metadata": {},
     "output_type": "execute_result"
    }
   ],
   "source": [
    "a = Value(2.0, label='a')\n",
    "b = Value(-3.0, label='b')\n",
    "c = Value(10.0, label='c')\n",
    "e = a*b; e.label = 'e'\n",
    "d = e + c; d.label = 'd'\n",
    "f = Value(-2.0, label='f')\n",
    "L = d * f #output of graph\n",
    "L.label = 'L'\n",
    "\n",
    "L.grad = 1.0\n",
    "f.grad = 4.0\n",
    "d.grad = -2.0\n",
    "e.grad = 1.0 * -2.0\n",
    "c.grad = 1.0 * -2.0 \n",
    "a.grad = -3.0 * -2.0\n",
    "b.grad = 2.0 * -2.0\n",
    "draw_dot(L)"
   ]
  },
  {
   "cell_type": "markdown",
   "id": "14377a3e-f405-4740-82b1-e652270b1eb1",
   "metadata": {},
   "source": [
    "And now we can see this power in action. Suppose now we want to nudge `L` up a bit. What we can do (if we treat a,b,c... as weights) is we can nudge their values in the direction of their gradients (their slopes. Think of them on the graph)."
   ]
  },
  {
   "cell_type": "code",
   "execution_count": 29,
   "id": "3a9c8753-6857-4980-a93a-d5bac5a0cb87",
   "metadata": {
    "tags": []
   },
   "outputs": [
    {
     "data": {
      "text/plain": [
       "Value(data=-7.286496)"
      ]
     },
     "execution_count": 29,
     "metadata": {},
     "output_type": "execute_result"
    }
   ],
   "source": [
    "a.data += 0.01 * a.grad\n",
    "b.data += 0.01 * b.grad\n",
    "c.data += 0.01 * c.grad\n",
    "f.data += 0.01 * f.grad \n",
    "\n",
    "e = a*b; e.label = 'e'\n",
    "d = e + c; d.label = 'd'\n",
    "L = d * f #output of graph\n",
    "L.label = 'L'\n",
    "L"
   ]
  },
  {
   "cell_type": "markdown",
   "id": "8d376995-d15d-4940-be67-480e8740a6d1",
   "metadata": {},
   "source": [
    "Let's see this in a more complex setting: "
   ]
  },
  {
   "attachments": {
    "537263f4-8c3b-4e18-a617-4303106a3ae2.jpeg": {
     "image/jpeg": "[encoded data removed]"
    }
   },
   "cell_type": "markdown",
   "id": "d0866020-92d3-4949-911a-1dd78959a61b",
   "metadata": {},
   "source": [
    "<div>\n",
    "<img src=\"attachment:537263f4-8c3b-4e18-a617-4303106a3ae2.jpeg\" width=\"500\"/>\n",
    "</div>"
   ]
  },
  {
   "cell_type": "markdown",
   "id": "aa0c81af-59d4-4506-81a9-4acd40fb3487",
   "metadata": {},
   "source": [
    "This is a simplified model of biological neurons. Here, data from other neurons $x_0$. We have synapses that have weights on them $w_0$. The synapse interacts with the input to the neuron multiplicatively so what flows to the cell body of the neuron is $ w * x$. There are multiple inputs. There is also bias that is like the \"innate trigger happiness\" (can be more or less trigger happy). The neuron takes all inputs (summed) + bias through an activation function $f$ that is usually a squashing function eg $tanh$. \n",
    "What comes out is the activation function applied to the dot product of weights and inputs."
   ]
  },
  {
   "cell_type": "code",
   "execution_count": 30,
   "id": "f2c87c83-3797-47b0-b661-da43876d4a7c",
   "metadata": {
    "tags": []
   },
   "outputs": [
    {
     "data": {
      "image/png": "[encoded data removed]",
      "text/plain": [
       "<Figure size 640x480 with 1 Axes>"
      ]
     },
     "metadata": {},
     "output_type": "display_data"
    }
   ],
   "source": [
    "plt.plot(np.arange(-5,5,0.2), np.tanh(np.arange(-5,5,0.2))); plt.grid();"
   ]
  },
  {
   "cell_type": "code",
   "execution_count": 31,
   "id": "23840d7c-0158-47a8-89e1-adf79e2f1e79",
   "metadata": {
    "tags": []
   },
   "outputs": [
    {
     "data": {
      "image/svg+xml": [
       "<?xml version=\"1.0\" encoding=\"UTF-8\" standalone=\"no\"?>\n",
       "<!DOCTYPE svg PUBLIC \"-//W3C//DTD SVG 1.1//EN\"\n",
       " \"http://www.w3.org/Graphics/SVG/1.1/DTD/svg11.dtd\">\n",
       "<!-- Generated by graphviz version 7.1.0 (0)\n",
       " -->\n",
       "<!-- Pages: 1 -->\n",
       "<svg width=\"1229pt\" height=\"210pt\"\n",
       " viewBox=\"0.00 0.00 1229.00 210.00\" xmlns=\"http://www.w3.org/2000/svg\" xmlns:xlink=\"http://www.w3.org/1999/xlink\">\n",
       "<g id=\"graph0\" class=\"graph\" transform=\"scale(1 1) rotate(0) translate(4 206)\">\n",
       "<polygon fill=\"white\" stroke=\"none\" points=\"-4,4 -4,-206 1225,-206 1225,4 -4,4\"/>\n",
       "<!-- 4505647664 -->\n",
       "<g id=\"node1\" class=\"node\">\n",
       "<title>4505647664</title>\n",
       "<polygon fill=\"none\" stroke=\"black\" points=\"0,-165.5 0,-201.5 200,-201.5 200,-165.5 0,-165.5\"/>\n",
       "<text text-anchor=\"middle\" x=\"16.5\" y=\"-179.8\" font-family=\"Times,serif\" font-size=\"14.00\">w1</text>\n",
       "<polyline fill=\"none\" stroke=\"black\" points=\"33,-165.5 33,-201.5\"/>\n",
       "<text text-anchor=\"middle\" x=\"75.5\" y=\"-179.8\" font-family=\"Times,serif\" font-size=\"14.00\">data &#45;3.0000</text>\n",
       "<polyline fill=\"none\" stroke=\"black\" points=\"118,-165.5 118,-201.5\"/>\n",
       "<text text-anchor=\"middle\" x=\"159\" y=\"-179.8\" font-family=\"Times,serif\" font-size=\"14.00\">grad 0.0000</text>\n",
       "</g>\n",
       "<!-- 4505781728* -->\n",
       "<g id=\"node12\" class=\"node\">\n",
       "<title>4505781728*</title>\n",
       "<ellipse fill=\"none\" stroke=\"black\" cx=\"263\" cy=\"-128.5\" rx=\"27\" ry=\"18\"/>\n",
       "<text text-anchor=\"middle\" x=\"263\" y=\"-124.8\" font-family=\"Times,serif\" font-size=\"14.00\">*</text>\n",
       "</g>\n",
       "<!-- 4505647664&#45;&gt;4505781728* -->\n",
       "<g id=\"edge5\" class=\"edge\">\n",
       "<title>4505647664&#45;&gt;4505781728*</title>\n",
       "<path fill=\"none\" stroke=\"black\" d=\"M172.27,-165.52C181.67,-162.72 191.12,-159.7 200,-156.5 210.09,-152.87 220.83,-148.29 230.48,-143.89\"/>\n",
       "<polygon fill=\"black\" stroke=\"black\" points=\"231.87,-147.11 239.45,-139.71 228.91,-140.76 231.87,-147.11\"/>\n",
       "</g>\n",
       "<!-- 4505780336 -->\n",
       "<g id=\"node2\" class=\"node\">\n",
       "<title>4505780336</title>\n",
       "<polygon fill=\"none\" stroke=\"black\" points=\"2.5,-55.5 2.5,-91.5 197.5,-91.5 197.5,-55.5 2.5,-55.5\"/>\n",
       "<text text-anchor=\"middle\" x=\"19\" y=\"-69.8\" font-family=\"Times,serif\" font-size=\"14.00\">w2</text>\n",
       "<polyline fill=\"none\" stroke=\"black\" points=\"35.5,-55.5 35.5,-91.5\"/>\n",
       "<text text-anchor=\"middle\" x=\"75.5\" y=\"-69.8\" font-family=\"Times,serif\" font-size=\"14.00\">data 1.0000</text>\n",
       "<polyline fill=\"none\" stroke=\"black\" points=\"115.5,-55.5 115.5,-91.5\"/>\n",
       "<text text-anchor=\"middle\" x=\"156.5\" y=\"-69.8\" font-family=\"Times,serif\" font-size=\"14.00\">grad 0.0000</text>\n",
       "</g>\n",
       "<!-- 4505785568* -->\n",
       "<g id=\"node6\" class=\"node\">\n",
       "<title>4505785568*</title>\n",
       "<ellipse fill=\"none\" stroke=\"black\" cx=\"263\" cy=\"-73.5\" rx=\"27\" ry=\"18\"/>\n",
       "<text text-anchor=\"middle\" x=\"263\" y=\"-69.8\" font-family=\"Times,serif\" font-size=\"14.00\">*</text>\n",
       "</g>\n",
       "<!-- 4505780336&#45;&gt;4505785568* -->\n",
       "<g id=\"edge8\" class=\"edge\">\n",
       "<title>4505780336&#45;&gt;4505785568*</title>\n",
       "<path fill=\"none\" stroke=\"black\" d=\"M197.44,-73.5C206.89,-73.5 216.04,-73.5 224.32,-73.5\"/>\n",
       "<polygon fill=\"black\" stroke=\"black\" points=\"224.28,-77 234.28,-73.5 224.28,-70 224.28,-77\"/>\n",
       "</g>\n",
       "<!-- 4505647760 -->\n",
       "<g id=\"node3\" class=\"node\">\n",
       "<title>4505647760</title>\n",
       "<polygon fill=\"none\" stroke=\"black\" points=\"4,-0.5 4,-36.5 196,-36.5 196,-0.5 4,-0.5\"/>\n",
       "<text text-anchor=\"middle\" x=\"19\" y=\"-14.8\" font-family=\"Times,serif\" font-size=\"14.00\">x2</text>\n",
       "<polyline fill=\"none\" stroke=\"black\" points=\"34,-0.5 34,-36.5\"/>\n",
       "<text text-anchor=\"middle\" x=\"74\" y=\"-14.8\" font-family=\"Times,serif\" font-size=\"14.00\">data 0.0000</text>\n",
       "<polyline fill=\"none\" stroke=\"black\" points=\"114,-0.5 114,-36.5\"/>\n",
       "<text text-anchor=\"middle\" x=\"155\" y=\"-14.8\" font-family=\"Times,serif\" font-size=\"14.00\">grad 0.0000</text>\n",
       "</g>\n",
       "<!-- 4505647760&#45;&gt;4505785568* -->\n",
       "<g id=\"edge12\" class=\"edge\">\n",
       "<title>4505647760&#45;&gt;4505785568*</title>\n",
       "<path fill=\"none\" stroke=\"black\" d=\"M169.02,-36.42C179.47,-39.56 190.08,-42.95 200,-46.5 209.96,-50.06 220.59,-54.46 230.18,-58.66\"/>\n",
       "<polygon fill=\"black\" stroke=\"black\" points=\"228.54,-61.76 239.1,-62.66 231.4,-55.37 228.54,-61.76\"/>\n",
       "</g>\n",
       "<!-- 4505781920 -->\n",
       "<g id=\"node4\" class=\"node\">\n",
       "<title>4505781920</title>\n",
       "<polygon fill=\"none\" stroke=\"black\" points=\"695.5,-27.5 695.5,-63.5 880.5,-63.5 880.5,-27.5 695.5,-27.5\"/>\n",
       "<text text-anchor=\"middle\" x=\"707\" y=\"-41.8\" font-family=\"Times,serif\" font-size=\"14.00\">b</text>\n",
       "<polyline fill=\"none\" stroke=\"black\" points=\"718.5,-27.5 718.5,-63.5\"/>\n",
       "<text text-anchor=\"middle\" x=\"758.5\" y=\"-41.8\" font-family=\"Times,serif\" font-size=\"14.00\">data 6.7000</text>\n",
       "<polyline fill=\"none\" stroke=\"black\" points=\"798.5,-27.5 798.5,-63.5\"/>\n",
       "<text text-anchor=\"middle\" x=\"839.5\" y=\"-41.8\" font-family=\"Times,serif\" font-size=\"14.00\">grad 0.0000</text>\n",
       "</g>\n",
       "<!-- 4505785760+ -->\n",
       "<g id=\"node10\" class=\"node\">\n",
       "<title>4505785760+</title>\n",
       "<ellipse fill=\"none\" stroke=\"black\" cx=\"973\" cy=\"-72.5\" rx=\"27\" ry=\"18\"/>\n",
       "<text text-anchor=\"middle\" x=\"973\" y=\"-68.8\" font-family=\"Times,serif\" font-size=\"14.00\">+</text>\n",
       "</g>\n",
       "<!-- 4505781920&#45;&gt;4505785760+ -->\n",
       "<g id=\"edge10\" class=\"edge\">\n",
       "<title>4505781920&#45;&gt;4505785760+</title>\n",
       "<path fill=\"none\" stroke=\"black\" d=\"M880.5,-59C899.73,-61.84 918.95,-64.67 934.78,-67.01\"/>\n",
       "<polygon fill=\"black\" stroke=\"black\" points=\"934.27,-70.47 944.67,-68.47 935.29,-63.55 934.27,-70.47\"/>\n",
       "</g>\n",
       "<!-- 4505785568 -->\n",
       "<g id=\"node5\" class=\"node\">\n",
       "<title>4505785568</title>\n",
       "<polygon fill=\"none\" stroke=\"black\" points=\"328.5,-55.5 328.5,-91.5 537.5,-91.5 537.5,-55.5 328.5,-55.5\"/>\n",
       "<text text-anchor=\"middle\" x=\"352\" y=\"-69.8\" font-family=\"Times,serif\" font-size=\"14.00\">x2w2</text>\n",
       "<polyline fill=\"none\" stroke=\"black\" points=\"375.5,-55.5 375.5,-91.5\"/>\n",
       "<text text-anchor=\"middle\" x=\"415.5\" y=\"-69.8\" font-family=\"Times,serif\" font-size=\"14.00\">data 0.0000</text>\n",
       "<polyline fill=\"none\" stroke=\"black\" points=\"455.5,-55.5 455.5,-91.5\"/>\n",
       "<text text-anchor=\"middle\" x=\"496.5\" y=\"-69.8\" font-family=\"Times,serif\" font-size=\"14.00\">grad 0.0000</text>\n",
       "</g>\n",
       "<!-- 4505785664+ -->\n",
       "<g id=\"node8\" class=\"node\">\n",
       "<title>4505785664+</title>\n",
       "<ellipse fill=\"none\" stroke=\"black\" cx=\"603\" cy=\"-100.5\" rx=\"27\" ry=\"18\"/>\n",
       "<text text-anchor=\"middle\" x=\"603\" y=\"-96.8\" font-family=\"Times,serif\" font-size=\"14.00\">+</text>\n",
       "</g>\n",
       "<!-- 4505785568&#45;&gt;4505785664+ -->\n",
       "<g id=\"edge6\" class=\"edge\">\n",
       "<title>4505785568&#45;&gt;4505785664+</title>\n",
       "<path fill=\"none\" stroke=\"black\" d=\"M537.05,-90.06C547.04,-91.67 556.65,-93.21 565.28,-94.6\"/>\n",
       "<polygon fill=\"black\" stroke=\"black\" points=\"564.45,-98.01 574.88,-96.14 565.56,-91.1 564.45,-98.01\"/>\n",
       "</g>\n",
       "<!-- 4505785568*&#45;&gt;4505785568 -->\n",
       "<g id=\"edge1\" class=\"edge\">\n",
       "<title>4505785568*&#45;&gt;4505785568</title>\n",
       "<path fill=\"none\" stroke=\"black\" d=\"M290.25,-73.5C298.16,-73.5 307.4,-73.5 317.3,-73.5\"/>\n",
       "<polygon fill=\"black\" stroke=\"black\" points=\"317.2,-77 327.2,-73.5 317.2,-70 317.2,-77\"/>\n",
       "</g>\n",
       "<!-- 4505785664 -->\n",
       "<g id=\"node7\" class=\"node\">\n",
       "<title>4505785664</title>\n",
       "<polygon fill=\"none\" stroke=\"black\" points=\"666,-82.5 666,-118.5 910,-118.5 910,-82.5 666,-82.5\"/>\n",
       "<text text-anchor=\"middle\" x=\"704.5\" y=\"-96.8\" font-family=\"Times,serif\" font-size=\"14.00\">x1w1x2w2</text>\n",
       "<polyline fill=\"none\" stroke=\"black\" points=\"743,-82.5 743,-118.5\"/>\n",
       "<text text-anchor=\"middle\" x=\"785.5\" y=\"-96.8\" font-family=\"Times,serif\" font-size=\"14.00\">data &#45;6.0000</text>\n",
       "<polyline fill=\"none\" stroke=\"black\" points=\"828,-82.5 828,-118.5\"/>\n",
       "<text text-anchor=\"middle\" x=\"869\" y=\"-96.8\" font-family=\"Times,serif\" font-size=\"14.00\">grad 0.0000</text>\n",
       "</g>\n",
       "<!-- 4505785664&#45;&gt;4505785760+ -->\n",
       "<g id=\"edge11\" class=\"edge\">\n",
       "<title>4505785664&#45;&gt;4505785760+</title>\n",
       "<path fill=\"none\" stroke=\"black\" d=\"M906.45,-82.53C916.69,-80.96 926.46,-79.47 935.18,-78.13\"/>\n",
       "<polygon fill=\"black\" stroke=\"black\" points=\"935.52,-81.62 944.87,-76.65 934.46,-74.7 935.52,-81.62\"/>\n",
       "</g>\n",
       "<!-- 4505785664+&#45;&gt;4505785664 -->\n",
       "<g id=\"edge2\" class=\"edge\">\n",
       "<title>4505785664+&#45;&gt;4505785664</title>\n",
       "<path fill=\"none\" stroke=\"black\" d=\"M630.22,-100.5C637.46,-100.5 645.83,-100.5 654.87,-100.5\"/>\n",
       "<polygon fill=\"black\" stroke=\"black\" points=\"654.68,-104 664.68,-100.5 654.68,-97 654.68,-104\"/>\n",
       "</g>\n",
       "<!-- 4505785760 -->\n",
       "<g id=\"node9\" class=\"node\">\n",
       "<title>4505785760</title>\n",
       "<polygon fill=\"none\" stroke=\"black\" points=\"1036,-54.5 1036,-90.5 1221,-90.5 1221,-54.5 1036,-54.5\"/>\n",
       "<text text-anchor=\"middle\" x=\"1047.5\" y=\"-68.8\" font-family=\"Times,serif\" font-size=\"14.00\">n</text>\n",
       "<polyline fill=\"none\" stroke=\"black\" points=\"1059,-54.5 1059,-90.5\"/>\n",
       "<text text-anchor=\"middle\" x=\"1099\" y=\"-68.8\" font-family=\"Times,serif\" font-size=\"14.00\">data 0.7000</text>\n",
       "<polyline fill=\"none\" stroke=\"black\" points=\"1139,-54.5 1139,-90.5\"/>\n",
       "<text text-anchor=\"middle\" x=\"1180\" y=\"-68.8\" font-family=\"Times,serif\" font-size=\"14.00\">grad 0.0000</text>\n",
       "</g>\n",
       "<!-- 4505785760+&#45;&gt;4505785760 -->\n",
       "<g id=\"edge3\" class=\"edge\">\n",
       "<title>4505785760+&#45;&gt;4505785760</title>\n",
       "<path fill=\"none\" stroke=\"black\" d=\"M1000.39,-72.5C1007.62,-72.5 1015.92,-72.5 1024.74,-72.5\"/>\n",
       "<polygon fill=\"black\" stroke=\"black\" points=\"1024.64,-76 1034.64,-72.5 1024.64,-69 1024.64,-76\"/>\n",
       "</g>\n",
       "<!-- 4505781728 -->\n",
       "<g id=\"node11\" class=\"node\">\n",
       "<title>4505781728</title>\n",
       "<polygon fill=\"none\" stroke=\"black\" points=\"326,-110.5 326,-146.5 540,-146.5 540,-110.5 326,-110.5\"/>\n",
       "<text text-anchor=\"middle\" x=\"349.5\" y=\"-124.8\" font-family=\"Times,serif\" font-size=\"14.00\">x1w1</text>\n",
       "<polyline fill=\"none\" stroke=\"black\" points=\"373,-110.5 373,-146.5\"/>\n",
       "<text text-anchor=\"middle\" x=\"415.5\" y=\"-124.8\" font-family=\"Times,serif\" font-size=\"14.00\">data &#45;6.0000</text>\n",
       "<polyline fill=\"none\" stroke=\"black\" points=\"458,-110.5 458,-146.5\"/>\n",
       "<text text-anchor=\"middle\" x=\"499\" y=\"-124.8\" font-family=\"Times,serif\" font-size=\"14.00\">grad 0.0000</text>\n",
       "</g>\n",
       "<!-- 4505781728&#45;&gt;4505785664+ -->\n",
       "<g id=\"edge9\" class=\"edge\">\n",
       "<title>4505781728&#45;&gt;4505785664+</title>\n",
       "<path fill=\"none\" stroke=\"black\" d=\"M539.92,-110.85C548.88,-109.35 557.49,-107.92 565.29,-106.62\"/>\n",
       "<polygon fill=\"black\" stroke=\"black\" points=\"565.66,-110.1 574.95,-105.01 564.51,-103.2 565.66,-110.1\"/>\n",
       "</g>\n",
       "<!-- 4505781728*&#45;&gt;4505781728 -->\n",
       "<g id=\"edge4\" class=\"edge\">\n",
       "<title>4505781728*&#45;&gt;4505781728</title>\n",
       "<path fill=\"none\" stroke=\"black\" d=\"M290.25,-128.5C297.53,-128.5 305.94,-128.5 314.95,-128.5\"/>\n",
       "<polygon fill=\"black\" stroke=\"black\" points=\"314.69,-132 324.69,-128.5 314.69,-125 314.69,-132\"/>\n",
       "</g>\n",
       "<!-- 4505647520 -->\n",
       "<g id=\"node13\" class=\"node\">\n",
       "<title>4505647520</title>\n",
       "<polygon fill=\"none\" stroke=\"black\" points=\"4,-110.5 4,-146.5 196,-146.5 196,-110.5 4,-110.5\"/>\n",
       "<text text-anchor=\"middle\" x=\"19\" y=\"-124.8\" font-family=\"Times,serif\" font-size=\"14.00\">x1</text>\n",
       "<polyline fill=\"none\" stroke=\"black\" points=\"34,-110.5 34,-146.5\"/>\n",
       "<text text-anchor=\"middle\" x=\"74\" y=\"-124.8\" font-family=\"Times,serif\" font-size=\"14.00\">data 2.0000</text>\n",
       "<polyline fill=\"none\" stroke=\"black\" points=\"114,-110.5 114,-146.5\"/>\n",
       "<text text-anchor=\"middle\" x=\"155\" y=\"-124.8\" font-family=\"Times,serif\" font-size=\"14.00\">grad 0.0000</text>\n",
       "</g>\n",
       "<!-- 4505647520&#45;&gt;4505781728* -->\n",
       "<g id=\"edge7\" class=\"edge\">\n",
       "<title>4505647520&#45;&gt;4505781728*</title>\n",
       "<path fill=\"none\" stroke=\"black\" d=\"M195.59,-128.5C205.66,-128.5 215.42,-128.5 224.23,-128.5\"/>\n",
       "<polygon fill=\"black\" stroke=\"black\" points=\"224.07,-132 234.07,-128.5 224.07,-125 224.07,-132\"/>\n",
       "</g>\n",
       "</g>\n",
       "</svg>\n"
      ],
      "text/plain": [
       "<graphviz.graphs.Digraph at 0x10c90d600>"
      ]
     },
     "execution_count": 31,
     "metadata": {},
     "output_type": "execute_result"
    }
   ],
   "source": [
    "# let's write one out\n",
    "\n",
    "# inputs x1, x2\n",
    "x1 = Value(2.0, label='x1')\n",
    "x2 = Value(0.0, label='x2')\n",
    "\n",
    "# weights w1, w2\n",
    "w1 = Value(-3.0, label='w1')\n",
    "w2 = Value(1.0, label='w2')\n",
    "# bias\n",
    "b = Value(6.7, label='b')\n",
    "\n",
    "x1w1 = x1*w1; x1w1.label = 'x1w1'\n",
    "x2w2 = x2*w2; x2w2.label = 'x2w2'\n",
    "x1w1x2w2 = x1w1 + x2w2; x1w1x2w2.label = 'x1w1x2w2'\n",
    "n = x1w1x2w2 + b; n.label = 'n' # n is the cell body's raw activation \n",
    "\n",
    "draw_dot(n)"
   ]
  },
  {
   "cell_type": "markdown",
   "id": "c659a6e7-93a7-42bd-9542-6577044725ec",
   "metadata": {},
   "source": [
    "But in order to produce the final output, our neuron (Value object here) needs to be able to do the $tanh$ function. \n",
    "We'll add it to our Value object and it's important to know that we can add any function we want as long as we know how to compute a local derivative for it."
   ]
  },
  {
   "cell_type": "code",
   "execution_count": 32,
   "id": "97adab31-a5ac-41b9-b7b1-53e717351653",
   "metadata": {
    "tags": []
   },
   "outputs": [],
   "source": [
    "class Value:\n",
    "    def __init__(self, data, _children=(), _op='', label=''):\n",
    "        self.data = data\n",
    "        self.grad = 0.0\n",
    "        self._prev = set(_children) \n",
    "        self._op = _op\n",
    "        self.label = label\n",
    "    \n",
    "    def __add__(self, other):\n",
    "        out = Value(self.data + other.data, (self, other), '+') \n",
    "        return out\n",
    "    \n",
    "    def __mul__(self, other):\n",
    "        out = Value(self.data * other.data, (self, other), '*')\n",
    "        return out\n",
    "    \n",
    "    def tanh(self):\n",
    "        x = self.data\n",
    "        t = (math.exp(2*x) - 1) / (math.exp(2*x) + 1)\n",
    "        out = Value(t, (self, ), 'tanh')\n",
    "        return out\n",
    "    \n",
    "    def __repr__(self):\n",
    "        return f\"Value(data={self.data})\""
   ]
  },
  {
   "cell_type": "code",
   "execution_count": 33,
   "id": "880af44c-a3c6-4899-8fba-b75e9e0f55e4",
   "metadata": {
    "tags": []
   },
   "outputs": [],
   "source": [
    "# inputs x1, x2\n",
    "x1 = Value(2.0, label='x1')\n",
    "x2 = Value(0.0, label='x2')\n",
    "\n",
    "# weights w1, w2\n",
    "w1 = Value(-3.0, label='w1')\n",
    "w2 = Value(1.0, label='w2')\n",
    "# bias\n",
    "b = Value(6.8813735870195432, label='b') # this value of b to make numbers nicer for us when we do backprop \n",
    "\n",
    "x1w1 = x1*w1; x1w1.label = 'x1w1'\n",
    "x2w2 = x2*w2; x2w2.label = 'x2w2'\n",
    "x1w1x2w2 = x1w1 + x2w2; x1w1x2w2.label = 'x1w1x2w2'\n",
    "n = x1w1x2w2 + b; n.label = 'n' # n is the cell body's raw activation \n",
    "o = n.tanh(); o.label = 'o'"
   ]
  },
  {
   "cell_type": "code",
   "execution_count": 34,
   "id": "9a5189f8-305a-4367-bb64-8e93bd54a8dd",
   "metadata": {
    "tags": []
   },
   "outputs": [
    {
     "data": {
      "image/svg+xml": [
       "<?xml version=\"1.0\" encoding=\"UTF-8\" standalone=\"no\"?>\n",
       "<!DOCTYPE svg PUBLIC \"-//W3C//DTD SVG 1.1//EN\"\n",
       " \"http://www.w3.org/Graphics/SVG/1.1/DTD/svg11.dtd\">\n",
       "<!-- Generated by graphviz version 7.1.0 (0)\n",
       " -->\n",
       "<!-- Pages: 1 -->\n",
       "<svg width=\"1540pt\" height=\"210pt\"\n",
       " viewBox=\"0.00 0.00 1540.00 210.00\" xmlns=\"http://www.w3.org/2000/svg\" xmlns:xlink=\"http://www.w3.org/1999/xlink\">\n",
       "<g id=\"graph0\" class=\"graph\" transform=\"scale(1 1) rotate(0) translate(4 206)\">\n",
       "<polygon fill=\"white\" stroke=\"none\" points=\"-4,4 -4,-206 1536,-206 1536,4 -4,4\"/>\n",
       "<!-- 4505640464 -->\n",
       "<g id=\"node1\" class=\"node\">\n",
       "<title>4505640464</title>\n",
       "<polygon fill=\"none\" stroke=\"black\" points=\"1036,-109.5 1036,-145.5 1221,-145.5 1221,-109.5 1036,-109.5\"/>\n",
       "<text text-anchor=\"middle\" x=\"1047.5\" y=\"-123.8\" font-family=\"Times,serif\" font-size=\"14.00\">n</text>\n",
       "<polyline fill=\"none\" stroke=\"black\" points=\"1059,-109.5 1059,-145.5\"/>\n",
       "<text text-anchor=\"middle\" x=\"1099\" y=\"-123.8\" font-family=\"Times,serif\" font-size=\"14.00\">data 0.8814</text>\n",
       "<polyline fill=\"none\" stroke=\"black\" points=\"1139,-109.5 1139,-145.5\"/>\n",
       "<text text-anchor=\"middle\" x=\"1180\" y=\"-123.8\" font-family=\"Times,serif\" font-size=\"14.00\">grad 0.0000</text>\n",
       "</g>\n",
       "<!-- 4505647664tanh -->\n",
       "<g id=\"node4\" class=\"node\">\n",
       "<title>4505647664tanh</title>\n",
       "<ellipse fill=\"none\" stroke=\"black\" cx=\"1284\" cy=\"-127.5\" rx=\"27\" ry=\"18\"/>\n",
       "<text text-anchor=\"middle\" x=\"1284\" y=\"-123.8\" font-family=\"Times,serif\" font-size=\"14.00\">tanh</text>\n",
       "</g>\n",
       "<!-- 4505640464&#45;&gt;4505647664tanh -->\n",
       "<g id=\"edge7\" class=\"edge\">\n",
       "<title>4505640464&#45;&gt;4505647664tanh</title>\n",
       "<path fill=\"none\" stroke=\"black\" d=\"M1220.57,-127.5C1229.21,-127.5 1237.6,-127.5 1245.28,-127.5\"/>\n",
       "<polygon fill=\"black\" stroke=\"black\" points=\"1245.19,-131 1255.19,-127.5 1245.19,-124 1245.19,-131\"/>\n",
       "</g>\n",
       "<!-- 4505640464+ -->\n",
       "<g id=\"node2\" class=\"node\">\n",
       "<title>4505640464+</title>\n",
       "<ellipse fill=\"none\" stroke=\"black\" cx=\"973\" cy=\"-127.5\" rx=\"27\" ry=\"18\"/>\n",
       "<text text-anchor=\"middle\" x=\"973\" y=\"-123.8\" font-family=\"Times,serif\" font-size=\"14.00\">+</text>\n",
       "</g>\n",
       "<!-- 4505640464+&#45;&gt;4505640464 -->\n",
       "<g id=\"edge1\" class=\"edge\">\n",
       "<title>4505640464+&#45;&gt;4505640464</title>\n",
       "<path fill=\"none\" stroke=\"black\" d=\"M1000.39,-127.5C1007.62,-127.5 1015.92,-127.5 1024.74,-127.5\"/>\n",
       "<polygon fill=\"black\" stroke=\"black\" points=\"1024.64,-131 1034.64,-127.5 1024.64,-124 1024.64,-131\"/>\n",
       "</g>\n",
       "<!-- 4505647664 -->\n",
       "<g id=\"node3\" class=\"node\">\n",
       "<title>4505647664</title>\n",
       "<polygon fill=\"none\" stroke=\"black\" points=\"1347,-109.5 1347,-145.5 1532,-145.5 1532,-109.5 1347,-109.5\"/>\n",
       "<text text-anchor=\"middle\" x=\"1358.5\" y=\"-123.8\" font-family=\"Times,serif\" font-size=\"14.00\">o</text>\n",
       "<polyline fill=\"none\" stroke=\"black\" points=\"1370,-109.5 1370,-145.5\"/>\n",
       "<text text-anchor=\"middle\" x=\"1410\" y=\"-123.8\" font-family=\"Times,serif\" font-size=\"14.00\">data 0.7071</text>\n",
       "<polyline fill=\"none\" stroke=\"black\" points=\"1450,-109.5 1450,-145.5\"/>\n",
       "<text text-anchor=\"middle\" x=\"1491\" y=\"-123.8\" font-family=\"Times,serif\" font-size=\"14.00\">grad 0.0000</text>\n",
       "</g>\n",
       "<!-- 4505647664tanh&#45;&gt;4505647664 -->\n",
       "<g id=\"edge2\" class=\"edge\">\n",
       "<title>4505647664tanh&#45;&gt;4505647664</title>\n",
       "<path fill=\"none\" stroke=\"black\" d=\"M1311.39,-127.5C1318.62,-127.5 1326.92,-127.5 1335.74,-127.5\"/>\n",
       "<polygon fill=\"black\" stroke=\"black\" points=\"1335.64,-131 1345.64,-127.5 1335.64,-124 1335.64,-131\"/>\n",
       "</g>\n",
       "<!-- 4505642096 -->\n",
       "<g id=\"node5\" class=\"node\">\n",
       "<title>4505642096</title>\n",
       "<polygon fill=\"none\" stroke=\"black\" points=\"4,-165.5 4,-201.5 196,-201.5 196,-165.5 4,-165.5\"/>\n",
       "<text text-anchor=\"middle\" x=\"19\" y=\"-179.8\" font-family=\"Times,serif\" font-size=\"14.00\">x1</text>\n",
       "<polyline fill=\"none\" stroke=\"black\" points=\"34,-165.5 34,-201.5\"/>\n",
       "<text text-anchor=\"middle\" x=\"74\" y=\"-179.8\" font-family=\"Times,serif\" font-size=\"14.00\">data 2.0000</text>\n",
       "<polyline fill=\"none\" stroke=\"black\" points=\"114,-165.5 114,-201.5\"/>\n",
       "<text text-anchor=\"middle\" x=\"155\" y=\"-179.8\" font-family=\"Times,serif\" font-size=\"14.00\">grad 0.0000</text>\n",
       "</g>\n",
       "<!-- 4505645216* -->\n",
       "<g id=\"node8\" class=\"node\">\n",
       "<title>4505645216*</title>\n",
       "<ellipse fill=\"none\" stroke=\"black\" cx=\"263\" cy=\"-128.5\" rx=\"27\" ry=\"18\"/>\n",
       "<text text-anchor=\"middle\" x=\"263\" y=\"-124.8\" font-family=\"Times,serif\" font-size=\"14.00\">*</text>\n",
       "</g>\n",
       "<!-- 4505642096&#45;&gt;4505645216* -->\n",
       "<g id=\"edge13\" class=\"edge\">\n",
       "<title>4505642096&#45;&gt;4505645216*</title>\n",
       "<path fill=\"none\" stroke=\"black\" d=\"M172.27,-165.52C181.67,-162.72 191.12,-159.7 200,-156.5 210.09,-152.87 220.83,-148.29 230.48,-143.89\"/>\n",
       "<polygon fill=\"black\" stroke=\"black\" points=\"231.87,-147.11 239.45,-139.71 228.91,-140.76 231.87,-147.11\"/>\n",
       "</g>\n",
       "<!-- 4505644160 -->\n",
       "<g id=\"node6\" class=\"node\">\n",
       "<title>4505644160</title>\n",
       "<polygon fill=\"none\" stroke=\"black\" points=\"4,-55.5 4,-91.5 196,-91.5 196,-55.5 4,-55.5\"/>\n",
       "<text text-anchor=\"middle\" x=\"19\" y=\"-69.8\" font-family=\"Times,serif\" font-size=\"14.00\">x2</text>\n",
       "<polyline fill=\"none\" stroke=\"black\" points=\"34,-55.5 34,-91.5\"/>\n",
       "<text text-anchor=\"middle\" x=\"74\" y=\"-69.8\" font-family=\"Times,serif\" font-size=\"14.00\">data 0.0000</text>\n",
       "<polyline fill=\"none\" stroke=\"black\" points=\"114,-55.5 114,-91.5\"/>\n",
       "<text text-anchor=\"middle\" x=\"155\" y=\"-69.8\" font-family=\"Times,serif\" font-size=\"14.00\">grad 0.0000</text>\n",
       "</g>\n",
       "<!-- 4505637824* -->\n",
       "<g id=\"node14\" class=\"node\">\n",
       "<title>4505637824*</title>\n",
       "<ellipse fill=\"none\" stroke=\"black\" cx=\"263\" cy=\"-73.5\" rx=\"27\" ry=\"18\"/>\n",
       "<text text-anchor=\"middle\" x=\"263\" y=\"-69.8\" font-family=\"Times,serif\" font-size=\"14.00\">*</text>\n",
       "</g>\n",
       "<!-- 4505644160&#45;&gt;4505637824* -->\n",
       "<g id=\"edge6\" class=\"edge\">\n",
       "<title>4505644160&#45;&gt;4505637824*</title>\n",
       "<path fill=\"none\" stroke=\"black\" d=\"M195.59,-73.5C205.66,-73.5 215.42,-73.5 224.23,-73.5\"/>\n",
       "<polygon fill=\"black\" stroke=\"black\" points=\"224.07,-77 234.07,-73.5 224.07,-70 224.07,-77\"/>\n",
       "</g>\n",
       "<!-- 4505645216 -->\n",
       "<g id=\"node7\" class=\"node\">\n",
       "<title>4505645216</title>\n",
       "<polygon fill=\"none\" stroke=\"black\" points=\"326,-110.5 326,-146.5 540,-146.5 540,-110.5 326,-110.5\"/>\n",
       "<text text-anchor=\"middle\" x=\"349.5\" y=\"-124.8\" font-family=\"Times,serif\" font-size=\"14.00\">x1w1</text>\n",
       "<polyline fill=\"none\" stroke=\"black\" points=\"373,-110.5 373,-146.5\"/>\n",
       "<text text-anchor=\"middle\" x=\"415.5\" y=\"-124.8\" font-family=\"Times,serif\" font-size=\"14.00\">data &#45;6.0000</text>\n",
       "<polyline fill=\"none\" stroke=\"black\" points=\"458,-110.5 458,-146.5\"/>\n",
       "<text text-anchor=\"middle\" x=\"499\" y=\"-124.8\" font-family=\"Times,serif\" font-size=\"14.00\">grad 0.0000</text>\n",
       "</g>\n",
       "<!-- 4505638256+ -->\n",
       "<g id=\"node11\" class=\"node\">\n",
       "<title>4505638256+</title>\n",
       "<ellipse fill=\"none\" stroke=\"black\" cx=\"603\" cy=\"-100.5\" rx=\"27\" ry=\"18\"/>\n",
       "<text text-anchor=\"middle\" x=\"603\" y=\"-96.8\" font-family=\"Times,serif\" font-size=\"14.00\">+</text>\n",
       "</g>\n",
       "<!-- 4505645216&#45;&gt;4505638256+ -->\n",
       "<g id=\"edge14\" class=\"edge\">\n",
       "<title>4505645216&#45;&gt;4505638256+</title>\n",
       "<path fill=\"none\" stroke=\"black\" d=\"M539.92,-110.85C548.88,-109.35 557.49,-107.92 565.29,-106.62\"/>\n",
       "<polygon fill=\"black\" stroke=\"black\" points=\"565.66,-110.1 574.95,-105.01 564.51,-103.2 565.66,-110.1\"/>\n",
       "</g>\n",
       "<!-- 4505645216*&#45;&gt;4505645216 -->\n",
       "<g id=\"edge3\" class=\"edge\">\n",
       "<title>4505645216*&#45;&gt;4505645216</title>\n",
       "<path fill=\"none\" stroke=\"black\" d=\"M290.25,-128.5C297.53,-128.5 305.94,-128.5 314.95,-128.5\"/>\n",
       "<polygon fill=\"black\" stroke=\"black\" points=\"314.69,-132 324.69,-128.5 314.69,-125 314.69,-132\"/>\n",
       "</g>\n",
       "<!-- 4505646272 -->\n",
       "<g id=\"node9\" class=\"node\">\n",
       "<title>4505646272</title>\n",
       "<polygon fill=\"none\" stroke=\"black\" points=\"695.5,-137.5 695.5,-173.5 880.5,-173.5 880.5,-137.5 695.5,-137.5\"/>\n",
       "<text text-anchor=\"middle\" x=\"707\" y=\"-151.8\" font-family=\"Times,serif\" font-size=\"14.00\">b</text>\n",
       "<polyline fill=\"none\" stroke=\"black\" points=\"718.5,-137.5 718.5,-173.5\"/>\n",
       "<text text-anchor=\"middle\" x=\"758.5\" y=\"-151.8\" font-family=\"Times,serif\" font-size=\"14.00\">data 6.8814</text>\n",
       "<polyline fill=\"none\" stroke=\"black\" points=\"798.5,-137.5 798.5,-173.5\"/>\n",
       "<text text-anchor=\"middle\" x=\"839.5\" y=\"-151.8\" font-family=\"Times,serif\" font-size=\"14.00\">grad 0.0000</text>\n",
       "</g>\n",
       "<!-- 4505646272&#45;&gt;4505640464+ -->\n",
       "<g id=\"edge10\" class=\"edge\">\n",
       "<title>4505646272&#45;&gt;4505640464+</title>\n",
       "<path fill=\"none\" stroke=\"black\" d=\"M880.5,-141.5C899.91,-138.53 919.33,-135.56 935.25,-133.12\"/>\n",
       "<polygon fill=\"black\" stroke=\"black\" points=\"935.32,-136.65 944.67,-131.68 934.26,-129.73 935.32,-136.65\"/>\n",
       "</g>\n",
       "<!-- 4505638256 -->\n",
       "<g id=\"node10\" class=\"node\">\n",
       "<title>4505638256</title>\n",
       "<polygon fill=\"none\" stroke=\"black\" points=\"666,-82.5 666,-118.5 910,-118.5 910,-82.5 666,-82.5\"/>\n",
       "<text text-anchor=\"middle\" x=\"704.5\" y=\"-96.8\" font-family=\"Times,serif\" font-size=\"14.00\">x1w1x2w2</text>\n",
       "<polyline fill=\"none\" stroke=\"black\" points=\"743,-82.5 743,-118.5\"/>\n",
       "<text text-anchor=\"middle\" x=\"785.5\" y=\"-96.8\" font-family=\"Times,serif\" font-size=\"14.00\">data &#45;6.0000</text>\n",
       "<polyline fill=\"none\" stroke=\"black\" points=\"828,-82.5 828,-118.5\"/>\n",
       "<text text-anchor=\"middle\" x=\"869\" y=\"-96.8\" font-family=\"Times,serif\" font-size=\"14.00\">grad 0.0000</text>\n",
       "</g>\n",
       "<!-- 4505638256&#45;&gt;4505640464+ -->\n",
       "<g id=\"edge8\" class=\"edge\">\n",
       "<title>4505638256&#45;&gt;4505640464+</title>\n",
       "<path fill=\"none\" stroke=\"black\" d=\"M909.79,-118.32C918.72,-119.64 927.23,-120.89 934.93,-122.03\"/>\n",
       "<polygon fill=\"black\" stroke=\"black\" points=\"934.42,-125.49 944.82,-123.49 935.44,-118.57 934.42,-125.49\"/>\n",
       "</g>\n",
       "<!-- 4505638256+&#45;&gt;4505638256 -->\n",
       "<g id=\"edge4\" class=\"edge\">\n",
       "<title>4505638256+&#45;&gt;4505638256</title>\n",
       "<path fill=\"none\" stroke=\"black\" d=\"M630.22,-100.5C637.46,-100.5 645.83,-100.5 654.87,-100.5\"/>\n",
       "<polygon fill=\"black\" stroke=\"black\" points=\"654.68,-104 664.68,-100.5 654.68,-97 654.68,-104\"/>\n",
       "</g>\n",
       "<!-- 4505645984 -->\n",
       "<g id=\"node12\" class=\"node\">\n",
       "<title>4505645984</title>\n",
       "<polygon fill=\"none\" stroke=\"black\" points=\"2.5,-0.5 2.5,-36.5 197.5,-36.5 197.5,-0.5 2.5,-0.5\"/>\n",
       "<text text-anchor=\"middle\" x=\"19\" y=\"-14.8\" font-family=\"Times,serif\" font-size=\"14.00\">w2</text>\n",
       "<polyline fill=\"none\" stroke=\"black\" points=\"35.5,-0.5 35.5,-36.5\"/>\n",
       "<text text-anchor=\"middle\" x=\"75.5\" y=\"-14.8\" font-family=\"Times,serif\" font-size=\"14.00\">data 1.0000</text>\n",
       "<polyline fill=\"none\" stroke=\"black\" points=\"115.5,-0.5 115.5,-36.5\"/>\n",
       "<text text-anchor=\"middle\" x=\"156.5\" y=\"-14.8\" font-family=\"Times,serif\" font-size=\"14.00\">grad 0.0000</text>\n",
       "</g>\n",
       "<!-- 4505645984&#45;&gt;4505637824* -->\n",
       "<g id=\"edge9\" class=\"edge\">\n",
       "<title>4505645984&#45;&gt;4505637824*</title>\n",
       "<path fill=\"none\" stroke=\"black\" d=\"M169.02,-36.42C179.47,-39.56 190.08,-42.95 200,-46.5 209.96,-50.06 220.59,-54.46 230.18,-58.66\"/>\n",
       "<polygon fill=\"black\" stroke=\"black\" points=\"228.54,-61.76 239.1,-62.66 231.4,-55.37 228.54,-61.76\"/>\n",
       "</g>\n",
       "<!-- 4505637824 -->\n",
       "<g id=\"node13\" class=\"node\">\n",
       "<title>4505637824</title>\n",
       "<polygon fill=\"none\" stroke=\"black\" points=\"328.5,-55.5 328.5,-91.5 537.5,-91.5 537.5,-55.5 328.5,-55.5\"/>\n",
       "<text text-anchor=\"middle\" x=\"352\" y=\"-69.8\" font-family=\"Times,serif\" font-size=\"14.00\">x2w2</text>\n",
       "<polyline fill=\"none\" stroke=\"black\" points=\"375.5,-55.5 375.5,-91.5\"/>\n",
       "<text text-anchor=\"middle\" x=\"415.5\" y=\"-69.8\" font-family=\"Times,serif\" font-size=\"14.00\">data 0.0000</text>\n",
       "<polyline fill=\"none\" stroke=\"black\" points=\"455.5,-55.5 455.5,-91.5\"/>\n",
       "<text text-anchor=\"middle\" x=\"496.5\" y=\"-69.8\" font-family=\"Times,serif\" font-size=\"14.00\">grad 0.0000</text>\n",
       "</g>\n",
       "<!-- 4505637824&#45;&gt;4505638256+ -->\n",
       "<g id=\"edge11\" class=\"edge\">\n",
       "<title>4505637824&#45;&gt;4505638256+</title>\n",
       "<path fill=\"none\" stroke=\"black\" d=\"M537.05,-90.06C547.04,-91.67 556.65,-93.21 565.28,-94.6\"/>\n",
       "<polygon fill=\"black\" stroke=\"black\" points=\"564.45,-98.01 574.88,-96.14 565.56,-91.1 564.45,-98.01\"/>\n",
       "</g>\n",
       "<!-- 4505637824*&#45;&gt;4505637824 -->\n",
       "<g id=\"edge5\" class=\"edge\">\n",
       "<title>4505637824*&#45;&gt;4505637824</title>\n",
       "<path fill=\"none\" stroke=\"black\" d=\"M290.25,-73.5C298.16,-73.5 307.4,-73.5 317.3,-73.5\"/>\n",
       "<polygon fill=\"black\" stroke=\"black\" points=\"317.2,-77 327.2,-73.5 317.2,-70 317.2,-77\"/>\n",
       "</g>\n",
       "<!-- 4505642480 -->\n",
       "<g id=\"node15\" class=\"node\">\n",
       "<title>4505642480</title>\n",
       "<polygon fill=\"none\" stroke=\"black\" points=\"0,-110.5 0,-146.5 200,-146.5 200,-110.5 0,-110.5\"/>\n",
       "<text text-anchor=\"middle\" x=\"16.5\" y=\"-124.8\" font-family=\"Times,serif\" font-size=\"14.00\">w1</text>\n",
       "<polyline fill=\"none\" stroke=\"black\" points=\"33,-110.5 33,-146.5\"/>\n",
       "<text text-anchor=\"middle\" x=\"75.5\" y=\"-124.8\" font-family=\"Times,serif\" font-size=\"14.00\">data &#45;3.0000</text>\n",
       "<polyline fill=\"none\" stroke=\"black\" points=\"118,-110.5 118,-146.5\"/>\n",
       "<text text-anchor=\"middle\" x=\"159\" y=\"-124.8\" font-family=\"Times,serif\" font-size=\"14.00\">grad 0.0000</text>\n",
       "</g>\n",
       "<!-- 4505642480&#45;&gt;4505645216* -->\n",
       "<g id=\"edge12\" class=\"edge\">\n",
       "<title>4505642480&#45;&gt;4505645216*</title>\n",
       "<path fill=\"none\" stroke=\"black\" d=\"M199.75,-128.5C208.38,-128.5 216.71,-128.5 224.33,-128.5\"/>\n",
       "<polygon fill=\"black\" stroke=\"black\" points=\"224.12,-132 234.12,-128.5 224.12,-125 224.12,-132\"/>\n",
       "</g>\n",
       "</g>\n",
       "</svg>\n"
      ],
      "text/plain": [
       "<graphviz.graphs.Digraph at 0x10c8e9030>"
      ]
     },
     "execution_count": 34,
     "metadata": {},
     "output_type": "execute_result"
    }
   ],
   "source": [
    "draw_dot(o)"
   ]
  },
  {
   "cell_type": "markdown",
   "id": "63dc2dff-fc1d-4407-a2f9-74303ed5071e",
   "metadata": {},
   "source": [
    "Let's do the same for this NN here as we did above starting from the final node\n",
    "\n",
    "$do / do = 1.0$\n",
    "\n",
    "$do / dn = ??$\n",
    "\n",
    "$ o = tanh(n) $ \n",
    "\n",
    "We look for the derivative of that from wikipedia. We search for a nice formula (there are many) : https://en.wikipedia.org/wiki/Differentiation_rules\n",
    "\n",
    "we find $ tanh(x)' = 1 - tanh^2(x) $\n",
    "\n",
    "That makes: $ do / dn = 1 - tanh^2(n) = 1 - o^2 $\n",
    "\n",
    "Then we proceed as usual: (see in code)"
   ]
  },
  {
   "cell_type": "code",
   "execution_count": 35,
   "id": "e21b5132-bafa-4cf0-bddf-9fd183120999",
   "metadata": {
    "tags": []
   },
   "outputs": [],
   "source": [
    "o.grad = 1.0\n",
    "n.grad = 0.5 # 1 - o.data**2"
   ]
  },
  {
   "cell_type": "code",
   "execution_count": 36,
   "id": "8e148bbd-f405-424a-9a73-591c18b72d95",
   "metadata": {
    "tags": []
   },
   "outputs": [
    {
     "data": {
      "text/plain": [
       "0.4999999999999999"
      ]
     },
     "execution_count": 36,
     "metadata": {},
     "output_type": "execute_result"
    }
   ],
   "source": [
    "1 - o.data**2"
   ]
  },
  {
   "cell_type": "code",
   "execution_count": 37,
   "id": "237aea3c-7817-430a-8f79-fbfdac5961f0",
   "metadata": {
    "tags": []
   },
   "outputs": [],
   "source": [
    "x1w1x2w2.grad = 0.5 # since + operation\n",
    "b.grad = 0.5 # same\n",
    "x1w1.grad = 0.5 #same \n",
    "x2w2.grad = 0.5 #same"
   ]
  },
  {
   "cell_type": "code",
   "execution_count": 38,
   "id": "55834a26-336a-40e3-8c85-4bfc6502233e",
   "metadata": {
    "tags": []
   },
   "outputs": [],
   "source": [
    "w2.grad = x2.data * x2w2.grad\n",
    "x2.grad = w2.data * x2w2.grad\n",
    "w1.grad = x1.data * x1w1.grad\n",
    "x1.grad = w1.data * x1w1.grad"
   ]
  },
  {
   "cell_type": "code",
   "execution_count": 39,
   "id": "e0c22cfe-2262-4e05-9ccd-f89d14f90808",
   "metadata": {
    "tags": []
   },
   "outputs": [
    {
     "data": {
      "image/svg+xml": [
       "<?xml version=\"1.0\" encoding=\"UTF-8\" standalone=\"no\"?>\n",
       "<!DOCTYPE svg PUBLIC \"-//W3C//DTD SVG 1.1//EN\"\n",
       " \"http://www.w3.org/Graphics/SVG/1.1/DTD/svg11.dtd\">\n",
       "<!-- Generated by graphviz version 7.1.0 (0)\n",
       " -->\n",
       "<!-- Pages: 1 -->\n",
       "<svg width=\"1540pt\" height=\"210pt\"\n",
       " viewBox=\"0.00 0.00 1540.00 210.00\" xmlns=\"http://www.w3.org/2000/svg\" xmlns:xlink=\"http://www.w3.org/1999/xlink\">\n",
       "<g id=\"graph0\" class=\"graph\" transform=\"scale(1 1) rotate(0) translate(4 206)\">\n",
       "<polygon fill=\"white\" stroke=\"none\" points=\"-4,4 -4,-206 1536,-206 1536,4 -4,4\"/>\n",
       "<!-- 4505640464 -->\n",
       "<g id=\"node1\" class=\"node\">\n",
       "<title>4505640464</title>\n",
       "<polygon fill=\"none\" stroke=\"black\" points=\"1036,-109.5 1036,-145.5 1221,-145.5 1221,-109.5 1036,-109.5\"/>\n",
       "<text text-anchor=\"middle\" x=\"1047.5\" y=\"-123.8\" font-family=\"Times,serif\" font-size=\"14.00\">n</text>\n",
       "<polyline fill=\"none\" stroke=\"black\" points=\"1059,-109.5 1059,-145.5\"/>\n",
       "<text text-anchor=\"middle\" x=\"1099\" y=\"-123.8\" font-family=\"Times,serif\" font-size=\"14.00\">data 0.8814</text>\n",
       "<polyline fill=\"none\" stroke=\"black\" points=\"1139,-109.5 1139,-145.5\"/>\n",
       "<text text-anchor=\"middle\" x=\"1180\" y=\"-123.8\" font-family=\"Times,serif\" font-size=\"14.00\">grad 0.5000</text>\n",
       "</g>\n",
       "<!-- 4505647664tanh -->\n",
       "<g id=\"node4\" class=\"node\">\n",
       "<title>4505647664tanh</title>\n",
       "<ellipse fill=\"none\" stroke=\"black\" cx=\"1284\" cy=\"-127.5\" rx=\"27\" ry=\"18\"/>\n",
       "<text text-anchor=\"middle\" x=\"1284\" y=\"-123.8\" font-family=\"Times,serif\" font-size=\"14.00\">tanh</text>\n",
       "</g>\n",
       "<!-- 4505640464&#45;&gt;4505647664tanh -->\n",
       "<g id=\"edge7\" class=\"edge\">\n",
       "<title>4505640464&#45;&gt;4505647664tanh</title>\n",
       "<path fill=\"none\" stroke=\"black\" d=\"M1220.57,-127.5C1229.21,-127.5 1237.6,-127.5 1245.28,-127.5\"/>\n",
       "<polygon fill=\"black\" stroke=\"black\" points=\"1245.19,-131 1255.19,-127.5 1245.19,-124 1245.19,-131\"/>\n",
       "</g>\n",
       "<!-- 4505640464+ -->\n",
       "<g id=\"node2\" class=\"node\">\n",
       "<title>4505640464+</title>\n",
       "<ellipse fill=\"none\" stroke=\"black\" cx=\"973\" cy=\"-127.5\" rx=\"27\" ry=\"18\"/>\n",
       "<text text-anchor=\"middle\" x=\"973\" y=\"-123.8\" font-family=\"Times,serif\" font-size=\"14.00\">+</text>\n",
       "</g>\n",
       "<!-- 4505640464+&#45;&gt;4505640464 -->\n",
       "<g id=\"edge1\" class=\"edge\">\n",
       "<title>4505640464+&#45;&gt;4505640464</title>\n",
       "<path fill=\"none\" stroke=\"black\" d=\"M1000.39,-127.5C1007.62,-127.5 1015.92,-127.5 1024.74,-127.5\"/>\n",
       "<polygon fill=\"black\" stroke=\"black\" points=\"1024.64,-131 1034.64,-127.5 1024.64,-124 1024.64,-131\"/>\n",
       "</g>\n",
       "<!-- 4505647664 -->\n",
       "<g id=\"node3\" class=\"node\">\n",
       "<title>4505647664</title>\n",
       "<polygon fill=\"none\" stroke=\"black\" points=\"1347,-109.5 1347,-145.5 1532,-145.5 1532,-109.5 1347,-109.5\"/>\n",
       "<text text-anchor=\"middle\" x=\"1358.5\" y=\"-123.8\" font-family=\"Times,serif\" font-size=\"14.00\">o</text>\n",
       "<polyline fill=\"none\" stroke=\"black\" points=\"1370,-109.5 1370,-145.5\"/>\n",
       "<text text-anchor=\"middle\" x=\"1410\" y=\"-123.8\" font-family=\"Times,serif\" font-size=\"14.00\">data 0.7071</text>\n",
       "<polyline fill=\"none\" stroke=\"black\" points=\"1450,-109.5 1450,-145.5\"/>\n",
       "<text text-anchor=\"middle\" x=\"1491\" y=\"-123.8\" font-family=\"Times,serif\" font-size=\"14.00\">grad 1.0000</text>\n",
       "</g>\n",
       "<!-- 4505647664tanh&#45;&gt;4505647664 -->\n",
       "<g id=\"edge2\" class=\"edge\">\n",
       "<title>4505647664tanh&#45;&gt;4505647664</title>\n",
       "<path fill=\"none\" stroke=\"black\" d=\"M1311.39,-127.5C1318.62,-127.5 1326.92,-127.5 1335.74,-127.5\"/>\n",
       "<polygon fill=\"black\" stroke=\"black\" points=\"1335.64,-131 1345.64,-127.5 1335.64,-124 1335.64,-131\"/>\n",
       "</g>\n",
       "<!-- 4505642096 -->\n",
       "<g id=\"node5\" class=\"node\">\n",
       "<title>4505642096</title>\n",
       "<polygon fill=\"none\" stroke=\"black\" points=\"2,-165.5 2,-201.5 198,-201.5 198,-165.5 2,-165.5\"/>\n",
       "<text text-anchor=\"middle\" x=\"17\" y=\"-179.8\" font-family=\"Times,serif\" font-size=\"14.00\">x1</text>\n",
       "<polyline fill=\"none\" stroke=\"black\" points=\"32,-165.5 32,-201.5\"/>\n",
       "<text text-anchor=\"middle\" x=\"72\" y=\"-179.8\" font-family=\"Times,serif\" font-size=\"14.00\">data 2.0000</text>\n",
       "<polyline fill=\"none\" stroke=\"black\" points=\"112,-165.5 112,-201.5\"/>\n",
       "<text text-anchor=\"middle\" x=\"155\" y=\"-179.8\" font-family=\"Times,serif\" font-size=\"14.00\">grad &#45;1.5000</text>\n",
       "</g>\n",
       "<!-- 4505645216* -->\n",
       "<g id=\"node8\" class=\"node\">\n",
       "<title>4505645216*</title>\n",
       "<ellipse fill=\"none\" stroke=\"black\" cx=\"263\" cy=\"-128.5\" rx=\"27\" ry=\"18\"/>\n",
       "<text text-anchor=\"middle\" x=\"263\" y=\"-124.8\" font-family=\"Times,serif\" font-size=\"14.00\">*</text>\n",
       "</g>\n",
       "<!-- 4505642096&#45;&gt;4505645216* -->\n",
       "<g id=\"edge13\" class=\"edge\">\n",
       "<title>4505642096&#45;&gt;4505645216*</title>\n",
       "<path fill=\"none\" stroke=\"black\" d=\"M172.27,-165.52C181.67,-162.72 191.12,-159.7 200,-156.5 210.09,-152.87 220.83,-148.29 230.48,-143.89\"/>\n",
       "<polygon fill=\"black\" stroke=\"black\" points=\"231.87,-147.11 239.45,-139.71 228.91,-140.76 231.87,-147.11\"/>\n",
       "</g>\n",
       "<!-- 4505644160 -->\n",
       "<g id=\"node6\" class=\"node\">\n",
       "<title>4505644160</title>\n",
       "<polygon fill=\"none\" stroke=\"black\" points=\"4,-55.5 4,-91.5 196,-91.5 196,-55.5 4,-55.5\"/>\n",
       "<text text-anchor=\"middle\" x=\"19\" y=\"-69.8\" font-family=\"Times,serif\" font-size=\"14.00\">x2</text>\n",
       "<polyline fill=\"none\" stroke=\"black\" points=\"34,-55.5 34,-91.5\"/>\n",
       "<text text-anchor=\"middle\" x=\"74\" y=\"-69.8\" font-family=\"Times,serif\" font-size=\"14.00\">data 0.0000</text>\n",
       "<polyline fill=\"none\" stroke=\"black\" points=\"114,-55.5 114,-91.5\"/>\n",
       "<text text-anchor=\"middle\" x=\"155\" y=\"-69.8\" font-family=\"Times,serif\" font-size=\"14.00\">grad 0.5000</text>\n",
       "</g>\n",
       "<!-- 4505637824* -->\n",
       "<g id=\"node14\" class=\"node\">\n",
       "<title>4505637824*</title>\n",
       "<ellipse fill=\"none\" stroke=\"black\" cx=\"263\" cy=\"-73.5\" rx=\"27\" ry=\"18\"/>\n",
       "<text text-anchor=\"middle\" x=\"263\" y=\"-69.8\" font-family=\"Times,serif\" font-size=\"14.00\">*</text>\n",
       "</g>\n",
       "<!-- 4505644160&#45;&gt;4505637824* -->\n",
       "<g id=\"edge6\" class=\"edge\">\n",
       "<title>4505644160&#45;&gt;4505637824*</title>\n",
       "<path fill=\"none\" stroke=\"black\" d=\"M195.59,-73.5C205.66,-73.5 215.42,-73.5 224.23,-73.5\"/>\n",
       "<polygon fill=\"black\" stroke=\"black\" points=\"224.07,-77 234.07,-73.5 224.07,-70 224.07,-77\"/>\n",
       "</g>\n",
       "<!-- 4505645216 -->\n",
       "<g id=\"node7\" class=\"node\">\n",
       "<title>4505645216</title>\n",
       "<polygon fill=\"none\" stroke=\"black\" points=\"326,-110.5 326,-146.5 540,-146.5 540,-110.5 326,-110.5\"/>\n",
       "<text text-anchor=\"middle\" x=\"349.5\" y=\"-124.8\" font-family=\"Times,serif\" font-size=\"14.00\">x1w1</text>\n",
       "<polyline fill=\"none\" stroke=\"black\" points=\"373,-110.5 373,-146.5\"/>\n",
       "<text text-anchor=\"middle\" x=\"415.5\" y=\"-124.8\" font-family=\"Times,serif\" font-size=\"14.00\">data &#45;6.0000</text>\n",
       "<polyline fill=\"none\" stroke=\"black\" points=\"458,-110.5 458,-146.5\"/>\n",
       "<text text-anchor=\"middle\" x=\"499\" y=\"-124.8\" font-family=\"Times,serif\" font-size=\"14.00\">grad 0.5000</text>\n",
       "</g>\n",
       "<!-- 4505638256+ -->\n",
       "<g id=\"node11\" class=\"node\">\n",
       "<title>4505638256+</title>\n",
       "<ellipse fill=\"none\" stroke=\"black\" cx=\"603\" cy=\"-100.5\" rx=\"27\" ry=\"18\"/>\n",
       "<text text-anchor=\"middle\" x=\"603\" y=\"-96.8\" font-family=\"Times,serif\" font-size=\"14.00\">+</text>\n",
       "</g>\n",
       "<!-- 4505645216&#45;&gt;4505638256+ -->\n",
       "<g id=\"edge14\" class=\"edge\">\n",
       "<title>4505645216&#45;&gt;4505638256+</title>\n",
       "<path fill=\"none\" stroke=\"black\" d=\"M539.92,-110.85C548.88,-109.35 557.49,-107.92 565.29,-106.62\"/>\n",
       "<polygon fill=\"black\" stroke=\"black\" points=\"565.66,-110.1 574.95,-105.01 564.51,-103.2 565.66,-110.1\"/>\n",
       "</g>\n",
       "<!-- 4505645216*&#45;&gt;4505645216 -->\n",
       "<g id=\"edge3\" class=\"edge\">\n",
       "<title>4505645216*&#45;&gt;4505645216</title>\n",
       "<path fill=\"none\" stroke=\"black\" d=\"M290.25,-128.5C297.53,-128.5 305.94,-128.5 314.95,-128.5\"/>\n",
       "<polygon fill=\"black\" stroke=\"black\" points=\"314.69,-132 324.69,-128.5 314.69,-125 314.69,-132\"/>\n",
       "</g>\n",
       "<!-- 4505646272 -->\n",
       "<g id=\"node9\" class=\"node\">\n",
       "<title>4505646272</title>\n",
       "<polygon fill=\"none\" stroke=\"black\" points=\"695.5,-137.5 695.5,-173.5 880.5,-173.5 880.5,-137.5 695.5,-137.5\"/>\n",
       "<text text-anchor=\"middle\" x=\"707\" y=\"-151.8\" font-family=\"Times,serif\" font-size=\"14.00\">b</text>\n",
       "<polyline fill=\"none\" stroke=\"black\" points=\"718.5,-137.5 718.5,-173.5\"/>\n",
       "<text text-anchor=\"middle\" x=\"758.5\" y=\"-151.8\" font-family=\"Times,serif\" font-size=\"14.00\">data 6.8814</text>\n",
       "<polyline fill=\"none\" stroke=\"black\" points=\"798.5,-137.5 798.5,-173.5\"/>\n",
       "<text text-anchor=\"middle\" x=\"839.5\" y=\"-151.8\" font-family=\"Times,serif\" font-size=\"14.00\">grad 0.5000</text>\n",
       "</g>\n",
       "<!-- 4505646272&#45;&gt;4505640464+ -->\n",
       "<g id=\"edge10\" class=\"edge\">\n",
       "<title>4505646272&#45;&gt;4505640464+</title>\n",
       "<path fill=\"none\" stroke=\"black\" d=\"M880.5,-141.5C899.91,-138.53 919.33,-135.56 935.25,-133.12\"/>\n",
       "<polygon fill=\"black\" stroke=\"black\" points=\"935.32,-136.65 944.67,-131.68 934.26,-129.73 935.32,-136.65\"/>\n",
       "</g>\n",
       "<!-- 4505638256 -->\n",
       "<g id=\"node10\" class=\"node\">\n",
       "<title>4505638256</title>\n",
       "<polygon fill=\"none\" stroke=\"black\" points=\"666,-82.5 666,-118.5 910,-118.5 910,-82.5 666,-82.5\"/>\n",
       "<text text-anchor=\"middle\" x=\"704.5\" y=\"-96.8\" font-family=\"Times,serif\" font-size=\"14.00\">x1w1x2w2</text>\n",
       "<polyline fill=\"none\" stroke=\"black\" points=\"743,-82.5 743,-118.5\"/>\n",
       "<text text-anchor=\"middle\" x=\"785.5\" y=\"-96.8\" font-family=\"Times,serif\" font-size=\"14.00\">data &#45;6.0000</text>\n",
       "<polyline fill=\"none\" stroke=\"black\" points=\"828,-82.5 828,-118.5\"/>\n",
       "<text text-anchor=\"middle\" x=\"869\" y=\"-96.8\" font-family=\"Times,serif\" font-size=\"14.00\">grad 0.5000</text>\n",
       "</g>\n",
       "<!-- 4505638256&#45;&gt;4505640464+ -->\n",
       "<g id=\"edge8\" class=\"edge\">\n",
       "<title>4505638256&#45;&gt;4505640464+</title>\n",
       "<path fill=\"none\" stroke=\"black\" d=\"M909.79,-118.32C918.72,-119.64 927.23,-120.89 934.93,-122.03\"/>\n",
       "<polygon fill=\"black\" stroke=\"black\" points=\"934.42,-125.49 944.82,-123.49 935.44,-118.57 934.42,-125.49\"/>\n",
       "</g>\n",
       "<!-- 4505638256+&#45;&gt;4505638256 -->\n",
       "<g id=\"edge4\" class=\"edge\">\n",
       "<title>4505638256+&#45;&gt;4505638256</title>\n",
       "<path fill=\"none\" stroke=\"black\" d=\"M630.22,-100.5C637.46,-100.5 645.83,-100.5 654.87,-100.5\"/>\n",
       "<polygon fill=\"black\" stroke=\"black\" points=\"654.68,-104 664.68,-100.5 654.68,-97 654.68,-104\"/>\n",
       "</g>\n",
       "<!-- 4505645984 -->\n",
       "<g id=\"node12\" class=\"node\">\n",
       "<title>4505645984</title>\n",
       "<polygon fill=\"none\" stroke=\"black\" points=\"2.5,-0.5 2.5,-36.5 197.5,-36.5 197.5,-0.5 2.5,-0.5\"/>\n",
       "<text text-anchor=\"middle\" x=\"19\" y=\"-14.8\" font-family=\"Times,serif\" font-size=\"14.00\">w2</text>\n",
       "<polyline fill=\"none\" stroke=\"black\" points=\"35.5,-0.5 35.5,-36.5\"/>\n",
       "<text text-anchor=\"middle\" x=\"75.5\" y=\"-14.8\" font-family=\"Times,serif\" font-size=\"14.00\">data 1.0000</text>\n",
       "<polyline fill=\"none\" stroke=\"black\" points=\"115.5,-0.5 115.5,-36.5\"/>\n",
       "<text text-anchor=\"middle\" x=\"156.5\" y=\"-14.8\" font-family=\"Times,serif\" font-size=\"14.00\">grad 0.0000</text>\n",
       "</g>\n",
       "<!-- 4505645984&#45;&gt;4505637824* -->\n",
       "<g id=\"edge9\" class=\"edge\">\n",
       "<title>4505645984&#45;&gt;4505637824*</title>\n",
       "<path fill=\"none\" stroke=\"black\" d=\"M169.02,-36.42C179.47,-39.56 190.08,-42.95 200,-46.5 209.96,-50.06 220.59,-54.46 230.18,-58.66\"/>\n",
       "<polygon fill=\"black\" stroke=\"black\" points=\"228.54,-61.76 239.1,-62.66 231.4,-55.37 228.54,-61.76\"/>\n",
       "</g>\n",
       "<!-- 4505637824 -->\n",
       "<g id=\"node13\" class=\"node\">\n",
       "<title>4505637824</title>\n",
       "<polygon fill=\"none\" stroke=\"black\" points=\"328.5,-55.5 328.5,-91.5 537.5,-91.5 537.5,-55.5 328.5,-55.5\"/>\n",
       "<text text-anchor=\"middle\" x=\"352\" y=\"-69.8\" font-family=\"Times,serif\" font-size=\"14.00\">x2w2</text>\n",
       "<polyline fill=\"none\" stroke=\"black\" points=\"375.5,-55.5 375.5,-91.5\"/>\n",
       "<text text-anchor=\"middle\" x=\"415.5\" y=\"-69.8\" font-family=\"Times,serif\" font-size=\"14.00\">data 0.0000</text>\n",
       "<polyline fill=\"none\" stroke=\"black\" points=\"455.5,-55.5 455.5,-91.5\"/>\n",
       "<text text-anchor=\"middle\" x=\"496.5\" y=\"-69.8\" font-family=\"Times,serif\" font-size=\"14.00\">grad 0.5000</text>\n",
       "</g>\n",
       "<!-- 4505637824&#45;&gt;4505638256+ -->\n",
       "<g id=\"edge11\" class=\"edge\">\n",
       "<title>4505637824&#45;&gt;4505638256+</title>\n",
       "<path fill=\"none\" stroke=\"black\" d=\"M537.05,-90.06C547.04,-91.67 556.65,-93.21 565.28,-94.6\"/>\n",
       "<polygon fill=\"black\" stroke=\"black\" points=\"564.45,-98.01 574.88,-96.14 565.56,-91.1 564.45,-98.01\"/>\n",
       "</g>\n",
       "<!-- 4505637824*&#45;&gt;4505637824 -->\n",
       "<g id=\"edge5\" class=\"edge\">\n",
       "<title>4505637824*&#45;&gt;4505637824</title>\n",
       "<path fill=\"none\" stroke=\"black\" d=\"M290.25,-73.5C298.16,-73.5 307.4,-73.5 317.3,-73.5\"/>\n",
       "<polygon fill=\"black\" stroke=\"black\" points=\"317.2,-77 327.2,-73.5 317.2,-70 317.2,-77\"/>\n",
       "</g>\n",
       "<!-- 4505642480 -->\n",
       "<g id=\"node15\" class=\"node\">\n",
       "<title>4505642480</title>\n",
       "<polygon fill=\"none\" stroke=\"black\" points=\"0,-110.5 0,-146.5 200,-146.5 200,-110.5 0,-110.5\"/>\n",
       "<text text-anchor=\"middle\" x=\"16.5\" y=\"-124.8\" font-family=\"Times,serif\" font-size=\"14.00\">w1</text>\n",
       "<polyline fill=\"none\" stroke=\"black\" points=\"33,-110.5 33,-146.5\"/>\n",
       "<text text-anchor=\"middle\" x=\"75.5\" y=\"-124.8\" font-family=\"Times,serif\" font-size=\"14.00\">data &#45;3.0000</text>\n",
       "<polyline fill=\"none\" stroke=\"black\" points=\"118,-110.5 118,-146.5\"/>\n",
       "<text text-anchor=\"middle\" x=\"159\" y=\"-124.8\" font-family=\"Times,serif\" font-size=\"14.00\">grad 1.0000</text>\n",
       "</g>\n",
       "<!-- 4505642480&#45;&gt;4505645216* -->\n",
       "<g id=\"edge12\" class=\"edge\">\n",
       "<title>4505642480&#45;&gt;4505645216*</title>\n",
       "<path fill=\"none\" stroke=\"black\" d=\"M199.75,-128.5C208.38,-128.5 216.71,-128.5 224.33,-128.5\"/>\n",
       "<polygon fill=\"black\" stroke=\"black\" points=\"224.12,-132 234.12,-128.5 224.12,-125 224.12,-132\"/>\n",
       "</g>\n",
       "</g>\n",
       "</svg>\n"
      ],
      "text/plain": [
       "<graphviz.graphs.Digraph at 0x10c8e9300>"
      ]
     },
     "execution_count": 39,
     "metadata": {},
     "output_type": "execute_result"
    }
   ],
   "source": [
    "# redraw \n",
    "draw_dot(o)"
   ]
  },
  {
   "cell_type": "markdown",
   "id": "79b39a08-7fdf-41dc-94fc-040f5a372483",
   "metadata": {},
   "source": [
    "#### How can we codify this? (automatic backpropagation)"
   ]
  },
  {
   "cell_type": "markdown",
   "id": "5f6c2344-b69c-4b9b-bfde-99929c453eed",
   "metadata": {},
   "source": [
    "Think about what we want to do: each time a mathematical operation is done, we want to store the function that gives us its local derivative and propagate it to its children. We can do this because for each Value object (node) we already store where it came from and the operation that created it.\n",
    "\n",
    "```\n",
    "class Value:\n",
    "    def __init__(self, data, _children=(), _op='', label=''):\n",
    "        self.data = data\n",
    "        self.grad = 0.0\n",
    "        self._prev = set(_children) \n",
    "        self._op = _op\n",
    "        self.label = label\n",
    "        # 1 let's add another attribute to store the derivative function and initialize it as None \n",
    "        self.backward = lambda: None\n",
    "    \n",
    "    def __add__(self, other):\n",
    "        out = Value(self.data + other.data, (self, other), '+')\n",
    "        \n",
    "        # 2 create the backward function for addition case. It will need to propagate the local gradient to its children \n",
    "        def _backward():\n",
    "            self.grad = 1.0 * out.grad\n",
    "            other.grad = 1.0 * out.grad\n",
    "        # now store it in this out object so it can call it if needed\n",
    "        out.backward = _backward\n",
    "        \n",
    "        return out\n",
    "    \n",
    "    def __mul__(self, other):\n",
    "        out = Value(self.data * other.data, (self, other), '*')\n",
    "        \n",
    "        # 3 do the same for the multiplication case\n",
    "        def _backward():\n",
    "            self.grad = other.data * out.grad\n",
    "            other.grad = self.data * out.grad\n",
    "        out.backward = _backward\n",
    "        \n",
    "        return out\n",
    "    \n",
    "    def tanh(self):\n",
    "        x = self.data\n",
    "        t = (math.exp(2*x) - 1) / (math.exp(2*x) + 1)\n",
    "        out = Value(t, (self, ), 'tanh')\n",
    "        \n",
    "        def _backward():\n",
    "            self.grad = (1 - t**2) * out.grad \n",
    "        \n",
    "        out.backward = _backward\n",
    "        \n",
    "        return out\n",
    "    \n",
    "    def __repr__(self):\n",
    "        return f\"Value(data={self.data})\"\n",
    "```\n",
    "\n",
    "Notice: \n",
    "Each time we have a local gradient `out.grad` and we multiply it by the relevant `data` in children (`self.data` or `other.data`). "
   ]
  },
  {
   "cell_type": "code",
   "execution_count": 40,
   "id": "5d27b401-f64e-488b-854c-267b1457df29",
   "metadata": {
    "tags": []
   },
   "outputs": [],
   "source": [
    "class Value:\n",
    "    def __init__(self, data, _children=(), _op='', label=''):\n",
    "        self.data = data\n",
    "        self.grad = 0.0\n",
    "        self._prev = set(_children) \n",
    "        self._op = _op\n",
    "        self.label = label\n",
    "        self._backward = lambda: None\n",
    "    \n",
    "    def __add__(self, other):\n",
    "        out = Value(self.data + other.data, (self, other), '+')\n",
    "        \n",
    "        def _backward():\n",
    "            self.grad = 1.0 * out.grad\n",
    "            other.grad = 1.0 * out.grad\n",
    "        out._backward = _backward\n",
    "        \n",
    "        return out\n",
    "    \n",
    "    def __mul__(self, other):\n",
    "        out = Value(self.data * other.data, (self, other), '*')\n",
    "        \n",
    "        def _backward():\n",
    "            self.grad = other.data * out.grad\n",
    "            other.grad = self.data * out.grad\n",
    "        out._backward = _backward\n",
    "        \n",
    "        return out\n",
    "    \n",
    "    def tanh(self):\n",
    "        x = self.data\n",
    "        t = (math.exp(2*x) - 1) / (math.exp(2*x) + 1)\n",
    "        out = Value(t, (self, ), 'tanh')\n",
    "        \n",
    "        def _backward():\n",
    "            self.grad = (1 - t**2) * out.grad \n",
    "        \n",
    "        out._backward = _backward\n",
    "        \n",
    "        return out\n",
    "    \n",
    "    def __repr__(self):\n",
    "        return f\"Value(data={self.data})\""
   ]
  },
  {
   "cell_type": "code",
   "execution_count": 41,
   "id": "8391d66e-b666-41e4-bd14-d8068657e6e8",
   "metadata": {
    "tags": []
   },
   "outputs": [],
   "source": [
    "# let's redo and redraw \n",
    "# inputs x1, x2\n",
    "x1 = Value(2.0, label='x1')\n",
    "x2 = Value(0.0, label='x2')\n",
    "\n",
    "# weights w1, w2\n",
    "w1 = Value(-3.0, label='w1')\n",
    "w2 = Value(1.0, label='w2')\n",
    "# bias\n",
    "b = Value(6.8813735870195432, label='b') # this value of b to make numbers nicer for us when we do backprop \n",
    "\n",
    "x1w1 = x1*w1; x1w1.label = 'x1w1'\n",
    "x2w2 = x2*w2; x2w2.label = 'x2w2'\n",
    "x1w1x2w2 = x1w1 + x2w2; x1w1x2w2.label = 'x1w1x2w2'\n",
    "n = x1w1x2w2 + b; n.label = 'n' # n is the cell body's raw activation \n",
    "o = n.tanh(); o.label = 'o'\n",
    "\n",
    "# we need to initialize the o.grad to 1.0 since it's 0 by default\n",
    "o.grad = 1.0"
   ]
  },
  {
   "cell_type": "code",
   "execution_count": 42,
   "id": "9be46dc0-c77b-457e-9e59-7eadc52db83c",
   "metadata": {
    "tags": []
   },
   "outputs": [
    {
     "data": {
      "image/svg+xml": [
       "<?xml version=\"1.0\" encoding=\"UTF-8\" standalone=\"no\"?>\n",
       "<!DOCTYPE svg PUBLIC \"-//W3C//DTD SVG 1.1//EN\"\n",
       " \"http://www.w3.org/Graphics/SVG/1.1/DTD/svg11.dtd\">\n",
       "<!-- Generated by graphviz version 7.1.0 (0)\n",
       " -->\n",
       "<!-- Pages: 1 -->\n",
       "<svg width=\"1540pt\" height=\"210pt\"\n",
       " viewBox=\"0.00 0.00 1540.00 210.00\" xmlns=\"http://www.w3.org/2000/svg\" xmlns:xlink=\"http://www.w3.org/1999/xlink\">\n",
       "<g id=\"graph0\" class=\"graph\" transform=\"scale(1 1) rotate(0) translate(4 206)\">\n",
       "<polygon fill=\"white\" stroke=\"none\" points=\"-4,4 -4,-206 1536,-206 1536,4 -4,4\"/>\n",
       "<!-- 4505096720 -->\n",
       "<g id=\"node1\" class=\"node\">\n",
       "<title>4505096720</title>\n",
       "<polygon fill=\"none\" stroke=\"black\" points=\"695.5,-137.5 695.5,-173.5 880.5,-173.5 880.5,-137.5 695.5,-137.5\"/>\n",
       "<text text-anchor=\"middle\" x=\"707\" y=\"-151.8\" font-family=\"Times,serif\" font-size=\"14.00\">b</text>\n",
       "<polyline fill=\"none\" stroke=\"black\" points=\"718.5,-137.5 718.5,-173.5\"/>\n",
       "<text text-anchor=\"middle\" x=\"758.5\" y=\"-151.8\" font-family=\"Times,serif\" font-size=\"14.00\">data 6.8814</text>\n",
       "<polyline fill=\"none\" stroke=\"black\" points=\"798.5,-137.5 798.5,-173.5\"/>\n",
       "<text text-anchor=\"middle\" x=\"839.5\" y=\"-151.8\" font-family=\"Times,serif\" font-size=\"14.00\">grad 0.0000</text>\n",
       "</g>\n",
       "<!-- 4505108288+ -->\n",
       "<g id=\"node11\" class=\"node\">\n",
       "<title>4505108288+</title>\n",
       "<ellipse fill=\"none\" stroke=\"black\" cx=\"973\" cy=\"-127.5\" rx=\"27\" ry=\"18\"/>\n",
       "<text text-anchor=\"middle\" x=\"973\" y=\"-123.8\" font-family=\"Times,serif\" font-size=\"14.00\">+</text>\n",
       "</g>\n",
       "<!-- 4505096720&#45;&gt;4505108288+ -->\n",
       "<g id=\"edge7\" class=\"edge\">\n",
       "<title>4505096720&#45;&gt;4505108288+</title>\n",
       "<path fill=\"none\" stroke=\"black\" d=\"M880.5,-141.5C899.91,-138.53 919.33,-135.56 935.25,-133.12\"/>\n",
       "<polygon fill=\"black\" stroke=\"black\" points=\"935.32,-136.65 944.67,-131.68 934.26,-129.73 935.32,-136.65\"/>\n",
       "</g>\n",
       "<!-- 4505100320 -->\n",
       "<g id=\"node2\" class=\"node\">\n",
       "<title>4505100320</title>\n",
       "<polygon fill=\"none\" stroke=\"black\" points=\"4,-165.5 4,-201.5 196,-201.5 196,-165.5 4,-165.5\"/>\n",
       "<text text-anchor=\"middle\" x=\"19\" y=\"-179.8\" font-family=\"Times,serif\" font-size=\"14.00\">x2</text>\n",
       "<polyline fill=\"none\" stroke=\"black\" points=\"34,-165.5 34,-201.5\"/>\n",
       "<text text-anchor=\"middle\" x=\"74\" y=\"-179.8\" font-family=\"Times,serif\" font-size=\"14.00\">data 0.0000</text>\n",
       "<polyline fill=\"none\" stroke=\"black\" points=\"114,-165.5 114,-201.5\"/>\n",
       "<text text-anchor=\"middle\" x=\"155\" y=\"-179.8\" font-family=\"Times,serif\" font-size=\"14.00\">grad 0.0000</text>\n",
       "</g>\n",
       "<!-- 4505101376* -->\n",
       "<g id=\"node4\" class=\"node\">\n",
       "<title>4505101376*</title>\n",
       "<ellipse fill=\"none\" stroke=\"black\" cx=\"263\" cy=\"-128.5\" rx=\"27\" ry=\"18\"/>\n",
       "<text text-anchor=\"middle\" x=\"263\" y=\"-124.8\" font-family=\"Times,serif\" font-size=\"14.00\">*</text>\n",
       "</g>\n",
       "<!-- 4505100320&#45;&gt;4505101376* -->\n",
       "<g id=\"edge13\" class=\"edge\">\n",
       "<title>4505100320&#45;&gt;4505101376*</title>\n",
       "<path fill=\"none\" stroke=\"black\" d=\"M172.27,-165.52C181.67,-162.72 191.12,-159.7 200,-156.5 210.09,-152.87 220.83,-148.29 230.48,-143.89\"/>\n",
       "<polygon fill=\"black\" stroke=\"black\" points=\"231.87,-147.11 239.45,-139.71 228.91,-140.76 231.87,-147.11\"/>\n",
       "</g>\n",
       "<!-- 4505101376 -->\n",
       "<g id=\"node3\" class=\"node\">\n",
       "<title>4505101376</title>\n",
       "<polygon fill=\"none\" stroke=\"black\" points=\"328.5,-110.5 328.5,-146.5 537.5,-146.5 537.5,-110.5 328.5,-110.5\"/>\n",
       "<text text-anchor=\"middle\" x=\"352\" y=\"-124.8\" font-family=\"Times,serif\" font-size=\"14.00\">x2w2</text>\n",
       "<polyline fill=\"none\" stroke=\"black\" points=\"375.5,-110.5 375.5,-146.5\"/>\n",
       "<text text-anchor=\"middle\" x=\"415.5\" y=\"-124.8\" font-family=\"Times,serif\" font-size=\"14.00\">data 0.0000</text>\n",
       "<polyline fill=\"none\" stroke=\"black\" points=\"455.5,-110.5 455.5,-146.5\"/>\n",
       "<text text-anchor=\"middle\" x=\"496.5\" y=\"-124.8\" font-family=\"Times,serif\" font-size=\"14.00\">grad 0.0000</text>\n",
       "</g>\n",
       "<!-- 4505093072+ -->\n",
       "<g id=\"node15\" class=\"node\">\n",
       "<title>4505093072+</title>\n",
       "<ellipse fill=\"none\" stroke=\"black\" cx=\"603\" cy=\"-100.5\" rx=\"27\" ry=\"18\"/>\n",
       "<text text-anchor=\"middle\" x=\"603\" y=\"-96.8\" font-family=\"Times,serif\" font-size=\"14.00\">+</text>\n",
       "</g>\n",
       "<!-- 4505101376&#45;&gt;4505093072+ -->\n",
       "<g id=\"edge14\" class=\"edge\">\n",
       "<title>4505101376&#45;&gt;4505093072+</title>\n",
       "<path fill=\"none\" stroke=\"black\" d=\"M537.05,-111.33C547.04,-109.66 556.65,-108.06 565.28,-106.62\"/>\n",
       "<polygon fill=\"black\" stroke=\"black\" points=\"565.59,-110.12 574.88,-105.02 564.44,-103.21 565.59,-110.12\"/>\n",
       "</g>\n",
       "<!-- 4505101376*&#45;&gt;4505101376 -->\n",
       "<g id=\"edge1\" class=\"edge\">\n",
       "<title>4505101376*&#45;&gt;4505101376</title>\n",
       "<path fill=\"none\" stroke=\"black\" d=\"M290.25,-128.5C298.16,-128.5 307.4,-128.5 317.3,-128.5\"/>\n",
       "<polygon fill=\"black\" stroke=\"black\" points=\"317.2,-132 327.2,-128.5 317.2,-125 317.2,-132\"/>\n",
       "</g>\n",
       "<!-- 4505101904 -->\n",
       "<g id=\"node5\" class=\"node\">\n",
       "<title>4505101904</title>\n",
       "<polygon fill=\"none\" stroke=\"black\" points=\"1347,-109.5 1347,-145.5 1532,-145.5 1532,-109.5 1347,-109.5\"/>\n",
       "<text text-anchor=\"middle\" x=\"1358.5\" y=\"-123.8\" font-family=\"Times,serif\" font-size=\"14.00\">o</text>\n",
       "<polyline fill=\"none\" stroke=\"black\" points=\"1370,-109.5 1370,-145.5\"/>\n",
       "<text text-anchor=\"middle\" x=\"1410\" y=\"-123.8\" font-family=\"Times,serif\" font-size=\"14.00\">data 0.7071</text>\n",
       "<polyline fill=\"none\" stroke=\"black\" points=\"1450,-109.5 1450,-145.5\"/>\n",
       "<text text-anchor=\"middle\" x=\"1491\" y=\"-123.8\" font-family=\"Times,serif\" font-size=\"14.00\">grad 1.0000</text>\n",
       "</g>\n",
       "<!-- 4505101904tanh -->\n",
       "<g id=\"node6\" class=\"node\">\n",
       "<title>4505101904tanh</title>\n",
       "<ellipse fill=\"none\" stroke=\"black\" cx=\"1284\" cy=\"-127.5\" rx=\"27\" ry=\"18\"/>\n",
       "<text text-anchor=\"middle\" x=\"1284\" y=\"-123.8\" font-family=\"Times,serif\" font-size=\"14.00\">tanh</text>\n",
       "</g>\n",
       "<!-- 4505101904tanh&#45;&gt;4505101904 -->\n",
       "<g id=\"edge2\" class=\"edge\">\n",
       "<title>4505101904tanh&#45;&gt;4505101904</title>\n",
       "<path fill=\"none\" stroke=\"black\" d=\"M1311.39,-127.5C1318.62,-127.5 1326.92,-127.5 1335.74,-127.5\"/>\n",
       "<polygon fill=\"black\" stroke=\"black\" points=\"1335.64,-131 1345.64,-127.5 1335.64,-124 1335.64,-131\"/>\n",
       "</g>\n",
       "<!-- 4505105504 -->\n",
       "<g id=\"node7\" class=\"node\">\n",
       "<title>4505105504</title>\n",
       "<polygon fill=\"none\" stroke=\"black\" points=\"2.5,-110.5 2.5,-146.5 197.5,-146.5 197.5,-110.5 2.5,-110.5\"/>\n",
       "<text text-anchor=\"middle\" x=\"19\" y=\"-124.8\" font-family=\"Times,serif\" font-size=\"14.00\">w2</text>\n",
       "<polyline fill=\"none\" stroke=\"black\" points=\"35.5,-110.5 35.5,-146.5\"/>\n",
       "<text text-anchor=\"middle\" x=\"75.5\" y=\"-124.8\" font-family=\"Times,serif\" font-size=\"14.00\">data 1.0000</text>\n",
       "<polyline fill=\"none\" stroke=\"black\" points=\"115.5,-110.5 115.5,-146.5\"/>\n",
       "<text text-anchor=\"middle\" x=\"156.5\" y=\"-124.8\" font-family=\"Times,serif\" font-size=\"14.00\">grad 0.0000</text>\n",
       "</g>\n",
       "<!-- 4505105504&#45;&gt;4505101376* -->\n",
       "<g id=\"edge10\" class=\"edge\">\n",
       "<title>4505105504&#45;&gt;4505101376*</title>\n",
       "<path fill=\"none\" stroke=\"black\" d=\"M197.44,-128.5C206.89,-128.5 216.04,-128.5 224.32,-128.5\"/>\n",
       "<polygon fill=\"black\" stroke=\"black\" points=\"224.28,-132 234.28,-128.5 224.28,-125 224.28,-132\"/>\n",
       "</g>\n",
       "<!-- 4505105648 -->\n",
       "<g id=\"node8\" class=\"node\">\n",
       "<title>4505105648</title>\n",
       "<polygon fill=\"none\" stroke=\"black\" points=\"326,-55.5 326,-91.5 540,-91.5 540,-55.5 326,-55.5\"/>\n",
       "<text text-anchor=\"middle\" x=\"349.5\" y=\"-69.8\" font-family=\"Times,serif\" font-size=\"14.00\">x1w1</text>\n",
       "<polyline fill=\"none\" stroke=\"black\" points=\"373,-55.5 373,-91.5\"/>\n",
       "<text text-anchor=\"middle\" x=\"415.5\" y=\"-69.8\" font-family=\"Times,serif\" font-size=\"14.00\">data &#45;6.0000</text>\n",
       "<polyline fill=\"none\" stroke=\"black\" points=\"458,-55.5 458,-91.5\"/>\n",
       "<text text-anchor=\"middle\" x=\"499\" y=\"-69.8\" font-family=\"Times,serif\" font-size=\"14.00\">grad 0.0000</text>\n",
       "</g>\n",
       "<!-- 4505105648&#45;&gt;4505093072+ -->\n",
       "<g id=\"edge12\" class=\"edge\">\n",
       "<title>4505105648&#45;&gt;4505093072+</title>\n",
       "<path fill=\"none\" stroke=\"black\" d=\"M539.92,-90.52C548.88,-91.96 557.49,-93.35 565.29,-94.6\"/>\n",
       "<polygon fill=\"black\" stroke=\"black\" points=\"564.52,-98.02 574.95,-96.15 565.63,-91.11 564.52,-98.02\"/>\n",
       "</g>\n",
       "<!-- 4505105648* -->\n",
       "<g id=\"node9\" class=\"node\">\n",
       "<title>4505105648*</title>\n",
       "<ellipse fill=\"none\" stroke=\"black\" cx=\"263\" cy=\"-73.5\" rx=\"27\" ry=\"18\"/>\n",
       "<text text-anchor=\"middle\" x=\"263\" y=\"-69.8\" font-family=\"Times,serif\" font-size=\"14.00\">*</text>\n",
       "</g>\n",
       "<!-- 4505105648*&#45;&gt;4505105648 -->\n",
       "<g id=\"edge3\" class=\"edge\">\n",
       "<title>4505105648*&#45;&gt;4505105648</title>\n",
       "<path fill=\"none\" stroke=\"black\" d=\"M290.25,-73.5C297.53,-73.5 305.94,-73.5 314.95,-73.5\"/>\n",
       "<polygon fill=\"black\" stroke=\"black\" points=\"314.69,-77 324.69,-73.5 314.69,-70 314.69,-77\"/>\n",
       "</g>\n",
       "<!-- 4505108288 -->\n",
       "<g id=\"node10\" class=\"node\">\n",
       "<title>4505108288</title>\n",
       "<polygon fill=\"none\" stroke=\"black\" points=\"1036,-109.5 1036,-145.5 1221,-145.5 1221,-109.5 1036,-109.5\"/>\n",
       "<text text-anchor=\"middle\" x=\"1047.5\" y=\"-123.8\" font-family=\"Times,serif\" font-size=\"14.00\">n</text>\n",
       "<polyline fill=\"none\" stroke=\"black\" points=\"1059,-109.5 1059,-145.5\"/>\n",
       "<text text-anchor=\"middle\" x=\"1099\" y=\"-123.8\" font-family=\"Times,serif\" font-size=\"14.00\">data 0.8814</text>\n",
       "<polyline fill=\"none\" stroke=\"black\" points=\"1139,-109.5 1139,-145.5\"/>\n",
       "<text text-anchor=\"middle\" x=\"1180\" y=\"-123.8\" font-family=\"Times,serif\" font-size=\"14.00\">grad 0.0000</text>\n",
       "</g>\n",
       "<!-- 4505108288&#45;&gt;4505101904tanh -->\n",
       "<g id=\"edge9\" class=\"edge\">\n",
       "<title>4505108288&#45;&gt;4505101904tanh</title>\n",
       "<path fill=\"none\" stroke=\"black\" d=\"M1220.57,-127.5C1229.21,-127.5 1237.6,-127.5 1245.28,-127.5\"/>\n",
       "<polygon fill=\"black\" stroke=\"black\" points=\"1245.19,-131 1255.19,-127.5 1245.19,-124 1245.19,-131\"/>\n",
       "</g>\n",
       "<!-- 4505108288+&#45;&gt;4505108288 -->\n",
       "<g id=\"edge4\" class=\"edge\">\n",
       "<title>4505108288+&#45;&gt;4505108288</title>\n",
       "<path fill=\"none\" stroke=\"black\" d=\"M1000.39,-127.5C1007.62,-127.5 1015.92,-127.5 1024.74,-127.5\"/>\n",
       "<polygon fill=\"black\" stroke=\"black\" points=\"1024.64,-131 1034.64,-127.5 1024.64,-124 1024.64,-131\"/>\n",
       "</g>\n",
       "<!-- 4505101184 -->\n",
       "<g id=\"node12\" class=\"node\">\n",
       "<title>4505101184</title>\n",
       "<polygon fill=\"none\" stroke=\"black\" points=\"0,-55.5 0,-91.5 200,-91.5 200,-55.5 0,-55.5\"/>\n",
       "<text text-anchor=\"middle\" x=\"16.5\" y=\"-69.8\" font-family=\"Times,serif\" font-size=\"14.00\">w1</text>\n",
       "<polyline fill=\"none\" stroke=\"black\" points=\"33,-55.5 33,-91.5\"/>\n",
       "<text text-anchor=\"middle\" x=\"75.5\" y=\"-69.8\" font-family=\"Times,serif\" font-size=\"14.00\">data &#45;3.0000</text>\n",
       "<polyline fill=\"none\" stroke=\"black\" points=\"118,-55.5 118,-91.5\"/>\n",
       "<text text-anchor=\"middle\" x=\"159\" y=\"-69.8\" font-family=\"Times,serif\" font-size=\"14.00\">grad 0.0000</text>\n",
       "</g>\n",
       "<!-- 4505101184&#45;&gt;4505105648* -->\n",
       "<g id=\"edge11\" class=\"edge\">\n",
       "<title>4505101184&#45;&gt;4505105648*</title>\n",
       "<path fill=\"none\" stroke=\"black\" d=\"M199.75,-73.5C208.38,-73.5 216.71,-73.5 224.33,-73.5\"/>\n",
       "<polygon fill=\"black\" stroke=\"black\" points=\"224.12,-77 234.12,-73.5 224.12,-70 224.12,-77\"/>\n",
       "</g>\n",
       "<!-- 4505103296 -->\n",
       "<g id=\"node13\" class=\"node\">\n",
       "<title>4505103296</title>\n",
       "<polygon fill=\"none\" stroke=\"black\" points=\"4,-0.5 4,-36.5 196,-36.5 196,-0.5 4,-0.5\"/>\n",
       "<text text-anchor=\"middle\" x=\"19\" y=\"-14.8\" font-family=\"Times,serif\" font-size=\"14.00\">x1</text>\n",
       "<polyline fill=\"none\" stroke=\"black\" points=\"34,-0.5 34,-36.5\"/>\n",
       "<text text-anchor=\"middle\" x=\"74\" y=\"-14.8\" font-family=\"Times,serif\" font-size=\"14.00\">data 2.0000</text>\n",
       "<polyline fill=\"none\" stroke=\"black\" points=\"114,-0.5 114,-36.5\"/>\n",
       "<text text-anchor=\"middle\" x=\"155\" y=\"-14.8\" font-family=\"Times,serif\" font-size=\"14.00\">grad 0.0000</text>\n",
       "</g>\n",
       "<!-- 4505103296&#45;&gt;4505105648* -->\n",
       "<g id=\"edge8\" class=\"edge\">\n",
       "<title>4505103296&#45;&gt;4505105648*</title>\n",
       "<path fill=\"none\" stroke=\"black\" d=\"M169.02,-36.42C179.47,-39.56 190.08,-42.95 200,-46.5 209.96,-50.06 220.59,-54.46 230.18,-58.66\"/>\n",
       "<polygon fill=\"black\" stroke=\"black\" points=\"228.54,-61.76 239.1,-62.66 231.4,-55.37 228.54,-61.76\"/>\n",
       "</g>\n",
       "<!-- 4505093072 -->\n",
       "<g id=\"node14\" class=\"node\">\n",
       "<title>4505093072</title>\n",
       "<polygon fill=\"none\" stroke=\"black\" points=\"666,-82.5 666,-118.5 910,-118.5 910,-82.5 666,-82.5\"/>\n",
       "<text text-anchor=\"middle\" x=\"704.5\" y=\"-96.8\" font-family=\"Times,serif\" font-size=\"14.00\">x1w1x2w2</text>\n",
       "<polyline fill=\"none\" stroke=\"black\" points=\"743,-82.5 743,-118.5\"/>\n",
       "<text text-anchor=\"middle\" x=\"785.5\" y=\"-96.8\" font-family=\"Times,serif\" font-size=\"14.00\">data &#45;6.0000</text>\n",
       "<polyline fill=\"none\" stroke=\"black\" points=\"828,-82.5 828,-118.5\"/>\n",
       "<text text-anchor=\"middle\" x=\"869\" y=\"-96.8\" font-family=\"Times,serif\" font-size=\"14.00\">grad 0.0000</text>\n",
       "</g>\n",
       "<!-- 4505093072&#45;&gt;4505108288+ -->\n",
       "<g id=\"edge6\" class=\"edge\">\n",
       "<title>4505093072&#45;&gt;4505108288+</title>\n",
       "<path fill=\"none\" stroke=\"black\" d=\"M909.79,-118.32C918.72,-119.64 927.23,-120.89 934.93,-122.03\"/>\n",
       "<polygon fill=\"black\" stroke=\"black\" points=\"934.42,-125.49 944.82,-123.49 935.44,-118.57 934.42,-125.49\"/>\n",
       "</g>\n",
       "<!-- 4505093072+&#45;&gt;4505093072 -->\n",
       "<g id=\"edge5\" class=\"edge\">\n",
       "<title>4505093072+&#45;&gt;4505093072</title>\n",
       "<path fill=\"none\" stroke=\"black\" d=\"M630.22,-100.5C637.46,-100.5 645.83,-100.5 654.87,-100.5\"/>\n",
       "<polygon fill=\"black\" stroke=\"black\" points=\"654.68,-104 664.68,-100.5 654.68,-97 654.68,-104\"/>\n",
       "</g>\n",
       "</g>\n",
       "</svg>\n"
      ],
      "text/plain": [
       "<graphviz.graphs.Digraph at 0x10c864850>"
      ]
     },
     "execution_count": 42,
     "metadata": {},
     "output_type": "execute_result"
    }
   ],
   "source": [
    "draw_dot(o)"
   ]
  },
  {
   "cell_type": "code",
   "execution_count": 43,
   "id": "92e83cf3-8d86-43c7-9c6a-86e3d846130c",
   "metadata": {
    "tags": []
   },
   "outputs": [
    {
     "data": {
      "image/svg+xml": [
       "<?xml version=\"1.0\" encoding=\"UTF-8\" standalone=\"no\"?>\n",
       "<!DOCTYPE svg PUBLIC \"-//W3C//DTD SVG 1.1//EN\"\n",
       " \"http://www.w3.org/Graphics/SVG/1.1/DTD/svg11.dtd\">\n",
       "<!-- Generated by graphviz version 7.1.0 (0)\n",
       " -->\n",
       "<!-- Pages: 1 -->\n",
       "<svg width=\"1540pt\" height=\"210pt\"\n",
       " viewBox=\"0.00 0.00 1540.00 210.00\" xmlns=\"http://www.w3.org/2000/svg\" xmlns:xlink=\"http://www.w3.org/1999/xlink\">\n",
       "<g id=\"graph0\" class=\"graph\" transform=\"scale(1 1) rotate(0) translate(4 206)\">\n",
       "<polygon fill=\"white\" stroke=\"none\" points=\"-4,4 -4,-206 1536,-206 1536,4 -4,4\"/>\n",
       "<!-- 4505096720 -->\n",
       "<g id=\"node1\" class=\"node\">\n",
       "<title>4505096720</title>\n",
       "<polygon fill=\"none\" stroke=\"black\" points=\"695.5,-137.5 695.5,-173.5 880.5,-173.5 880.5,-137.5 695.5,-137.5\"/>\n",
       "<text text-anchor=\"middle\" x=\"707\" y=\"-151.8\" font-family=\"Times,serif\" font-size=\"14.00\">b</text>\n",
       "<polyline fill=\"none\" stroke=\"black\" points=\"718.5,-137.5 718.5,-173.5\"/>\n",
       "<text text-anchor=\"middle\" x=\"758.5\" y=\"-151.8\" font-family=\"Times,serif\" font-size=\"14.00\">data 6.8814</text>\n",
       "<polyline fill=\"none\" stroke=\"black\" points=\"798.5,-137.5 798.5,-173.5\"/>\n",
       "<text text-anchor=\"middle\" x=\"839.5\" y=\"-151.8\" font-family=\"Times,serif\" font-size=\"14.00\">grad 0.5000</text>\n",
       "</g>\n",
       "<!-- 4505108288+ -->\n",
       "<g id=\"node11\" class=\"node\">\n",
       "<title>4505108288+</title>\n",
       "<ellipse fill=\"none\" stroke=\"black\" cx=\"973\" cy=\"-127.5\" rx=\"27\" ry=\"18\"/>\n",
       "<text text-anchor=\"middle\" x=\"973\" y=\"-123.8\" font-family=\"Times,serif\" font-size=\"14.00\">+</text>\n",
       "</g>\n",
       "<!-- 4505096720&#45;&gt;4505108288+ -->\n",
       "<g id=\"edge7\" class=\"edge\">\n",
       "<title>4505096720&#45;&gt;4505108288+</title>\n",
       "<path fill=\"none\" stroke=\"black\" d=\"M880.5,-141.5C899.91,-138.53 919.33,-135.56 935.25,-133.12\"/>\n",
       "<polygon fill=\"black\" stroke=\"black\" points=\"935.32,-136.65 944.67,-131.68 934.26,-129.73 935.32,-136.65\"/>\n",
       "</g>\n",
       "<!-- 4505100320 -->\n",
       "<g id=\"node2\" class=\"node\">\n",
       "<title>4505100320</title>\n",
       "<polygon fill=\"none\" stroke=\"black\" points=\"4,-165.5 4,-201.5 196,-201.5 196,-165.5 4,-165.5\"/>\n",
       "<text text-anchor=\"middle\" x=\"19\" y=\"-179.8\" font-family=\"Times,serif\" font-size=\"14.00\">x2</text>\n",
       "<polyline fill=\"none\" stroke=\"black\" points=\"34,-165.5 34,-201.5\"/>\n",
       "<text text-anchor=\"middle\" x=\"74\" y=\"-179.8\" font-family=\"Times,serif\" font-size=\"14.00\">data 0.0000</text>\n",
       "<polyline fill=\"none\" stroke=\"black\" points=\"114,-165.5 114,-201.5\"/>\n",
       "<text text-anchor=\"middle\" x=\"155\" y=\"-179.8\" font-family=\"Times,serif\" font-size=\"14.00\">grad 0.5000</text>\n",
       "</g>\n",
       "<!-- 4505101376* -->\n",
       "<g id=\"node4\" class=\"node\">\n",
       "<title>4505101376*</title>\n",
       "<ellipse fill=\"none\" stroke=\"black\" cx=\"263\" cy=\"-128.5\" rx=\"27\" ry=\"18\"/>\n",
       "<text text-anchor=\"middle\" x=\"263\" y=\"-124.8\" font-family=\"Times,serif\" font-size=\"14.00\">*</text>\n",
       "</g>\n",
       "<!-- 4505100320&#45;&gt;4505101376* -->\n",
       "<g id=\"edge13\" class=\"edge\">\n",
       "<title>4505100320&#45;&gt;4505101376*</title>\n",
       "<path fill=\"none\" stroke=\"black\" d=\"M172.27,-165.52C181.67,-162.72 191.12,-159.7 200,-156.5 210.09,-152.87 220.83,-148.29 230.48,-143.89\"/>\n",
       "<polygon fill=\"black\" stroke=\"black\" points=\"231.87,-147.11 239.45,-139.71 228.91,-140.76 231.87,-147.11\"/>\n",
       "</g>\n",
       "<!-- 4505101376 -->\n",
       "<g id=\"node3\" class=\"node\">\n",
       "<title>4505101376</title>\n",
       "<polygon fill=\"none\" stroke=\"black\" points=\"328.5,-110.5 328.5,-146.5 537.5,-146.5 537.5,-110.5 328.5,-110.5\"/>\n",
       "<text text-anchor=\"middle\" x=\"352\" y=\"-124.8\" font-family=\"Times,serif\" font-size=\"14.00\">x2w2</text>\n",
       "<polyline fill=\"none\" stroke=\"black\" points=\"375.5,-110.5 375.5,-146.5\"/>\n",
       "<text text-anchor=\"middle\" x=\"415.5\" y=\"-124.8\" font-family=\"Times,serif\" font-size=\"14.00\">data 0.0000</text>\n",
       "<polyline fill=\"none\" stroke=\"black\" points=\"455.5,-110.5 455.5,-146.5\"/>\n",
       "<text text-anchor=\"middle\" x=\"496.5\" y=\"-124.8\" font-family=\"Times,serif\" font-size=\"14.00\">grad 0.5000</text>\n",
       "</g>\n",
       "<!-- 4505093072+ -->\n",
       "<g id=\"node15\" class=\"node\">\n",
       "<title>4505093072+</title>\n",
       "<ellipse fill=\"none\" stroke=\"black\" cx=\"603\" cy=\"-100.5\" rx=\"27\" ry=\"18\"/>\n",
       "<text text-anchor=\"middle\" x=\"603\" y=\"-96.8\" font-family=\"Times,serif\" font-size=\"14.00\">+</text>\n",
       "</g>\n",
       "<!-- 4505101376&#45;&gt;4505093072+ -->\n",
       "<g id=\"edge14\" class=\"edge\">\n",
       "<title>4505101376&#45;&gt;4505093072+</title>\n",
       "<path fill=\"none\" stroke=\"black\" d=\"M537.05,-111.33C547.04,-109.66 556.65,-108.06 565.28,-106.62\"/>\n",
       "<polygon fill=\"black\" stroke=\"black\" points=\"565.59,-110.12 574.88,-105.02 564.44,-103.21 565.59,-110.12\"/>\n",
       "</g>\n",
       "<!-- 4505101376*&#45;&gt;4505101376 -->\n",
       "<g id=\"edge1\" class=\"edge\">\n",
       "<title>4505101376*&#45;&gt;4505101376</title>\n",
       "<path fill=\"none\" stroke=\"black\" d=\"M290.25,-128.5C298.16,-128.5 307.4,-128.5 317.3,-128.5\"/>\n",
       "<polygon fill=\"black\" stroke=\"black\" points=\"317.2,-132 327.2,-128.5 317.2,-125 317.2,-132\"/>\n",
       "</g>\n",
       "<!-- 4505101904 -->\n",
       "<g id=\"node5\" class=\"node\">\n",
       "<title>4505101904</title>\n",
       "<polygon fill=\"none\" stroke=\"black\" points=\"1347,-109.5 1347,-145.5 1532,-145.5 1532,-109.5 1347,-109.5\"/>\n",
       "<text text-anchor=\"middle\" x=\"1358.5\" y=\"-123.8\" font-family=\"Times,serif\" font-size=\"14.00\">o</text>\n",
       "<polyline fill=\"none\" stroke=\"black\" points=\"1370,-109.5 1370,-145.5\"/>\n",
       "<text text-anchor=\"middle\" x=\"1410\" y=\"-123.8\" font-family=\"Times,serif\" font-size=\"14.00\">data 0.7071</text>\n",
       "<polyline fill=\"none\" stroke=\"black\" points=\"1450,-109.5 1450,-145.5\"/>\n",
       "<text text-anchor=\"middle\" x=\"1491\" y=\"-123.8\" font-family=\"Times,serif\" font-size=\"14.00\">grad 1.0000</text>\n",
       "</g>\n",
       "<!-- 4505101904tanh -->\n",
       "<g id=\"node6\" class=\"node\">\n",
       "<title>4505101904tanh</title>\n",
       "<ellipse fill=\"none\" stroke=\"black\" cx=\"1284\" cy=\"-127.5\" rx=\"27\" ry=\"18\"/>\n",
       "<text text-anchor=\"middle\" x=\"1284\" y=\"-123.8\" font-family=\"Times,serif\" font-size=\"14.00\">tanh</text>\n",
       "</g>\n",
       "<!-- 4505101904tanh&#45;&gt;4505101904 -->\n",
       "<g id=\"edge2\" class=\"edge\">\n",
       "<title>4505101904tanh&#45;&gt;4505101904</title>\n",
       "<path fill=\"none\" stroke=\"black\" d=\"M1311.39,-127.5C1318.62,-127.5 1326.92,-127.5 1335.74,-127.5\"/>\n",
       "<polygon fill=\"black\" stroke=\"black\" points=\"1335.64,-131 1345.64,-127.5 1335.64,-124 1335.64,-131\"/>\n",
       "</g>\n",
       "<!-- 4505105504 -->\n",
       "<g id=\"node7\" class=\"node\">\n",
       "<title>4505105504</title>\n",
       "<polygon fill=\"none\" stroke=\"black\" points=\"2.5,-110.5 2.5,-146.5 197.5,-146.5 197.5,-110.5 2.5,-110.5\"/>\n",
       "<text text-anchor=\"middle\" x=\"19\" y=\"-124.8\" font-family=\"Times,serif\" font-size=\"14.00\">w2</text>\n",
       "<polyline fill=\"none\" stroke=\"black\" points=\"35.5,-110.5 35.5,-146.5\"/>\n",
       "<text text-anchor=\"middle\" x=\"75.5\" y=\"-124.8\" font-family=\"Times,serif\" font-size=\"14.00\">data 1.0000</text>\n",
       "<polyline fill=\"none\" stroke=\"black\" points=\"115.5,-110.5 115.5,-146.5\"/>\n",
       "<text text-anchor=\"middle\" x=\"156.5\" y=\"-124.8\" font-family=\"Times,serif\" font-size=\"14.00\">grad 0.0000</text>\n",
       "</g>\n",
       "<!-- 4505105504&#45;&gt;4505101376* -->\n",
       "<g id=\"edge10\" class=\"edge\">\n",
       "<title>4505105504&#45;&gt;4505101376*</title>\n",
       "<path fill=\"none\" stroke=\"black\" d=\"M197.44,-128.5C206.89,-128.5 216.04,-128.5 224.32,-128.5\"/>\n",
       "<polygon fill=\"black\" stroke=\"black\" points=\"224.28,-132 234.28,-128.5 224.28,-125 224.28,-132\"/>\n",
       "</g>\n",
       "<!-- 4505105648 -->\n",
       "<g id=\"node8\" class=\"node\">\n",
       "<title>4505105648</title>\n",
       "<polygon fill=\"none\" stroke=\"black\" points=\"326,-55.5 326,-91.5 540,-91.5 540,-55.5 326,-55.5\"/>\n",
       "<text text-anchor=\"middle\" x=\"349.5\" y=\"-69.8\" font-family=\"Times,serif\" font-size=\"14.00\">x1w1</text>\n",
       "<polyline fill=\"none\" stroke=\"black\" points=\"373,-55.5 373,-91.5\"/>\n",
       "<text text-anchor=\"middle\" x=\"415.5\" y=\"-69.8\" font-family=\"Times,serif\" font-size=\"14.00\">data &#45;6.0000</text>\n",
       "<polyline fill=\"none\" stroke=\"black\" points=\"458,-55.5 458,-91.5\"/>\n",
       "<text text-anchor=\"middle\" x=\"499\" y=\"-69.8\" font-family=\"Times,serif\" font-size=\"14.00\">grad 0.5000</text>\n",
       "</g>\n",
       "<!-- 4505105648&#45;&gt;4505093072+ -->\n",
       "<g id=\"edge12\" class=\"edge\">\n",
       "<title>4505105648&#45;&gt;4505093072+</title>\n",
       "<path fill=\"none\" stroke=\"black\" d=\"M539.92,-90.52C548.88,-91.96 557.49,-93.35 565.29,-94.6\"/>\n",
       "<polygon fill=\"black\" stroke=\"black\" points=\"564.52,-98.02 574.95,-96.15 565.63,-91.11 564.52,-98.02\"/>\n",
       "</g>\n",
       "<!-- 4505105648* -->\n",
       "<g id=\"node9\" class=\"node\">\n",
       "<title>4505105648*</title>\n",
       "<ellipse fill=\"none\" stroke=\"black\" cx=\"263\" cy=\"-73.5\" rx=\"27\" ry=\"18\"/>\n",
       "<text text-anchor=\"middle\" x=\"263\" y=\"-69.8\" font-family=\"Times,serif\" font-size=\"14.00\">*</text>\n",
       "</g>\n",
       "<!-- 4505105648*&#45;&gt;4505105648 -->\n",
       "<g id=\"edge3\" class=\"edge\">\n",
       "<title>4505105648*&#45;&gt;4505105648</title>\n",
       "<path fill=\"none\" stroke=\"black\" d=\"M290.25,-73.5C297.53,-73.5 305.94,-73.5 314.95,-73.5\"/>\n",
       "<polygon fill=\"black\" stroke=\"black\" points=\"314.69,-77 324.69,-73.5 314.69,-70 314.69,-77\"/>\n",
       "</g>\n",
       "<!-- 4505108288 -->\n",
       "<g id=\"node10\" class=\"node\">\n",
       "<title>4505108288</title>\n",
       "<polygon fill=\"none\" stroke=\"black\" points=\"1036,-109.5 1036,-145.5 1221,-145.5 1221,-109.5 1036,-109.5\"/>\n",
       "<text text-anchor=\"middle\" x=\"1047.5\" y=\"-123.8\" font-family=\"Times,serif\" font-size=\"14.00\">n</text>\n",
       "<polyline fill=\"none\" stroke=\"black\" points=\"1059,-109.5 1059,-145.5\"/>\n",
       "<text text-anchor=\"middle\" x=\"1099\" y=\"-123.8\" font-family=\"Times,serif\" font-size=\"14.00\">data 0.8814</text>\n",
       "<polyline fill=\"none\" stroke=\"black\" points=\"1139,-109.5 1139,-145.5\"/>\n",
       "<text text-anchor=\"middle\" x=\"1180\" y=\"-123.8\" font-family=\"Times,serif\" font-size=\"14.00\">grad 0.5000</text>\n",
       "</g>\n",
       "<!-- 4505108288&#45;&gt;4505101904tanh -->\n",
       "<g id=\"edge9\" class=\"edge\">\n",
       "<title>4505108288&#45;&gt;4505101904tanh</title>\n",
       "<path fill=\"none\" stroke=\"black\" d=\"M1220.57,-127.5C1229.21,-127.5 1237.6,-127.5 1245.28,-127.5\"/>\n",
       "<polygon fill=\"black\" stroke=\"black\" points=\"1245.19,-131 1255.19,-127.5 1245.19,-124 1245.19,-131\"/>\n",
       "</g>\n",
       "<!-- 4505108288+&#45;&gt;4505108288 -->\n",
       "<g id=\"edge4\" class=\"edge\">\n",
       "<title>4505108288+&#45;&gt;4505108288</title>\n",
       "<path fill=\"none\" stroke=\"black\" d=\"M1000.39,-127.5C1007.62,-127.5 1015.92,-127.5 1024.74,-127.5\"/>\n",
       "<polygon fill=\"black\" stroke=\"black\" points=\"1024.64,-131 1034.64,-127.5 1024.64,-124 1024.64,-131\"/>\n",
       "</g>\n",
       "<!-- 4505101184 -->\n",
       "<g id=\"node12\" class=\"node\">\n",
       "<title>4505101184</title>\n",
       "<polygon fill=\"none\" stroke=\"black\" points=\"0,-55.5 0,-91.5 200,-91.5 200,-55.5 0,-55.5\"/>\n",
       "<text text-anchor=\"middle\" x=\"16.5\" y=\"-69.8\" font-family=\"Times,serif\" font-size=\"14.00\">w1</text>\n",
       "<polyline fill=\"none\" stroke=\"black\" points=\"33,-55.5 33,-91.5\"/>\n",
       "<text text-anchor=\"middle\" x=\"75.5\" y=\"-69.8\" font-family=\"Times,serif\" font-size=\"14.00\">data &#45;3.0000</text>\n",
       "<polyline fill=\"none\" stroke=\"black\" points=\"118,-55.5 118,-91.5\"/>\n",
       "<text text-anchor=\"middle\" x=\"159\" y=\"-69.8\" font-family=\"Times,serif\" font-size=\"14.00\">grad 1.0000</text>\n",
       "</g>\n",
       "<!-- 4505101184&#45;&gt;4505105648* -->\n",
       "<g id=\"edge11\" class=\"edge\">\n",
       "<title>4505101184&#45;&gt;4505105648*</title>\n",
       "<path fill=\"none\" stroke=\"black\" d=\"M199.75,-73.5C208.38,-73.5 216.71,-73.5 224.33,-73.5\"/>\n",
       "<polygon fill=\"black\" stroke=\"black\" points=\"224.12,-77 234.12,-73.5 224.12,-70 224.12,-77\"/>\n",
       "</g>\n",
       "<!-- 4505103296 -->\n",
       "<g id=\"node13\" class=\"node\">\n",
       "<title>4505103296</title>\n",
       "<polygon fill=\"none\" stroke=\"black\" points=\"2,-0.5 2,-36.5 198,-36.5 198,-0.5 2,-0.5\"/>\n",
       "<text text-anchor=\"middle\" x=\"17\" y=\"-14.8\" font-family=\"Times,serif\" font-size=\"14.00\">x1</text>\n",
       "<polyline fill=\"none\" stroke=\"black\" points=\"32,-0.5 32,-36.5\"/>\n",
       "<text text-anchor=\"middle\" x=\"72\" y=\"-14.8\" font-family=\"Times,serif\" font-size=\"14.00\">data 2.0000</text>\n",
       "<polyline fill=\"none\" stroke=\"black\" points=\"112,-0.5 112,-36.5\"/>\n",
       "<text text-anchor=\"middle\" x=\"155\" y=\"-14.8\" font-family=\"Times,serif\" font-size=\"14.00\">grad &#45;1.5000</text>\n",
       "</g>\n",
       "<!-- 4505103296&#45;&gt;4505105648* -->\n",
       "<g id=\"edge8\" class=\"edge\">\n",
       "<title>4505103296&#45;&gt;4505105648*</title>\n",
       "<path fill=\"none\" stroke=\"black\" d=\"M169.02,-36.42C179.47,-39.56 190.08,-42.95 200,-46.5 209.96,-50.06 220.59,-54.46 230.18,-58.66\"/>\n",
       "<polygon fill=\"black\" stroke=\"black\" points=\"228.54,-61.76 239.1,-62.66 231.4,-55.37 228.54,-61.76\"/>\n",
       "</g>\n",
       "<!-- 4505093072 -->\n",
       "<g id=\"node14\" class=\"node\">\n",
       "<title>4505093072</title>\n",
       "<polygon fill=\"none\" stroke=\"black\" points=\"666,-82.5 666,-118.5 910,-118.5 910,-82.5 666,-82.5\"/>\n",
       "<text text-anchor=\"middle\" x=\"704.5\" y=\"-96.8\" font-family=\"Times,serif\" font-size=\"14.00\">x1w1x2w2</text>\n",
       "<polyline fill=\"none\" stroke=\"black\" points=\"743,-82.5 743,-118.5\"/>\n",
       "<text text-anchor=\"middle\" x=\"785.5\" y=\"-96.8\" font-family=\"Times,serif\" font-size=\"14.00\">data &#45;6.0000</text>\n",
       "<polyline fill=\"none\" stroke=\"black\" points=\"828,-82.5 828,-118.5\"/>\n",
       "<text text-anchor=\"middle\" x=\"869\" y=\"-96.8\" font-family=\"Times,serif\" font-size=\"14.00\">grad 0.5000</text>\n",
       "</g>\n",
       "<!-- 4505093072&#45;&gt;4505108288+ -->\n",
       "<g id=\"edge6\" class=\"edge\">\n",
       "<title>4505093072&#45;&gt;4505108288+</title>\n",
       "<path fill=\"none\" stroke=\"black\" d=\"M909.79,-118.32C918.72,-119.64 927.23,-120.89 934.93,-122.03\"/>\n",
       "<polygon fill=\"black\" stroke=\"black\" points=\"934.42,-125.49 944.82,-123.49 935.44,-118.57 934.42,-125.49\"/>\n",
       "</g>\n",
       "<!-- 4505093072+&#45;&gt;4505093072 -->\n",
       "<g id=\"edge5\" class=\"edge\">\n",
       "<title>4505093072+&#45;&gt;4505093072</title>\n",
       "<path fill=\"none\" stroke=\"black\" d=\"M630.22,-100.5C637.46,-100.5 645.83,-100.5 654.87,-100.5\"/>\n",
       "<polygon fill=\"black\" stroke=\"black\" points=\"654.68,-104 664.68,-100.5 654.68,-97 654.68,-104\"/>\n",
       "</g>\n",
       "</g>\n",
       "</svg>\n"
      ],
      "text/plain": [
       "<graphviz.graphs.Digraph at 0x10c865810>"
      ]
     },
     "execution_count": 43,
     "metadata": {},
     "output_type": "execute_result"
    }
   ],
   "source": [
    "# now call backward on each node\n",
    "o._backward()\n",
    "n._backward()\n",
    "x1w1x2w2._backward()\n",
    "b._backward()\n",
    "x1w1._backward()\n",
    "x2w2._backward()\n",
    "\n",
    "draw_dot(o)"
   ]
  },
  {
   "cell_type": "markdown",
   "id": "028b1d9c-4ea1-440c-8634-8165e4f7a96b",
   "metadata": {},
   "source": [
    "And we get the same results as we did manally :)))))"
   ]
  },
  {
   "cell_type": "markdown",
   "id": "ba32507d-fbc9-4cc4-9df3-15b17fc06706",
   "metadata": {},
   "source": [
    "Now, we had to call backward manually to do this. How can we automate it?\n",
    "\n",
    "What we want is to have a list of all the nodes in order (sorted) such that no node comes before its children. \n",
    "\n",
    "The algorithm that does this is \"Topological Sort\" \n",
    "\n",
    "Topological sort: is a laying out of a graph such that all nodes go from left to right. "
   ]
  },
  {
   "attachments": {
    "81cb7ea9-8ca2-4bee-9f50-0e2bae823001.png": {
     "image/png": "[encoded data removed]"
    }
   },
   "cell_type": "markdown",
   "id": "678b7a35-607b-4ae2-bb16-40af3d825b70",
   "metadata": {
    "tags": []
   },
   "source": [
    "<div>\n",
    "<img src=\"attachment:81cb7ea9-8ca2-4bee-9f50-0e2bae823001.png\" width=\"500\"/>\n",
    "</div>"
   ]
  },
  {
   "cell_type": "markdown",
   "id": "f1e8249f-e907-44cf-8420-83947a167fe7",
   "metadata": {
    "tags": []
   },
   "source": [
    "[Img src](https://www.google.com/imgres?imgurl=https%3A%2F%2Fmiro.medium.com%2Fv2%2Fresize%3Afit%3A1200%2F1*uMg_ojFXts2WZSjcZe4oRQ.png&tbnid=33_2S8m6R8WmSM&vet=12ahUKEwiuus3TgZmAAxVFFmIAHT1VC8oQMygOegUIARCOAg..i&imgrefurl=https%3A%2F%2Fmedium.com%2F%40konduruharish%2Ftopological-sort-in-typescript-and-c-6d5ecc4bad95&docid=B1X0j3UWu-w8IM&w=1200&h=703&q=topological%20sort&ved=2ahUKEwiuus3TgZmAAxVFFmIAHT1VC8oQMygOegUIARCOAg)"
   ]
  },
  {
   "cell_type": "code",
   "execution_count": 44,
   "id": "eb917583-f300-4e07-bed7-3d747aacdf70",
   "metadata": {
    "tags": []
   },
   "outputs": [],
   "source": [
    "topo = []\n",
    "visited = set()\n",
    "\n",
    "def build_topo(v):\n",
    "    if v not in visited:\n",
    "        visited.add(v)\n",
    "        for child in v._prev:\n",
    "            build_topo(child)\n",
    "        topo.append(v) # only add it at the end when sure all prior added"
   ]
  },
  {
   "cell_type": "code",
   "execution_count": 45,
   "id": "94dbae1f-5b6d-4c0e-ae31-ec4a82613921",
   "metadata": {
    "tags": []
   },
   "outputs": [
    {
     "data": {
      "text/plain": [
       "[Value(data=6.881373587019543),\n",
       " Value(data=0.0),\n",
       " Value(data=1.0),\n",
       " Value(data=0.0),\n",
       " Value(data=-3.0),\n",
       " Value(data=2.0),\n",
       " Value(data=-6.0),\n",
       " Value(data=-6.0),\n",
       " Value(data=0.8813735870195432),\n",
       " Value(data=0.7071067811865476)]"
      ]
     },
     "execution_count": 45,
     "metadata": {},
     "output_type": "execute_result"
    }
   ],
   "source": [
    "build_topo(o)\n",
    "topo"
   ]
  },
  {
   "cell_type": "code",
   "execution_count": 46,
   "id": "bcc9a432-6b41-4750-887d-9745c63b8ae4",
   "metadata": {
    "tags": []
   },
   "outputs": [],
   "source": [
    "# and now if we redo \n",
    "x1 = Value(2.0, label='x1')\n",
    "x2 = Value(0.0, label='x2')\n",
    "w1 = Value(-3.0, label='w1')\n",
    "w2 = Value(1.0, label='w2')\n",
    "b = Value(6.8813735870195432, label='b') # this value of b to make numbers nicer for us when we do backprop \n",
    "x1w1 = x1*w1; x1w1.label = 'x1w1'\n",
    "x2w2 = x2*w2; x2w2.label = 'x2w2'\n",
    "x1w1x2w2 = x1w1 + x2w2; x1w1x2w2.label = 'x1w1x2w2'\n",
    "n = x1w1x2w2 + b; n.label = 'n' # n is the cell body's raw activation \n",
    "o = n.tanh(); o.label = 'o'\n",
    "o.grad = 1.0"
   ]
  },
  {
   "cell_type": "code",
   "execution_count": 47,
   "id": "4d52ec5c-e83f-4247-b9a3-df35f4e95d7a",
   "metadata": {
    "tags": []
   },
   "outputs": [],
   "source": [
    "topo = []\n",
    "visited = set()\n",
    "\n",
    "def build_topo(v):\n",
    "    if v not in visited:\n",
    "        visited.add(v)\n",
    "        for child in v._prev:\n",
    "            build_topo(child)\n",
    "        topo.append(v)\n",
    "build_topo(o)\n",
    "\n",
    "for node in reversed(topo):\n",
    "    node._backward()"
   ]
  },
  {
   "cell_type": "code",
   "execution_count": 48,
   "id": "bbd8a964-e3a6-4296-86f5-0b2942eeaa0e",
   "metadata": {
    "tags": []
   },
   "outputs": [
    {
     "data": {
      "image/svg+xml": [
       "<?xml version=\"1.0\" encoding=\"UTF-8\" standalone=\"no\"?>\n",
       "<!DOCTYPE svg PUBLIC \"-//W3C//DTD SVG 1.1//EN\"\n",
       " \"http://www.w3.org/Graphics/SVG/1.1/DTD/svg11.dtd\">\n",
       "<!-- Generated by graphviz version 7.1.0 (0)\n",
       " -->\n",
       "<!-- Pages: 1 -->\n",
       "<svg width=\"1540pt\" height=\"210pt\"\n",
       " viewBox=\"0.00 0.00 1540.00 210.00\" xmlns=\"http://www.w3.org/2000/svg\" xmlns:xlink=\"http://www.w3.org/1999/xlink\">\n",
       "<g id=\"graph0\" class=\"graph\" transform=\"scale(1 1) rotate(0) translate(4 206)\">\n",
       "<polygon fill=\"white\" stroke=\"none\" points=\"-4,4 -4,-206 1536,-206 1536,4 -4,4\"/>\n",
       "<!-- 4505099312 -->\n",
       "<g id=\"node1\" class=\"node\">\n",
       "<title>4505099312</title>\n",
       "<polygon fill=\"none\" stroke=\"black\" points=\"666,-82.5 666,-118.5 910,-118.5 910,-82.5 666,-82.5\"/>\n",
       "<text text-anchor=\"middle\" x=\"704.5\" y=\"-96.8\" font-family=\"Times,serif\" font-size=\"14.00\">x1w1x2w2</text>\n",
       "<polyline fill=\"none\" stroke=\"black\" points=\"743,-82.5 743,-118.5\"/>\n",
       "<text text-anchor=\"middle\" x=\"785.5\" y=\"-96.8\" font-family=\"Times,serif\" font-size=\"14.00\">data &#45;6.0000</text>\n",
       "<polyline fill=\"none\" stroke=\"black\" points=\"828,-82.5 828,-118.5\"/>\n",
       "<text text-anchor=\"middle\" x=\"869\" y=\"-96.8\" font-family=\"Times,serif\" font-size=\"14.00\">grad 0.5000</text>\n",
       "</g>\n",
       "<!-- 4505104880+ -->\n",
       "<g id=\"node15\" class=\"node\">\n",
       "<title>4505104880+</title>\n",
       "<ellipse fill=\"none\" stroke=\"black\" cx=\"973\" cy=\"-127.5\" rx=\"27\" ry=\"18\"/>\n",
       "<text text-anchor=\"middle\" x=\"973\" y=\"-123.8\" font-family=\"Times,serif\" font-size=\"14.00\">+</text>\n",
       "</g>\n",
       "<!-- 4505099312&#45;&gt;4505104880+ -->\n",
       "<g id=\"edge13\" class=\"edge\">\n",
       "<title>4505099312&#45;&gt;4505104880+</title>\n",
       "<path fill=\"none\" stroke=\"black\" d=\"M909.79,-118.32C918.72,-119.64 927.23,-120.89 934.93,-122.03\"/>\n",
       "<polygon fill=\"black\" stroke=\"black\" points=\"934.42,-125.49 944.82,-123.49 935.44,-118.57 934.42,-125.49\"/>\n",
       "</g>\n",
       "<!-- 4505099312+ -->\n",
       "<g id=\"node2\" class=\"node\">\n",
       "<title>4505099312+</title>\n",
       "<ellipse fill=\"none\" stroke=\"black\" cx=\"603\" cy=\"-100.5\" rx=\"27\" ry=\"18\"/>\n",
       "<text text-anchor=\"middle\" x=\"603\" y=\"-96.8\" font-family=\"Times,serif\" font-size=\"14.00\">+</text>\n",
       "</g>\n",
       "<!-- 4505099312+&#45;&gt;4505099312 -->\n",
       "<g id=\"edge1\" class=\"edge\">\n",
       "<title>4505099312+&#45;&gt;4505099312</title>\n",
       "<path fill=\"none\" stroke=\"black\" d=\"M630.22,-100.5C637.46,-100.5 645.83,-100.5 654.87,-100.5\"/>\n",
       "<polygon fill=\"black\" stroke=\"black\" points=\"654.68,-104 664.68,-100.5 654.68,-97 654.68,-104\"/>\n",
       "</g>\n",
       "<!-- 4505546480 -->\n",
       "<g id=\"node3\" class=\"node\">\n",
       "<title>4505546480</title>\n",
       "<polygon fill=\"none\" stroke=\"black\" points=\"1347,-109.5 1347,-145.5 1532,-145.5 1532,-109.5 1347,-109.5\"/>\n",
       "<text text-anchor=\"middle\" x=\"1358.5\" y=\"-123.8\" font-family=\"Times,serif\" font-size=\"14.00\">o</text>\n",
       "<polyline fill=\"none\" stroke=\"black\" points=\"1370,-109.5 1370,-145.5\"/>\n",
       "<text text-anchor=\"middle\" x=\"1410\" y=\"-123.8\" font-family=\"Times,serif\" font-size=\"14.00\">data 0.7071</text>\n",
       "<polyline fill=\"none\" stroke=\"black\" points=\"1450,-109.5 1450,-145.5\"/>\n",
       "<text text-anchor=\"middle\" x=\"1491\" y=\"-123.8\" font-family=\"Times,serif\" font-size=\"14.00\">grad 1.0000</text>\n",
       "</g>\n",
       "<!-- 4505546480tanh -->\n",
       "<g id=\"node4\" class=\"node\">\n",
       "<title>4505546480tanh</title>\n",
       "<ellipse fill=\"none\" stroke=\"black\" cx=\"1284\" cy=\"-127.5\" rx=\"27\" ry=\"18\"/>\n",
       "<text text-anchor=\"middle\" x=\"1284\" y=\"-123.8\" font-family=\"Times,serif\" font-size=\"14.00\">tanh</text>\n",
       "</g>\n",
       "<!-- 4505546480tanh&#45;&gt;4505546480 -->\n",
       "<g id=\"edge2\" class=\"edge\">\n",
       "<title>4505546480tanh&#45;&gt;4505546480</title>\n",
       "<path fill=\"none\" stroke=\"black\" d=\"M1311.39,-127.5C1318.62,-127.5 1326.92,-127.5 1335.74,-127.5\"/>\n",
       "<polygon fill=\"black\" stroke=\"black\" points=\"1335.64,-131 1345.64,-127.5 1335.64,-124 1335.64,-131\"/>\n",
       "</g>\n",
       "<!-- 4505096432 -->\n",
       "<g id=\"node5\" class=\"node\">\n",
       "<title>4505096432</title>\n",
       "<polygon fill=\"none\" stroke=\"black\" points=\"2.5,-55.5 2.5,-91.5 197.5,-91.5 197.5,-55.5 2.5,-55.5\"/>\n",
       "<text text-anchor=\"middle\" x=\"19\" y=\"-69.8\" font-family=\"Times,serif\" font-size=\"14.00\">w2</text>\n",
       "<polyline fill=\"none\" stroke=\"black\" points=\"35.5,-55.5 35.5,-91.5\"/>\n",
       "<text text-anchor=\"middle\" x=\"75.5\" y=\"-69.8\" font-family=\"Times,serif\" font-size=\"14.00\">data 1.0000</text>\n",
       "<polyline fill=\"none\" stroke=\"black\" points=\"115.5,-55.5 115.5,-91.5\"/>\n",
       "<text text-anchor=\"middle\" x=\"156.5\" y=\"-69.8\" font-family=\"Times,serif\" font-size=\"14.00\">grad 0.0000</text>\n",
       "</g>\n",
       "<!-- 4505097680* -->\n",
       "<g id=\"node13\" class=\"node\">\n",
       "<title>4505097680*</title>\n",
       "<ellipse fill=\"none\" stroke=\"black\" cx=\"263\" cy=\"-73.5\" rx=\"27\" ry=\"18\"/>\n",
       "<text text-anchor=\"middle\" x=\"263\" y=\"-69.8\" font-family=\"Times,serif\" font-size=\"14.00\">*</text>\n",
       "</g>\n",
       "<!-- 4505096432&#45;&gt;4505097680* -->\n",
       "<g id=\"edge7\" class=\"edge\">\n",
       "<title>4505096432&#45;&gt;4505097680*</title>\n",
       "<path fill=\"none\" stroke=\"black\" d=\"M197.44,-73.5C206.89,-73.5 216.04,-73.5 224.32,-73.5\"/>\n",
       "<polygon fill=\"black\" stroke=\"black\" points=\"224.28,-77 234.28,-73.5 224.28,-70 224.28,-77\"/>\n",
       "</g>\n",
       "<!-- 4505096480 -->\n",
       "<g id=\"node6\" class=\"node\">\n",
       "<title>4505096480</title>\n",
       "<polygon fill=\"none\" stroke=\"black\" points=\"2,-165.5 2,-201.5 198,-201.5 198,-165.5 2,-165.5\"/>\n",
       "<text text-anchor=\"middle\" x=\"17\" y=\"-179.8\" font-family=\"Times,serif\" font-size=\"14.00\">x1</text>\n",
       "<polyline fill=\"none\" stroke=\"black\" points=\"32,-165.5 32,-201.5\"/>\n",
       "<text text-anchor=\"middle\" x=\"72\" y=\"-179.8\" font-family=\"Times,serif\" font-size=\"14.00\">data 2.0000</text>\n",
       "<polyline fill=\"none\" stroke=\"black\" points=\"112,-165.5 112,-201.5\"/>\n",
       "<text text-anchor=\"middle\" x=\"155\" y=\"-179.8\" font-family=\"Times,serif\" font-size=\"14.00\">grad &#45;1.5000</text>\n",
       "</g>\n",
       "<!-- 4505103776* -->\n",
       "<g id=\"node11\" class=\"node\">\n",
       "<title>4505103776*</title>\n",
       "<ellipse fill=\"none\" stroke=\"black\" cx=\"263\" cy=\"-128.5\" rx=\"27\" ry=\"18\"/>\n",
       "<text text-anchor=\"middle\" x=\"263\" y=\"-124.8\" font-family=\"Times,serif\" font-size=\"14.00\">*</text>\n",
       "</g>\n",
       "<!-- 4505096480&#45;&gt;4505103776* -->\n",
       "<g id=\"edge12\" class=\"edge\">\n",
       "<title>4505096480&#45;&gt;4505103776*</title>\n",
       "<path fill=\"none\" stroke=\"black\" d=\"M172.27,-165.52C181.67,-162.72 191.12,-159.7 200,-156.5 210.09,-152.87 220.83,-148.29 230.48,-143.89\"/>\n",
       "<polygon fill=\"black\" stroke=\"black\" points=\"231.87,-147.11 239.45,-139.71 228.91,-140.76 231.87,-147.11\"/>\n",
       "</g>\n",
       "<!-- 4505098016 -->\n",
       "<g id=\"node7\" class=\"node\">\n",
       "<title>4505098016</title>\n",
       "<polygon fill=\"none\" stroke=\"black\" points=\"0,-110.5 0,-146.5 200,-146.5 200,-110.5 0,-110.5\"/>\n",
       "<text text-anchor=\"middle\" x=\"16.5\" y=\"-124.8\" font-family=\"Times,serif\" font-size=\"14.00\">w1</text>\n",
       "<polyline fill=\"none\" stroke=\"black\" points=\"33,-110.5 33,-146.5\"/>\n",
       "<text text-anchor=\"middle\" x=\"75.5\" y=\"-124.8\" font-family=\"Times,serif\" font-size=\"14.00\">data &#45;3.0000</text>\n",
       "<polyline fill=\"none\" stroke=\"black\" points=\"118,-110.5 118,-146.5\"/>\n",
       "<text text-anchor=\"middle\" x=\"159\" y=\"-124.8\" font-family=\"Times,serif\" font-size=\"14.00\">grad 1.0000</text>\n",
       "</g>\n",
       "<!-- 4505098016&#45;&gt;4505103776* -->\n",
       "<g id=\"edge14\" class=\"edge\">\n",
       "<title>4505098016&#45;&gt;4505103776*</title>\n",
       "<path fill=\"none\" stroke=\"black\" d=\"M199.75,-128.5C208.38,-128.5 216.71,-128.5 224.33,-128.5\"/>\n",
       "<polygon fill=\"black\" stroke=\"black\" points=\"224.12,-132 234.12,-128.5 224.12,-125 224.12,-132\"/>\n",
       "</g>\n",
       "<!-- 4505097056 -->\n",
       "<g id=\"node8\" class=\"node\">\n",
       "<title>4505097056</title>\n",
       "<polygon fill=\"none\" stroke=\"black\" points=\"4,-0.5 4,-36.5 196,-36.5 196,-0.5 4,-0.5\"/>\n",
       "<text text-anchor=\"middle\" x=\"19\" y=\"-14.8\" font-family=\"Times,serif\" font-size=\"14.00\">x2</text>\n",
       "<polyline fill=\"none\" stroke=\"black\" points=\"34,-0.5 34,-36.5\"/>\n",
       "<text text-anchor=\"middle\" x=\"74\" y=\"-14.8\" font-family=\"Times,serif\" font-size=\"14.00\">data 0.0000</text>\n",
       "<polyline fill=\"none\" stroke=\"black\" points=\"114,-0.5 114,-36.5\"/>\n",
       "<text text-anchor=\"middle\" x=\"155\" y=\"-14.8\" font-family=\"Times,serif\" font-size=\"14.00\">grad 0.5000</text>\n",
       "</g>\n",
       "<!-- 4505097056&#45;&gt;4505097680* -->\n",
       "<g id=\"edge8\" class=\"edge\">\n",
       "<title>4505097056&#45;&gt;4505097680*</title>\n",
       "<path fill=\"none\" stroke=\"black\" d=\"M169.02,-36.42C179.47,-39.56 190.08,-42.95 200,-46.5 209.96,-50.06 220.59,-54.46 230.18,-58.66\"/>\n",
       "<polygon fill=\"black\" stroke=\"black\" points=\"228.54,-61.76 239.1,-62.66 231.4,-55.37 228.54,-61.76\"/>\n",
       "</g>\n",
       "<!-- 4505107328 -->\n",
       "<g id=\"node9\" class=\"node\">\n",
       "<title>4505107328</title>\n",
       "<polygon fill=\"none\" stroke=\"black\" points=\"695.5,-137.5 695.5,-173.5 880.5,-173.5 880.5,-137.5 695.5,-137.5\"/>\n",
       "<text text-anchor=\"middle\" x=\"707\" y=\"-151.8\" font-family=\"Times,serif\" font-size=\"14.00\">b</text>\n",
       "<polyline fill=\"none\" stroke=\"black\" points=\"718.5,-137.5 718.5,-173.5\"/>\n",
       "<text text-anchor=\"middle\" x=\"758.5\" y=\"-151.8\" font-family=\"Times,serif\" font-size=\"14.00\">data 6.8814</text>\n",
       "<polyline fill=\"none\" stroke=\"black\" points=\"798.5,-137.5 798.5,-173.5\"/>\n",
       "<text text-anchor=\"middle\" x=\"839.5\" y=\"-151.8\" font-family=\"Times,serif\" font-size=\"14.00\">grad 0.5000</text>\n",
       "</g>\n",
       "<!-- 4505107328&#45;&gt;4505104880+ -->\n",
       "<g id=\"edge9\" class=\"edge\">\n",
       "<title>4505107328&#45;&gt;4505104880+</title>\n",
       "<path fill=\"none\" stroke=\"black\" d=\"M880.5,-141.5C899.91,-138.53 919.33,-135.56 935.25,-133.12\"/>\n",
       "<polygon fill=\"black\" stroke=\"black\" points=\"935.32,-136.65 944.67,-131.68 934.26,-129.73 935.32,-136.65\"/>\n",
       "</g>\n",
       "<!-- 4505103776 -->\n",
       "<g id=\"node10\" class=\"node\">\n",
       "<title>4505103776</title>\n",
       "<polygon fill=\"none\" stroke=\"black\" points=\"326,-110.5 326,-146.5 540,-146.5 540,-110.5 326,-110.5\"/>\n",
       "<text text-anchor=\"middle\" x=\"349.5\" y=\"-124.8\" font-family=\"Times,serif\" font-size=\"14.00\">x1w1</text>\n",
       "<polyline fill=\"none\" stroke=\"black\" points=\"373,-110.5 373,-146.5\"/>\n",
       "<text text-anchor=\"middle\" x=\"415.5\" y=\"-124.8\" font-family=\"Times,serif\" font-size=\"14.00\">data &#45;6.0000</text>\n",
       "<polyline fill=\"none\" stroke=\"black\" points=\"458,-110.5 458,-146.5\"/>\n",
       "<text text-anchor=\"middle\" x=\"499\" y=\"-124.8\" font-family=\"Times,serif\" font-size=\"14.00\">grad 0.5000</text>\n",
       "</g>\n",
       "<!-- 4505103776&#45;&gt;4505099312+ -->\n",
       "<g id=\"edge11\" class=\"edge\">\n",
       "<title>4505103776&#45;&gt;4505099312+</title>\n",
       "<path fill=\"none\" stroke=\"black\" d=\"M539.92,-110.85C548.88,-109.35 557.49,-107.92 565.29,-106.62\"/>\n",
       "<polygon fill=\"black\" stroke=\"black\" points=\"565.66,-110.1 574.95,-105.01 564.51,-103.2 565.66,-110.1\"/>\n",
       "</g>\n",
       "<!-- 4505103776*&#45;&gt;4505103776 -->\n",
       "<g id=\"edge3\" class=\"edge\">\n",
       "<title>4505103776*&#45;&gt;4505103776</title>\n",
       "<path fill=\"none\" stroke=\"black\" d=\"M290.25,-128.5C297.53,-128.5 305.94,-128.5 314.95,-128.5\"/>\n",
       "<polygon fill=\"black\" stroke=\"black\" points=\"314.69,-132 324.69,-128.5 314.69,-125 314.69,-132\"/>\n",
       "</g>\n",
       "<!-- 4505097680 -->\n",
       "<g id=\"node12\" class=\"node\">\n",
       "<title>4505097680</title>\n",
       "<polygon fill=\"none\" stroke=\"black\" points=\"328.5,-55.5 328.5,-91.5 537.5,-91.5 537.5,-55.5 328.5,-55.5\"/>\n",
       "<text text-anchor=\"middle\" x=\"352\" y=\"-69.8\" font-family=\"Times,serif\" font-size=\"14.00\">x2w2</text>\n",
       "<polyline fill=\"none\" stroke=\"black\" points=\"375.5,-55.5 375.5,-91.5\"/>\n",
       "<text text-anchor=\"middle\" x=\"415.5\" y=\"-69.8\" font-family=\"Times,serif\" font-size=\"14.00\">data 0.0000</text>\n",
       "<polyline fill=\"none\" stroke=\"black\" points=\"455.5,-55.5 455.5,-91.5\"/>\n",
       "<text text-anchor=\"middle\" x=\"496.5\" y=\"-69.8\" font-family=\"Times,serif\" font-size=\"14.00\">grad 0.5000</text>\n",
       "</g>\n",
       "<!-- 4505097680&#45;&gt;4505099312+ -->\n",
       "<g id=\"edge10\" class=\"edge\">\n",
       "<title>4505097680&#45;&gt;4505099312+</title>\n",
       "<path fill=\"none\" stroke=\"black\" d=\"M537.05,-90.06C547.04,-91.67 556.65,-93.21 565.28,-94.6\"/>\n",
       "<polygon fill=\"black\" stroke=\"black\" points=\"564.45,-98.01 574.88,-96.14 565.56,-91.1 564.45,-98.01\"/>\n",
       "</g>\n",
       "<!-- 4505097680*&#45;&gt;4505097680 -->\n",
       "<g id=\"edge4\" class=\"edge\">\n",
       "<title>4505097680*&#45;&gt;4505097680</title>\n",
       "<path fill=\"none\" stroke=\"black\" d=\"M290.25,-73.5C298.16,-73.5 307.4,-73.5 317.3,-73.5\"/>\n",
       "<polygon fill=\"black\" stroke=\"black\" points=\"317.2,-77 327.2,-73.5 317.2,-70 317.2,-77\"/>\n",
       "</g>\n",
       "<!-- 4505104880 -->\n",
       "<g id=\"node14\" class=\"node\">\n",
       "<title>4505104880</title>\n",
       "<polygon fill=\"none\" stroke=\"black\" points=\"1036,-109.5 1036,-145.5 1221,-145.5 1221,-109.5 1036,-109.5\"/>\n",
       "<text text-anchor=\"middle\" x=\"1047.5\" y=\"-123.8\" font-family=\"Times,serif\" font-size=\"14.00\">n</text>\n",
       "<polyline fill=\"none\" stroke=\"black\" points=\"1059,-109.5 1059,-145.5\"/>\n",
       "<text text-anchor=\"middle\" x=\"1099\" y=\"-123.8\" font-family=\"Times,serif\" font-size=\"14.00\">data 0.8814</text>\n",
       "<polyline fill=\"none\" stroke=\"black\" points=\"1139,-109.5 1139,-145.5\"/>\n",
       "<text text-anchor=\"middle\" x=\"1180\" y=\"-123.8\" font-family=\"Times,serif\" font-size=\"14.00\">grad 0.5000</text>\n",
       "</g>\n",
       "<!-- 4505104880&#45;&gt;4505546480tanh -->\n",
       "<g id=\"edge6\" class=\"edge\">\n",
       "<title>4505104880&#45;&gt;4505546480tanh</title>\n",
       "<path fill=\"none\" stroke=\"black\" d=\"M1220.57,-127.5C1229.21,-127.5 1237.6,-127.5 1245.28,-127.5\"/>\n",
       "<polygon fill=\"black\" stroke=\"black\" points=\"1245.19,-131 1255.19,-127.5 1245.19,-124 1245.19,-131\"/>\n",
       "</g>\n",
       "<!-- 4505104880+&#45;&gt;4505104880 -->\n",
       "<g id=\"edge5\" class=\"edge\">\n",
       "<title>4505104880+&#45;&gt;4505104880</title>\n",
       "<path fill=\"none\" stroke=\"black\" d=\"M1000.39,-127.5C1007.62,-127.5 1015.92,-127.5 1024.74,-127.5\"/>\n",
       "<polygon fill=\"black\" stroke=\"black\" points=\"1024.64,-131 1034.64,-127.5 1024.64,-124 1024.64,-131\"/>\n",
       "</g>\n",
       "</g>\n",
       "</svg>\n"
      ],
      "text/plain": [
       "<graphviz.graphs.Digraph at 0x10c865f60>"
      ]
     },
     "execution_count": 48,
     "metadata": {},
     "output_type": "execute_result"
    }
   ],
   "source": [
    "draw_dot(o)"
   ]
  },
  {
   "cell_type": "markdown",
   "id": "b3128ff0-2499-4a23-aec9-5377926c17f6",
   "metadata": {
    "tags": []
   },
   "source": [
    "Now we need to hide this functionality: we'll put it inside Value class"
   ]
  },
  {
   "cell_type": "code",
   "execution_count": 49,
   "id": "acc3ce41-64a1-4264-8a7d-d3ee22072624",
   "metadata": {
    "tags": []
   },
   "outputs": [],
   "source": [
    "class Value:\n",
    "    def __init__(self, data, _children=(), _op='', label=''):\n",
    "        self.data = data\n",
    "        self.grad = 0.0\n",
    "        self._prev = set(_children) \n",
    "        self._op = _op\n",
    "        self.label = label\n",
    "        self._backward = lambda: None\n",
    "    \n",
    "    def __add__(self, other):\n",
    "        out = Value(self.data + other.data, (self, other), '+')\n",
    "        \n",
    "        def _backward():\n",
    "            self.grad = 1.0 * out.grad\n",
    "            other.grad = 1.0 * out.grad\n",
    "        out._backward = _backward\n",
    "        \n",
    "        return out\n",
    "    \n",
    "    def __mul__(self, other):\n",
    "        out = Value(self.data * other.data, (self, other), '*')\n",
    "        \n",
    "        def _backward():\n",
    "            self.grad = other.data * out.grad\n",
    "            other.grad = self.data * out.grad\n",
    "        out._backward = _backward\n",
    "        \n",
    "        return out\n",
    "    \n",
    "    def tanh(self):\n",
    "        x = self.data\n",
    "        t = (math.exp(2*x) - 1) / (math.exp(2*x) + 1)\n",
    "        out = Value(t, (self, ), 'tanh')\n",
    "        \n",
    "        def _backward():\n",
    "            self.grad = (1 - t**2) * out.grad \n",
    "        \n",
    "        out._backward = _backward\n",
    "        \n",
    "        return out\n",
    "    \n",
    "    def backward(self):\n",
    "        topo = []\n",
    "        visited = set()\n",
    "\n",
    "        def build_topo(v):\n",
    "            if v not in visited:\n",
    "                visited.add(v)\n",
    "                for child in v._prev:\n",
    "                    build_topo(child)\n",
    "                topo.append(v)\n",
    "        \n",
    "        build_topo(self)\n",
    "        \n",
    "        self.grad = 1.0 # initialize here\n",
    "        for node in reversed(topo):\n",
    "            node._backward()\n",
    "    \n",
    "    def __repr__(self):\n",
    "        return f\"Value(data={self.data})\""
   ]
  },
  {
   "cell_type": "code",
   "execution_count": 50,
   "id": "16107aaa-46f3-4b15-9096-990858a98d01",
   "metadata": {
    "tags": []
   },
   "outputs": [],
   "source": [
    "# redo \n",
    "\n",
    "x1 = Value(2.0, label='x1')\n",
    "x2 = Value(0.0, label='x2')\n",
    "w1 = Value(-3.0, label='w1')\n",
    "w2 = Value(1.0, label='w2')\n",
    "b = Value(6.8813735870195432, label='b') # this value of b to make numbers nicer for us when we do backprop \n",
    "x1w1 = x1*w1; x1w1.label = 'x1w1'\n",
    "x2w2 = x2*w2; x2w2.label = 'x2w2'\n",
    "x1w1x2w2 = x1w1 + x2w2; x1w1x2w2.label = 'x1w1x2w2'\n",
    "n = x1w1x2w2 + b; n.label = 'n' # n is the cell body's raw activation \n",
    "o = n.tanh(); o.label = 'o'\n",
    "o.grad = 1.0"
   ]
  },
  {
   "cell_type": "code",
   "execution_count": 51,
   "id": "5f743647-1d69-4f95-a219-c74050997ffc",
   "metadata": {
    "tags": []
   },
   "outputs": [
    {
     "data": {
      "image/svg+xml": [
       "<?xml version=\"1.0\" encoding=\"UTF-8\" standalone=\"no\"?>\n",
       "<!DOCTYPE svg PUBLIC \"-//W3C//DTD SVG 1.1//EN\"\n",
       " \"http://www.w3.org/Graphics/SVG/1.1/DTD/svg11.dtd\">\n",
       "<!-- Generated by graphviz version 7.1.0 (0)\n",
       " -->\n",
       "<!-- Pages: 1 -->\n",
       "<svg width=\"1540pt\" height=\"210pt\"\n",
       " viewBox=\"0.00 0.00 1540.00 210.00\" xmlns=\"http://www.w3.org/2000/svg\" xmlns:xlink=\"http://www.w3.org/1999/xlink\">\n",
       "<g id=\"graph0\" class=\"graph\" transform=\"scale(1 1) rotate(0) translate(4 206)\">\n",
       "<polygon fill=\"white\" stroke=\"none\" points=\"-4,4 -4,-206 1536,-206 1536,4 -4,4\"/>\n",
       "<!-- 4505642528 -->\n",
       "<g id=\"node1\" class=\"node\">\n",
       "<title>4505642528</title>\n",
       "<polygon fill=\"none\" stroke=\"black\" points=\"666,-82.5 666,-118.5 910,-118.5 910,-82.5 666,-82.5\"/>\n",
       "<text text-anchor=\"middle\" x=\"704.5\" y=\"-96.8\" font-family=\"Times,serif\" font-size=\"14.00\">x1w1x2w2</text>\n",
       "<polyline fill=\"none\" stroke=\"black\" points=\"743,-82.5 743,-118.5\"/>\n",
       "<text text-anchor=\"middle\" x=\"785.5\" y=\"-96.8\" font-family=\"Times,serif\" font-size=\"14.00\">data &#45;6.0000</text>\n",
       "<polyline fill=\"none\" stroke=\"black\" points=\"828,-82.5 828,-118.5\"/>\n",
       "<text text-anchor=\"middle\" x=\"869\" y=\"-96.8\" font-family=\"Times,serif\" font-size=\"14.00\">grad 0.0000</text>\n",
       "</g>\n",
       "<!-- 4505633072+ -->\n",
       "<g id=\"node9\" class=\"node\">\n",
       "<title>4505633072+</title>\n",
       "<ellipse fill=\"none\" stroke=\"black\" cx=\"973\" cy=\"-127.5\" rx=\"27\" ry=\"18\"/>\n",
       "<text text-anchor=\"middle\" x=\"973\" y=\"-123.8\" font-family=\"Times,serif\" font-size=\"14.00\">+</text>\n",
       "</g>\n",
       "<!-- 4505642528&#45;&gt;4505633072+ -->\n",
       "<g id=\"edge13\" class=\"edge\">\n",
       "<title>4505642528&#45;&gt;4505633072+</title>\n",
       "<path fill=\"none\" stroke=\"black\" d=\"M909.79,-118.32C918.72,-119.64 927.23,-120.89 934.93,-122.03\"/>\n",
       "<polygon fill=\"black\" stroke=\"black\" points=\"934.42,-125.49 944.82,-123.49 935.44,-118.57 934.42,-125.49\"/>\n",
       "</g>\n",
       "<!-- 4505642528+ -->\n",
       "<g id=\"node2\" class=\"node\">\n",
       "<title>4505642528+</title>\n",
       "<ellipse fill=\"none\" stroke=\"black\" cx=\"603\" cy=\"-100.5\" rx=\"27\" ry=\"18\"/>\n",
       "<text text-anchor=\"middle\" x=\"603\" y=\"-96.8\" font-family=\"Times,serif\" font-size=\"14.00\">+</text>\n",
       "</g>\n",
       "<!-- 4505642528+&#45;&gt;4505642528 -->\n",
       "<g id=\"edge1\" class=\"edge\">\n",
       "<title>4505642528+&#45;&gt;4505642528</title>\n",
       "<path fill=\"none\" stroke=\"black\" d=\"M630.22,-100.5C637.46,-100.5 645.83,-100.5 654.87,-100.5\"/>\n",
       "<polygon fill=\"black\" stroke=\"black\" points=\"654.68,-104 664.68,-100.5 654.68,-97 654.68,-104\"/>\n",
       "</g>\n",
       "<!-- 4505644592 -->\n",
       "<g id=\"node3\" class=\"node\">\n",
       "<title>4505644592</title>\n",
       "<polygon fill=\"none\" stroke=\"black\" points=\"4,-55.5 4,-91.5 196,-91.5 196,-55.5 4,-55.5\"/>\n",
       "<text text-anchor=\"middle\" x=\"19\" y=\"-69.8\" font-family=\"Times,serif\" font-size=\"14.00\">x1</text>\n",
       "<polyline fill=\"none\" stroke=\"black\" points=\"34,-55.5 34,-91.5\"/>\n",
       "<text text-anchor=\"middle\" x=\"74\" y=\"-69.8\" font-family=\"Times,serif\" font-size=\"14.00\">data 2.0000</text>\n",
       "<polyline fill=\"none\" stroke=\"black\" points=\"114,-55.5 114,-91.5\"/>\n",
       "<text text-anchor=\"middle\" x=\"155\" y=\"-69.8\" font-family=\"Times,serif\" font-size=\"14.00\">grad 0.0000</text>\n",
       "</g>\n",
       "<!-- 4505637776* -->\n",
       "<g id=\"node14\" class=\"node\">\n",
       "<title>4505637776*</title>\n",
       "<ellipse fill=\"none\" stroke=\"black\" cx=\"263\" cy=\"-73.5\" rx=\"27\" ry=\"18\"/>\n",
       "<text text-anchor=\"middle\" x=\"263\" y=\"-69.8\" font-family=\"Times,serif\" font-size=\"14.00\">*</text>\n",
       "</g>\n",
       "<!-- 4505644592&#45;&gt;4505637776* -->\n",
       "<g id=\"edge8\" class=\"edge\">\n",
       "<title>4505644592&#45;&gt;4505637776*</title>\n",
       "<path fill=\"none\" stroke=\"black\" d=\"M195.59,-73.5C205.66,-73.5 215.42,-73.5 224.23,-73.5\"/>\n",
       "<polygon fill=\"black\" stroke=\"black\" points=\"224.07,-77 234.07,-73.5 224.07,-70 224.07,-77\"/>\n",
       "</g>\n",
       "<!-- 4505639504 -->\n",
       "<g id=\"node4\" class=\"node\">\n",
       "<title>4505639504</title>\n",
       "<polygon fill=\"none\" stroke=\"black\" points=\"2.5,-165.5 2.5,-201.5 197.5,-201.5 197.5,-165.5 2.5,-165.5\"/>\n",
       "<text text-anchor=\"middle\" x=\"19\" y=\"-179.8\" font-family=\"Times,serif\" font-size=\"14.00\">w2</text>\n",
       "<polyline fill=\"none\" stroke=\"black\" points=\"35.5,-165.5 35.5,-201.5\"/>\n",
       "<text text-anchor=\"middle\" x=\"75.5\" y=\"-179.8\" font-family=\"Times,serif\" font-size=\"14.00\">data 1.0000</text>\n",
       "<polyline fill=\"none\" stroke=\"black\" points=\"115.5,-165.5 115.5,-201.5\"/>\n",
       "<text text-anchor=\"middle\" x=\"156.5\" y=\"-179.8\" font-family=\"Times,serif\" font-size=\"14.00\">grad 0.0000</text>\n",
       "</g>\n",
       "<!-- 4505642816* -->\n",
       "<g id=\"node11\" class=\"node\">\n",
       "<title>4505642816*</title>\n",
       "<ellipse fill=\"none\" stroke=\"black\" cx=\"263\" cy=\"-128.5\" rx=\"27\" ry=\"18\"/>\n",
       "<text text-anchor=\"middle\" x=\"263\" y=\"-124.8\" font-family=\"Times,serif\" font-size=\"14.00\">*</text>\n",
       "</g>\n",
       "<!-- 4505639504&#45;&gt;4505642816* -->\n",
       "<g id=\"edge9\" class=\"edge\">\n",
       "<title>4505639504&#45;&gt;4505642816*</title>\n",
       "<path fill=\"none\" stroke=\"black\" d=\"M172.27,-165.52C181.67,-162.72 191.12,-159.7 200,-156.5 210.09,-152.87 220.83,-148.29 230.48,-143.89\"/>\n",
       "<polygon fill=\"black\" stroke=\"black\" points=\"231.87,-147.11 239.45,-139.71 228.91,-140.76 231.87,-147.11\"/>\n",
       "</g>\n",
       "<!-- 4505633360 -->\n",
       "<g id=\"node5\" class=\"node\">\n",
       "<title>4505633360</title>\n",
       "<polygon fill=\"none\" stroke=\"black\" points=\"695.5,-137.5 695.5,-173.5 880.5,-173.5 880.5,-137.5 695.5,-137.5\"/>\n",
       "<text text-anchor=\"middle\" x=\"707\" y=\"-151.8\" font-family=\"Times,serif\" font-size=\"14.00\">b</text>\n",
       "<polyline fill=\"none\" stroke=\"black\" points=\"718.5,-137.5 718.5,-173.5\"/>\n",
       "<text text-anchor=\"middle\" x=\"758.5\" y=\"-151.8\" font-family=\"Times,serif\" font-size=\"14.00\">data 6.8814</text>\n",
       "<polyline fill=\"none\" stroke=\"black\" points=\"798.5,-137.5 798.5,-173.5\"/>\n",
       "<text text-anchor=\"middle\" x=\"839.5\" y=\"-151.8\" font-family=\"Times,serif\" font-size=\"14.00\">grad 0.0000</text>\n",
       "</g>\n",
       "<!-- 4505633360&#45;&gt;4505633072+ -->\n",
       "<g id=\"edge11\" class=\"edge\">\n",
       "<title>4505633360&#45;&gt;4505633072+</title>\n",
       "<path fill=\"none\" stroke=\"black\" d=\"M880.5,-141.5C899.91,-138.53 919.33,-135.56 935.25,-133.12\"/>\n",
       "<polygon fill=\"black\" stroke=\"black\" points=\"935.32,-136.65 944.67,-131.68 934.26,-129.73 935.32,-136.65\"/>\n",
       "</g>\n",
       "<!-- 4505545376 -->\n",
       "<g id=\"node6\" class=\"node\">\n",
       "<title>4505545376</title>\n",
       "<polygon fill=\"none\" stroke=\"black\" points=\"1347,-109.5 1347,-145.5 1532,-145.5 1532,-109.5 1347,-109.5\"/>\n",
       "<text text-anchor=\"middle\" x=\"1358.5\" y=\"-123.8\" font-family=\"Times,serif\" font-size=\"14.00\">o</text>\n",
       "<polyline fill=\"none\" stroke=\"black\" points=\"1370,-109.5 1370,-145.5\"/>\n",
       "<text text-anchor=\"middle\" x=\"1410\" y=\"-123.8\" font-family=\"Times,serif\" font-size=\"14.00\">data 0.7071</text>\n",
       "<polyline fill=\"none\" stroke=\"black\" points=\"1450,-109.5 1450,-145.5\"/>\n",
       "<text text-anchor=\"middle\" x=\"1491\" y=\"-123.8\" font-family=\"Times,serif\" font-size=\"14.00\">grad 1.0000</text>\n",
       "</g>\n",
       "<!-- 4505545376tanh -->\n",
       "<g id=\"node7\" class=\"node\">\n",
       "<title>4505545376tanh</title>\n",
       "<ellipse fill=\"none\" stroke=\"black\" cx=\"1284\" cy=\"-127.5\" rx=\"27\" ry=\"18\"/>\n",
       "<text text-anchor=\"middle\" x=\"1284\" y=\"-123.8\" font-family=\"Times,serif\" font-size=\"14.00\">tanh</text>\n",
       "</g>\n",
       "<!-- 4505545376tanh&#45;&gt;4505545376 -->\n",
       "<g id=\"edge2\" class=\"edge\">\n",
       "<title>4505545376tanh&#45;&gt;4505545376</title>\n",
       "<path fill=\"none\" stroke=\"black\" d=\"M1311.39,-127.5C1318.62,-127.5 1326.92,-127.5 1335.74,-127.5\"/>\n",
       "<polygon fill=\"black\" stroke=\"black\" points=\"1335.64,-131 1345.64,-127.5 1335.64,-124 1335.64,-131\"/>\n",
       "</g>\n",
       "<!-- 4505633072 -->\n",
       "<g id=\"node8\" class=\"node\">\n",
       "<title>4505633072</title>\n",
       "<polygon fill=\"none\" stroke=\"black\" points=\"1036,-109.5 1036,-145.5 1221,-145.5 1221,-109.5 1036,-109.5\"/>\n",
       "<text text-anchor=\"middle\" x=\"1047.5\" y=\"-123.8\" font-family=\"Times,serif\" font-size=\"14.00\">n</text>\n",
       "<polyline fill=\"none\" stroke=\"black\" points=\"1059,-109.5 1059,-145.5\"/>\n",
       "<text text-anchor=\"middle\" x=\"1099\" y=\"-123.8\" font-family=\"Times,serif\" font-size=\"14.00\">data 0.8814</text>\n",
       "<polyline fill=\"none\" stroke=\"black\" points=\"1139,-109.5 1139,-145.5\"/>\n",
       "<text text-anchor=\"middle\" x=\"1180\" y=\"-123.8\" font-family=\"Times,serif\" font-size=\"14.00\">grad 0.0000</text>\n",
       "</g>\n",
       "<!-- 4505633072&#45;&gt;4505545376tanh -->\n",
       "<g id=\"edge6\" class=\"edge\">\n",
       "<title>4505633072&#45;&gt;4505545376tanh</title>\n",
       "<path fill=\"none\" stroke=\"black\" d=\"M1220.57,-127.5C1229.21,-127.5 1237.6,-127.5 1245.28,-127.5\"/>\n",
       "<polygon fill=\"black\" stroke=\"black\" points=\"1245.19,-131 1255.19,-127.5 1245.19,-124 1245.19,-131\"/>\n",
       "</g>\n",
       "<!-- 4505633072+&#45;&gt;4505633072 -->\n",
       "<g id=\"edge3\" class=\"edge\">\n",
       "<title>4505633072+&#45;&gt;4505633072</title>\n",
       "<path fill=\"none\" stroke=\"black\" d=\"M1000.39,-127.5C1007.62,-127.5 1015.92,-127.5 1024.74,-127.5\"/>\n",
       "<polygon fill=\"black\" stroke=\"black\" points=\"1024.64,-131 1034.64,-127.5 1024.64,-124 1024.64,-131\"/>\n",
       "</g>\n",
       "<!-- 4505642816 -->\n",
       "<g id=\"node10\" class=\"node\">\n",
       "<title>4505642816</title>\n",
       "<polygon fill=\"none\" stroke=\"black\" points=\"328.5,-110.5 328.5,-146.5 537.5,-146.5 537.5,-110.5 328.5,-110.5\"/>\n",
       "<text text-anchor=\"middle\" x=\"352\" y=\"-124.8\" font-family=\"Times,serif\" font-size=\"14.00\">x2w2</text>\n",
       "<polyline fill=\"none\" stroke=\"black\" points=\"375.5,-110.5 375.5,-146.5\"/>\n",
       "<text text-anchor=\"middle\" x=\"415.5\" y=\"-124.8\" font-family=\"Times,serif\" font-size=\"14.00\">data 0.0000</text>\n",
       "<polyline fill=\"none\" stroke=\"black\" points=\"455.5,-110.5 455.5,-146.5\"/>\n",
       "<text text-anchor=\"middle\" x=\"496.5\" y=\"-124.8\" font-family=\"Times,serif\" font-size=\"14.00\">grad 0.0000</text>\n",
       "</g>\n",
       "<!-- 4505642816&#45;&gt;4505642528+ -->\n",
       "<g id=\"edge12\" class=\"edge\">\n",
       "<title>4505642816&#45;&gt;4505642528+</title>\n",
       "<path fill=\"none\" stroke=\"black\" d=\"M537.05,-111.33C547.04,-109.66 556.65,-108.06 565.28,-106.62\"/>\n",
       "<polygon fill=\"black\" stroke=\"black\" points=\"565.59,-110.12 574.88,-105.02 564.44,-103.21 565.59,-110.12\"/>\n",
       "</g>\n",
       "<!-- 4505642816*&#45;&gt;4505642816 -->\n",
       "<g id=\"edge4\" class=\"edge\">\n",
       "<title>4505642816*&#45;&gt;4505642816</title>\n",
       "<path fill=\"none\" stroke=\"black\" d=\"M290.25,-128.5C298.16,-128.5 307.4,-128.5 317.3,-128.5\"/>\n",
       "<polygon fill=\"black\" stroke=\"black\" points=\"317.2,-132 327.2,-128.5 317.2,-125 317.2,-132\"/>\n",
       "</g>\n",
       "<!-- 4505638256 -->\n",
       "<g id=\"node12\" class=\"node\">\n",
       "<title>4505638256</title>\n",
       "<polygon fill=\"none\" stroke=\"black\" points=\"4,-110.5 4,-146.5 196,-146.5 196,-110.5 4,-110.5\"/>\n",
       "<text text-anchor=\"middle\" x=\"19\" y=\"-124.8\" font-family=\"Times,serif\" font-size=\"14.00\">x2</text>\n",
       "<polyline fill=\"none\" stroke=\"black\" points=\"34,-110.5 34,-146.5\"/>\n",
       "<text text-anchor=\"middle\" x=\"74\" y=\"-124.8\" font-family=\"Times,serif\" font-size=\"14.00\">data 0.0000</text>\n",
       "<polyline fill=\"none\" stroke=\"black\" points=\"114,-110.5 114,-146.5\"/>\n",
       "<text text-anchor=\"middle\" x=\"155\" y=\"-124.8\" font-family=\"Times,serif\" font-size=\"14.00\">grad 0.0000</text>\n",
       "</g>\n",
       "<!-- 4505638256&#45;&gt;4505642816* -->\n",
       "<g id=\"edge10\" class=\"edge\">\n",
       "<title>4505638256&#45;&gt;4505642816*</title>\n",
       "<path fill=\"none\" stroke=\"black\" d=\"M195.59,-128.5C205.66,-128.5 215.42,-128.5 224.23,-128.5\"/>\n",
       "<polygon fill=\"black\" stroke=\"black\" points=\"224.07,-132 234.07,-128.5 224.07,-125 224.07,-132\"/>\n",
       "</g>\n",
       "<!-- 4505637776 -->\n",
       "<g id=\"node13\" class=\"node\">\n",
       "<title>4505637776</title>\n",
       "<polygon fill=\"none\" stroke=\"black\" points=\"326,-55.5 326,-91.5 540,-91.5 540,-55.5 326,-55.5\"/>\n",
       "<text text-anchor=\"middle\" x=\"349.5\" y=\"-69.8\" font-family=\"Times,serif\" font-size=\"14.00\">x1w1</text>\n",
       "<polyline fill=\"none\" stroke=\"black\" points=\"373,-55.5 373,-91.5\"/>\n",
       "<text text-anchor=\"middle\" x=\"415.5\" y=\"-69.8\" font-family=\"Times,serif\" font-size=\"14.00\">data &#45;6.0000</text>\n",
       "<polyline fill=\"none\" stroke=\"black\" points=\"458,-55.5 458,-91.5\"/>\n",
       "<text text-anchor=\"middle\" x=\"499\" y=\"-69.8\" font-family=\"Times,serif\" font-size=\"14.00\">grad 0.0000</text>\n",
       "</g>\n",
       "<!-- 4505637776&#45;&gt;4505642528+ -->\n",
       "<g id=\"edge14\" class=\"edge\">\n",
       "<title>4505637776&#45;&gt;4505642528+</title>\n",
       "<path fill=\"none\" stroke=\"black\" d=\"M539.92,-90.52C548.88,-91.96 557.49,-93.35 565.29,-94.6\"/>\n",
       "<polygon fill=\"black\" stroke=\"black\" points=\"564.52,-98.02 574.95,-96.15 565.63,-91.11 564.52,-98.02\"/>\n",
       "</g>\n",
       "<!-- 4505637776*&#45;&gt;4505637776 -->\n",
       "<g id=\"edge5\" class=\"edge\">\n",
       "<title>4505637776*&#45;&gt;4505637776</title>\n",
       "<path fill=\"none\" stroke=\"black\" d=\"M290.25,-73.5C297.53,-73.5 305.94,-73.5 314.95,-73.5\"/>\n",
       "<polygon fill=\"black\" stroke=\"black\" points=\"314.69,-77 324.69,-73.5 314.69,-70 314.69,-77\"/>\n",
       "</g>\n",
       "<!-- 4505640416 -->\n",
       "<g id=\"node15\" class=\"node\">\n",
       "<title>4505640416</title>\n",
       "<polygon fill=\"none\" stroke=\"black\" points=\"0,-0.5 0,-36.5 200,-36.5 200,-0.5 0,-0.5\"/>\n",
       "<text text-anchor=\"middle\" x=\"16.5\" y=\"-14.8\" font-family=\"Times,serif\" font-size=\"14.00\">w1</text>\n",
       "<polyline fill=\"none\" stroke=\"black\" points=\"33,-0.5 33,-36.5\"/>\n",
       "<text text-anchor=\"middle\" x=\"75.5\" y=\"-14.8\" font-family=\"Times,serif\" font-size=\"14.00\">data &#45;3.0000</text>\n",
       "<polyline fill=\"none\" stroke=\"black\" points=\"118,-0.5 118,-36.5\"/>\n",
       "<text text-anchor=\"middle\" x=\"159\" y=\"-14.8\" font-family=\"Times,serif\" font-size=\"14.00\">grad 0.0000</text>\n",
       "</g>\n",
       "<!-- 4505640416&#45;&gt;4505637776* -->\n",
       "<g id=\"edge7\" class=\"edge\">\n",
       "<title>4505640416&#45;&gt;4505637776*</title>\n",
       "<path fill=\"none\" stroke=\"black\" d=\"M169.02,-36.42C179.47,-39.56 190.08,-42.95 200,-46.5 209.96,-50.06 220.59,-54.46 230.18,-58.66\"/>\n",
       "<polygon fill=\"black\" stroke=\"black\" points=\"228.54,-61.76 239.1,-62.66 231.4,-55.37 228.54,-61.76\"/>\n",
       "</g>\n",
       "</g>\n",
       "</svg>\n"
      ],
      "text/plain": [
       "<graphviz.graphs.Digraph at 0x10c8e9cc0>"
      ]
     },
     "execution_count": 51,
     "metadata": {},
     "output_type": "execute_result"
    }
   ],
   "source": [
    "# make sure grads are 0 before we call backward()\n",
    "draw_dot(o)"
   ]
  },
  {
   "cell_type": "code",
   "execution_count": 52,
   "id": "6b8a2492-ddfd-4559-aa20-a5fccd650e39",
   "metadata": {
    "tags": []
   },
   "outputs": [
    {
     "data": {
      "image/svg+xml": [
       "<?xml version=\"1.0\" encoding=\"UTF-8\" standalone=\"no\"?>\n",
       "<!DOCTYPE svg PUBLIC \"-//W3C//DTD SVG 1.1//EN\"\n",
       " \"http://www.w3.org/Graphics/SVG/1.1/DTD/svg11.dtd\">\n",
       "<!-- Generated by graphviz version 7.1.0 (0)\n",
       " -->\n",
       "<!-- Pages: 1 -->\n",
       "<svg width=\"1540pt\" height=\"210pt\"\n",
       " viewBox=\"0.00 0.00 1540.00 210.00\" xmlns=\"http://www.w3.org/2000/svg\" xmlns:xlink=\"http://www.w3.org/1999/xlink\">\n",
       "<g id=\"graph0\" class=\"graph\" transform=\"scale(1 1) rotate(0) translate(4 206)\">\n",
       "<polygon fill=\"white\" stroke=\"none\" points=\"-4,4 -4,-206 1536,-206 1536,4 -4,4\"/>\n",
       "<!-- 4505642528 -->\n",
       "<g id=\"node1\" class=\"node\">\n",
       "<title>4505642528</title>\n",
       "<polygon fill=\"none\" stroke=\"black\" points=\"666,-82.5 666,-118.5 910,-118.5 910,-82.5 666,-82.5\"/>\n",
       "<text text-anchor=\"middle\" x=\"704.5\" y=\"-96.8\" font-family=\"Times,serif\" font-size=\"14.00\">x1w1x2w2</text>\n",
       "<polyline fill=\"none\" stroke=\"black\" points=\"743,-82.5 743,-118.5\"/>\n",
       "<text text-anchor=\"middle\" x=\"785.5\" y=\"-96.8\" font-family=\"Times,serif\" font-size=\"14.00\">data &#45;6.0000</text>\n",
       "<polyline fill=\"none\" stroke=\"black\" points=\"828,-82.5 828,-118.5\"/>\n",
       "<text text-anchor=\"middle\" x=\"869\" y=\"-96.8\" font-family=\"Times,serif\" font-size=\"14.00\">grad 0.5000</text>\n",
       "</g>\n",
       "<!-- 4505633072+ -->\n",
       "<g id=\"node9\" class=\"node\">\n",
       "<title>4505633072+</title>\n",
       "<ellipse fill=\"none\" stroke=\"black\" cx=\"973\" cy=\"-127.5\" rx=\"27\" ry=\"18\"/>\n",
       "<text text-anchor=\"middle\" x=\"973\" y=\"-123.8\" font-family=\"Times,serif\" font-size=\"14.00\">+</text>\n",
       "</g>\n",
       "<!-- 4505642528&#45;&gt;4505633072+ -->\n",
       "<g id=\"edge13\" class=\"edge\">\n",
       "<title>4505642528&#45;&gt;4505633072+</title>\n",
       "<path fill=\"none\" stroke=\"black\" d=\"M909.79,-118.32C918.72,-119.64 927.23,-120.89 934.93,-122.03\"/>\n",
       "<polygon fill=\"black\" stroke=\"black\" points=\"934.42,-125.49 944.82,-123.49 935.44,-118.57 934.42,-125.49\"/>\n",
       "</g>\n",
       "<!-- 4505642528+ -->\n",
       "<g id=\"node2\" class=\"node\">\n",
       "<title>4505642528+</title>\n",
       "<ellipse fill=\"none\" stroke=\"black\" cx=\"603\" cy=\"-100.5\" rx=\"27\" ry=\"18\"/>\n",
       "<text text-anchor=\"middle\" x=\"603\" y=\"-96.8\" font-family=\"Times,serif\" font-size=\"14.00\">+</text>\n",
       "</g>\n",
       "<!-- 4505642528+&#45;&gt;4505642528 -->\n",
       "<g id=\"edge1\" class=\"edge\">\n",
       "<title>4505642528+&#45;&gt;4505642528</title>\n",
       "<path fill=\"none\" stroke=\"black\" d=\"M630.22,-100.5C637.46,-100.5 645.83,-100.5 654.87,-100.5\"/>\n",
       "<polygon fill=\"black\" stroke=\"black\" points=\"654.68,-104 664.68,-100.5 654.68,-97 654.68,-104\"/>\n",
       "</g>\n",
       "<!-- 4505644592 -->\n",
       "<g id=\"node3\" class=\"node\">\n",
       "<title>4505644592</title>\n",
       "<polygon fill=\"none\" stroke=\"black\" points=\"2,-55.5 2,-91.5 198,-91.5 198,-55.5 2,-55.5\"/>\n",
       "<text text-anchor=\"middle\" x=\"17\" y=\"-69.8\" font-family=\"Times,serif\" font-size=\"14.00\">x1</text>\n",
       "<polyline fill=\"none\" stroke=\"black\" points=\"32,-55.5 32,-91.5\"/>\n",
       "<text text-anchor=\"middle\" x=\"72\" y=\"-69.8\" font-family=\"Times,serif\" font-size=\"14.00\">data 2.0000</text>\n",
       "<polyline fill=\"none\" stroke=\"black\" points=\"112,-55.5 112,-91.5\"/>\n",
       "<text text-anchor=\"middle\" x=\"155\" y=\"-69.8\" font-family=\"Times,serif\" font-size=\"14.00\">grad &#45;1.5000</text>\n",
       "</g>\n",
       "<!-- 4505637776* -->\n",
       "<g id=\"node14\" class=\"node\">\n",
       "<title>4505637776*</title>\n",
       "<ellipse fill=\"none\" stroke=\"black\" cx=\"263\" cy=\"-73.5\" rx=\"27\" ry=\"18\"/>\n",
       "<text text-anchor=\"middle\" x=\"263\" y=\"-69.8\" font-family=\"Times,serif\" font-size=\"14.00\">*</text>\n",
       "</g>\n",
       "<!-- 4505644592&#45;&gt;4505637776* -->\n",
       "<g id=\"edge8\" class=\"edge\">\n",
       "<title>4505644592&#45;&gt;4505637776*</title>\n",
       "<path fill=\"none\" stroke=\"black\" d=\"M197.91,-73.5C207.21,-73.5 216.21,-73.5 224.38,-73.5\"/>\n",
       "<polygon fill=\"black\" stroke=\"black\" points=\"224.18,-77 234.18,-73.5 224.18,-70 224.18,-77\"/>\n",
       "</g>\n",
       "<!-- 4505639504 -->\n",
       "<g id=\"node4\" class=\"node\">\n",
       "<title>4505639504</title>\n",
       "<polygon fill=\"none\" stroke=\"black\" points=\"2.5,-165.5 2.5,-201.5 197.5,-201.5 197.5,-165.5 2.5,-165.5\"/>\n",
       "<text text-anchor=\"middle\" x=\"19\" y=\"-179.8\" font-family=\"Times,serif\" font-size=\"14.00\">w2</text>\n",
       "<polyline fill=\"none\" stroke=\"black\" points=\"35.5,-165.5 35.5,-201.5\"/>\n",
       "<text text-anchor=\"middle\" x=\"75.5\" y=\"-179.8\" font-family=\"Times,serif\" font-size=\"14.00\">data 1.0000</text>\n",
       "<polyline fill=\"none\" stroke=\"black\" points=\"115.5,-165.5 115.5,-201.5\"/>\n",
       "<text text-anchor=\"middle\" x=\"156.5\" y=\"-179.8\" font-family=\"Times,serif\" font-size=\"14.00\">grad 0.0000</text>\n",
       "</g>\n",
       "<!-- 4505642816* -->\n",
       "<g id=\"node11\" class=\"node\">\n",
       "<title>4505642816*</title>\n",
       "<ellipse fill=\"none\" stroke=\"black\" cx=\"263\" cy=\"-128.5\" rx=\"27\" ry=\"18\"/>\n",
       "<text text-anchor=\"middle\" x=\"263\" y=\"-124.8\" font-family=\"Times,serif\" font-size=\"14.00\">*</text>\n",
       "</g>\n",
       "<!-- 4505639504&#45;&gt;4505642816* -->\n",
       "<g id=\"edge9\" class=\"edge\">\n",
       "<title>4505639504&#45;&gt;4505642816*</title>\n",
       "<path fill=\"none\" stroke=\"black\" d=\"M172.27,-165.52C181.67,-162.72 191.12,-159.7 200,-156.5 210.09,-152.87 220.83,-148.29 230.48,-143.89\"/>\n",
       "<polygon fill=\"black\" stroke=\"black\" points=\"231.87,-147.11 239.45,-139.71 228.91,-140.76 231.87,-147.11\"/>\n",
       "</g>\n",
       "<!-- 4505633360 -->\n",
       "<g id=\"node5\" class=\"node\">\n",
       "<title>4505633360</title>\n",
       "<polygon fill=\"none\" stroke=\"black\" points=\"695.5,-137.5 695.5,-173.5 880.5,-173.5 880.5,-137.5 695.5,-137.5\"/>\n",
       "<text text-anchor=\"middle\" x=\"707\" y=\"-151.8\" font-family=\"Times,serif\" font-size=\"14.00\">b</text>\n",
       "<polyline fill=\"none\" stroke=\"black\" points=\"718.5,-137.5 718.5,-173.5\"/>\n",
       "<text text-anchor=\"middle\" x=\"758.5\" y=\"-151.8\" font-family=\"Times,serif\" font-size=\"14.00\">data 6.8814</text>\n",
       "<polyline fill=\"none\" stroke=\"black\" points=\"798.5,-137.5 798.5,-173.5\"/>\n",
       "<text text-anchor=\"middle\" x=\"839.5\" y=\"-151.8\" font-family=\"Times,serif\" font-size=\"14.00\">grad 0.5000</text>\n",
       "</g>\n",
       "<!-- 4505633360&#45;&gt;4505633072+ -->\n",
       "<g id=\"edge11\" class=\"edge\">\n",
       "<title>4505633360&#45;&gt;4505633072+</title>\n",
       "<path fill=\"none\" stroke=\"black\" d=\"M880.5,-141.5C899.91,-138.53 919.33,-135.56 935.25,-133.12\"/>\n",
       "<polygon fill=\"black\" stroke=\"black\" points=\"935.32,-136.65 944.67,-131.68 934.26,-129.73 935.32,-136.65\"/>\n",
       "</g>\n",
       "<!-- 4505545376 -->\n",
       "<g id=\"node6\" class=\"node\">\n",
       "<title>4505545376</title>\n",
       "<polygon fill=\"none\" stroke=\"black\" points=\"1347,-109.5 1347,-145.5 1532,-145.5 1532,-109.5 1347,-109.5\"/>\n",
       "<text text-anchor=\"middle\" x=\"1358.5\" y=\"-123.8\" font-family=\"Times,serif\" font-size=\"14.00\">o</text>\n",
       "<polyline fill=\"none\" stroke=\"black\" points=\"1370,-109.5 1370,-145.5\"/>\n",
       "<text text-anchor=\"middle\" x=\"1410\" y=\"-123.8\" font-family=\"Times,serif\" font-size=\"14.00\">data 0.7071</text>\n",
       "<polyline fill=\"none\" stroke=\"black\" points=\"1450,-109.5 1450,-145.5\"/>\n",
       "<text text-anchor=\"middle\" x=\"1491\" y=\"-123.8\" font-family=\"Times,serif\" font-size=\"14.00\">grad 1.0000</text>\n",
       "</g>\n",
       "<!-- 4505545376tanh -->\n",
       "<g id=\"node7\" class=\"node\">\n",
       "<title>4505545376tanh</title>\n",
       "<ellipse fill=\"none\" stroke=\"black\" cx=\"1284\" cy=\"-127.5\" rx=\"27\" ry=\"18\"/>\n",
       "<text text-anchor=\"middle\" x=\"1284\" y=\"-123.8\" font-family=\"Times,serif\" font-size=\"14.00\">tanh</text>\n",
       "</g>\n",
       "<!-- 4505545376tanh&#45;&gt;4505545376 -->\n",
       "<g id=\"edge2\" class=\"edge\">\n",
       "<title>4505545376tanh&#45;&gt;4505545376</title>\n",
       "<path fill=\"none\" stroke=\"black\" d=\"M1311.39,-127.5C1318.62,-127.5 1326.92,-127.5 1335.74,-127.5\"/>\n",
       "<polygon fill=\"black\" stroke=\"black\" points=\"1335.64,-131 1345.64,-127.5 1335.64,-124 1335.64,-131\"/>\n",
       "</g>\n",
       "<!-- 4505633072 -->\n",
       "<g id=\"node8\" class=\"node\">\n",
       "<title>4505633072</title>\n",
       "<polygon fill=\"none\" stroke=\"black\" points=\"1036,-109.5 1036,-145.5 1221,-145.5 1221,-109.5 1036,-109.5\"/>\n",
       "<text text-anchor=\"middle\" x=\"1047.5\" y=\"-123.8\" font-family=\"Times,serif\" font-size=\"14.00\">n</text>\n",
       "<polyline fill=\"none\" stroke=\"black\" points=\"1059,-109.5 1059,-145.5\"/>\n",
       "<text text-anchor=\"middle\" x=\"1099\" y=\"-123.8\" font-family=\"Times,serif\" font-size=\"14.00\">data 0.8814</text>\n",
       "<polyline fill=\"none\" stroke=\"black\" points=\"1139,-109.5 1139,-145.5\"/>\n",
       "<text text-anchor=\"middle\" x=\"1180\" y=\"-123.8\" font-family=\"Times,serif\" font-size=\"14.00\">grad 0.5000</text>\n",
       "</g>\n",
       "<!-- 4505633072&#45;&gt;4505545376tanh -->\n",
       "<g id=\"edge6\" class=\"edge\">\n",
       "<title>4505633072&#45;&gt;4505545376tanh</title>\n",
       "<path fill=\"none\" stroke=\"black\" d=\"M1220.57,-127.5C1229.21,-127.5 1237.6,-127.5 1245.28,-127.5\"/>\n",
       "<polygon fill=\"black\" stroke=\"black\" points=\"1245.19,-131 1255.19,-127.5 1245.19,-124 1245.19,-131\"/>\n",
       "</g>\n",
       "<!-- 4505633072+&#45;&gt;4505633072 -->\n",
       "<g id=\"edge3\" class=\"edge\">\n",
       "<title>4505633072+&#45;&gt;4505633072</title>\n",
       "<path fill=\"none\" stroke=\"black\" d=\"M1000.39,-127.5C1007.62,-127.5 1015.92,-127.5 1024.74,-127.5\"/>\n",
       "<polygon fill=\"black\" stroke=\"black\" points=\"1024.64,-131 1034.64,-127.5 1024.64,-124 1024.64,-131\"/>\n",
       "</g>\n",
       "<!-- 4505642816 -->\n",
       "<g id=\"node10\" class=\"node\">\n",
       "<title>4505642816</title>\n",
       "<polygon fill=\"none\" stroke=\"black\" points=\"328.5,-110.5 328.5,-146.5 537.5,-146.5 537.5,-110.5 328.5,-110.5\"/>\n",
       "<text text-anchor=\"middle\" x=\"352\" y=\"-124.8\" font-family=\"Times,serif\" font-size=\"14.00\">x2w2</text>\n",
       "<polyline fill=\"none\" stroke=\"black\" points=\"375.5,-110.5 375.5,-146.5\"/>\n",
       "<text text-anchor=\"middle\" x=\"415.5\" y=\"-124.8\" font-family=\"Times,serif\" font-size=\"14.00\">data 0.0000</text>\n",
       "<polyline fill=\"none\" stroke=\"black\" points=\"455.5,-110.5 455.5,-146.5\"/>\n",
       "<text text-anchor=\"middle\" x=\"496.5\" y=\"-124.8\" font-family=\"Times,serif\" font-size=\"14.00\">grad 0.5000</text>\n",
       "</g>\n",
       "<!-- 4505642816&#45;&gt;4505642528+ -->\n",
       "<g id=\"edge12\" class=\"edge\">\n",
       "<title>4505642816&#45;&gt;4505642528+</title>\n",
       "<path fill=\"none\" stroke=\"black\" d=\"M537.05,-111.33C547.04,-109.66 556.65,-108.06 565.28,-106.62\"/>\n",
       "<polygon fill=\"black\" stroke=\"black\" points=\"565.59,-110.12 574.88,-105.02 564.44,-103.21 565.59,-110.12\"/>\n",
       "</g>\n",
       "<!-- 4505642816*&#45;&gt;4505642816 -->\n",
       "<g id=\"edge4\" class=\"edge\">\n",
       "<title>4505642816*&#45;&gt;4505642816</title>\n",
       "<path fill=\"none\" stroke=\"black\" d=\"M290.25,-128.5C298.16,-128.5 307.4,-128.5 317.3,-128.5\"/>\n",
       "<polygon fill=\"black\" stroke=\"black\" points=\"317.2,-132 327.2,-128.5 317.2,-125 317.2,-132\"/>\n",
       "</g>\n",
       "<!-- 4505638256 -->\n",
       "<g id=\"node12\" class=\"node\">\n",
       "<title>4505638256</title>\n",
       "<polygon fill=\"none\" stroke=\"black\" points=\"4,-110.5 4,-146.5 196,-146.5 196,-110.5 4,-110.5\"/>\n",
       "<text text-anchor=\"middle\" x=\"19\" y=\"-124.8\" font-family=\"Times,serif\" font-size=\"14.00\">x2</text>\n",
       "<polyline fill=\"none\" stroke=\"black\" points=\"34,-110.5 34,-146.5\"/>\n",
       "<text text-anchor=\"middle\" x=\"74\" y=\"-124.8\" font-family=\"Times,serif\" font-size=\"14.00\">data 0.0000</text>\n",
       "<polyline fill=\"none\" stroke=\"black\" points=\"114,-110.5 114,-146.5\"/>\n",
       "<text text-anchor=\"middle\" x=\"155\" y=\"-124.8\" font-family=\"Times,serif\" font-size=\"14.00\">grad 0.5000</text>\n",
       "</g>\n",
       "<!-- 4505638256&#45;&gt;4505642816* -->\n",
       "<g id=\"edge10\" class=\"edge\">\n",
       "<title>4505638256&#45;&gt;4505642816*</title>\n",
       "<path fill=\"none\" stroke=\"black\" d=\"M195.59,-128.5C205.66,-128.5 215.42,-128.5 224.23,-128.5\"/>\n",
       "<polygon fill=\"black\" stroke=\"black\" points=\"224.07,-132 234.07,-128.5 224.07,-125 224.07,-132\"/>\n",
       "</g>\n",
       "<!-- 4505637776 -->\n",
       "<g id=\"node13\" class=\"node\">\n",
       "<title>4505637776</title>\n",
       "<polygon fill=\"none\" stroke=\"black\" points=\"326,-55.5 326,-91.5 540,-91.5 540,-55.5 326,-55.5\"/>\n",
       "<text text-anchor=\"middle\" x=\"349.5\" y=\"-69.8\" font-family=\"Times,serif\" font-size=\"14.00\">x1w1</text>\n",
       "<polyline fill=\"none\" stroke=\"black\" points=\"373,-55.5 373,-91.5\"/>\n",
       "<text text-anchor=\"middle\" x=\"415.5\" y=\"-69.8\" font-family=\"Times,serif\" font-size=\"14.00\">data &#45;6.0000</text>\n",
       "<polyline fill=\"none\" stroke=\"black\" points=\"458,-55.5 458,-91.5\"/>\n",
       "<text text-anchor=\"middle\" x=\"499\" y=\"-69.8\" font-family=\"Times,serif\" font-size=\"14.00\">grad 0.5000</text>\n",
       "</g>\n",
       "<!-- 4505637776&#45;&gt;4505642528+ -->\n",
       "<g id=\"edge14\" class=\"edge\">\n",
       "<title>4505637776&#45;&gt;4505642528+</title>\n",
       "<path fill=\"none\" stroke=\"black\" d=\"M539.92,-90.52C548.88,-91.96 557.49,-93.35 565.29,-94.6\"/>\n",
       "<polygon fill=\"black\" stroke=\"black\" points=\"564.52,-98.02 574.95,-96.15 565.63,-91.11 564.52,-98.02\"/>\n",
       "</g>\n",
       "<!-- 4505637776*&#45;&gt;4505637776 -->\n",
       "<g id=\"edge5\" class=\"edge\">\n",
       "<title>4505637776*&#45;&gt;4505637776</title>\n",
       "<path fill=\"none\" stroke=\"black\" d=\"M290.25,-73.5C297.53,-73.5 305.94,-73.5 314.95,-73.5\"/>\n",
       "<polygon fill=\"black\" stroke=\"black\" points=\"314.69,-77 324.69,-73.5 314.69,-70 314.69,-77\"/>\n",
       "</g>\n",
       "<!-- 4505640416 -->\n",
       "<g id=\"node15\" class=\"node\">\n",
       "<title>4505640416</title>\n",
       "<polygon fill=\"none\" stroke=\"black\" points=\"0,-0.5 0,-36.5 200,-36.5 200,-0.5 0,-0.5\"/>\n",
       "<text text-anchor=\"middle\" x=\"16.5\" y=\"-14.8\" font-family=\"Times,serif\" font-size=\"14.00\">w1</text>\n",
       "<polyline fill=\"none\" stroke=\"black\" points=\"33,-0.5 33,-36.5\"/>\n",
       "<text text-anchor=\"middle\" x=\"75.5\" y=\"-14.8\" font-family=\"Times,serif\" font-size=\"14.00\">data &#45;3.0000</text>\n",
       "<polyline fill=\"none\" stroke=\"black\" points=\"118,-0.5 118,-36.5\"/>\n",
       "<text text-anchor=\"middle\" x=\"159\" y=\"-14.8\" font-family=\"Times,serif\" font-size=\"14.00\">grad 1.0000</text>\n",
       "</g>\n",
       "<!-- 4505640416&#45;&gt;4505637776* -->\n",
       "<g id=\"edge7\" class=\"edge\">\n",
       "<title>4505640416&#45;&gt;4505637776*</title>\n",
       "<path fill=\"none\" stroke=\"black\" d=\"M169.02,-36.42C179.47,-39.56 190.08,-42.95 200,-46.5 209.96,-50.06 220.59,-54.46 230.18,-58.66\"/>\n",
       "<polygon fill=\"black\" stroke=\"black\" points=\"228.54,-61.76 239.1,-62.66 231.4,-55.37 228.54,-61.76\"/>\n",
       "</g>\n",
       "</g>\n",
       "</svg>\n"
      ],
      "text/plain": [
       "<graphviz.graphs.Digraph at 0x10c8eb400>"
      ]
     },
     "execution_count": 52,
     "metadata": {},
     "output_type": "execute_result"
    }
   ],
   "source": [
    "# now call backward and redraw\n",
    "o.backward()\n",
    "draw_dot(o)"
   ]
  },
  {
   "cell_type": "markdown",
   "id": "c39df71b-91f8-4a40-9be2-4f4b7f092ad2",
   "metadata": {},
   "source": [
    "### A subtle bug and the importance of testing: \n",
    "\n",
    "consider the following cases:"
   ]
  },
  {
   "cell_type": "code",
   "execution_count": 53,
   "id": "487d4b6d-0b36-496d-b52f-fddb0186691e",
   "metadata": {
    "tags": []
   },
   "outputs": [
    {
     "data": {
      "image/svg+xml": [
       "<?xml version=\"1.0\" encoding=\"UTF-8\" standalone=\"no\"?>\n",
       "<!DOCTYPE svg PUBLIC \"-//W3C//DTD SVG 1.1//EN\"\n",
       " \"http://www.w3.org/Graphics/SVG/1.1/DTD/svg11.dtd\">\n",
       "<!-- Generated by graphviz version 7.1.0 (0)\n",
       " -->\n",
       "<!-- Pages: 1 -->\n",
       "<svg width=\"504pt\" height=\"45pt\"\n",
       " viewBox=\"0.00 0.00 504.00 45.00\" xmlns=\"http://www.w3.org/2000/svg\" xmlns:xlink=\"http://www.w3.org/1999/xlink\">\n",
       "<g id=\"graph0\" class=\"graph\" transform=\"scale(1 1) rotate(0) translate(4 41)\">\n",
       "<polygon fill=\"white\" stroke=\"none\" points=\"-4,4 -4,-41 500,-41 500,4 -4,4\"/>\n",
       "<!-- 4505637824 -->\n",
       "<g id=\"node1\" class=\"node\">\n",
       "<title>4505637824</title>\n",
       "<polygon fill=\"none\" stroke=\"black\" points=\"0,-0.5 0,-36.5 185,-36.5 185,-0.5 0,-0.5\"/>\n",
       "<text text-anchor=\"middle\" x=\"11.5\" y=\"-14.8\" font-family=\"Times,serif\" font-size=\"14.00\">a</text>\n",
       "<polyline fill=\"none\" stroke=\"black\" points=\"23,-0.5 23,-36.5\"/>\n",
       "<text text-anchor=\"middle\" x=\"63\" y=\"-14.8\" font-family=\"Times,serif\" font-size=\"14.00\">data 3.0000</text>\n",
       "<polyline fill=\"none\" stroke=\"black\" points=\"103,-0.5 103,-36.5\"/>\n",
       "<text text-anchor=\"middle\" x=\"144\" y=\"-14.8\" font-family=\"Times,serif\" font-size=\"14.00\">grad 1.0000</text>\n",
       "</g>\n",
       "<!-- 4505546864+ -->\n",
       "<g id=\"node3\" class=\"node\">\n",
       "<title>4505546864+</title>\n",
       "<ellipse fill=\"none\" stroke=\"black\" cx=\"248\" cy=\"-18.5\" rx=\"27\" ry=\"18\"/>\n",
       "<text text-anchor=\"middle\" x=\"248\" y=\"-14.8\" font-family=\"Times,serif\" font-size=\"14.00\">+</text>\n",
       "</g>\n",
       "<!-- 4505637824&#45;&gt;4505546864+ -->\n",
       "<g id=\"edge2\" class=\"edge\">\n",
       "<title>4505637824&#45;&gt;4505546864+</title>\n",
       "<path fill=\"none\" stroke=\"black\" d=\"M184.57,-18.5C193.21,-18.5 201.6,-18.5 209.28,-18.5\"/>\n",
       "<polygon fill=\"black\" stroke=\"black\" points=\"209.19,-22 219.19,-18.5 209.19,-15 209.19,-22\"/>\n",
       "</g>\n",
       "<!-- 4505546864 -->\n",
       "<g id=\"node2\" class=\"node\">\n",
       "<title>4505546864</title>\n",
       "<polygon fill=\"none\" stroke=\"black\" points=\"311,-0.5 311,-36.5 496,-36.5 496,-0.5 311,-0.5\"/>\n",
       "<text text-anchor=\"middle\" x=\"322.5\" y=\"-14.8\" font-family=\"Times,serif\" font-size=\"14.00\">b</text>\n",
       "<polyline fill=\"none\" stroke=\"black\" points=\"334,-0.5 334,-36.5\"/>\n",
       "<text text-anchor=\"middle\" x=\"374\" y=\"-14.8\" font-family=\"Times,serif\" font-size=\"14.00\">data 6.0000</text>\n",
       "<polyline fill=\"none\" stroke=\"black\" points=\"414,-0.5 414,-36.5\"/>\n",
       "<text text-anchor=\"middle\" x=\"455\" y=\"-14.8\" font-family=\"Times,serif\" font-size=\"14.00\">grad 1.0000</text>\n",
       "</g>\n",
       "<!-- 4505546864+&#45;&gt;4505546864 -->\n",
       "<g id=\"edge1\" class=\"edge\">\n",
       "<title>4505546864+&#45;&gt;4505546864</title>\n",
       "<path fill=\"none\" stroke=\"black\" d=\"M275.39,-18.5C282.62,-18.5 290.92,-18.5 299.74,-18.5\"/>\n",
       "<polygon fill=\"black\" stroke=\"black\" points=\"299.64,-22 309.64,-18.5 299.64,-15 299.64,-22\"/>\n",
       "</g>\n",
       "</g>\n",
       "</svg>\n"
      ],
      "text/plain": [
       "<graphviz.graphs.Digraph at 0x10c8e9510>"
      ]
     },
     "execution_count": 53,
     "metadata": {},
     "output_type": "execute_result"
    }
   ],
   "source": [
    "a = Value(3.0, label='a')\n",
    "b = a + a   ; b.label = 'b'\n",
    "b.backward()\n",
    "draw_dot(b)"
   ]
  },
  {
   "cell_type": "markdown",
   "id": "e2d794c4-ba23-4b55-98a3-e74cca42fbfd",
   "metadata": {},
   "source": [
    "Here we see the grad for a = 1.0 (this graph at a is actually 2 nodes of a on top of one another). We know that if \n",
    "$ b = a + a = 2a $ then $ db/da = 2 $ but here we're getting 1.0 why? \n",
    "\n",
    "```\n",
    "def __add__(self, other):\n",
    "    out = Value(self.data + other.data, (self, other), '+')\n",
    "\n",
    "    def _backward():\n",
    "        self.grad = 1.0 * out.grad\n",
    "        other.grad = 1.0 * out.grad\n",
    "    out._backward = _backward\n",
    "\n",
    "    return out\n",
    "```\n",
    "\n",
    "In our code each time we do `self.grad` or `other.grad` we're rewriting whatever values they already had. This means any time we have a value that is used more than once, each time a different node contributes to its gradient, it will override the contribution of others. Conside this more complex example:"
   ]
  },
  {
   "cell_type": "code",
   "execution_count": 54,
   "id": "3900cb64-c841-420a-a621-aefb778e8c82",
   "metadata": {
    "tags": []
   },
   "outputs": [
    {
     "data": {
      "image/svg+xml": [
       "<?xml version=\"1.0\" encoding=\"UTF-8\" standalone=\"no\"?>\n",
       "<!DOCTYPE svg PUBLIC \"-//W3C//DTD SVG 1.1//EN\"\n",
       " \"http://www.w3.org/Graphics/SVG/1.1/DTD/svg11.dtd\">\n",
       "<!-- Generated by graphviz version 7.1.0 (0)\n",
       " -->\n",
       "<!-- Pages: 1 -->\n",
       "<svg width=\"832pt\" height=\"100pt\"\n",
       " viewBox=\"0.00 0.00 832.00 100.00\" xmlns=\"http://www.w3.org/2000/svg\" xmlns:xlink=\"http://www.w3.org/1999/xlink\">\n",
       "<g id=\"graph0\" class=\"graph\" transform=\"scale(1 1) rotate(0) translate(4 96)\">\n",
       "<polygon fill=\"white\" stroke=\"none\" points=\"-4,4 -4,-96 828,-96 828,4 -4,4\"/>\n",
       "<!-- 4505541296 -->\n",
       "<g id=\"node1\" class=\"node\">\n",
       "<title>4505541296</title>\n",
       "<polygon fill=\"none\" stroke=\"black\" points=\"636,-27.5 636,-63.5 824,-63.5 824,-27.5 636,-27.5\"/>\n",
       "<text text-anchor=\"middle\" x=\"646.5\" y=\"-41.8\" font-family=\"Times,serif\" font-size=\"14.00\">f</text>\n",
       "<polyline fill=\"none\" stroke=\"black\" points=\"657,-27.5 657,-63.5\"/>\n",
       "<text text-anchor=\"middle\" x=\"699.5\" y=\"-41.8\" font-family=\"Times,serif\" font-size=\"14.00\">data &#45;6.0000</text>\n",
       "<polyline fill=\"none\" stroke=\"black\" points=\"742,-27.5 742,-63.5\"/>\n",
       "<text text-anchor=\"middle\" x=\"783\" y=\"-41.8\" font-family=\"Times,serif\" font-size=\"14.00\">grad 1.0000</text>\n",
       "</g>\n",
       "<!-- 4505541296* -->\n",
       "<g id=\"node2\" class=\"node\">\n",
       "<title>4505541296*</title>\n",
       "<ellipse fill=\"none\" stroke=\"black\" cx=\"573\" cy=\"-45.5\" rx=\"27\" ry=\"18\"/>\n",
       "<text text-anchor=\"middle\" x=\"573\" y=\"-41.8\" font-family=\"Times,serif\" font-size=\"14.00\">*</text>\n",
       "</g>\n",
       "<!-- 4505541296*&#45;&gt;4505541296 -->\n",
       "<g id=\"edge1\" class=\"edge\">\n",
       "<title>4505541296*&#45;&gt;4505541296</title>\n",
       "<path fill=\"none\" stroke=\"black\" d=\"M600.29,-45.5C607.52,-45.5 615.82,-45.5 624.66,-45.5\"/>\n",
       "<polygon fill=\"black\" stroke=\"black\" points=\"624.57,-49 634.57,-45.5 624.57,-42 624.57,-49\"/>\n",
       "</g>\n",
       "<!-- 4505633984 -->\n",
       "<g id=\"node3\" class=\"node\">\n",
       "<title>4505633984</title>\n",
       "<polygon fill=\"none\" stroke=\"black\" points=\"2.5,-55.5 2.5,-91.5 191.5,-91.5 191.5,-55.5 2.5,-55.5\"/>\n",
       "<text text-anchor=\"middle\" x=\"14\" y=\"-69.8\" font-family=\"Times,serif\" font-size=\"14.00\">b</text>\n",
       "<polyline fill=\"none\" stroke=\"black\" points=\"25.5,-55.5 25.5,-91.5\"/>\n",
       "<text text-anchor=\"middle\" x=\"65.5\" y=\"-69.8\" font-family=\"Times,serif\" font-size=\"14.00\">data 3.0000</text>\n",
       "<polyline fill=\"none\" stroke=\"black\" points=\"105.5,-55.5 105.5,-91.5\"/>\n",
       "<text text-anchor=\"middle\" x=\"148.5\" y=\"-69.8\" font-family=\"Times,serif\" font-size=\"14.00\">grad &#45;6.0000</text>\n",
       "</g>\n",
       "<!-- 4505537984+ -->\n",
       "<g id=\"node6\" class=\"node\">\n",
       "<title>4505537984+</title>\n",
       "<ellipse fill=\"none\" stroke=\"black\" cx=\"257\" cy=\"-73.5\" rx=\"27\" ry=\"18\"/>\n",
       "<text text-anchor=\"middle\" x=\"257\" y=\"-69.8\" font-family=\"Times,serif\" font-size=\"14.00\">+</text>\n",
       "</g>\n",
       "<!-- 4505633984&#45;&gt;4505537984+ -->\n",
       "<g id=\"edge9\" class=\"edge\">\n",
       "<title>4505633984&#45;&gt;4505537984+</title>\n",
       "<path fill=\"none\" stroke=\"black\" d=\"M191.28,-73.5C200.71,-73.5 209.85,-73.5 218.16,-73.5\"/>\n",
       "<polygon fill=\"black\" stroke=\"black\" points=\"218.14,-77 228.14,-73.5 218.14,-70 218.14,-77\"/>\n",
       "</g>\n",
       "<!-- 4505538512* -->\n",
       "<g id=\"node8\" class=\"node\">\n",
       "<title>4505538512*</title>\n",
       "<ellipse fill=\"none\" stroke=\"black\" cx=\"257\" cy=\"-18.5\" rx=\"27\" ry=\"18\"/>\n",
       "<text text-anchor=\"middle\" x=\"257\" y=\"-14.8\" font-family=\"Times,serif\" font-size=\"14.00\">*</text>\n",
       "</g>\n",
       "<!-- 4505633984&#45;&gt;4505538512* -->\n",
       "<g id=\"edge8\" class=\"edge\">\n",
       "<title>4505633984&#45;&gt;4505538512*</title>\n",
       "<path fill=\"none\" stroke=\"black\" d=\"M166.58,-55.57C175.86,-52.75 185.22,-49.7 194,-46.5 204.08,-42.83 214.81,-38.24 224.46,-33.84\"/>\n",
       "<polygon fill=\"black\" stroke=\"black\" points=\"225.85,-37.06 233.44,-29.66 222.89,-30.71 225.85,-37.06\"/>\n",
       "</g>\n",
       "<!-- 4505550080 -->\n",
       "<g id=\"node4\" class=\"node\">\n",
       "<title>4505550080</title>\n",
       "<polygon fill=\"none\" stroke=\"black\" points=\"0,-0.5 0,-36.5 194,-36.5 194,-0.5 0,-0.5\"/>\n",
       "<text text-anchor=\"middle\" x=\"11.5\" y=\"-14.8\" font-family=\"Times,serif\" font-size=\"14.00\">a</text>\n",
       "<polyline fill=\"none\" stroke=\"black\" points=\"23,-0.5 23,-36.5\"/>\n",
       "<text text-anchor=\"middle\" x=\"65.5\" y=\"-14.8\" font-family=\"Times,serif\" font-size=\"14.00\">data &#45;2.0000</text>\n",
       "<polyline fill=\"none\" stroke=\"black\" points=\"108,-0.5 108,-36.5\"/>\n",
       "<text text-anchor=\"middle\" x=\"151\" y=\"-14.8\" font-family=\"Times,serif\" font-size=\"14.00\">grad &#45;6.0000</text>\n",
       "</g>\n",
       "<!-- 4505550080&#45;&gt;4505537984+ -->\n",
       "<g id=\"edge7\" class=\"edge\">\n",
       "<title>4505550080&#45;&gt;4505537984+</title>\n",
       "<path fill=\"none\" stroke=\"black\" d=\"M163.68,-36.45C173.9,-39.59 184.29,-42.98 194,-46.5 203.87,-50.07 214.4,-54.44 223.93,-58.61\"/>\n",
       "<polygon fill=\"black\" stroke=\"black\" points=\"222.24,-61.69 232.8,-62.57 225.09,-55.3 222.24,-61.69\"/>\n",
       "</g>\n",
       "<!-- 4505550080&#45;&gt;4505538512* -->\n",
       "<g id=\"edge4\" class=\"edge\">\n",
       "<title>4505550080&#45;&gt;4505538512*</title>\n",
       "<path fill=\"none\" stroke=\"black\" d=\"M193.55,-18.5C202.25,-18.5 210.67,-18.5 218.37,-18.5\"/>\n",
       "<polygon fill=\"black\" stroke=\"black\" points=\"218.27,-22 228.27,-18.5 218.27,-15 218.27,-22\"/>\n",
       "</g>\n",
       "<!-- 4505537984 -->\n",
       "<g id=\"node5\" class=\"node\">\n",
       "<title>4505537984</title>\n",
       "<polygon fill=\"none\" stroke=\"black\" points=\"320.5,-55.5 320.5,-91.5 509.5,-91.5 509.5,-55.5 320.5,-55.5\"/>\n",
       "<text text-anchor=\"middle\" x=\"332\" y=\"-69.8\" font-family=\"Times,serif\" font-size=\"14.00\">e</text>\n",
       "<polyline fill=\"none\" stroke=\"black\" points=\"343.5,-55.5 343.5,-91.5\"/>\n",
       "<text text-anchor=\"middle\" x=\"383.5\" y=\"-69.8\" font-family=\"Times,serif\" font-size=\"14.00\">data 1.0000</text>\n",
       "<polyline fill=\"none\" stroke=\"black\" points=\"423.5,-55.5 423.5,-91.5\"/>\n",
       "<text text-anchor=\"middle\" x=\"466.5\" y=\"-69.8\" font-family=\"Times,serif\" font-size=\"14.00\">grad &#45;6.0000</text>\n",
       "</g>\n",
       "<!-- 4505537984&#45;&gt;4505541296* -->\n",
       "<g id=\"edge5\" class=\"edge\">\n",
       "<title>4505537984&#45;&gt;4505541296*</title>\n",
       "<path fill=\"none\" stroke=\"black\" d=\"M509.45,-56.73C518.6,-55.08 527.46,-53.49 535.49,-52.05\"/>\n",
       "<polygon fill=\"black\" stroke=\"black\" points=\"535.89,-55.54 545.12,-50.32 534.66,-48.65 535.89,-55.54\"/>\n",
       "</g>\n",
       "<!-- 4505537984+&#45;&gt;4505537984 -->\n",
       "<g id=\"edge2\" class=\"edge\">\n",
       "<title>4505537984+&#45;&gt;4505537984</title>\n",
       "<path fill=\"none\" stroke=\"black\" d=\"M284.46,-73.5C291.88,-73.5 300.42,-73.5 309.51,-73.5\"/>\n",
       "<polygon fill=\"black\" stroke=\"black\" points=\"309.31,-77 319.31,-73.5 309.31,-70 309.31,-77\"/>\n",
       "</g>\n",
       "<!-- 4505538512 -->\n",
       "<g id=\"node7\" class=\"node\">\n",
       "<title>4505538512</title>\n",
       "<polygon fill=\"none\" stroke=\"black\" points=\"320,-0.5 320,-36.5 510,-36.5 510,-0.5 320,-0.5\"/>\n",
       "<text text-anchor=\"middle\" x=\"331.5\" y=\"-14.8\" font-family=\"Times,serif\" font-size=\"14.00\">d</text>\n",
       "<polyline fill=\"none\" stroke=\"black\" points=\"343,-0.5 343,-36.5\"/>\n",
       "<text text-anchor=\"middle\" x=\"385.5\" y=\"-14.8\" font-family=\"Times,serif\" font-size=\"14.00\">data &#45;6.0000</text>\n",
       "<polyline fill=\"none\" stroke=\"black\" points=\"428,-0.5 428,-36.5\"/>\n",
       "<text text-anchor=\"middle\" x=\"469\" y=\"-14.8\" font-family=\"Times,serif\" font-size=\"14.00\">grad 1.0000</text>\n",
       "</g>\n",
       "<!-- 4505538512&#45;&gt;4505541296* -->\n",
       "<g id=\"edge6\" class=\"edge\">\n",
       "<title>4505538512&#45;&gt;4505541296*</title>\n",
       "<path fill=\"none\" stroke=\"black\" d=\"M509.9,-34.75C518.81,-36.29 527.43,-37.79 535.28,-39.14\"/>\n",
       "<polygon fill=\"black\" stroke=\"black\" points=\"534.57,-42.57 545.02,-40.83 535.76,-35.68 534.57,-42.57\"/>\n",
       "</g>\n",
       "<!-- 4505538512*&#45;&gt;4505538512 -->\n",
       "<g id=\"edge3\" class=\"edge\">\n",
       "<title>4505538512*&#45;&gt;4505538512</title>\n",
       "<path fill=\"none\" stroke=\"black\" d=\"M284.46,-18.5C291.68,-18.5 299.95,-18.5 308.76,-18.5\"/>\n",
       "<polygon fill=\"black\" stroke=\"black\" points=\"308.64,-22 318.64,-18.5 308.64,-15 308.64,-22\"/>\n",
       "</g>\n",
       "</g>\n",
       "</svg>\n"
      ],
      "text/plain": [
       "<graphviz.graphs.Digraph at 0x10c8d3130>"
      ]
     },
     "execution_count": 54,
     "metadata": {},
     "output_type": "execute_result"
    }
   ],
   "source": [
    "a = Value(-2.0, label='a')\n",
    "b = Value(3.0, label='b')\n",
    "d = a * b    ; d.label = 'd'\n",
    "e = a + b    ; e.label = 'e'\n",
    "f = d * e    ; f.label = 'f'\n",
    "\n",
    "f.backward()\n",
    "\n",
    "draw_dot(f)"
   ]
  },
  {
   "cell_type": "markdown",
   "id": "77008768-22d8-4d77-83e5-0b3e696b9a34",
   "metadata": {},
   "source": [
    "Here the gradients for a and b are not right because each of them is involved in 2 different mathematical expressions (+ and *). This means when the local gradient at e propagates to a and b it will override the local gradient from d propapagted to them. \n",
    "\n",
    "The solution to this from MVC is to accumulate the gradients. The code should be then:"
   ]
  },
  {
   "cell_type": "code",
   "execution_count": 55,
   "id": "99117195-52ff-42a3-ab0b-78d2cbfdd292",
   "metadata": {
    "tags": []
   },
   "outputs": [],
   "source": [
    "class Value:\n",
    "    def __init__(self, data, _children=(), _op='', label=''):\n",
    "        self.data = data\n",
    "        self.grad = 0.0\n",
    "        self._prev = set(_children) \n",
    "        self._op = _op\n",
    "        self.label = label\n",
    "        self._backward = lambda: None\n",
    "    \n",
    "    def __add__(self, other):\n",
    "        out = Value(self.data + other.data, (self, other), '+')\n",
    "        \n",
    "        def _backward():\n",
    "            self.grad += 1.0 * out.grad\n",
    "            other.grad += 1.0 * out.grad\n",
    "        out._backward = _backward\n",
    "        \n",
    "        return out\n",
    "    \n",
    "    def __mul__(self, other):\n",
    "        out = Value(self.data * other.data, (self, other), '*')\n",
    "        \n",
    "        def _backward():\n",
    "            self.grad += other.data * out.grad\n",
    "            other.grad += self.data * out.grad\n",
    "        out._backward = _backward\n",
    "        \n",
    "        return out\n",
    "    \n",
    "    def tanh(self):\n",
    "        x = self.data\n",
    "        t = (math.exp(2*x) - 1) / (math.exp(2*x) + 1)\n",
    "        out = Value(t, (self, ), 'tanh')\n",
    "        \n",
    "        def _backward():\n",
    "            self.grad += (1 - t**2) * out.grad \n",
    "        \n",
    "        out._backward = _backward\n",
    "        \n",
    "        return out\n",
    "    \n",
    "    def backward(self):\n",
    "        topo = []\n",
    "        visited = set()\n",
    "\n",
    "        def build_topo(v):\n",
    "            if v not in visited:\n",
    "                visited.add(v)\n",
    "                for child in v._prev:\n",
    "                    build_topo(child)\n",
    "                topo.append(v)\n",
    "        \n",
    "        build_topo(self)\n",
    "        \n",
    "        self.grad = 1.0 # initialize here\n",
    "        for node in reversed(topo):\n",
    "            node._backward()\n",
    "    \n",
    "    def __repr__(self):\n",
    "        return f\"Value(data={self.data})\""
   ]
  },
  {
   "cell_type": "code",
   "execution_count": 56,
   "id": "b8fd5e65-16c2-4ad9-9563-ee3ff6fb8472",
   "metadata": {
    "tags": []
   },
   "outputs": [
    {
     "data": {
      "image/svg+xml": [
       "<?xml version=\"1.0\" encoding=\"UTF-8\" standalone=\"no\"?>\n",
       "<!DOCTYPE svg PUBLIC \"-//W3C//DTD SVG 1.1//EN\"\n",
       " \"http://www.w3.org/Graphics/SVG/1.1/DTD/svg11.dtd\">\n",
       "<!-- Generated by graphviz version 7.1.0 (0)\n",
       " -->\n",
       "<!-- Pages: 1 -->\n",
       "<svg width=\"504pt\" height=\"45pt\"\n",
       " viewBox=\"0.00 0.00 504.00 45.00\" xmlns=\"http://www.w3.org/2000/svg\" xmlns:xlink=\"http://www.w3.org/1999/xlink\">\n",
       "<g id=\"graph0\" class=\"graph\" transform=\"scale(1 1) rotate(0) translate(4 41)\">\n",
       "<polygon fill=\"white\" stroke=\"none\" points=\"-4,4 -4,-41 500,-41 500,4 -4,4\"/>\n",
       "<!-- 4505362224 -->\n",
       "<g id=\"node1\" class=\"node\">\n",
       "<title>4505362224</title>\n",
       "<polygon fill=\"none\" stroke=\"black\" points=\"0,-0.5 0,-36.5 185,-36.5 185,-0.5 0,-0.5\"/>\n",
       "<text text-anchor=\"middle\" x=\"11.5\" y=\"-14.8\" font-family=\"Times,serif\" font-size=\"14.00\">a</text>\n",
       "<polyline fill=\"none\" stroke=\"black\" points=\"23,-0.5 23,-36.5\"/>\n",
       "<text text-anchor=\"middle\" x=\"63\" y=\"-14.8\" font-family=\"Times,serif\" font-size=\"14.00\">data 3.0000</text>\n",
       "<polyline fill=\"none\" stroke=\"black\" points=\"103,-0.5 103,-36.5\"/>\n",
       "<text text-anchor=\"middle\" x=\"144\" y=\"-14.8\" font-family=\"Times,serif\" font-size=\"14.00\">grad 2.0000</text>\n",
       "</g>\n",
       "<!-- 4505368272+ -->\n",
       "<g id=\"node3\" class=\"node\">\n",
       "<title>4505368272+</title>\n",
       "<ellipse fill=\"none\" stroke=\"black\" cx=\"248\" cy=\"-18.5\" rx=\"27\" ry=\"18\"/>\n",
       "<text text-anchor=\"middle\" x=\"248\" y=\"-14.8\" font-family=\"Times,serif\" font-size=\"14.00\">+</text>\n",
       "</g>\n",
       "<!-- 4505362224&#45;&gt;4505368272+ -->\n",
       "<g id=\"edge2\" class=\"edge\">\n",
       "<title>4505362224&#45;&gt;4505368272+</title>\n",
       "<path fill=\"none\" stroke=\"black\" d=\"M184.57,-18.5C193.21,-18.5 201.6,-18.5 209.28,-18.5\"/>\n",
       "<polygon fill=\"black\" stroke=\"black\" points=\"209.19,-22 219.19,-18.5 209.19,-15 209.19,-22\"/>\n",
       "</g>\n",
       "<!-- 4505368272 -->\n",
       "<g id=\"node2\" class=\"node\">\n",
       "<title>4505368272</title>\n",
       "<polygon fill=\"none\" stroke=\"black\" points=\"311,-0.5 311,-36.5 496,-36.5 496,-0.5 311,-0.5\"/>\n",
       "<text text-anchor=\"middle\" x=\"322.5\" y=\"-14.8\" font-family=\"Times,serif\" font-size=\"14.00\">b</text>\n",
       "<polyline fill=\"none\" stroke=\"black\" points=\"334,-0.5 334,-36.5\"/>\n",
       "<text text-anchor=\"middle\" x=\"374\" y=\"-14.8\" font-family=\"Times,serif\" font-size=\"14.00\">data 6.0000</text>\n",
       "<polyline fill=\"none\" stroke=\"black\" points=\"414,-0.5 414,-36.5\"/>\n",
       "<text text-anchor=\"middle\" x=\"455\" y=\"-14.8\" font-family=\"Times,serif\" font-size=\"14.00\">grad 1.0000</text>\n",
       "</g>\n",
       "<!-- 4505368272+&#45;&gt;4505368272 -->\n",
       "<g id=\"edge1\" class=\"edge\">\n",
       "<title>4505368272+&#45;&gt;4505368272</title>\n",
       "<path fill=\"none\" stroke=\"black\" d=\"M275.39,-18.5C282.62,-18.5 290.92,-18.5 299.74,-18.5\"/>\n",
       "<polygon fill=\"black\" stroke=\"black\" points=\"299.64,-22 309.64,-18.5 299.64,-15 299.64,-22\"/>\n",
       "</g>\n",
       "</g>\n",
       "</svg>\n"
      ],
      "text/plain": [
       "<graphviz.graphs.Digraph at 0x10c8a4520>"
      ]
     },
     "execution_count": 56,
     "metadata": {},
     "output_type": "execute_result"
    }
   ],
   "source": [
    "# And now we get\n",
    "a = Value(3.0, label='a')\n",
    "b = a + a   ; b.label = 'b'\n",
    "b.backward()\n",
    "draw_dot(b)"
   ]
  },
  {
   "cell_type": "markdown",
   "id": "eff5b69a-d8d2-4631-af06-7469bab00c00",
   "metadata": {},
   "source": [
    "#### Breaking down $tanh$ to implement more math functions: "
   ]
  },
  {
   "cell_type": "markdown",
   "id": "4378c451-4056-432c-9ce4-e15360e421f8",
   "metadata": {},
   "source": [
    "First: some tweaks to the code\n",
    "\n",
    "Can we do `a + 1` ? `a * 1`? What about `1 + a` or `1 * a`?"
   ]
  },
  {
   "cell_type": "code",
   "execution_count": 57,
   "id": "357e1bad-8dfe-4e5e-8342-17b8935c3cae",
   "metadata": {
    "tags": []
   },
   "outputs": [
    {
     "ename": "AttributeError",
     "evalue": "'int' object has no attribute 'data'",
     "output_type": "error",
     "traceback": [
      "\u001b[0;31m---------------------------------------------------------------------------\u001b[0m",
      "\u001b[0;31mAttributeError\u001b[0m                            Traceback (most recent call last)",
      "Cell \u001b[0;32mIn[57], line 2\u001b[0m\n\u001b[1;32m      1\u001b[0m a \u001b[38;5;241m=\u001b[39m Value(\u001b[38;5;241m2.0\u001b[39m)\n\u001b[0;32m----> 2\u001b[0m \u001b[43ma\u001b[49m\u001b[43m \u001b[49m\u001b[38;5;241;43m+\u001b[39;49m\u001b[43m \u001b[49m\u001b[38;5;241;43m1\u001b[39;49m\n",
      "Cell \u001b[0;32mIn[55], line 11\u001b[0m, in \u001b[0;36mValue.__add__\u001b[0;34m(self, other)\u001b[0m\n\u001b[1;32m     10\u001b[0m \u001b[38;5;28;01mdef\u001b[39;00m \u001b[38;5;21m__add__\u001b[39m(\u001b[38;5;28mself\u001b[39m, other):\n\u001b[0;32m---> 11\u001b[0m     out \u001b[38;5;241m=\u001b[39m Value(\u001b[38;5;28mself\u001b[39m\u001b[38;5;241m.\u001b[39mdata \u001b[38;5;241m+\u001b[39m \u001b[43mother\u001b[49m\u001b[38;5;241;43m.\u001b[39;49m\u001b[43mdata\u001b[49m, (\u001b[38;5;28mself\u001b[39m, other), \u001b[38;5;124m'\u001b[39m\u001b[38;5;124m+\u001b[39m\u001b[38;5;124m'\u001b[39m)\n\u001b[1;32m     13\u001b[0m     \u001b[38;5;28;01mdef\u001b[39;00m \u001b[38;5;21m_backward\u001b[39m():\n\u001b[1;32m     14\u001b[0m         \u001b[38;5;28mself\u001b[39m\u001b[38;5;241m.\u001b[39mgrad \u001b[38;5;241m+\u001b[39m\u001b[38;5;241m=\u001b[39m \u001b[38;5;241m1.0\u001b[39m \u001b[38;5;241m*\u001b[39m out\u001b[38;5;241m.\u001b[39mgrad\n",
      "\u001b[0;31mAttributeError\u001b[0m: 'int' object has no attribute 'data'"
     ]
    }
   ],
   "source": [
    "a = Value(2.0)\n",
    "a + 1"
   ]
  },
  {
   "cell_type": "markdown",
   "id": "de56cc84-958d-487f-a140-5cd681b83e60",
   "metadata": {},
   "source": [
    "This happens because `a + 1` translates to `a.__add__(self.data, other.data)` where `other` is `1`. `1` has no attribute `.data`. We can fix this by checking the type of `other` and if not `Value` make it one (we'll do the same for multiply)"
   ]
  },
  {
   "cell_type": "code",
   "execution_count": 58,
   "id": "13eb7ef8-1836-420c-a5f8-2d82814916d0",
   "metadata": {
    "tags": []
   },
   "outputs": [],
   "source": [
    "class Value:\n",
    "    def __init__(self, data, _children=(), _op='', label=''):\n",
    "        self.data = data\n",
    "        self.grad = 0.0\n",
    "        self._prev = set(_children) \n",
    "        self._op = _op\n",
    "        self.label = label\n",
    "        self._backward = lambda: None\n",
    "    \n",
    "    def __add__(self, other):\n",
    "        other = other if isinstance(other, Value) else Value(other)\n",
    "        out = Value(self.data + other.data, (self, other), '+')\n",
    "        \n",
    "        def _backward():\n",
    "            self.grad += 1.0 * out.grad\n",
    "            other.grad += 1.0 * out.grad\n",
    "        out._backward = _backward\n",
    "        \n",
    "        return out\n",
    "    \n",
    "    def __mul__(self, other):\n",
    "        other = other if isinstance(other, Value) else Value(other)\n",
    "        out = Value(self.data * other.data, (self, other), '*')\n",
    "        \n",
    "        def _backward():\n",
    "            self.grad += other.data * out.grad\n",
    "            other.grad += self.data * out.grad\n",
    "        out._backward = _backward\n",
    "        \n",
    "        return out\n",
    "    \n",
    "    def tanh(self):\n",
    "        x = self.data\n",
    "        t = (math.exp(2*x) - 1) / (math.exp(2*x) + 1)\n",
    "        out = Value(t, (self, ), 'tanh')\n",
    "        \n",
    "        def _backward():\n",
    "            self.grad += (1 - t**2) * out.grad \n",
    "        \n",
    "        out._backward = _backward\n",
    "        \n",
    "        return out\n",
    "    \n",
    "    def backward(self):\n",
    "        topo = []\n",
    "        visited = set()\n",
    "\n",
    "        def build_topo(v):\n",
    "            if v not in visited:\n",
    "                visited.add(v)\n",
    "                for child in v._prev:\n",
    "                    build_topo(child)\n",
    "                topo.append(v)\n",
    "        \n",
    "        build_topo(self)\n",
    "        \n",
    "        self.grad = 1.0 # initialize here\n",
    "        for node in reversed(topo):\n",
    "            node._backward()\n",
    "    \n",
    "    def __repr__(self):\n",
    "        return f\"Value(data={self.data})\""
   ]
  },
  {
   "cell_type": "code",
   "execution_count": 59,
   "id": "e466a39e-8266-4eaa-8854-3ded8c08d843",
   "metadata": {
    "tags": []
   },
   "outputs": [
    {
     "data": {
      "text/plain": [
       "Value(data=3.0)"
      ]
     },
     "execution_count": 59,
     "metadata": {},
     "output_type": "execute_result"
    }
   ],
   "source": [
    "# and now it should work\n",
    "\n",
    "a = Value(2.0)\n",
    "a + 1"
   ]
  },
  {
   "cell_type": "code",
   "execution_count": 60,
   "id": "011ac570-05b0-4dd5-90ba-97296088887a",
   "metadata": {
    "tags": []
   },
   "outputs": [
    {
     "data": {
      "text/plain": [
       "Value(data=4.0)"
      ]
     },
     "execution_count": 60,
     "metadata": {},
     "output_type": "execute_result"
    }
   ],
   "source": [
    "a * 2"
   ]
  },
  {
   "cell_type": "code",
   "execution_count": 61,
   "id": "1ff2c75f-205f-4932-b21e-2170dc37f8fd",
   "metadata": {
    "tags": []
   },
   "outputs": [
    {
     "ename": "TypeError",
     "evalue": "unsupported operand type(s) for *: 'int' and 'Value'",
     "output_type": "error",
     "traceback": [
      "\u001b[0;31m---------------------------------------------------------------------------\u001b[0m",
      "\u001b[0;31mTypeError\u001b[0m                                 Traceback (most recent call last)",
      "Cell \u001b[0;32mIn[61], line 2\u001b[0m\n\u001b[1;32m      1\u001b[0m \u001b[38;5;66;03m# but the reverse won't \u001b[39;00m\n\u001b[0;32m----> 2\u001b[0m \u001b[38;5;241;43m2\u001b[39;49m\u001b[43m \u001b[49m\u001b[38;5;241;43m*\u001b[39;49m\u001b[43m \u001b[49m\u001b[43ma\u001b[49m\n",
      "\u001b[0;31mTypeError\u001b[0m: unsupported operand type(s) for *: 'int' and 'Value'"
     ]
    }
   ],
   "source": [
    "# but the reverse won't \n",
    "2 * a"
   ]
  },
  {
   "cell_type": "markdown",
   "id": "db3afde5-24e6-48b6-91a8-918c269eb0f6",
   "metadata": {},
   "source": [
    "Here the computation starts at 2 which is an int object that has no idea how to add a `Value` object. We can fix this using `__rmul__` where Python will try `a * 2` if it can't do `2 * a` (there is also `__radd__`)"
   ]
  },
  {
   "cell_type": "code",
   "execution_count": 62,
   "id": "41cd2bfc-c784-4ff3-9ac1-faf2f37ed2db",
   "metadata": {
    "tags": []
   },
   "outputs": [],
   "source": [
    "class Value:\n",
    "    def __init__(self, data, _children=(), _op='', label=''):\n",
    "        self.data = data\n",
    "        self.grad = 0.0\n",
    "        self._prev = set(_children) \n",
    "        self._op = _op\n",
    "        self.label = label\n",
    "        self._backward = lambda: None\n",
    "    \n",
    "    def __add__(self, other):\n",
    "        other = other if isinstance(other, Value) else Value(other)\n",
    "        out = Value(self.data + other.data, (self, other), '+')\n",
    "        \n",
    "        def _backward():\n",
    "            self.grad += 1.0 * out.grad\n",
    "            other.grad += 1.0 * out.grad\n",
    "        out._backward = _backward\n",
    "        \n",
    "        return out\n",
    "    def __radd__(self, other):\n",
    "        return self + other\n",
    "    \n",
    "    def __mul__(self, other):\n",
    "        other = other if isinstance(other, Value) else Value(other)\n",
    "        out = Value(self.data * other.data, (self, other), '*')\n",
    "        \n",
    "        def _backward():\n",
    "            self.grad += other.data * out.grad\n",
    "            other.grad += self.data * out.grad\n",
    "        out._backward = _backward\n",
    "        \n",
    "        return out\n",
    "    \n",
    "    def __rmul__(self, other):\n",
    "        return self * other\n",
    "    \n",
    "    def tanh(self):\n",
    "        x = self.data\n",
    "        t = (math.exp(2*x) - 1) / (math.exp(2*x) + 1)\n",
    "        out = Value(t, (self, ), 'tanh')\n",
    "        \n",
    "        def _backward():\n",
    "            self.grad += (1 - t**2) * out.grad \n",
    "        \n",
    "        out._backward = _backward\n",
    "        \n",
    "        return out\n",
    "    \n",
    "    def backward(self):\n",
    "        topo = []\n",
    "        visited = set()\n",
    "\n",
    "        def build_topo(v):\n",
    "            if v not in visited:\n",
    "                visited.add(v)\n",
    "                for child in v._prev:\n",
    "                    build_topo(child)\n",
    "                topo.append(v)\n",
    "        \n",
    "        build_topo(self)\n",
    "        \n",
    "        self.grad = 1.0 # initialize here\n",
    "        for node in reversed(topo):\n",
    "            node._backward()\n",
    "    \n",
    "    def __repr__(self):\n",
    "        return f\"Value(data={self.data})\""
   ]
  },
  {
   "cell_type": "code",
   "execution_count": 63,
   "id": "045ecd10-f2fe-445e-9994-17995de81ba7",
   "metadata": {
    "tags": []
   },
   "outputs": [
    {
     "data": {
      "text/plain": [
       "Value(data=6.0)"
      ]
     },
     "execution_count": 63,
     "metadata": {},
     "output_type": "execute_result"
    }
   ],
   "source": [
    "# and now it works\n",
    "a = Value(2.0)\n",
    "3 * a"
   ]
  },
  {
   "cell_type": "code",
   "execution_count": 64,
   "id": "b0375806-b692-400c-b388-fb23c0ca57db",
   "metadata": {
    "tags": []
   },
   "outputs": [
    {
     "data": {
      "text/plain": [
       "Value(data=3.0)"
      ]
     },
     "execution_count": 64,
     "metadata": {},
     "output_type": "execute_result"
    }
   ],
   "source": [
    "1 + a"
   ]
  },
  {
   "cell_type": "markdown",
   "id": "24207e1e-4b81-45a5-b44f-7d4ade3bf5b7",
   "metadata": {},
   "source": [
    "Now onto math operations. We still need to know how to divide and exponentiate:"
   ]
  },
  {
   "cell_type": "code",
   "execution_count": 65,
   "id": "70c408b0-501e-46e1-8cd9-56a33003f8e6",
   "metadata": {
    "tags": []
   },
   "outputs": [],
   "source": [
    "class Value:\n",
    "    def __init__(self, data, _children=(), _op='', label=''):\n",
    "        self.data = data\n",
    "        self.grad = 0.0\n",
    "        self._prev = set(_children) \n",
    "        self._op = _op\n",
    "        self.label = label\n",
    "        self._backward = lambda: None\n",
    "    \n",
    "    def __add__(self, other):\n",
    "        other = other if isinstance(other, Value) else Value(other)\n",
    "        out = Value(self.data + other.data, (self, other), '+')\n",
    "        \n",
    "        def _backward():\n",
    "            self.grad += 1.0 * out.grad\n",
    "            other.grad += 1.0 * out.grad\n",
    "        out._backward = _backward\n",
    "        \n",
    "        return out\n",
    "    \n",
    "    def __mul__(self, other):\n",
    "        other = other if isinstance(other, Value) else Value(other)\n",
    "        out = Value(self.data * other.data, (self, other), '*')\n",
    "        \n",
    "        def _backward():\n",
    "            self.grad += other.data * out.grad\n",
    "            other.grad += self.data * out.grad\n",
    "        out._backward = _backward\n",
    "        \n",
    "        return out\n",
    "    \n",
    "    def tanh(self):\n",
    "        x = self.data\n",
    "        t = (math.exp(2*x) - 1) / (math.exp(2*x) + 1)\n",
    "        out = Value(t, (self, ), 'tanh')\n",
    "        \n",
    "        def _backward():\n",
    "            self.grad += (1 - t**2) * out.grad \n",
    "        \n",
    "        out._backward = _backward\n",
    "        \n",
    "        return out\n",
    "    \n",
    "    def exp(self):\n",
    "        x = self.data\n",
    "        out = Value(math.exp(x), (self, ), 'exp')\n",
    "        \n",
    "        def _backward():\n",
    "            self.grad += out.data * out.grad # derivative of exp(x) is exp(x) (we just calculated it in out \n",
    "            # so we get out.grad) and we multiply that as usual by the relevant data in child (itself in this case)\n",
    "        out._backward = _backward\n",
    "        \n",
    "        return out\n",
    "    \n",
    "    def backward(self):\n",
    "        topo = []\n",
    "        visited = set()\n",
    "\n",
    "        def build_topo(v):\n",
    "            if v not in visited:\n",
    "                visited.add(v)\n",
    "                for child in v._prev:\n",
    "                    build_topo(child)\n",
    "                topo.append(v)\n",
    "        \n",
    "        build_topo(self)\n",
    "        \n",
    "        self.grad = 1.0 # initialize here\n",
    "        for node in reversed(topo):\n",
    "            node._backward()\n",
    "    \n",
    "    def __repr__(self):\n",
    "        return f\"Value(data={self.data})\""
   ]
  },
  {
   "cell_type": "code",
   "execution_count": 66,
   "id": "7cfd362e-1c87-44cc-bef4-6c5f1e418dd0",
   "metadata": {
    "tags": []
   },
   "outputs": [
    {
     "data": {
      "text/plain": [
       "Value(data=7.38905609893065)"
      ]
     },
     "execution_count": 66,
     "metadata": {},
     "output_type": "execute_result"
    }
   ],
   "source": [
    "a = Value(2.0)\n",
    "a.exp()"
   ]
  },
  {
   "cell_type": "markdown",
   "id": "5112f441-c8e9-4347-978c-701c69335eeb",
   "metadata": {},
   "source": [
    "Now we want to divide. We'll implement something more powerful than division (division is a subset of something more powerful) ie:\n",
    "\n",
    "$$ a / b$$\n",
    "\n",
    "could be reshuffled as: \n",
    "$$ a * (1 / b) $$\n",
    "\n",
    "which could be:\n",
    "$$ a * b^{-1} $$\n",
    "\n",
    "So we would like to implement $ x ^ k $ where $k$ is some constant, we would like to be able to differentiate this, and $ k = -1 $ is the special case of division"
   ]
  },
  {
   "cell_type": "code",
   "execution_count": 67,
   "id": "30134890-b3e0-4087-99b8-f713eda158d5",
   "metadata": {
    "tags": []
   },
   "outputs": [],
   "source": [
    "class Value:\n",
    "    def __init__(self, data, _children=(), _op='', label=''):\n",
    "        self.data = data\n",
    "        self.grad = 0.0\n",
    "        self._prev = set(_children) \n",
    "        self._op = _op\n",
    "        self.label = label\n",
    "        self._backward = lambda: None\n",
    "    \n",
    "    def __add__(self, other):\n",
    "        other = other if isinstance(other, Value) else Value(other)\n",
    "        out = Value(self.data + other.data, (self, other), '+')\n",
    "        \n",
    "        def _backward():\n",
    "            self.grad += 1.0 * out.grad\n",
    "            other.grad += 1.0 * out.grad\n",
    "        out._backward = _backward\n",
    "        \n",
    "        return out\n",
    "    \n",
    "    # we'll also implement subtraction as additon to -x \n",
    "    def __neg__(self):\n",
    "        return self * -1\n",
    "    def __sub__(self, other):\n",
    "        return self + (-other)\n",
    "    \n",
    "    def __mul__(self, other):\n",
    "        other = other if isinstance(other, Value) else Value(other)\n",
    "        out = Value(self.data * other.data, (self, other), '*')\n",
    "        \n",
    "        def _backward():\n",
    "            self.grad += other.data * out.grad\n",
    "            other.grad += self.data * out.grad\n",
    "        out._backward = _backward\n",
    "        \n",
    "        return out\n",
    "    \n",
    "    def __radd__(self, other):\n",
    "        return self + other\n",
    "    \n",
    "    def __rmul__(self, other):\n",
    "        return self * other\n",
    "\n",
    "    # first: define the power function\n",
    "    def __pow__(self, other):\n",
    "        assert isinstance(other, (int, float)) #support only int and float powers\n",
    "        out = Value(self.data**other, (self, ), f'**{other}')\n",
    "        \n",
    "        def _backward():\n",
    "            self.grad += other * (self.data ** (other - 1)) * out.grad\n",
    "        out._backward = _backward\n",
    "    \n",
    "        return out\n",
    "        \n",
    "    \n",
    "    # then division is just a special case\n",
    "    def __truediv__(self, other):\n",
    "        return self * other**-1\n",
    "    \n",
    "    def tanh(self):\n",
    "        x = self.data\n",
    "        t = (math.exp(2*x) - 1) / (math.exp(2*x) + 1)\n",
    "        out = Value(t, (self, ), 'tanh')\n",
    "        \n",
    "        def _backward():\n",
    "            self.grad += (1 - t**2) * out.grad \n",
    "        \n",
    "        out._backward = _backward\n",
    "        \n",
    "        return out\n",
    "    \n",
    "    def exp(self):\n",
    "        x = self.data\n",
    "        out = Value(math.exp(x), (self, ), 'exp')\n",
    "        \n",
    "        def _backward():\n",
    "            self.grad += out.data * out.grad \n",
    "        out._backward = _backward\n",
    "        \n",
    "        return out\n",
    "    \n",
    "    def backward(self):\n",
    "        topo = []\n",
    "        visited = set()\n",
    "\n",
    "        def build_topo(v):\n",
    "            if v not in visited:\n",
    "                visited.add(v)\n",
    "                for child in v._prev:\n",
    "                    build_topo(child)\n",
    "                topo.append(v)\n",
    "        \n",
    "        build_topo(self)\n",
    "        \n",
    "        self.grad = 1.0\n",
    "        for node in reversed(topo):\n",
    "            node._backward()\n",
    "    \n",
    "    def __repr__(self):\n",
    "        return f\"Value(data={self.data})\""
   ]
  },
  {
   "cell_type": "code",
   "execution_count": 68,
   "id": "560e3800-c56c-4f64-8e9a-a7aed682e53b",
   "metadata": {
    "tags": []
   },
   "outputs": [
    {
     "data": {
      "text/plain": [
       "Value(data=0.5)"
      ]
     },
     "execution_count": 68,
     "metadata": {},
     "output_type": "execute_result"
    }
   ],
   "source": [
    "a = Value(2.0)\n",
    "b = Value(4.0)\n",
    "a / b"
   ]
  },
  {
   "cell_type": "code",
   "execution_count": 69,
   "id": "da4746ce-544e-453a-88ba-2de3f12c905d",
   "metadata": {},
   "outputs": [
    {
     "data": {
      "text/plain": [
       "Value(data=-2.0)"
      ]
     },
     "execution_count": 69,
     "metadata": {},
     "output_type": "execute_result"
    }
   ],
   "source": [
    "a - b"
   ]
  },
  {
   "cell_type": "markdown",
   "id": "90133da6-70d7-4ecf-8d48-b68572696ed5",
   "metadata": {},
   "source": [
    "Now, to test if that works, let's break up $tanh$ in the simulation code and use the formula that uses $exp$ where:\n",
    "\n",
    "$$ tanh = \\frac{exp(2x) - 1}{exp(2x) + 1} $$\n",
    "\n",
    "When we draw the graph we should expect to see:\n",
    "- A longer graph than before since $tanh$ was broken into more operations\n",
    "- The same gradients produced for x1,w1,x2,w2"
   ]
  },
  {
   "cell_type": "code",
   "execution_count": 70,
   "id": "0fd6dcdf-a92d-4b56-8f0c-c1ebe5e0b492",
   "metadata": {
    "tags": []
   },
   "outputs": [
    {
     "data": {
      "image/svg+xml": [
       "<?xml version=\"1.0\" encoding=\"UTF-8\" standalone=\"no\"?>\n",
       "<!DOCTYPE svg PUBLIC \"-//W3C//DTD SVG 1.1//EN\"\n",
       " \"http://www.w3.org/Graphics/SVG/1.1/DTD/svg11.dtd\">\n",
       "<!-- Generated by graphviz version 7.1.0 (0)\n",
       " -->\n",
       "<!-- Pages: 1 -->\n",
       "<svg width=\"2909pt\" height=\"210pt\"\n",
       " viewBox=\"0.00 0.00 2909.00 210.00\" xmlns=\"http://www.w3.org/2000/svg\" xmlns:xlink=\"http://www.w3.org/1999/xlink\">\n",
       "<g id=\"graph0\" class=\"graph\" transform=\"scale(1 1) rotate(0) translate(4 206)\">\n",
       "<polygon fill=\"white\" stroke=\"none\" points=\"-4,4 -4,-206 2905,-206 2905,4 -4,4\"/>\n",
       "<!-- 4506799168 -->\n",
       "<g id=\"node1\" class=\"node\">\n",
       "<title>4506799168</title>\n",
       "<polygon fill=\"none\" stroke=\"black\" points=\"1037.5,-109.5 1037.5,-145.5 1219.5,-145.5 1219.5,-109.5 1037.5,-109.5\"/>\n",
       "<text text-anchor=\"middle\" x=\"1047.5\" y=\"-123.8\" font-family=\"Times,serif\" font-size=\"14.00\"> </text>\n",
       "<polyline fill=\"none\" stroke=\"black\" points=\"1057.5,-109.5 1057.5,-145.5\"/>\n",
       "<text text-anchor=\"middle\" x=\"1097.5\" y=\"-123.8\" font-family=\"Times,serif\" font-size=\"14.00\">data 2.0000</text>\n",
       "<polyline fill=\"none\" stroke=\"black\" points=\"1137.5,-109.5 1137.5,-145.5\"/>\n",
       "<text text-anchor=\"middle\" x=\"1178.5\" y=\"-123.8\" font-family=\"Times,serif\" font-size=\"14.00\">grad 0.2203</text>\n",
       "</g>\n",
       "<!-- 4506805696* -->\n",
       "<g id=\"node27\" class=\"node\">\n",
       "<title>4506805696*</title>\n",
       "<ellipse fill=\"none\" stroke=\"black\" cx=\"1284\" cy=\"-99.5\" rx=\"27\" ry=\"18\"/>\n",
       "<text text-anchor=\"middle\" x=\"1284\" y=\"-95.8\" font-family=\"Times,serif\" font-size=\"14.00\">*</text>\n",
       "</g>\n",
       "<!-- 4506799168&#45;&gt;4506805696* -->\n",
       "<g id=\"edge17\" class=\"edge\">\n",
       "<title>4506799168&#45;&gt;4506805696*</title>\n",
       "<path fill=\"none\" stroke=\"black\" d=\"M1219.24,-111.13C1228.78,-109.39 1238.05,-107.7 1246.42,-106.17\"/>\n",
       "<polygon fill=\"black\" stroke=\"black\" points=\"1246.91,-109.64 1256.12,-104.4 1245.66,-102.75 1246.91,-109.64\"/>\n",
       "</g>\n",
       "<!-- 4506808912 -->\n",
       "<g id=\"node2\" class=\"node\">\n",
       "<title>4506808912</title>\n",
       "<polygon fill=\"none\" stroke=\"black\" points=\"2716,-80.5 2716,-116.5 2901,-116.5 2901,-80.5 2716,-80.5\"/>\n",
       "<text text-anchor=\"middle\" x=\"2727.5\" y=\"-94.8\" font-family=\"Times,serif\" font-size=\"14.00\">o</text>\n",
       "<polyline fill=\"none\" stroke=\"black\" points=\"2739,-80.5 2739,-116.5\"/>\n",
       "<text text-anchor=\"middle\" x=\"2779\" y=\"-94.8\" font-family=\"Times,serif\" font-size=\"14.00\">data 0.7071</text>\n",
       "<polyline fill=\"none\" stroke=\"black\" points=\"2819,-80.5 2819,-116.5\"/>\n",
       "<text text-anchor=\"middle\" x=\"2860\" y=\"-94.8\" font-family=\"Times,serif\" font-size=\"14.00\">grad 1.0000</text>\n",
       "</g>\n",
       "<!-- 4506808912* -->\n",
       "<g id=\"node3\" class=\"node\">\n",
       "<title>4506808912*</title>\n",
       "<ellipse fill=\"none\" stroke=\"black\" cx=\"2653\" cy=\"-98.5\" rx=\"27\" ry=\"18\"/>\n",
       "<text text-anchor=\"middle\" x=\"2653\" y=\"-94.8\" font-family=\"Times,serif\" font-size=\"14.00\">*</text>\n",
       "</g>\n",
       "<!-- 4506808912*&#45;&gt;4506808912 -->\n",
       "<g id=\"edge1\" class=\"edge\">\n",
       "<title>4506808912*&#45;&gt;4506808912</title>\n",
       "<path fill=\"none\" stroke=\"black\" d=\"M2680.39,-98.5C2687.62,-98.5 2695.92,-98.5 2704.74,-98.5\"/>\n",
       "<polygon fill=\"black\" stroke=\"black\" points=\"2704.64,-102 2714.64,-98.5 2704.64,-95 2704.64,-102\"/>\n",
       "</g>\n",
       "<!-- 4506796624 -->\n",
       "<g id=\"node4\" class=\"node\">\n",
       "<title>4506796624</title>\n",
       "<polygon fill=\"none\" stroke=\"black\" points=\"2190,-108.5 2190,-144.5 2372,-144.5 2372,-108.5 2190,-108.5\"/>\n",
       "<text text-anchor=\"middle\" x=\"2200\" y=\"-122.8\" font-family=\"Times,serif\" font-size=\"14.00\"> </text>\n",
       "<polyline fill=\"none\" stroke=\"black\" points=\"2210,-108.5 2210,-144.5\"/>\n",
       "<text text-anchor=\"middle\" x=\"2250\" y=\"-122.8\" font-family=\"Times,serif\" font-size=\"14.00\">data 4.8284</text>\n",
       "<polyline fill=\"none\" stroke=\"black\" points=\"2290,-108.5 2290,-144.5\"/>\n",
       "<text text-anchor=\"middle\" x=\"2331\" y=\"-122.8\" font-family=\"Times,serif\" font-size=\"14.00\">grad 0.1464</text>\n",
       "</g>\n",
       "<!-- 4506796624&#45;&gt;4506808912* -->\n",
       "<g id=\"edge25\" class=\"edge\">\n",
       "<title>4506796624&#45;&gt;4506808912*</title>\n",
       "<path fill=\"none\" stroke=\"black\" d=\"M2371.97,-119.92C2433.4,-115.4 2516.63,-109.2 2590,-103.5 2597.88,-102.89 2606.33,-102.22 2614.38,-101.57\"/>\n",
       "<polygon fill=\"black\" stroke=\"black\" points=\"2614.56,-105.07 2624.25,-100.77 2614,-98.09 2614.56,-105.07\"/>\n",
       "</g>\n",
       "<!-- 4506796624+ -->\n",
       "<g id=\"node5\" class=\"node\">\n",
       "<title>4506796624+</title>\n",
       "<ellipse fill=\"none\" stroke=\"black\" cx=\"1905\" cy=\"-126.5\" rx=\"27\" ry=\"18\"/>\n",
       "<text text-anchor=\"middle\" x=\"1905\" y=\"-122.8\" font-family=\"Times,serif\" font-size=\"14.00\">+</text>\n",
       "</g>\n",
       "<!-- 4506796624+&#45;&gt;4506796624 -->\n",
       "<g id=\"edge2\" class=\"edge\">\n",
       "<title>4506796624+&#45;&gt;4506796624</title>\n",
       "<path fill=\"none\" stroke=\"black\" d=\"M1932.3,-126.5C1982.69,-126.5 2095.25,-126.5 2178.73,-126.5\"/>\n",
       "<polygon fill=\"black\" stroke=\"black\" points=\"2178.53,-130 2188.53,-126.5 2178.53,-123 2178.53,-130\"/>\n",
       "</g>\n",
       "<!-- 4506804880 -->\n",
       "<g id=\"node6\" class=\"node\">\n",
       "<title>4506804880</title>\n",
       "<polygon fill=\"none\" stroke=\"black\" points=\"2408,-57.5 2408,-93.5 2590,-93.5 2590,-57.5 2408,-57.5\"/>\n",
       "<text text-anchor=\"middle\" x=\"2418\" y=\"-71.8\" font-family=\"Times,serif\" font-size=\"14.00\"> </text>\n",
       "<polyline fill=\"none\" stroke=\"black\" points=\"2428,-57.5 2428,-93.5\"/>\n",
       "<text text-anchor=\"middle\" x=\"2468\" y=\"-71.8\" font-family=\"Times,serif\" font-size=\"14.00\">data 0.1464</text>\n",
       "<polyline fill=\"none\" stroke=\"black\" points=\"2508,-57.5 2508,-93.5\"/>\n",
       "<text text-anchor=\"middle\" x=\"2549\" y=\"-71.8\" font-family=\"Times,serif\" font-size=\"14.00\">grad 4.8284</text>\n",
       "</g>\n",
       "<!-- 4506804880&#45;&gt;4506808912* -->\n",
       "<g id=\"edge13\" class=\"edge\">\n",
       "<title>4506804880&#45;&gt;4506808912*</title>\n",
       "<path fill=\"none\" stroke=\"black\" d=\"M2589.74,-89.08C2598.62,-90.42 2607.23,-91.73 2615.09,-92.91\"/>\n",
       "<polygon fill=\"black\" stroke=\"black\" points=\"2614.45,-96.36 2624.86,-94.39 2615.49,-89.44 2614.45,-96.36\"/>\n",
       "</g>\n",
       "<!-- 4506804880**&#45;1 -->\n",
       "<g id=\"node7\" class=\"node\">\n",
       "<title>4506804880**&#45;1</title>\n",
       "<ellipse fill=\"none\" stroke=\"black\" cx=\"2281\" cy=\"-71.5\" rx=\"27\" ry=\"18\"/>\n",
       "<text text-anchor=\"middle\" x=\"2281\" y=\"-67.8\" font-family=\"Times,serif\" font-size=\"14.00\">**&#45;1</text>\n",
       "</g>\n",
       "<!-- 4506804880**&#45;1&#45;&gt;4506804880 -->\n",
       "<g id=\"edge3\" class=\"edge\">\n",
       "<title>4506804880**&#45;1&#45;&gt;4506804880</title>\n",
       "<path fill=\"none\" stroke=\"black\" d=\"M2308.49,-71.99C2330.76,-72.4 2364.08,-73.02 2396.61,-73.62\"/>\n",
       "<polygon fill=\"black\" stroke=\"black\" points=\"2396.48,-77.12 2406.55,-73.81 2396.61,-70.12 2396.48,-77.12\"/>\n",
       "</g>\n",
       "<!-- 4506803872 -->\n",
       "<g id=\"node8\" class=\"node\">\n",
       "<title>4506803872</title>\n",
       "<polygon fill=\"none\" stroke=\"black\" points=\"1968,-53.5 1968,-89.5 2154,-89.5 2154,-53.5 1968,-53.5\"/>\n",
       "<text text-anchor=\"middle\" x=\"1978\" y=\"-67.8\" font-family=\"Times,serif\" font-size=\"14.00\"> </text>\n",
       "<polyline fill=\"none\" stroke=\"black\" points=\"1988,-53.5 1988,-89.5\"/>\n",
       "<text text-anchor=\"middle\" x=\"2028\" y=\"-67.8\" font-family=\"Times,serif\" font-size=\"14.00\">data 6.8284</text>\n",
       "<polyline fill=\"none\" stroke=\"black\" points=\"2068,-53.5 2068,-89.5\"/>\n",
       "<text text-anchor=\"middle\" x=\"2111\" y=\"-67.8\" font-family=\"Times,serif\" font-size=\"14.00\">grad &#45;0.1036</text>\n",
       "</g>\n",
       "<!-- 4506803872&#45;&gt;4506804880**&#45;1 -->\n",
       "<g id=\"edge18\" class=\"edge\">\n",
       "<title>4506803872&#45;&gt;4506804880**&#45;1</title>\n",
       "<path fill=\"none\" stroke=\"black\" d=\"M2153.82,-71.5C2185.02,-71.5 2218.15,-71.5 2242.62,-71.5\"/>\n",
       "<polygon fill=\"black\" stroke=\"black\" points=\"2242.39,-75 2252.39,-71.5 2242.39,-68 2242.39,-75\"/>\n",
       "</g>\n",
       "<!-- 4506803872+ -->\n",
       "<g id=\"node9\" class=\"node\">\n",
       "<title>4506803872+</title>\n",
       "<ellipse fill=\"none\" stroke=\"black\" cx=\"1905\" cy=\"-71.5\" rx=\"27\" ry=\"18\"/>\n",
       "<text text-anchor=\"middle\" x=\"1905\" y=\"-67.8\" font-family=\"Times,serif\" font-size=\"14.00\">+</text>\n",
       "</g>\n",
       "<!-- 4506803872+&#45;&gt;4506803872 -->\n",
       "<g id=\"edge4\" class=\"edge\">\n",
       "<title>4506803872+&#45;&gt;4506803872</title>\n",
       "<path fill=\"none\" stroke=\"black\" d=\"M1932.47,-71.5C1939.67,-71.5 1947.92,-71.5 1956.69,-71.5\"/>\n",
       "<polygon fill=\"black\" stroke=\"black\" points=\"1956.51,-75 1966.51,-71.5 1956.51,-68 1956.51,-75\"/>\n",
       "</g>\n",
       "<!-- 4506800272 -->\n",
       "<g id=\"node10\" class=\"node\">\n",
       "<title>4506800272</title>\n",
       "<polygon fill=\"none\" stroke=\"black\" points=\"1657.5,-81.5 1657.5,-117.5 1839.5,-117.5 1839.5,-81.5 1657.5,-81.5\"/>\n",
       "<text text-anchor=\"middle\" x=\"1667.5\" y=\"-95.8\" font-family=\"Times,serif\" font-size=\"14.00\"> </text>\n",
       "<polyline fill=\"none\" stroke=\"black\" points=\"1677.5,-81.5 1677.5,-117.5\"/>\n",
       "<text text-anchor=\"middle\" x=\"1717.5\" y=\"-95.8\" font-family=\"Times,serif\" font-size=\"14.00\">data 5.8284</text>\n",
       "<polyline fill=\"none\" stroke=\"black\" points=\"1757.5,-81.5 1757.5,-117.5\"/>\n",
       "<text text-anchor=\"middle\" x=\"1798.5\" y=\"-95.8\" font-family=\"Times,serif\" font-size=\"14.00\">grad 0.0429</text>\n",
       "</g>\n",
       "<!-- 4506800272&#45;&gt;4506796624+ -->\n",
       "<g id=\"edge27\" class=\"edge\">\n",
       "<title>4506800272&#45;&gt;4506796624+</title>\n",
       "<path fill=\"none\" stroke=\"black\" d=\"M1839.37,-115.21C1849.23,-116.93 1858.81,-118.6 1867.44,-120.11\"/>\n",
       "<polygon fill=\"black\" stroke=\"black\" points=\"1866.61,-123.52 1877.06,-121.79 1867.81,-116.62 1866.61,-123.52\"/>\n",
       "</g>\n",
       "<!-- 4506800272&#45;&gt;4506803872+ -->\n",
       "<g id=\"edge11\" class=\"edge\">\n",
       "<title>4506800272&#45;&gt;4506803872+</title>\n",
       "<path fill=\"none\" stroke=\"black\" d=\"M1839.37,-83.21C1849.23,-81.43 1858.81,-79.69 1867.44,-78.13\"/>\n",
       "<polygon fill=\"black\" stroke=\"black\" points=\"1867.85,-81.61 1877.06,-76.38 1866.6,-74.72 1867.85,-81.61\"/>\n",
       "</g>\n",
       "<!-- 4506800272exp -->\n",
       "<g id=\"node11\" class=\"node\">\n",
       "<title>4506800272exp</title>\n",
       "<ellipse fill=\"none\" stroke=\"black\" cx=\"1592\" cy=\"-99.5\" rx=\"27\" ry=\"18\"/>\n",
       "<text text-anchor=\"middle\" x=\"1592\" y=\"-95.8\" font-family=\"Times,serif\" font-size=\"14.00\">exp</text>\n",
       "</g>\n",
       "<!-- 4506800272exp&#45;&gt;4506800272 -->\n",
       "<g id=\"edge5\" class=\"edge\">\n",
       "<title>4506800272exp&#45;&gt;4506800272</title>\n",
       "<path fill=\"none\" stroke=\"black\" d=\"M1619.21,-99.5C1627.15,-99.5 1636.4,-99.5 1646.22,-99.5\"/>\n",
       "<polygon fill=\"black\" stroke=\"black\" points=\"1646.01,-103 1656.01,-99.5 1646.01,-96 1646.01,-103\"/>\n",
       "</g>\n",
       "<!-- 4506809008 -->\n",
       "<g id=\"node12\" class=\"node\">\n",
       "<title>4506809008</title>\n",
       "<polygon fill=\"none\" stroke=\"black\" points=\"326,-110.5 326,-146.5 540,-146.5 540,-110.5 326,-110.5\"/>\n",
       "<text text-anchor=\"middle\" x=\"349.5\" y=\"-124.8\" font-family=\"Times,serif\" font-size=\"14.00\">x1w1</text>\n",
       "<polyline fill=\"none\" stroke=\"black\" points=\"373,-110.5 373,-146.5\"/>\n",
       "<text text-anchor=\"middle\" x=\"415.5\" y=\"-124.8\" font-family=\"Times,serif\" font-size=\"14.00\">data &#45;6.0000</text>\n",
       "<polyline fill=\"none\" stroke=\"black\" points=\"458,-110.5 458,-146.5\"/>\n",
       "<text text-anchor=\"middle\" x=\"499\" y=\"-124.8\" font-family=\"Times,serif\" font-size=\"14.00\">grad 0.5000</text>\n",
       "</g>\n",
       "<!-- 4506806080+ -->\n",
       "<g id=\"node23\" class=\"node\">\n",
       "<title>4506806080+</title>\n",
       "<ellipse fill=\"none\" stroke=\"black\" cx=\"603\" cy=\"-100.5\" rx=\"27\" ry=\"18\"/>\n",
       "<text text-anchor=\"middle\" x=\"603\" y=\"-96.8\" font-family=\"Times,serif\" font-size=\"14.00\">+</text>\n",
       "</g>\n",
       "<!-- 4506809008&#45;&gt;4506806080+ -->\n",
       "<g id=\"edge23\" class=\"edge\">\n",
       "<title>4506809008&#45;&gt;4506806080+</title>\n",
       "<path fill=\"none\" stroke=\"black\" d=\"M539.92,-110.85C548.88,-109.35 557.49,-107.92 565.29,-106.62\"/>\n",
       "<polygon fill=\"black\" stroke=\"black\" points=\"565.66,-110.1 574.95,-105.01 564.51,-103.2 565.66,-110.1\"/>\n",
       "</g>\n",
       "<!-- 4506809008* -->\n",
       "<g id=\"node13\" class=\"node\">\n",
       "<title>4506809008*</title>\n",
       "<ellipse fill=\"none\" stroke=\"black\" cx=\"263\" cy=\"-128.5\" rx=\"27\" ry=\"18\"/>\n",
       "<text text-anchor=\"middle\" x=\"263\" y=\"-124.8\" font-family=\"Times,serif\" font-size=\"14.00\">*</text>\n",
       "</g>\n",
       "<!-- 4506809008*&#45;&gt;4506809008 -->\n",
       "<g id=\"edge6\" class=\"edge\">\n",
       "<title>4506809008*&#45;&gt;4506809008</title>\n",
       "<path fill=\"none\" stroke=\"black\" d=\"M290.25,-128.5C297.53,-128.5 305.94,-128.5 314.95,-128.5\"/>\n",
       "<polygon fill=\"black\" stroke=\"black\" points=\"314.69,-132 324.69,-128.5 314.69,-125 314.69,-132\"/>\n",
       "</g>\n",
       "<!-- 4506805456 -->\n",
       "<g id=\"node14\" class=\"node\">\n",
       "<title>4506805456</title>\n",
       "<polygon fill=\"none\" stroke=\"black\" points=\"1036,-54.5 1036,-90.5 1221,-90.5 1221,-54.5 1036,-54.5\"/>\n",
       "<text text-anchor=\"middle\" x=\"1047.5\" y=\"-68.8\" font-family=\"Times,serif\" font-size=\"14.00\">n</text>\n",
       "<polyline fill=\"none\" stroke=\"black\" points=\"1059,-54.5 1059,-90.5\"/>\n",
       "<text text-anchor=\"middle\" x=\"1099\" y=\"-68.8\" font-family=\"Times,serif\" font-size=\"14.00\">data 0.8814</text>\n",
       "<polyline fill=\"none\" stroke=\"black\" points=\"1139,-54.5 1139,-90.5\"/>\n",
       "<text text-anchor=\"middle\" x=\"1180\" y=\"-68.8\" font-family=\"Times,serif\" font-size=\"14.00\">grad 0.5000</text>\n",
       "</g>\n",
       "<!-- 4506805456&#45;&gt;4506805696* -->\n",
       "<g id=\"edge16\" class=\"edge\">\n",
       "<title>4506805456&#45;&gt;4506805696*</title>\n",
       "<path fill=\"none\" stroke=\"black\" d=\"M1220.57,-88.52C1229.67,-90.12 1238.5,-91.67 1246.52,-93.08\"/>\n",
       "<polygon fill=\"black\" stroke=\"black\" points=\"1245.66,-96.49 1256.12,-94.77 1246.88,-89.59 1245.66,-96.49\"/>\n",
       "</g>\n",
       "<!-- 4506805456+ -->\n",
       "<g id=\"node15\" class=\"node\">\n",
       "<title>4506805456+</title>\n",
       "<ellipse fill=\"none\" stroke=\"black\" cx=\"973\" cy=\"-72.5\" rx=\"27\" ry=\"18\"/>\n",
       "<text text-anchor=\"middle\" x=\"973\" y=\"-68.8\" font-family=\"Times,serif\" font-size=\"14.00\">+</text>\n",
       "</g>\n",
       "<!-- 4506805456+&#45;&gt;4506805456 -->\n",
       "<g id=\"edge7\" class=\"edge\">\n",
       "<title>4506805456+&#45;&gt;4506805456</title>\n",
       "<path fill=\"none\" stroke=\"black\" d=\"M1000.39,-72.5C1007.62,-72.5 1015.92,-72.5 1024.74,-72.5\"/>\n",
       "<polygon fill=\"black\" stroke=\"black\" points=\"1024.64,-76 1034.64,-72.5 1024.64,-69 1024.64,-76\"/>\n",
       "</g>\n",
       "<!-- 4508738240 -->\n",
       "<g id=\"node16\" class=\"node\">\n",
       "<title>4508738240</title>\n",
       "<polygon fill=\"none\" stroke=\"black\" points=\"4,-55.5 4,-91.5 196,-91.5 196,-55.5 4,-55.5\"/>\n",
       "<text text-anchor=\"middle\" x=\"19\" y=\"-69.8\" font-family=\"Times,serif\" font-size=\"14.00\">x2</text>\n",
       "<polyline fill=\"none\" stroke=\"black\" points=\"34,-55.5 34,-91.5\"/>\n",
       "<text text-anchor=\"middle\" x=\"74\" y=\"-69.8\" font-family=\"Times,serif\" font-size=\"14.00\">data 0.0000</text>\n",
       "<polyline fill=\"none\" stroke=\"black\" points=\"114,-55.5 114,-91.5\"/>\n",
       "<text text-anchor=\"middle\" x=\"155\" y=\"-69.8\" font-family=\"Times,serif\" font-size=\"14.00\">grad 0.5000</text>\n",
       "</g>\n",
       "<!-- 4506808048* -->\n",
       "<g id=\"node18\" class=\"node\">\n",
       "<title>4506808048*</title>\n",
       "<ellipse fill=\"none\" stroke=\"black\" cx=\"263\" cy=\"-73.5\" rx=\"27\" ry=\"18\"/>\n",
       "<text text-anchor=\"middle\" x=\"263\" y=\"-69.8\" font-family=\"Times,serif\" font-size=\"14.00\">*</text>\n",
       "</g>\n",
       "<!-- 4508738240&#45;&gt;4506808048* -->\n",
       "<g id=\"edge21\" class=\"edge\">\n",
       "<title>4508738240&#45;&gt;4506808048*</title>\n",
       "<path fill=\"none\" stroke=\"black\" d=\"M195.59,-73.5C205.66,-73.5 215.42,-73.5 224.23,-73.5\"/>\n",
       "<polygon fill=\"black\" stroke=\"black\" points=\"224.07,-77 234.07,-73.5 224.07,-70 224.07,-77\"/>\n",
       "</g>\n",
       "<!-- 4506808048 -->\n",
       "<g id=\"node17\" class=\"node\">\n",
       "<title>4506808048</title>\n",
       "<polygon fill=\"none\" stroke=\"black\" points=\"328.5,-55.5 328.5,-91.5 537.5,-91.5 537.5,-55.5 328.5,-55.5\"/>\n",
       "<text text-anchor=\"middle\" x=\"352\" y=\"-69.8\" font-family=\"Times,serif\" font-size=\"14.00\">x2w2</text>\n",
       "<polyline fill=\"none\" stroke=\"black\" points=\"375.5,-55.5 375.5,-91.5\"/>\n",
       "<text text-anchor=\"middle\" x=\"415.5\" y=\"-69.8\" font-family=\"Times,serif\" font-size=\"14.00\">data 0.0000</text>\n",
       "<polyline fill=\"none\" stroke=\"black\" points=\"455.5,-55.5 455.5,-91.5\"/>\n",
       "<text text-anchor=\"middle\" x=\"496.5\" y=\"-69.8\" font-family=\"Times,serif\" font-size=\"14.00\">grad 0.5000</text>\n",
       "</g>\n",
       "<!-- 4506808048&#45;&gt;4506806080+ -->\n",
       "<g id=\"edge28\" class=\"edge\">\n",
       "<title>4506808048&#45;&gt;4506806080+</title>\n",
       "<path fill=\"none\" stroke=\"black\" d=\"M537.05,-90.06C547.04,-91.67 556.65,-93.21 565.28,-94.6\"/>\n",
       "<polygon fill=\"black\" stroke=\"black\" points=\"564.45,-98.01 574.88,-96.14 565.56,-91.1 564.45,-98.01\"/>\n",
       "</g>\n",
       "<!-- 4506808048*&#45;&gt;4506808048 -->\n",
       "<g id=\"edge8\" class=\"edge\">\n",
       "<title>4506808048*&#45;&gt;4506808048</title>\n",
       "<path fill=\"none\" stroke=\"black\" d=\"M290.25,-73.5C298.16,-73.5 307.4,-73.5 317.3,-73.5\"/>\n",
       "<polygon fill=\"black\" stroke=\"black\" points=\"317.2,-77 327.2,-73.5 317.2,-70 317.2,-77\"/>\n",
       "</g>\n",
       "<!-- 4506803968 -->\n",
       "<g id=\"node19\" class=\"node\">\n",
       "<title>4506803968</title>\n",
       "<polygon fill=\"none\" stroke=\"black\" points=\"1655.5,-26.5 1655.5,-62.5 1841.5,-62.5 1841.5,-26.5 1655.5,-26.5\"/>\n",
       "<text text-anchor=\"middle\" x=\"1665.5\" y=\"-40.8\" font-family=\"Times,serif\" font-size=\"14.00\"> </text>\n",
       "<polyline fill=\"none\" stroke=\"black\" points=\"1675.5,-26.5 1675.5,-62.5\"/>\n",
       "<text text-anchor=\"middle\" x=\"1715.5\" y=\"-40.8\" font-family=\"Times,serif\" font-size=\"14.00\">data 1.0000</text>\n",
       "<polyline fill=\"none\" stroke=\"black\" points=\"1755.5,-26.5 1755.5,-62.5\"/>\n",
       "<text text-anchor=\"middle\" x=\"1798.5\" y=\"-40.8\" font-family=\"Times,serif\" font-size=\"14.00\">grad &#45;0.1036</text>\n",
       "</g>\n",
       "<!-- 4506803968&#45;&gt;4506803872+ -->\n",
       "<g id=\"edge12\" class=\"edge\">\n",
       "<title>4506803968&#45;&gt;4506803872+</title>\n",
       "<path fill=\"none\" stroke=\"black\" d=\"M1841.16,-60.52C1850.33,-62.12 1859.21,-63.67 1867.28,-65.08\"/>\n",
       "<polygon fill=\"black\" stroke=\"black\" points=\"1866.5,-68.5 1876.95,-66.77 1867.71,-61.6 1866.5,-68.5\"/>\n",
       "</g>\n",
       "<!-- 4508737280 -->\n",
       "<g id=\"node20\" class=\"node\">\n",
       "<title>4508737280</title>\n",
       "<polygon fill=\"none\" stroke=\"black\" points=\"2,-165.5 2,-201.5 198,-201.5 198,-165.5 2,-165.5\"/>\n",
       "<text text-anchor=\"middle\" x=\"17\" y=\"-179.8\" font-family=\"Times,serif\" font-size=\"14.00\">x1</text>\n",
       "<polyline fill=\"none\" stroke=\"black\" points=\"32,-165.5 32,-201.5\"/>\n",
       "<text text-anchor=\"middle\" x=\"72\" y=\"-179.8\" font-family=\"Times,serif\" font-size=\"14.00\">data 2.0000</text>\n",
       "<polyline fill=\"none\" stroke=\"black\" points=\"112,-165.5 112,-201.5\"/>\n",
       "<text text-anchor=\"middle\" x=\"155\" y=\"-179.8\" font-family=\"Times,serif\" font-size=\"14.00\">grad &#45;1.5000</text>\n",
       "</g>\n",
       "<!-- 4508737280&#45;&gt;4506809008* -->\n",
       "<g id=\"edge26\" class=\"edge\">\n",
       "<title>4508737280&#45;&gt;4506809008*</title>\n",
       "<path fill=\"none\" stroke=\"black\" d=\"M172.27,-165.52C181.67,-162.72 191.12,-159.7 200,-156.5 210.09,-152.87 220.83,-148.29 230.48,-143.89\"/>\n",
       "<polygon fill=\"black\" stroke=\"black\" points=\"231.87,-147.11 239.45,-139.71 228.91,-140.76 231.87,-147.11\"/>\n",
       "</g>\n",
       "<!-- 4506799888 -->\n",
       "<g id=\"node21\" class=\"node\">\n",
       "<title>4506799888</title>\n",
       "<polygon fill=\"none\" stroke=\"black\" points=\"2.5,-0.5 2.5,-36.5 197.5,-36.5 197.5,-0.5 2.5,-0.5\"/>\n",
       "<text text-anchor=\"middle\" x=\"19\" y=\"-14.8\" font-family=\"Times,serif\" font-size=\"14.00\">w2</text>\n",
       "<polyline fill=\"none\" stroke=\"black\" points=\"35.5,-0.5 35.5,-36.5\"/>\n",
       "<text text-anchor=\"middle\" x=\"75.5\" y=\"-14.8\" font-family=\"Times,serif\" font-size=\"14.00\">data 1.0000</text>\n",
       "<polyline fill=\"none\" stroke=\"black\" points=\"115.5,-0.5 115.5,-36.5\"/>\n",
       "<text text-anchor=\"middle\" x=\"156.5\" y=\"-14.8\" font-family=\"Times,serif\" font-size=\"14.00\">grad 0.0000</text>\n",
       "</g>\n",
       "<!-- 4506799888&#45;&gt;4506808048* -->\n",
       "<g id=\"edge22\" class=\"edge\">\n",
       "<title>4506799888&#45;&gt;4506808048*</title>\n",
       "<path fill=\"none\" stroke=\"black\" d=\"M172.27,-36.48C181.67,-39.28 191.12,-42.3 200,-45.5 210.09,-49.13 220.83,-53.71 230.48,-58.11\"/>\n",
       "<polygon fill=\"black\" stroke=\"black\" points=\"228.91,-61.24 239.45,-62.29 231.87,-54.89 228.91,-61.24\"/>\n",
       "</g>\n",
       "<!-- 4506806080 -->\n",
       "<g id=\"node22\" class=\"node\">\n",
       "<title>4506806080</title>\n",
       "<polygon fill=\"none\" stroke=\"black\" points=\"666,-82.5 666,-118.5 910,-118.5 910,-82.5 666,-82.5\"/>\n",
       "<text text-anchor=\"middle\" x=\"704.5\" y=\"-96.8\" font-family=\"Times,serif\" font-size=\"14.00\">x1w1x2w2</text>\n",
       "<polyline fill=\"none\" stroke=\"black\" points=\"743,-82.5 743,-118.5\"/>\n",
       "<text text-anchor=\"middle\" x=\"785.5\" y=\"-96.8\" font-family=\"Times,serif\" font-size=\"14.00\">data &#45;6.0000</text>\n",
       "<polyline fill=\"none\" stroke=\"black\" points=\"828,-82.5 828,-118.5\"/>\n",
       "<text text-anchor=\"middle\" x=\"869\" y=\"-96.8\" font-family=\"Times,serif\" font-size=\"14.00\">grad 0.5000</text>\n",
       "</g>\n",
       "<!-- 4506806080&#45;&gt;4506805456+ -->\n",
       "<g id=\"edge14\" class=\"edge\">\n",
       "<title>4506806080&#45;&gt;4506805456+</title>\n",
       "<path fill=\"none\" stroke=\"black\" d=\"M906.45,-82.53C916.69,-80.96 926.46,-79.47 935.18,-78.13\"/>\n",
       "<polygon fill=\"black\" stroke=\"black\" points=\"935.52,-81.62 944.87,-76.65 934.46,-74.7 935.52,-81.62\"/>\n",
       "</g>\n",
       "<!-- 4506806080+&#45;&gt;4506806080 -->\n",
       "<g id=\"edge9\" class=\"edge\">\n",
       "<title>4506806080+&#45;&gt;4506806080</title>\n",
       "<path fill=\"none\" stroke=\"black\" d=\"M630.22,-100.5C637.46,-100.5 645.83,-100.5 654.87,-100.5\"/>\n",
       "<polygon fill=\"black\" stroke=\"black\" points=\"654.68,-104 664.68,-100.5 654.68,-97 654.68,-104\"/>\n",
       "</g>\n",
       "<!-- 4508733248 -->\n",
       "<g id=\"node24\" class=\"node\">\n",
       "<title>4508733248</title>\n",
       "<polygon fill=\"none\" stroke=\"black\" points=\"0,-110.5 0,-146.5 200,-146.5 200,-110.5 0,-110.5\"/>\n",
       "<text text-anchor=\"middle\" x=\"16.5\" y=\"-124.8\" font-family=\"Times,serif\" font-size=\"14.00\">w1</text>\n",
       "<polyline fill=\"none\" stroke=\"black\" points=\"33,-110.5 33,-146.5\"/>\n",
       "<text text-anchor=\"middle\" x=\"75.5\" y=\"-124.8\" font-family=\"Times,serif\" font-size=\"14.00\">data &#45;3.0000</text>\n",
       "<polyline fill=\"none\" stroke=\"black\" points=\"118,-110.5 118,-146.5\"/>\n",
       "<text text-anchor=\"middle\" x=\"159\" y=\"-124.8\" font-family=\"Times,serif\" font-size=\"14.00\">grad 1.0000</text>\n",
       "</g>\n",
       "<!-- 4508733248&#45;&gt;4506809008* -->\n",
       "<g id=\"edge20\" class=\"edge\">\n",
       "<title>4508733248&#45;&gt;4506809008*</title>\n",
       "<path fill=\"none\" stroke=\"black\" d=\"M199.75,-128.5C208.38,-128.5 216.71,-128.5 224.33,-128.5\"/>\n",
       "<polygon fill=\"black\" stroke=\"black\" points=\"224.12,-132 234.12,-128.5 224.12,-125 224.12,-132\"/>\n",
       "</g>\n",
       "<!-- 4506798928 -->\n",
       "<g id=\"node25\" class=\"node\">\n",
       "<title>4506798928</title>\n",
       "<polygon fill=\"none\" stroke=\"black\" points=\"1655,-136.5 1655,-172.5 1842,-172.5 1842,-136.5 1655,-136.5\"/>\n",
       "<text text-anchor=\"middle\" x=\"1665\" y=\"-150.8\" font-family=\"Times,serif\" font-size=\"14.00\"> </text>\n",
       "<polyline fill=\"none\" stroke=\"black\" points=\"1675,-136.5 1675,-172.5\"/>\n",
       "<text text-anchor=\"middle\" x=\"1717.5\" y=\"-150.8\" font-family=\"Times,serif\" font-size=\"14.00\">data &#45;1.0000</text>\n",
       "<polyline fill=\"none\" stroke=\"black\" points=\"1760,-136.5 1760,-172.5\"/>\n",
       "<text text-anchor=\"middle\" x=\"1801\" y=\"-150.8\" font-family=\"Times,serif\" font-size=\"14.00\">grad 0.1464</text>\n",
       "</g>\n",
       "<!-- 4506798928&#45;&gt;4506796624+ -->\n",
       "<g id=\"edge15\" class=\"edge\">\n",
       "<title>4506798928&#45;&gt;4506796624+</title>\n",
       "<path fill=\"none\" stroke=\"black\" d=\"M1841.6,-137.81C1850.72,-136.16 1859.55,-134.56 1867.56,-133.1\"/>\n",
       "<polygon fill=\"black\" stroke=\"black\" points=\"1867.94,-136.59 1877.16,-131.36 1866.7,-129.7 1867.94,-136.59\"/>\n",
       "</g>\n",
       "<!-- 4506805696 -->\n",
       "<g id=\"node26\" class=\"node\">\n",
       "<title>4506805696</title>\n",
       "<polygon fill=\"none\" stroke=\"black\" points=\"1347,-81.5 1347,-117.5 1529,-117.5 1529,-81.5 1347,-81.5\"/>\n",
       "<text text-anchor=\"middle\" x=\"1357\" y=\"-95.8\" font-family=\"Times,serif\" font-size=\"14.00\"> </text>\n",
       "<polyline fill=\"none\" stroke=\"black\" points=\"1367,-81.5 1367,-117.5\"/>\n",
       "<text text-anchor=\"middle\" x=\"1407\" y=\"-95.8\" font-family=\"Times,serif\" font-size=\"14.00\">data 1.7627</text>\n",
       "<polyline fill=\"none\" stroke=\"black\" points=\"1447,-81.5 1447,-117.5\"/>\n",
       "<text text-anchor=\"middle\" x=\"1488\" y=\"-95.8\" font-family=\"Times,serif\" font-size=\"14.00\">grad 0.2500</text>\n",
       "</g>\n",
       "<!-- 4506805696&#45;&gt;4506800272exp -->\n",
       "<g id=\"edge24\" class=\"edge\">\n",
       "<title>4506805696&#45;&gt;4506800272exp</title>\n",
       "<path fill=\"none\" stroke=\"black\" d=\"M1528.74,-99.5C1537.34,-99.5 1545.7,-99.5 1553.36,-99.5\"/>\n",
       "<polygon fill=\"black\" stroke=\"black\" points=\"1553.24,-103 1563.24,-99.5 1553.24,-96 1553.24,-103\"/>\n",
       "</g>\n",
       "<!-- 4506805696*&#45;&gt;4506805696 -->\n",
       "<g id=\"edge10\" class=\"edge\">\n",
       "<title>4506805696*&#45;&gt;4506805696</title>\n",
       "<path fill=\"none\" stroke=\"black\" d=\"M1311.48,-99.5C1318.71,-99.5 1327.01,-99.5 1335.82,-99.5\"/>\n",
       "<polygon fill=\"black\" stroke=\"black\" points=\"1335.69,-103 1345.69,-99.5 1335.69,-96 1335.69,-103\"/>\n",
       "</g>\n",
       "<!-- 4506799600 -->\n",
       "<g id=\"node28\" class=\"node\">\n",
       "<title>4506799600</title>\n",
       "<polygon fill=\"none\" stroke=\"black\" points=\"695.5,-27.5 695.5,-63.5 880.5,-63.5 880.5,-27.5 695.5,-27.5\"/>\n",
       "<text text-anchor=\"middle\" x=\"707\" y=\"-41.8\" font-family=\"Times,serif\" font-size=\"14.00\">b</text>\n",
       "<polyline fill=\"none\" stroke=\"black\" points=\"718.5,-27.5 718.5,-63.5\"/>\n",
       "<text text-anchor=\"middle\" x=\"758.5\" y=\"-41.8\" font-family=\"Times,serif\" font-size=\"14.00\">data 6.8814</text>\n",
       "<polyline fill=\"none\" stroke=\"black\" points=\"798.5,-27.5 798.5,-63.5\"/>\n",
       "<text text-anchor=\"middle\" x=\"839.5\" y=\"-41.8\" font-family=\"Times,serif\" font-size=\"14.00\">grad 0.5000</text>\n",
       "</g>\n",
       "<!-- 4506799600&#45;&gt;4506805456+ -->\n",
       "<g id=\"edge19\" class=\"edge\">\n",
       "<title>4506799600&#45;&gt;4506805456+</title>\n",
       "<path fill=\"none\" stroke=\"black\" d=\"M880.5,-59C899.73,-61.84 918.95,-64.67 934.78,-67.01\"/>\n",
       "<polygon fill=\"black\" stroke=\"black\" points=\"934.27,-70.47 944.67,-68.47 935.29,-63.55 934.27,-70.47\"/>\n",
       "</g>\n",
       "</g>\n",
       "</svg>\n"
      ],
      "text/plain": [
       "<graphviz.graphs.Digraph at 0x10ca04ac0>"
      ]
     },
     "execution_count": 70,
     "metadata": {},
     "output_type": "execute_result"
    }
   ],
   "source": [
    "# redo \n",
    "x1 = Value(2.0, label='x1')\n",
    "x2 = Value(0.0, label='x2')\n",
    "w1 = Value(-3.0, label='w1')\n",
    "w2 = Value(1.0, label='w2')\n",
    "b = Value(6.8813735870195432, label='b') # this value of b to make numbers nicer for us when we do backprop \n",
    "x1w1 = x1*w1; x1w1.label = 'x1w1'\n",
    "x2w2 = x2*w2; x2w2.label = 'x2w2'\n",
    "x1w1x2w2 = x1w1 + x2w2; x1w1x2w2.label = 'x1w1x2w2'\n",
    "n = x1w1x2w2 + b; n.label = 'n' # n is the cell body's raw activation \n",
    "#------\n",
    "e = (2*n).exp()\n",
    "o = (e - 1) / (e + 1); o.label = 'o'\n",
    "#------\n",
    "o.backward()\n",
    "draw_dot(o)"
   ]
  },
  {
   "cell_type": "markdown",
   "id": "ca0fb124-67ce-4baa-953f-a8930a0eb740",
   "metadata": {},
   "source": [
    "#### Building a Neural Network:"
   ]
  },
  {
   "cell_type": "markdown",
   "id": "e64d595a-d931-4902-8419-2bc906c66f30",
   "metadata": {},
   "source": [
    "Now we have this engine that can build mathematical expressions and compute their derivatives, we can use it to build a NN. Neural Networks are just one case of mathematical expressions.\n",
    "\n",
    "We'll build this with a similar API to that of PyTorch. "
   ]
  },
  {
   "cell_type": "markdown",
   "id": "1688d0cb-3dfa-4a11-ac42-5334d0cfa175",
   "metadata": {},
   "source": [
    "**First: build one Neuron**"
   ]
  },
  {
   "cell_type": "markdown",
   "id": "b41ce4fc-c78b-46e2-bb34-39e49912e37d",
   "metadata": {},
   "source": [
    "What will a neuron be? \n",
    "A neuron has input coming on synapses then it does dot product, pass through non-linearity and give us output.\n",
    "\n",
    "In code, this will look like:"
   ]
  },
  {
   "cell_type": "code",
   "execution_count": 71,
   "id": "66d4f0c6-e4ca-4eb6-b0b7-f40e6327282e",
   "metadata": {
    "tags": []
   },
   "outputs": [],
   "source": [
    "import random\n",
    "class Neuron:\n",
    "    \n",
    "    def __init__(self, nin): # takes as input number of inputs to that neuron\n",
    "        self.w = [Value(random.uniform(-1,1)) for _ in range(nin)] #initializes a random weight for each input\n",
    "        self.b = Value(random.uniform(-1,1)) # initialize random bias\n",
    "    \n",
    "    # We pass the inputs x to neuron by calling neuron(x). In Python, this is __call__ method\n",
    "    def __call__(self, x):\n",
    "        # implements w * x + b\n",
    "        act = sum((wi*xi for wi, xi in zip(self.w, x)), self.b)\n",
    "        out = act.tanh()\n",
    "        return out      "
   ]
  },
  {
   "cell_type": "code",
   "execution_count": 72,
   "id": "53606451-11ef-46e8-ac04-cd449bbb6e3a",
   "metadata": {
    "tags": []
   },
   "outputs": [
    {
     "data": {
      "text/plain": [
       "Value(data=0.9986792162310913)"
      ]
     },
     "execution_count": 72,
     "metadata": {},
     "output_type": "execute_result"
    }
   ],
   "source": [
    "x = [2.0, 3.0]\n",
    "n = Neuron(2)\n",
    "n(x)"
   ]
  },
  {
   "cell_type": "markdown",
   "id": "3ead14cb-cdc4-401e-9064-f8d51f6df39c",
   "metadata": {},
   "source": [
    "Note: how we built `act = sum((wi*xi for wi, xi in zip(self.w, x)), self.b)`:\n",
    "\n",
    "- First: to do $ w * x + b$ we need to pair each `x` with its relevant `w`. This is done via `zip`\n",
    "- Then we use a Generator expression to do the multiplications `(wi*xi for wi, xi in zip(self.w, x))`\n",
    "- Then we use `sum`. `sum` takes a starting point (0.0 by default). To make it more efficient, we make this starting point out bias `self.b` since we'll add it anyway"
   ]
  },
  {
   "cell_type": "markdown",
   "id": "e826fa50-3626-4461-bbec-7b2dbf808cb6",
   "metadata": {},
   "source": [
    "**Next: build a Layer of neurons**"
   ]
  },
  {
   "attachments": {
    "728d73b5-911c-4493-bbdd-f7235dbca0dd.png": {
     "image/png": "[encoded data removed]"
    }
   },
   "cell_type": "markdown",
   "id": "0f3edb62-2bea-4993-860c-e7b007c975e1",
   "metadata": {},
   "source": [
    "<div>\n",
    "<img src=\"attachment:728d73b5-911c-4493-bbdd-f7235dbca0dd.png\" width=\"300\"/>\n",
    "</div>\n",
    "\n",
    "[img src](https://www.researchgate.net/figure/A-hypothetical-example-of-Multilayer-Perceptron-Network_fig4_303875065)"
   ]
  },
  {
   "cell_type": "markdown",
   "id": "feff9f88-eb12-410b-a198-5516924f4c78",
   "metadata": {},
   "source": [
    "What is a Layer of neurons? as we see, it's just a bunch of neurons - not connected to one another - and each receiving some inputs. Implementing this is very straightforward then:"
   ]
  },
  {
   "cell_type": "code",
   "execution_count": 73,
   "id": "5d2e0bfe-fc24-474e-b78d-c449eae73620",
   "metadata": {
    "tags": []
   },
   "outputs": [],
   "source": [
    "class Layer:\n",
    "    \n",
    "    def __init__(self, nin, nout):\n",
    "        self.neurons = [Neuron(nin) for _ in range(nout)] # each neuron is one output so we use that as their count\n",
    "        #nout then is the number of neurons in a single layer\n",
    "        \n",
    "    def __call__(self, x):\n",
    "        outs = [n(x) for n in self.neurons]\n",
    "        #return outs\n",
    "        return outs[0] if len(outs) == 1 else outs #make it return the value if only one output else list of values"
   ]
  },
  {
   "cell_type": "code",
   "execution_count": 74,
   "id": "9ff05d08-93c4-43dc-a53e-5328d453199b",
   "metadata": {
    "tags": []
   },
   "outputs": [
    {
     "data": {
      "text/plain": [
       "[Value(data=-0.29053647988266695),\n",
       " Value(data=-0.7394286485968682),\n",
       " Value(data=0.9915132802083495)]"
      ]
     },
     "execution_count": 74,
     "metadata": {},
     "output_type": "execute_result"
    }
   ],
   "source": [
    "x = [2.0, 3.0]\n",
    "n = Layer(2, 3)\n",
    "n(x)"
   ]
  },
  {
   "cell_type": "markdown",
   "id": "05a75e3e-b4d6-4b93-99cd-786bedd0be41",
   "metadata": {},
   "source": [
    "**Next: Build a MLP**"
   ]
  },
  {
   "attachments": {
    "4c02de15-bc66-41b2-a600-19b9484c44d5.png": {
     "image/png": "[encoded data removed]"
    }
   },
   "cell_type": "markdown",
   "id": "a4007ce0-4896-4c57-aa75-4f29a3a55347",
   "metadata": {},
   "source": [
    "<div>\n",
    "<img src=\"attachment:4c02de15-bc66-41b2-a600-19b9484c44d5.png\" width=\"500\"/>\n",
    "</div>\n",
    "\n",
    "[img src](https://www.researchgate.net/figure/Multi-layer-perceptron-MLP-NN-basic-Architecture_fig2_354817375)"
   ]
  },
  {
   "cell_type": "markdown",
   "id": "74e6efad-00d7-45bf-93aa-92e0c8de17e3",
   "metadata": {},
   "source": [
    "A MLP is just a bunch of layers connected to one another sequentially"
   ]
  },
  {
   "cell_type": "code",
   "execution_count": 75,
   "id": "23633b43-bf66-4236-9109-c944195d5fdd",
   "metadata": {
    "tags": []
   },
   "outputs": [],
   "source": [
    "class MLP:\n",
    "    \n",
    "    def __init__(self, nin, nouts): # here nouts will be a list of number of neurons in each layer\n",
    "        sz = [nin] + nouts\n",
    "        self.layers = [Layer(sz[i], sz[i+1]) for i, _ in enumerate(nouts)] # each layer's nin will be nouts of the one before it\n",
    "        \n",
    "    def __call__(self, x):\n",
    "        for layer in self.layers:\n",
    "            x = layer(x)\n",
    "        return x"
   ]
  },
  {
   "cell_type": "code",
   "execution_count": 76,
   "id": "ff9268a8-fbe4-4784-a5f0-112494208cca",
   "metadata": {
    "tags": []
   },
   "outputs": [
    {
     "data": {
      "text/plain": [
       "Value(data=-0.504866262093328)"
      ]
     },
     "execution_count": 76,
     "metadata": {},
     "output_type": "execute_result"
    }
   ],
   "source": [
    "x = [2.0, 3.0, -1.0] \n",
    "n = MLP(3, [4, 4, 1])\n",
    "n(x)"
   ]
  },
  {
   "cell_type": "code",
   "execution_count": 77,
   "id": "e6c15d1a-5f58-4e21-af3b-a9057de357a8",
   "metadata": {
    "tags": []
   },
   "outputs": [],
   "source": [
    "#draw_dot(n(x))"
   ]
  },
  {
   "cell_type": "code",
   "execution_count": 78,
   "id": "ed1f00ea-c502-4e36-bb72-69fc769033b4",
   "metadata": {
    "tags": []
   },
   "outputs": [],
   "source": [
    "# let's try an example of a simple binary classifier:\n",
    "\n",
    "xs = [\n",
    "  [2.0, 3.0, -1.0],\n",
    "  [3.0, -1.0, 0.5],\n",
    "  [0.5, 1.0, 1.0],\n",
    "  [1.0, 1.0, -1.0],\n",
    "]\n",
    "ys = [1.0, -1.0, -1.0, 1.0] # desired targets"
   ]
  },
  {
   "cell_type": "code",
   "execution_count": 79,
   "id": "d067707a-ef2a-491c-ad64-80a637c64196",
   "metadata": {
    "tags": []
   },
   "outputs": [
    {
     "data": {
      "text/plain": [
       "[Value(data=-0.504866262093328),\n",
       " Value(data=-0.48940440497344834),\n",
       " Value(data=-0.014634562707899154),\n",
       " Value(data=-0.4622785500254892)]"
      ]
     },
     "execution_count": 79,
     "metadata": {},
     "output_type": "execute_result"
    }
   ],
   "source": [
    "# let's see what the nn as it is now thinks of these\n",
    "\n",
    "ypred = [n(x) for x in xs]\n",
    "ypred"
   ]
  },
  {
   "cell_type": "markdown",
   "id": "f865c525-ae82-45a0-ad77-153ee66a5253",
   "metadata": {},
   "source": [
    "How can we adjust the weights of the network to make these numbers close to the truth? The key to training NNs is to calculate a single number that somehow measures the performace of the whole NN aka: the Loss.\n",
    "\n",
    "We'll implement MSE loss:"
   ]
  },
  {
   "cell_type": "code",
   "execution_count": 80,
   "id": "24c5bc38-a188-4fd5-b304-369d7cc0cdea",
   "metadata": {
    "tags": []
   },
   "outputs": [
    {
     "data": {
      "text/plain": [
       "[Value(data=2.264622466786745),\n",
       " Value(data=0.2607078616605184),\n",
       " Value(data=0.970945045009853),\n",
       " Value(data=2.138258557864647)]"
      ]
     },
     "execution_count": 80,
     "metadata": {},
     "output_type": "execute_result"
    }
   ],
   "source": [
    "[(yout - ygt)**2 for ygt, yout in zip(ys, ypred)]"
   ]
  },
  {
   "cell_type": "markdown",
   "id": "50c409bf-1188-4b3b-8e2f-b6a57ce4cc4a",
   "metadata": {
    "tags": []
   },
   "source": [
    "We get 0 only if prediction is very close to target."
   ]
  },
  {
   "cell_type": "code",
   "execution_count": 81,
   "id": "5c072d4b-ed6e-483e-8572-83ae994afa30",
   "metadata": {
    "tags": []
   },
   "outputs": [
    {
     "data": {
      "text/plain": [
       "Value(data=5.634533931321764)"
      ]
     },
     "execution_count": 81,
     "metadata": {},
     "output_type": "execute_result"
    }
   ],
   "source": [
    "loss = sum([(yout - ygt)**2 for ygt, yout in zip(ys, ypred)])\n",
    "loss"
   ]
  },
  {
   "cell_type": "markdown",
   "id": "f46ed4fa-8e80-48dc-8af8-f48fc802ddd7",
   "metadata": {},
   "source": [
    "If loss is low, each prediction is close to its target."
   ]
  },
  {
   "cell_type": "code",
   "execution_count": 82,
   "id": "6a916276-b75c-4e4c-8582-a5efe573206d",
   "metadata": {
    "tags": []
   },
   "outputs": [],
   "source": [
    "loss.backward()"
   ]
  },
  {
   "cell_type": "code",
   "execution_count": 83,
   "id": "aec4d355-abb9-4888-b91d-f324f987eba6",
   "metadata": {
    "tags": []
   },
   "outputs": [
    {
     "data": {
      "text/plain": [
       "Value(data=-0.5547073190654579)"
      ]
     },
     "execution_count": 83,
     "metadata": {},
     "output_type": "execute_result"
    }
   ],
   "source": [
    "# let's check the layers\n",
    "n.layers[0].neurons[0].w[0]"
   ]
  },
  {
   "cell_type": "code",
   "execution_count": 84,
   "id": "96c22187-03b1-4996-ac52-ebde7fffe521",
   "metadata": {
    "tags": []
   },
   "outputs": [
    {
     "data": {
      "text/plain": [
       "0.28049654301868077"
      ]
     },
     "execution_count": 84,
     "metadata": {},
     "output_type": "execute_result"
    }
   ],
   "source": [
    "n.layers[0].neurons[0].w[0].grad"
   ]
  },
  {
   "cell_type": "markdown",
   "id": "6ff0429b-9119-48fe-9d9c-53aac2f95e53",
   "metadata": {},
   "source": [
    "We can even check the graph of this NN (will be massive since it's the result of passing 4 examples)"
   ]
  },
  {
   "cell_type": "code",
   "execution_count": 85,
   "id": "88cf5333-b300-4450-8dd6-2f5e132e69b8",
   "metadata": {
    "tags": []
   },
   "outputs": [],
   "source": [
    "#draw_dot(loss)"
   ]
  },
  {
   "cell_type": "markdown",
   "id": "02fb7d12-6049-4dea-8643-31bc2e61e9f6",
   "metadata": {},
   "source": [
    "Now we want some code to gather for us the weights of the NN so we can change them simultaneously to improve loss. We'll do this by modifying the `Neuron` class such that it can return its parameters (weights and bias) and we'll modify the code for the `Layer` class so it accumulates the parameters of its neurons and can return them. Same for MLP."
   ]
  },
  {
   "cell_type": "code",
   "execution_count": 137,
   "id": "30f3b97b-299e-4696-a57d-7744bf07cae4",
   "metadata": {
    "tags": []
   },
   "outputs": [],
   "source": [
    "class Neuron:\n",
    "    \n",
    "    def __init__(self, nin): # takes as input number of inputs to that neuron\n",
    "        self.w = [Value(random.uniform(-1,1)) for _ in range(nin)] #initializes a random weight for each input\n",
    "        self.b = Value(random.uniform(-1,1)) # initialize random bias\n",
    "    \n",
    "    # We pass the inputs x to neuron by calling neuron(x). In Python, this is __call__ method\n",
    "    def __call__(self, x):\n",
    "        # implements w * x + b\n",
    "        act = sum((wi*xi for wi, xi in zip(self.w, x)), self.b)\n",
    "        out = act.tanh()\n",
    "        return out\n",
    "    ###----New\n",
    "    def parameters(self):\n",
    "        return self.w + [self.b] # list + list = list\n",
    "    \n",
    "class Layer:\n",
    "    \n",
    "    def __init__(self, nin, nout):\n",
    "        self.neurons = [Neuron(nin) for _ in range(nout)] # each neuron is one output so we use that as their count\n",
    "        #nout then is the number of neurons in a single layer\n",
    "        \n",
    "    def __call__(self, x):\n",
    "        outs = [n(x) for n in self.neurons]\n",
    "        #return outs\n",
    "        return outs[0] if len(outs) == 1 else outs #make it return the value if only one output else list of values\n",
    "    \n",
    "    ### New -------\n",
    "    \n",
    "    def parameters(self):\n",
    "        return [p for neuron in self.neurons for p in neuron.parameters()] # in a single expression \n",
    "    '''\n",
    "        params = [] # accumulate here\n",
    "        for neuron in self.neurons:\n",
    "            ps = neuron.parameters() # get its parameters\n",
    "            params.extend(ps)\n",
    "        return params\n",
    "    '''\n",
    "            \n",
    "    \n",
    "class MLP:\n",
    "    \n",
    "    def __init__(self, nin, nouts): # here nouts will be a list of number of neurons in each layer\n",
    "        sz = [nin] + nouts\n",
    "        self.layers = [Layer(sz[i], sz[i+1]) for i, _ in enumerate(nouts)] # each layer's nin will be nouts of the one before it\n",
    "        \n",
    "    def __call__(self, x):\n",
    "        for layer in self.layers:\n",
    "            x = layer(x)\n",
    "        return x\n",
    "    \n",
    "    ### New-------\n",
    "    def parameters(self):\n",
    "        return [p for layer in self.layers for p in layer.parameters()]"
   ]
  },
  {
   "cell_type": "code",
   "execution_count": 138,
   "id": "bb757196-b846-4b2d-b605-7c3466031038",
   "metadata": {
    "tags": []
   },
   "outputs": [
    {
     "data": {
      "text/plain": [
       "Value(data=2.7933225571335996)"
      ]
     },
     "execution_count": 138,
     "metadata": {},
     "output_type": "execute_result"
    }
   ],
   "source": [
    "# redo\n",
    "\n",
    "x = [2.0, 3.0, -1.0] \n",
    "n = MLP(3, [4, 4, 1])\n",
    "n(x)\n",
    "\n",
    "\n",
    "ypred = [n(x) for x in xs]\n",
    "ypred\n",
    "\n",
    "loss = sum([(yout - ygt)**2 for ygt, yout in zip(ys, ypred)])\n",
    "loss"
   ]
  },
  {
   "cell_type": "code",
   "execution_count": 139,
   "id": "cb34442b-68dc-45e4-9a92-11f006db639e",
   "metadata": {
    "tags": []
   },
   "outputs": [
    {
     "data": {
      "text/plain": [
       "41"
      ]
     },
     "execution_count": 139,
     "metadata": {},
     "output_type": "execute_result"
    }
   ],
   "source": [
    "len(n.parameters())"
   ]
  },
  {
   "cell_type": "code",
   "execution_count": 140,
   "id": "c8ed9cb8-8966-4ef4-9c11-12abb3dbd033",
   "metadata": {
    "tags": []
   },
   "outputs": [],
   "source": [
    "loss.backward()"
   ]
  },
  {
   "cell_type": "markdown",
   "id": "63723e88-b946-441c-93f9-1784a5aeba54",
   "metadata": {},
   "source": [
    "We want to update the weights using the gradient information. Gradient points to the direction of the \"greatest loss\". How??"
   ]
  },
  {
   "cell_type": "code",
   "execution_count": 141,
   "id": "39f013ee-2d49-4002-86b5-08517824c3bf",
   "metadata": {
    "tags": []
   },
   "outputs": [
    {
     "data": {
      "image/png": "[encoded data removed]",
      "text/plain": [
       "<Figure size 640x480 with 1 Axes>"
      ]
     },
     "metadata": {},
     "output_type": "display_data"
    }
   ],
   "source": [
    "def l(x): return 3*x**2 + 2*x + 1\n",
    "\n",
    "txs = np.arange(-5, 5, 0.25)\n",
    "tys = l(txs)\n",
    "plt.plot(txs, tys);"
   ]
  },
  {
   "cell_type": "markdown",
   "id": "ccc4b675-18c5-4076-ad4a-3752b6851e4f",
   "metadata": {
    "tags": []
   },
   "source": [
    "Imagine if the loss function was the function above. The gradient points to the direction of the steepest ascent (greater loss). If we want to minimize the loss, we have to go opposite the gradient. This means we subtract the gradient from the weights "
   ]
  },
  {
   "cell_type": "code",
   "execution_count": 142,
   "id": "a773e6b0-d983-4cda-927f-d0643dd93260",
   "metadata": {
    "tags": []
   },
   "outputs": [],
   "source": [
    "# weightupdate\n",
    "for p in n.parameters():\n",
    "    p.data += -0.01 * p.grad"
   ]
  },
  {
   "cell_type": "code",
   "execution_count": 143,
   "id": "73ac44a9-587c-49fc-9fc1-cca2407010d0",
   "metadata": {
    "tags": []
   },
   "outputs": [
    {
     "data": {
      "text/plain": [
       "Value(data=1.9733512647038942)"
      ]
     },
     "execution_count": 143,
     "metadata": {},
     "output_type": "execute_result"
    }
   ],
   "source": [
    "# now we should see the loss go down\n",
    "#forward pass\n",
    "ypred = [n(x) for x in xs]\n",
    "loss = sum([(yout - ygt)**2 for ygt, yout in zip(ys, ypred)])\n",
    "loss"
   ]
  },
  {
   "cell_type": "code",
   "execution_count": 144,
   "id": "583933c3-eee4-484d-80c8-3c5ea8bf48cd",
   "metadata": {
    "tags": []
   },
   "outputs": [
    {
     "data": {
      "text/plain": [
       "[Value(data=0.29639135799138694),\n",
       " Value(data=-0.6568849333678949),\n",
       " Value(data=-0.09416064237908377),\n",
       " Value(data=0.265144059811951)]"
      ]
     },
     "execution_count": 144,
     "metadata": {},
     "output_type": "execute_result"
    }
   ],
   "source": [
    "ypred"
   ]
  },
  {
   "cell_type": "markdown",
   "id": "1c4d7b9d-4967-43d5-a7ed-8a21acac7807",
   "metadata": {},
   "source": [
    "Now all we have to do is iterate this process"
   ]
  },
  {
   "cell_type": "code",
   "execution_count": 155,
   "id": "deb75acb-1815-4b6c-b66f-b0203e9059dd",
   "metadata": {},
   "outputs": [],
   "source": [
    "# initialize the network \n",
    "x = [2.0, 3.0, -1.0] \n",
    "n = MLP(3, [4, 4, 1])"
   ]
  },
  {
   "cell_type": "code",
   "execution_count": 164,
   "id": "90b023ba-77ee-4795-8ab5-5d9a0f27fed3",
   "metadata": {},
   "outputs": [
    {
     "name": "stdout",
     "output_type": "stream",
     "text": [
      "0 0.016773878093664606\n",
      "1 0.016524016576813447\n",
      "2 0.01628113999988421\n",
      "3 0.016044964529229835\n",
      "4 0.015815221365124678\n",
      "5 0.015591655765129983\n",
      "6 0.015374026142301912\n",
      "7 0.015162103231655486\n",
      "8 0.014955669318952477\n",
      "9 0.014754517526458974\n",
      "10 0.014558451150839365\n",
      "11 0.014367283048813372\n",
      "12 0.014180835066615972\n",
      "13 0.013998937509671346\n",
      "14 0.013821428649222131\n",
      "15 0.013648154262953247\n",
      "16 0.013478967206916995\n",
      "17 0.013313727016306382\n",
      "18 0.013152299532840882\n",
      "19 0.012994556556723724\n"
     ]
    }
   ],
   "source": [
    "for k in range(20):\n",
    "    \n",
    "    #forward pass\n",
    "    ypred = [n(x) for x in xs]\n",
    "    loss = sum([(yout - ygt)**2 for ygt, yout in zip(ys, ypred)])\n",
    "    \n",
    "    \n",
    "    #backward pass: before we do it we need to zero the gradients\n",
    "    # remeber, all our grads accumulate as self.grad += ... if we don't zero them, they stay there between interations\n",
    "    for p in n.parameters():\n",
    "        p.grad = 0.0\n",
    "    loss.backward()\n",
    "    \n",
    "    #weight update\n",
    "    for p in n.parameters():\n",
    "        p.data += -0.05 * p.grad\n",
    "    \n",
    "    print(k, loss.data)"
   ]
  },
  {
   "cell_type": "code",
   "execution_count": 165,
   "id": "31bc0f63-c655-42a6-915d-4e7e76487391",
   "metadata": {
    "tags": []
   },
   "outputs": [
    {
     "data": {
      "text/plain": [
       "[Value(data=0.9501285586777254),\n",
       " Value(data=-0.974067684122224),\n",
       " Value(data=-0.9235874985121302),\n",
       " Value(data=0.9367857570895278)]"
      ]
     },
     "execution_count": 165,
     "metadata": {},
     "output_type": "execute_result"
    }
   ],
   "source": [
    "ypred"
   ]
  },
  {
   "cell_type": "markdown",
   "id": "b8b47da7-ccbb-41f8-a10e-8373bc7a08da",
   "metadata": {},
   "source": [
    "NB: NNs are mathematical expression and MLPs are simple ones."
   ]
  },
  {
   "cell_type": "code",
   "execution_count": null,
   "id": "a2a9b8cd-eb46-4818-8e2e-fe5c0b12ab2c",
   "metadata": {},
   "outputs": [],
   "source": []
  },
  {
   "cell_type": "code",
   "execution_count": null,
   "id": "5a20a61e-7da0-45da-a63c-73271a008baa",
   "metadata": {},
   "outputs": [],
   "source": []
  }
 ],
 "metadata": {
  "kernelspec": {
   "display_name": "Python 3 (ipykernel)",
   "language": "python",
   "name": "python3"
  },
  "language_info": {
   "codemirror_mode": {
    "name": "ipython",
    "version": 3
   },
   "file_extension": ".py",
   "mimetype": "text/x-python",
   "name": "python",
   "nbconvert_exporter": "python",
   "pygments_lexer": "ipython3",
   "version": "3.10.9"
  }
 },
 "nbformat": 4,
 "nbformat_minor": 5
}
