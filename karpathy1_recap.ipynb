{
 "cells": [
  {
   "cell_type": "markdown",
   "id": "df0047ea-fba8-4374-8b6a-52ddd64daee0",
   "metadata": {},
   "source": [
    "Recap: Building micrograd\n",
    "\n",
    "The purpose of this is to see whether I can \"from scratch\" build the micrograd engine that Karpathy presented in his lecture that I followed. "
   ]
  },
  {
   "cell_type": "markdown",
   "id": "03a4f452-1258-4fab-afae-e1b09266079a",
   "metadata": {},
   "source": [
    "Neural networks are mathematical expressions. Mathematical expressions consist of values and operations. We want to be able to build progressively more complex mathematical expressions and do backpropagation on them. To do so, we'll need our values to be \"tied\" together somehow in a computational graph. Each value needs to remeber what operation led to it and the values it came from. Once we have that, we can do backpropagation via successively / recursively multiplying local derivatives back acorss the graph.  "
   ]
  },
  {
   "cell_type": "markdown",
   "id": "3d7d40ef-c0cf-4cb3-8351-fe5b68ff7fce",
   "metadata": {
    "tags": []
   },
   "source": [
    "a Value is a wrapper around basic python objects (ints, floats, etc)"
   ]
  },
  {
   "cell_type": "code",
   "execution_count": 1,
   "id": "3347bb0c-b823-4033-82d9-583c685b0ffb",
   "metadata": {
    "tags": []
   },
   "outputs": [],
   "source": [
    "class Value:\n",
    "    def __init__(self, data):\n",
    "        # a value object stores some data\n",
    "        self.data = data\n",
    "    # and print out the value for us\n",
    "    def __repr__(self):\n",
    "        return f'Value: {self.data}'"
   ]
  },
  {
   "cell_type": "code",
   "execution_count": 2,
   "id": "fdca5027-2422-4e60-ab77-71e0f1758093",
   "metadata": {
    "tags": []
   },
   "outputs": [
    {
     "data": {
      "text/plain": [
       "Value: 4.0"
      ]
     },
     "execution_count": 2,
     "metadata": {},
     "output_type": "execute_result"
    }
   ],
   "source": [
    "a = Value(4.0)\n",
    "a"
   ]
  },
  {
   "cell_type": "markdown",
   "id": "6ced78b6-32e1-4877-9d36-6e26356d1757",
   "metadata": {},
   "source": [
    "We need to be able to do math operations on it:"
   ]
  },
  {
   "cell_type": "code",
   "execution_count": 3,
   "id": "af2b5adb-a672-40b8-ab8d-2c8faf5c0103",
   "metadata": {
    "tags": []
   },
   "outputs": [],
   "source": [
    "class Value:\n",
    "    def __init__(self, data):\n",
    "        self.data = data\n",
    "    def __repr__(self):\n",
    "        return f\"Value: {self.data}\"\n",
    "    \n",
    "    def __add__(self, other):\n",
    "        return Value(self.data + other.data)"
   ]
  },
  {
   "cell_type": "code",
   "execution_count": 4,
   "id": "abd3c172-1c9d-4ff7-8891-77ac410bcefc",
   "metadata": {
    "tags": []
   },
   "outputs": [
    {
     "data": {
      "text/plain": [
       "Value: 9.0"
      ]
     },
     "execution_count": 4,
     "metadata": {},
     "output_type": "execute_result"
    }
   ],
   "source": [
    "a = Value(4.0)\n",
    "b = Value(5.0)\n",
    "a+b"
   ]
  },
  {
   "cell_type": "code",
   "execution_count": 5,
   "id": "e48c4087-ce8d-46bb-95d4-8eb3624bb133",
   "metadata": {
    "tags": []
   },
   "outputs": [
    {
     "ename": "TypeError",
     "evalue": "unsupported operand type(s) for +: 'int' and 'Value'",
     "output_type": "error",
     "traceback": [
      "\u001b[0;31m---------------------------------------------------------------------------\u001b[0m",
      "\u001b[0;31mTypeError\u001b[0m                                 Traceback (most recent call last)",
      "Cell \u001b[0;32mIn[5], line 1\u001b[0m\n\u001b[0;32m----> 1\u001b[0m \u001b[38;5;241;43m4\u001b[39;49m\u001b[43m \u001b[49m\u001b[38;5;241;43m+\u001b[39;49m\u001b[43m \u001b[49m\u001b[43ma\u001b[49m\n",
      "\u001b[0;31mTypeError\u001b[0m: unsupported operand type(s) for +: 'int' and 'Value'"
     ]
    }
   ],
   "source": [
    "4 + a"
   ]
  },
  {
   "cell_type": "code",
   "execution_count": 6,
   "id": "f1e41152-29f3-4430-83b2-c552ff25d103",
   "metadata": {
    "tags": []
   },
   "outputs": [],
   "source": [
    "# Enable this\n",
    "class Value:\n",
    "    def __init__(self, data):\n",
    "        self.data = data\n",
    "    def __repr__(self):\n",
    "        return f\"Value:{self.data}\"\n",
    "    def __add__(self, other):\n",
    "        return Value(self.data + other)\n",
    "    def __radd__(self, other):\n",
    "        return self + other"
   ]
  },
  {
   "cell_type": "code",
   "execution_count": 7,
   "id": "b76bfcc4-7835-47cd-a784-4df8d835f8f7",
   "metadata": {
    "tags": []
   },
   "outputs": [
    {
     "data": {
      "text/plain": [
       "Value:8.0"
      ]
     },
     "execution_count": 7,
     "metadata": {},
     "output_type": "execute_result"
    }
   ],
   "source": [
    "4 + Value(4.0)"
   ]
  },
  {
   "cell_type": "code",
   "execution_count": 8,
   "id": "881e6f09-45ac-42c0-b0a2-4a0beaf425f8",
   "metadata": {
    "tags": []
   },
   "outputs": [],
   "source": [
    "# Let's add multiply \n",
    "class Value:\n",
    "    def __init__(self, data):\n",
    "        self.data = data\n",
    "    def __repr__(self):\n",
    "        return f\"Value:{self.data}\"\n",
    "    def __add__(self, other):\n",
    "        return Value(self.data + other)\n",
    "    def __mul__(self, other):\n",
    "        return Value(self.data * other)\n",
    "    def __radd__(self, other):\n",
    "        return self + other\n",
    "    def __rmul__(self, other):\n",
    "        return self * other"
   ]
  },
  {
   "cell_type": "code",
   "execution_count": 9,
   "id": "c7ab12a7-a8cd-4174-ba1e-ec027e7b84ea",
   "metadata": {
    "tags": []
   },
   "outputs": [
    {
     "data": {
      "text/plain": [
       "Value:6.0"
      ]
     },
     "execution_count": 9,
     "metadata": {},
     "output_type": "execute_result"
    }
   ],
   "source": [
    "a = Value(2.0)\n",
    "3 * a"
   ]
  },
  {
   "cell_type": "code",
   "execution_count": 10,
   "id": "4318f9ea-3548-4576-94c5-1310b5077c88",
   "metadata": {
    "tags": []
   },
   "outputs": [
    {
     "data": {
      "text/plain": [
       "Value:6.0"
      ]
     },
     "execution_count": 10,
     "metadata": {},
     "output_type": "execute_result"
    }
   ],
   "source": [
    "4 + a"
   ]
  },
  {
   "cell_type": "markdown",
   "id": "92b9036f-1dde-4264-8e5f-df594e1bb002",
   "metadata": {},
   "source": [
    "Now we can start building math expressions in computational graphs. We need to first remeber where each node came from and the formative operation."
   ]
  },
  {
   "cell_type": "code",
   "execution_count": 11,
   "id": "c0a186a8-cb5f-4934-80aa-1a6da3cff89f",
   "metadata": {
    "tags": []
   },
   "outputs": [],
   "source": [
    "class Value:\n",
    "    def __init__(self, data, _children=(), _op=''):\n",
    "        self.data = data\n",
    "        self._prev = set(_children)\n",
    "        self._op = _op\n",
    "        \n",
    "    def __repr__(self):\n",
    "        return f\"Value:{self.data}\"\n",
    "    \n",
    "    def __add__(self, other):\n",
    "        return Value(self.data + other.data, (self, other), '+')\n",
    "    \n",
    "    def __mul__(self, other):\n",
    "        return Value(self.data * other.data, (self, other), '*')\n",
    "    \n",
    "    def __radd__(self, other):\n",
    "        return self + other\n",
    "    def __rmul__(self, other):\n",
    "        return self * other"
   ]
  },
  {
   "cell_type": "code",
   "execution_count": 12,
   "id": "b0f8868f-ba28-447f-88df-8801112b3139",
   "metadata": {
    "tags": []
   },
   "outputs": [
    {
     "data": {
      "text/plain": [
       "Value:19.0"
      ]
     },
     "execution_count": 12,
     "metadata": {},
     "output_type": "execute_result"
    }
   ],
   "source": [
    "a = Value(4.0)\n",
    "b = Value(3.0) \n",
    "c = Value(5.0)\n",
    "\n",
    "\n",
    "d = a + b * c \n",
    "d"
   ]
  },
  {
   "cell_type": "code",
   "execution_count": 13,
   "id": "2e2b3491-7baf-4eeb-bbf1-6a783d43124c",
   "metadata": {
    "tags": []
   },
   "outputs": [
    {
     "data": {
      "text/plain": [
       "set()"
      ]
     },
     "execution_count": 13,
     "metadata": {},
     "output_type": "execute_result"
    }
   ],
   "source": [
    "a._prev"
   ]
  },
  {
   "cell_type": "code",
   "execution_count": 14,
   "id": "c5c406f2-5e37-4d69-ab4d-288e61369899",
   "metadata": {
    "tags": []
   },
   "outputs": [
    {
     "data": {
      "text/plain": [
       "{Value:15.0, Value:4.0}"
      ]
     },
     "execution_count": 14,
     "metadata": {},
     "output_type": "execute_result"
    }
   ],
   "source": [
    "d._prev"
   ]
  },
  {
   "cell_type": "code",
   "execution_count": 15,
   "id": "569b7629-225e-4d4d-b373-bd8560fb5042",
   "metadata": {
    "tags": []
   },
   "outputs": [],
   "source": [
    "class Value:\n",
    "    def __init__(self, data, _children=(), _op=''):\n",
    "        self.data = data\n",
    "        self._prev = set(_children)\n",
    "        self._op = _op\n",
    "        \n",
    "    def __repr__(self):\n",
    "        return f\"Value:{self.data}\"\n",
    "    \n",
    "    def __add__(self, other):\n",
    "        out = Value(self.data + other.data, (self, other), '+')\n",
    "        return out\n",
    "    \n",
    "    def __mul__(self, other):\n",
    "        out = Value(self.data * other.data, (self, other), '*')\n",
    "        return out\n",
    "    \n",
    "    def __radd__(self, other):\n",
    "        return self + other\n",
    "    def __rmul__(self, other):\n",
    "        return self * other"
   ]
  },
  {
   "cell_type": "code",
   "execution_count": 16,
   "id": "9f5f08e0-8294-4d95-ba36-fa69b326881d",
   "metadata": {
    "tags": []
   },
   "outputs": [
    {
     "data": {
      "text/plain": [
       "Value:19.0"
      ]
     },
     "execution_count": 16,
     "metadata": {},
     "output_type": "execute_result"
    }
   ],
   "source": [
    "a = Value(4.0)\n",
    "b = Value(3.0) \n",
    "c = Value(5.0)\n",
    "\n",
    "e = b * c\n",
    "d = a + e\n",
    "d"
   ]
  },
  {
   "cell_type": "code",
   "execution_count": 17,
   "id": "d17dc12f-6439-4295-a31f-25863602f49e",
   "metadata": {
    "tags": []
   },
   "outputs": [
    {
     "data": {
      "text/plain": [
       "({Value:15.0, Value:4.0}, '+')"
      ]
     },
     "execution_count": 17,
     "metadata": {},
     "output_type": "execute_result"
    }
   ],
   "source": [
    "d._prev, d._op"
   ]
  },
  {
   "cell_type": "code",
   "execution_count": 18,
   "id": "e6801e0b-35ce-4fff-95c1-04aa963ee531",
   "metadata": {
    "tags": []
   },
   "outputs": [
    {
     "data": {
      "text/plain": [
       "({Value:3.0, Value:5.0}, '*')"
      ]
     },
     "execution_count": 18,
     "metadata": {},
     "output_type": "execute_result"
    }
   ],
   "source": [
    "e._prev, e._op"
   ]
  },
  {
   "cell_type": "markdown",
   "id": "274890ac-98d8-4c0d-a37c-f870cf2100f5",
   "metadata": {},
   "source": [
    "How to do backpropagation? \n",
    "\n",
    "- Locally, each object will be the result of one math operation. \n",
    "- We'll provide each math operation with a `_backward` function corresponding to it. This will be saved in an attribute `backward`.\n",
    "- We'll also need to store the computed derivative in attribute we call `grad`. All grads initialized to 0.\n",
    "\n",
    "So, when we call `_backward` on some node, it needs to compute its derivative w.r.t the nodes that formed it, and multiply that with whatever its own gradient to propagate the result to its predecessors."
   ]
  },
  {
   "cell_type": "markdown",
   "id": "614fd981-8671-4682-881b-2e4fc80e3449",
   "metadata": {},
   "source": [
    "Addition as example:\n",
    "\n",
    "consider $out = b + c $.\n",
    "\n",
    "`out` is a new node that might have gradients w.r.t something after it (or default to 0.0).\n",
    "\n",
    "as for `b` and `c`: \n",
    "\n",
    "We know from rules of calculus:\n",
    "\n",
    "$ \\frac{dout}{db} = 1.0 + 0.0 = 1.0 $\n",
    "\n",
    "$ \\frac{dout}{dc} = 0.0 + 1.0 = 1.0 $\n",
    "\n",
    "We need to propagate the gradient of `out` by multiplying it with these locally computed gradients and the results become the gradients of `self` & `other` (w.r.t some final node). "
   ]
  },
  {
   "cell_type": "code",
   "execution_count": 19,
   "id": "af3528eb-03cb-46fb-b478-4d16f4932d37",
   "metadata": {
    "tags": []
   },
   "outputs": [],
   "source": [
    "class Value:\n",
    "    def __init__(self, data, _children=(), _op='', label=''):\n",
    "        self.data = data\n",
    "        self._prev = set(_children)\n",
    "        self._op = _op\n",
    "        self._backward = lambda : None\n",
    "        self.grad = 0.0\n",
    "        self.label = label\n",
    "    \n",
    "    def __repr__(self):\n",
    "        return f\"Value(data={self.data})\"\n",
    "    \n",
    "    def __add__(self, other):\n",
    "        # its forward pass\n",
    "        out = Value(self.data + other.data, (self, other), '+')\n",
    "        \n",
    "        # its backprop\n",
    "        def _backward():\n",
    "            self.grad += 1.0 * out.grad\n",
    "            other.grad += 1.0 * out.grad\n",
    "        out._backward = _backward\n",
    "        \n",
    "        return out\n",
    "    \n",
    "    def __mul__(self, other):\n",
    "        out = Value(self.data * other.data, (self, other), '*')\n",
    "        \n",
    "        def _backward():\n",
    "            self.grad += other.data * out.grad\n",
    "            other.grad += self.data * out.grad\n",
    "        out._backward = _backward\n",
    "        \n",
    "        return out\n",
    "    \n",
    "    def __radd__(self, other):\n",
    "        return self + other\n",
    "    def __rmul__(self, other):\n",
    "        return self * other    "
   ]
  },
  {
   "cell_type": "code",
   "execution_count": 20,
   "id": "d9e00915-0742-4432-b259-81bb9a9a0238",
   "metadata": {
    "tags": []
   },
   "outputs": [
    {
     "data": {
      "text/plain": [
       "Value(data=19.0)"
      ]
     },
     "execution_count": 20,
     "metadata": {},
     "output_type": "execute_result"
    }
   ],
   "source": [
    "a = Value(4.0)\n",
    "b = Value(3.0) \n",
    "c = Value(5.0)\n",
    "\n",
    "e = b * c\n",
    "d = a + e\n",
    "d"
   ]
  },
  {
   "cell_type": "code",
   "execution_count": 21,
   "id": "6f846a66-6ba6-4afb-b6c1-b6ae294201ac",
   "metadata": {
    "tags": []
   },
   "outputs": [],
   "source": [
    "from graphviz import Digraph\n",
    "\n",
    "def trace(root):\n",
    "  # builds a set of all nodes and edges in a graph\n",
    "  nodes, edges = set(), set()\n",
    "  def build(v):\n",
    "    if v not in nodes:\n",
    "      nodes.add(v)\n",
    "      for child in v._prev:\n",
    "        edges.add((child, v))\n",
    "        build(child)\n",
    "  build(root)\n",
    "  return nodes, edges\n",
    "\n",
    "def draw_dot(root):\n",
    "  dot = Digraph(format='svg', graph_attr={'rankdir': 'LR'}) # LR = left to right\n",
    "  \n",
    "  nodes, edges = trace(root)\n",
    "  for n in nodes:\n",
    "    uid = str(id(n))\n",
    "    # for any value in the graph, create a rectangular ('record') node for it\n",
    "    dot.node(name = uid, label = \"{ %s | data %.4f | grad %.4f }\" % (n.label, n.data, n.grad), shape='record')\n",
    "    if n._op:\n",
    "      # if this value is a result of some operation, create an op node for it\n",
    "      dot.node(name = uid + n._op, label = n._op)\n",
    "      # and connect this node to it\n",
    "      dot.edge(uid + n._op, uid)\n",
    "\n",
    "  for n1, n2 in edges:\n",
    "    # connect n1 to the op node of n2\n",
    "    dot.edge(str(id(n1)), str(id(n2)) + n2._op)\n",
    "\n",
    "  return dot"
   ]
  },
  {
   "cell_type": "code",
   "execution_count": 22,
   "id": "0783a67b-e010-4f5e-9e4d-ccb6c799d317",
   "metadata": {
    "tags": []
   },
   "outputs": [
    {
     "data": {
      "image/svg+xml": [
       "<?xml version=\"1.0\" encoding=\"UTF-8\" standalone=\"no\"?>\n",
       "<!DOCTYPE svg PUBLIC \"-//W3C//DTD SVG 1.1//EN\"\n",
       " \"http://www.w3.org/Graphics/SVG/1.1/DTD/svg11.dtd\">\n",
       "<!-- Generated by graphviz version 7.1.0 (0)\n",
       " -->\n",
       "<!-- Pages: 1 -->\n",
       "<svg width=\"820pt\" height=\"127pt\"\n",
       " viewBox=\"0.00 0.00 820.00 127.00\" xmlns=\"http://www.w3.org/2000/svg\" xmlns:xlink=\"http://www.w3.org/1999/xlink\">\n",
       "<g id=\"graph0\" class=\"graph\" transform=\"scale(1 1) rotate(0) translate(4 123)\">\n",
       "<polygon fill=\"white\" stroke=\"none\" points=\"-4,4 -4,-123 816,-123 816,4 -4,4\"/>\n",
       "<!-- 4602037776 -->\n",
       "<g id=\"node1\" class=\"node\">\n",
       "<title>4602037776</title>\n",
       "<polygon fill=\"none\" stroke=\"black\" points=\"623,-54.5 623,-90.5 812,-90.5 812,-54.5 623,-54.5\"/>\n",
       "<text text-anchor=\"middle\" x=\"633\" y=\"-68.8\" font-family=\"Times,serif\" font-size=\"14.00\"> </text>\n",
       "<polyline fill=\"none\" stroke=\"black\" points=\"643,-54.5 643,-90.5\"/>\n",
       "<text text-anchor=\"middle\" x=\"686.5\" y=\"-68.8\" font-family=\"Times,serif\" font-size=\"14.00\">data 19.0000</text>\n",
       "<polyline fill=\"none\" stroke=\"black\" points=\"730,-54.5 730,-90.5\"/>\n",
       "<text text-anchor=\"middle\" x=\"771\" y=\"-68.8\" font-family=\"Times,serif\" font-size=\"14.00\">grad 0.0000</text>\n",
       "</g>\n",
       "<!-- 4602037776+ -->\n",
       "<g id=\"node2\" class=\"node\">\n",
       "<title>4602037776+</title>\n",
       "<ellipse fill=\"none\" stroke=\"black\" cx=\"560\" cy=\"-72.5\" rx=\"27\" ry=\"18\"/>\n",
       "<text text-anchor=\"middle\" x=\"560\" y=\"-68.8\" font-family=\"Times,serif\" font-size=\"14.00\">+</text>\n",
       "</g>\n",
       "<!-- 4602037776+&#45;&gt;4602037776 -->\n",
       "<g id=\"edge1\" class=\"edge\">\n",
       "<title>4602037776+&#45;&gt;4602037776</title>\n",
       "<path fill=\"none\" stroke=\"black\" d=\"M587.38,-72.5C594.63,-72.5 602.96,-72.5 611.82,-72.5\"/>\n",
       "<polygon fill=\"black\" stroke=\"black\" points=\"611.77,-76 621.77,-72.5 611.77,-69 611.77,-76\"/>\n",
       "</g>\n",
       "<!-- 4602037392 -->\n",
       "<g id=\"node3\" class=\"node\">\n",
       "<title>4602037392</title>\n",
       "<polygon fill=\"none\" stroke=\"black\" points=\"311.5,-82.5 311.5,-118.5 493.5,-118.5 493.5,-82.5 311.5,-82.5\"/>\n",
       "<text text-anchor=\"middle\" x=\"321.5\" y=\"-96.8\" font-family=\"Times,serif\" font-size=\"14.00\"> </text>\n",
       "<polyline fill=\"none\" stroke=\"black\" points=\"331.5,-82.5 331.5,-118.5\"/>\n",
       "<text text-anchor=\"middle\" x=\"371.5\" y=\"-96.8\" font-family=\"Times,serif\" font-size=\"14.00\">data 4.0000</text>\n",
       "<polyline fill=\"none\" stroke=\"black\" points=\"411.5,-82.5 411.5,-118.5\"/>\n",
       "<text text-anchor=\"middle\" x=\"452.5\" y=\"-96.8\" font-family=\"Times,serif\" font-size=\"14.00\">grad 0.0000</text>\n",
       "</g>\n",
       "<!-- 4602037392&#45;&gt;4602037776+ -->\n",
       "<g id=\"edge3\" class=\"edge\">\n",
       "<title>4602037392&#45;&gt;4602037776+</title>\n",
       "<path fill=\"none\" stroke=\"black\" d=\"M493.05,-84.37C503.38,-82.51 513.42,-80.71 522.43,-79.08\"/>\n",
       "<polygon fill=\"black\" stroke=\"black\" points=\"522.9,-82.56 532.12,-77.34 521.66,-75.67 522.9,-82.56\"/>\n",
       "</g>\n",
       "<!-- 4602038112 -->\n",
       "<g id=\"node4\" class=\"node\">\n",
       "<title>4602038112</title>\n",
       "<polygon fill=\"none\" stroke=\"black\" points=\"308,-27.5 308,-63.5 497,-63.5 497,-27.5 308,-27.5\"/>\n",
       "<text text-anchor=\"middle\" x=\"318\" y=\"-41.8\" font-family=\"Times,serif\" font-size=\"14.00\"> </text>\n",
       "<polyline fill=\"none\" stroke=\"black\" points=\"328,-27.5 328,-63.5\"/>\n",
       "<text text-anchor=\"middle\" x=\"371.5\" y=\"-41.8\" font-family=\"Times,serif\" font-size=\"14.00\">data 15.0000</text>\n",
       "<polyline fill=\"none\" stroke=\"black\" points=\"415,-27.5 415,-63.5\"/>\n",
       "<text text-anchor=\"middle\" x=\"456\" y=\"-41.8\" font-family=\"Times,serif\" font-size=\"14.00\">grad 0.0000</text>\n",
       "</g>\n",
       "<!-- 4602038112&#45;&gt;4602037776+ -->\n",
       "<g id=\"edge6\" class=\"edge\">\n",
       "<title>4602038112&#45;&gt;4602037776+</title>\n",
       "<path fill=\"none\" stroke=\"black\" d=\"M496.65,-61.67C505.58,-63.22 514.23,-64.73 522.11,-66.09\"/>\n",
       "<polygon fill=\"black\" stroke=\"black\" points=\"521.45,-69.53 531.9,-67.79 522.64,-62.63 521.45,-69.53\"/>\n",
       "</g>\n",
       "<!-- 4602038112* -->\n",
       "<g id=\"node5\" class=\"node\">\n",
       "<title>4602038112*</title>\n",
       "<ellipse fill=\"none\" stroke=\"black\" cx=\"245\" cy=\"-45.5\" rx=\"27\" ry=\"18\"/>\n",
       "<text text-anchor=\"middle\" x=\"245\" y=\"-41.8\" font-family=\"Times,serif\" font-size=\"14.00\">*</text>\n",
       "</g>\n",
       "<!-- 4602038112*&#45;&gt;4602038112 -->\n",
       "<g id=\"edge2\" class=\"edge\">\n",
       "<title>4602038112*&#45;&gt;4602038112</title>\n",
       "<path fill=\"none\" stroke=\"black\" d=\"M272.38,-45.5C279.63,-45.5 287.96,-45.5 296.82,-45.5\"/>\n",
       "<polygon fill=\"black\" stroke=\"black\" points=\"296.77,-49 306.77,-45.5 296.77,-42 296.77,-49\"/>\n",
       "</g>\n",
       "<!-- 4602039168 -->\n",
       "<g id=\"node6\" class=\"node\">\n",
       "<title>4602039168</title>\n",
       "<polygon fill=\"none\" stroke=\"black\" points=\"0,-55.5 0,-91.5 182,-91.5 182,-55.5 0,-55.5\"/>\n",
       "<text text-anchor=\"middle\" x=\"10\" y=\"-69.8\" font-family=\"Times,serif\" font-size=\"14.00\"> </text>\n",
       "<polyline fill=\"none\" stroke=\"black\" points=\"20,-55.5 20,-91.5\"/>\n",
       "<text text-anchor=\"middle\" x=\"60\" y=\"-69.8\" font-family=\"Times,serif\" font-size=\"14.00\">data 5.0000</text>\n",
       "<polyline fill=\"none\" stroke=\"black\" points=\"100,-55.5 100,-91.5\"/>\n",
       "<text text-anchor=\"middle\" x=\"141\" y=\"-69.8\" font-family=\"Times,serif\" font-size=\"14.00\">grad 0.0000</text>\n",
       "</g>\n",
       "<!-- 4602039168&#45;&gt;4602038112* -->\n",
       "<g id=\"edge4\" class=\"edge\">\n",
       "<title>4602039168&#45;&gt;4602038112*</title>\n",
       "<path fill=\"none\" stroke=\"black\" d=\"M181.74,-56.97C190.81,-55.3 199.6,-53.68 207.59,-52.21\"/>\n",
       "<polygon fill=\"black\" stroke=\"black\" points=\"207.97,-55.7 217.17,-50.44 206.7,-48.81 207.97,-55.7\"/>\n",
       "</g>\n",
       "<!-- 4602038688 -->\n",
       "<g id=\"node7\" class=\"node\">\n",
       "<title>4602038688</title>\n",
       "<polygon fill=\"none\" stroke=\"black\" points=\"0,-0.5 0,-36.5 182,-36.5 182,-0.5 0,-0.5\"/>\n",
       "<text text-anchor=\"middle\" x=\"10\" y=\"-14.8\" font-family=\"Times,serif\" font-size=\"14.00\"> </text>\n",
       "<polyline fill=\"none\" stroke=\"black\" points=\"20,-0.5 20,-36.5\"/>\n",
       "<text text-anchor=\"middle\" x=\"60\" y=\"-14.8\" font-family=\"Times,serif\" font-size=\"14.00\">data 3.0000</text>\n",
       "<polyline fill=\"none\" stroke=\"black\" points=\"100,-0.5 100,-36.5\"/>\n",
       "<text text-anchor=\"middle\" x=\"141\" y=\"-14.8\" font-family=\"Times,serif\" font-size=\"14.00\">grad 0.0000</text>\n",
       "</g>\n",
       "<!-- 4602038688&#45;&gt;4602038112* -->\n",
       "<g id=\"edge5\" class=\"edge\">\n",
       "<title>4602038688&#45;&gt;4602038112*</title>\n",
       "<path fill=\"none\" stroke=\"black\" d=\"M181.74,-34.44C190.62,-36.02 199.23,-37.55 207.09,-38.94\"/>\n",
       "<polygon fill=\"black\" stroke=\"black\" points=\"206.41,-42.38 216.86,-40.68 207.63,-35.48 206.41,-42.38\"/>\n",
       "</g>\n",
       "</g>\n",
       "</svg>\n"
      ],
      "text/plain": [
       "<graphviz.graphs.Digraph at 0x1124c6f20>"
      ]
     },
     "execution_count": 22,
     "metadata": {},
     "output_type": "execute_result"
    }
   ],
   "source": [
    "draw_dot(d)"
   ]
  },
  {
   "cell_type": "code",
   "execution_count": 23,
   "id": "87ea1213-c4d3-4283-a6d9-80f436f13b1c",
   "metadata": {
    "tags": []
   },
   "outputs": [],
   "source": [
    "d.grad = 1.0\n",
    "d._backward()\n",
    "e._backward()\n",
    "a._backward()"
   ]
  },
  {
   "cell_type": "code",
   "execution_count": 24,
   "id": "fcc04ceb-2ee1-4430-88bf-25f72d4c8349",
   "metadata": {
    "tags": []
   },
   "outputs": [],
   "source": [
    "# adjust the code to make sure math operations work with non-Value objects\n",
    "class Value:\n",
    "    def __init__(self, data, _children=(), _op='', label=''):\n",
    "        self.data = data\n",
    "        self._prev = set(_children)\n",
    "        self._op = _op\n",
    "        self._backward = lambda : None\n",
    "        self.grad = 0.0\n",
    "        self.label = label\n",
    "    \n",
    "    def __repr__(self):\n",
    "        return f\"Value(data={self.data})\"\n",
    "    \n",
    "    def __add__(self, other):\n",
    "        other = other if isinstance(other, Value) else Value(other)\n",
    "        # its forward pass\n",
    "        out = Value(self.data + other.data, (self, other), '+')\n",
    "        \n",
    "        # its backprop\n",
    "        def _backward():\n",
    "            self.grad += 1.0 * out.grad\n",
    "            other.grad += 1.0 * out.grad\n",
    "        out._backward = _backward\n",
    "        \n",
    "        return out\n",
    "    \n",
    "    def __mul__(self, other):\n",
    "        other = other if isinstance(other, Value) else Value(other)\n",
    "        out = Value(self.data * other.data, (self, other), '*')\n",
    "        \n",
    "        def _backward():\n",
    "            self.grad += other.data * out.grad\n",
    "            other.grad += self.data * out.grad\n",
    "        out._backward = _backward\n",
    "        \n",
    "        return out\n",
    "    \n",
    "    def __radd__(self, other):\n",
    "        return self + other\n",
    "    def __rmul__(self, other):\n",
    "        return self * other    "
   ]
  },
  {
   "cell_type": "code",
   "execution_count": 25,
   "id": "7b312b96-982f-4f51-8281-d0226093e451",
   "metadata": {
    "tags": []
   },
   "outputs": [
    {
     "data": {
      "text/plain": [
       "Value(data=9.0)"
      ]
     },
     "execution_count": 25,
     "metadata": {},
     "output_type": "execute_result"
    }
   ],
   "source": [
    "4.0 + Value(5.0)"
   ]
  },
  {
   "cell_type": "markdown",
   "id": "e74bfeba-4617-4467-ae99-4d565fb06014",
   "metadata": {},
   "source": [
    "Next steps: \n",
    "1. We need to extend the mathematical functionalities our value objects are capable of: eg subtract, divide, exponentiate (power), tanh - obviously providing them with backprop functions as well.\n",
    "2. We need to be able to take one node and call backpropagation on it such that it backpropagates to its origin (to the beginning of its math expression). Since each node points to its predecessors, we achieve this by accumulating a list of all nodes using a topological sorting algorithm (such that we have nodes ordered as they will be on the graph from left to right) then we call `._backward` in a loop on each one. "
   ]
  },
  {
   "cell_type": "code",
   "execution_count": 26,
   "id": "484dc4e1-b2b2-4b3b-8ca0-d69d47631e2b",
   "metadata": {
    "tags": []
   },
   "outputs": [],
   "source": [
    "import math\n",
    "import random\n",
    "import numpy as np\n",
    "import matplotlib.pyplot as plt"
   ]
  },
  {
   "cell_type": "code",
   "execution_count": 477,
   "id": "9df1030e-072e-445d-86aa-60a4e883a251",
   "metadata": {
    "tags": []
   },
   "outputs": [],
   "source": [
    "# add the math functions\n",
    "class Value:\n",
    "    def __init__(self, data, _children=(), _op='', label=''):\n",
    "        self.data = data\n",
    "        self._prev = set(_children)\n",
    "        self._op = _op\n",
    "        self.label = label\n",
    "        \n",
    "        #grdient stuff\n",
    "        self._backward = lambda: None\n",
    "        self.grad = 0.0\n",
    "    \n",
    "    def __repr__(self):\n",
    "        return f\"Value(data={self.data})\"\n",
    "    \n",
    "    #math operations\n",
    "    def __add__(self, other):\n",
    "        other = other if isinstance(other, Value) else Value(other) # make sure we add similar objects\n",
    "        out = Value(self.data + other.data, (self, other), '+') # forward pass\n",
    "        '''\n",
    "        def _backward(): #backward pass\n",
    "            self.grad += 1.0 * out.grad # dout / dself * out.grad\n",
    "            other.data += 1.0 * out.grad ---> STUPID BUG\n",
    "        out._backward = _backward # save the function in the object to be called when needed\n",
    "        '''\n",
    "        def _backward():\n",
    "            self.grad += 1.0 * out.grad\n",
    "            other.grad += 1.0 * out.grad\n",
    "        out._backward = _backward\n",
    "        \n",
    "        return out\n",
    "        \n",
    "    \n",
    "\n",
    "    def __mul__(self, other):\n",
    "        other = other if isinstance(other, Value) else Value(other)\n",
    "        out = Value(self.data * other.data, (self, other), '*') #forward pass\n",
    "        \n",
    "        def _backward():\n",
    "            self.grad += other.data * out.grad # dout/dself * out.grad\n",
    "            other.grad += self.data * out.grad\n",
    "        out._backward = _backward\n",
    "        \n",
    "        return out\n",
    "\n",
    "    def __neg__(self): # we'll define negation to use in subtraction\n",
    "        return self * -1\n",
    "    def __sub__(self, other): # we define subtraction as addition + (-num)\n",
    "        return self + (-other)\n",
    "    \n",
    "\n",
    "\n",
    "    def __pow__(self, other):\n",
    "        assert isinstance(other, (int, float)) #support only int and float powers for now\n",
    "        out = Value(self.data**other, (self, ), f'**{other}')\n",
    "        \n",
    "        def _backward(): # use the power rule from calculus d(X^n) = n * X^(n-1)\n",
    "            self.grad += other * (self.data ** (other - 1)) * out.grad # as always we propagate the loca out grad\n",
    "        out._backward = _backward\n",
    "        \n",
    "        return out\n",
    "\n",
    "\n",
    "    def __truediv__(self, other): # we implement division as multiplication by denominator^-1\n",
    "        return self * other**-1\n",
    "\n",
    "\n",
    "\n",
    "    def tanh(self):\n",
    "        x = self.data\n",
    "        t = (math.exp(2*x) - 1)/(math.exp(2*x) + 1)\n",
    "        out = Value(t, (self, ), 'tanh')\n",
    "\n",
    "        def _backward():\n",
    "            self.grad += (1 - t**2) * out.grad\n",
    "        out._backward = _backward\n",
    "\n",
    "        return out\n",
    "\n",
    "\n",
    "    def exp(self):\n",
    "        x = self.data\n",
    "        out = Value(math.exp(x), (self, ), 'exp')\n",
    "\n",
    "        def _backward():\n",
    "            self.grad += out.data * out.grad\n",
    "        out._backward = _backward\n",
    "            \n",
    "        return out\n",
    "\n",
    "    # the reverse operations \n",
    "    def __radd__(self, other):\n",
    "        return self + other\n",
    "    def __rmul__(self, other):\n",
    "        return self * other\n",
    "    \n",
    "    # then we implement backward by using topological sort\n",
    "    def backward(self):\n",
    "        topo = []\n",
    "        visited = set()\n",
    "        \n",
    "        def build_topo(v):\n",
    "            if v not in visited:\n",
    "                visited.add(v)\n",
    "                for child in v._prev:\n",
    "                    build_topo(child)\n",
    "                topo.append(v)\n",
    "        \n",
    "        build_topo(self)\n",
    "        self.grad = 1.0\n",
    "        for node in reversed(topo):\n",
    "            node._backward()"
   ]
  },
  {
   "cell_type": "code",
   "execution_count": 478,
   "id": "34a26bcb-f1cf-461d-bf6b-352475eff307",
   "metadata": {
    "tags": []
   },
   "outputs": [],
   "source": [
    "# inputs x1,x2\n",
    "x1 = Value(2.0, label='x1')\n",
    "x2 = Value(0.0, label='x2')\n",
    "# weights w1,w2\n",
    "w1 = Value(-3.0, label='w1')\n",
    "w2 = Value(1.0, label='w2')\n",
    "# bias of the neuron\n",
    "b = Value(6.8813735870195432, label='b')\n",
    "# x1*w1 + x2*w2 + b\n",
    "x1w1 = x1*w1; x1w1.label = 'x1*w1'\n",
    "x2w2 = x2*w2; x2w2.label = 'x2*w2'\n",
    "x1w1x2w2 = x1w1 + x2w2; x1w1x2w2.label = 'x1*w1 + x2*w2'\n",
    "n = x1w1x2w2 + b; n.label = 'n'\n",
    "# ----\n",
    "e = (2*n).exp()\n",
    "o = (e - 1) / (e + 1)\n",
    "# ----\n",
    "o.label = 'o'"
   ]
  },
  {
   "cell_type": "code",
   "execution_count": 479,
   "id": "dd5b781a-b8ee-4f4d-ae16-8f2c6353c242",
   "metadata": {
    "tags": []
   },
   "outputs": [],
   "source": [
    "o.backward()"
   ]
  },
  {
   "cell_type": "code",
   "execution_count": 480,
   "id": "79bcd914-5de2-4227-a653-062a72582113",
   "metadata": {
    "tags": []
   },
   "outputs": [],
   "source": [
    "#draw_dot(o)"
   ]
  },
  {
   "cell_type": "markdown",
   "id": "cc1f7eac-eb3f-4acb-9031-9f9de749501a",
   "metadata": {},
   "source": [
    "We now have the autograd engine. An wrapper around Python's own scalar math objects which is able to record a graph (acyclic) of all the operations performed on a value and be able to later to backpropagation on this computational graph."
   ]
  },
  {
   "cell_type": "markdown",
   "id": "446f6637-1f96-4951-bc00-2452a66f3f30",
   "metadata": {},
   "source": [
    "Now we have this, can we make neurons and neural networks? \n",
    "We'll divide this into:\n",
    "- Make a Neuron\n",
    "- Make a Layer (of Neurons)\n",
    "- Make a Network (MLP: Multi-Layer Perceptron in this example)"
   ]
  },
  {
   "cell_type": "markdown",
   "id": "70c0b46f-f6ff-4cea-9d6c-ae65d49ebd7f",
   "metadata": {},
   "source": [
    "What's a Neuron?\n",
    "\n",
    "A neuron has weights (synapses), bias and incoming data (not part of it). It does dot product of weights and data, pass them through non-linearity to produce output."
   ]
  },
  {
   "cell_type": "code",
   "execution_count": 481,
   "id": "aca7444a-363a-426a-ab94-b704c484431f",
   "metadata": {},
   "outputs": [],
   "source": [
    "class Neuron:\n",
    "    def __init__(self, nin): #nin: number of inputs\n",
    "        self.w = [Value(random.uniform(-1,1)) for _ in range(nin)] #initialize random w = num incoming\n",
    "        self.b = Value(random.uniform(-1,1))\n",
    "        \n",
    "    def __call__(self, x): # we need to be able to call the neuron on incoming data and it does dot product and non-lin\n",
    "        act = sum((xi*wi for xi, wi in zip(x, self.w)), self.b)\n",
    "        out = act.tanh()\n",
    "        return out\n",
    "    \n",
    "    # and give it the ability to accumulate its parameters so we can call backward() on them\n",
    "    def parameters(self):\n",
    "        return self.w + [self.b]"
   ]
  },
  {
   "cell_type": "code",
   "execution_count": 482,
   "id": "7557a73d-23b8-44a6-aa31-ae1eb4d47b07",
   "metadata": {
    "tags": []
   },
   "outputs": [
    {
     "data": {
      "text/plain": [
       "Value(data=0.9893073616790083)"
      ]
     },
     "execution_count": 482,
     "metadata": {},
     "output_type": "execute_result"
    }
   ],
   "source": [
    "x = [2.0, 3.0]\n",
    "n = Neuron(2)\n",
    "n(x)"
   ]
  },
  {
   "cell_type": "code",
   "execution_count": 483,
   "id": "6093dca7-9c2e-494b-8942-f469eef36d32",
   "metadata": {
    "tags": []
   },
   "outputs": [
    {
     "data": {
      "text/plain": [
       "[Value(data=0.2157556374298477),\n",
       " Value(data=0.9983618799694451),\n",
       " Value(data=-0.8136037645801355)]"
      ]
     },
     "execution_count": 483,
     "metadata": {},
     "output_type": "execute_result"
    }
   ],
   "source": [
    "n.parameters()"
   ]
  },
  {
   "cell_type": "markdown",
   "id": "acf1dfa9-a4fb-4c0a-9ccb-54cdf03350fe",
   "metadata": {
    "tags": []
   },
   "source": [
    "What is a Layer?\n",
    "\n",
    "- A Layer is a bunch of neurons - not connected to one another - but may receive the same input.\n",
    "- Each neuron in the layer has number of inputs (nin) (decide the number of its synapses / weights).\n",
    "- Each neuron itself repreents an output of the layer so the number of neurons in the layer is nout"
   ]
  },
  {
   "cell_type": "code",
   "execution_count": 484,
   "id": "cd36d491-0f85-435f-a1f8-659d7e4e9ca3",
   "metadata": {
    "tags": []
   },
   "outputs": [],
   "source": [
    "class Layer:\n",
    "    def __init__(self, nin, nout):\n",
    "        self.neurons = [Neuron(nin) for _ in range(nout)]\n",
    "    \n",
    "    def __call__(self, x):\n",
    "        outs = [n(x) for n in self.neurons]\n",
    "        return outs[0] if len(outs)==1 else outs\n",
    "    \n",
    "    # parameters will be a list of weights and biases for each neuron\n",
    "    def parameters(self):\n",
    "        return [p for neuron in self.neurons for p in neuron.parameters()]"
   ]
  },
  {
   "cell_type": "code",
   "execution_count": 485,
   "id": "0276eb54-6406-4aac-a3d1-46c8de9b9f4b",
   "metadata": {
    "tags": []
   },
   "outputs": [
    {
     "data": {
      "text/plain": [
       "[Value(data=0.992105490858516),\n",
       " Value(data=-0.6451328743937788),\n",
       " Value(data=0.9783653343037416)]"
      ]
     },
     "execution_count": 485,
     "metadata": {},
     "output_type": "execute_result"
    }
   ],
   "source": [
    "x = [2.0, 3.0]\n",
    "n = Layer(2, 3)\n",
    "n(x)"
   ]
  },
  {
   "cell_type": "code",
   "execution_count": 486,
   "id": "1a7bf8a8-5793-4e95-acd0-1498f63e4e59",
   "metadata": {
    "tags": []
   },
   "outputs": [
    {
     "data": {
      "text/plain": [
       "[Value(data=0.7303001274402317),\n",
       " Value(data=0.33907302340156753),\n",
       " Value(data=0.2875706356975678),\n",
       " Value(data=-0.5335542706067831),\n",
       " Value(data=0.24217783289780237),\n",
       " Value(data=-0.42634146213079616),\n",
       " Value(data=0.8819639248654263),\n",
       " Value(data=0.14895287290391646),\n",
       " Value(data=0.047078167755747025)]"
      ]
     },
     "execution_count": 486,
     "metadata": {},
     "output_type": "execute_result"
    }
   ],
   "source": [
    "n.parameters()"
   ]
  },
  {
   "cell_type": "markdown",
   "id": "e78dc38e-0c62-4a6a-9adf-e8173eb7b25c",
   "metadata": {},
   "source": [
    "And finally, a MLP is a bunch of layers where one layer's output is the next layer's input (a bunch of layers connected to one another sequentially).\n",
    "\n",
    "We'll use it as:\n",
    "\n",
    "Layer(3, [4,4,1]): means a 3 layer MLP with 4 neurons in L1, 4 in L2 and 1 in L3.\n",
    "\n",
    "- L1 : 3 synapses/n, 4 neurons\n",
    "- L2 : 4 synapses/n, 4 neurons\n",
    "- L3 : 4 synapses/n, 1 neuron"
   ]
  },
  {
   "cell_type": "code",
   "execution_count": 487,
   "id": "81f8b2a9-9b08-43f8-a40c-ae81522a8412",
   "metadata": {
    "tags": []
   },
   "outputs": [],
   "source": [
    "class MLP:\n",
    "    def __init__(self, nin, nouts): #nouts is the number of neurons in each layer (the list)\n",
    "        # each layer will need nin, nout (synapses and neurons) \n",
    "        sz = [nin] + nouts\n",
    "        self.layers = [Layer(sz[i], sz[i+1]) for i, _ in enumerate(nouts)]\n",
    "        \n",
    "    def __call__(self, x):\n",
    "        for layer in self.layers:\n",
    "            x = layer(x)\n",
    "        return x\n",
    "    \n",
    "    # same as before:\n",
    "    def parameters(self):\n",
    "        return [p for layer in self.layers for p in layer.parameters()]"
   ]
  },
  {
   "cell_type": "code",
   "execution_count": 488,
   "id": "e01dbc08-db5a-456a-aebe-234d610bcd7c",
   "metadata": {
    "tags": []
   },
   "outputs": [
    {
     "data": {
      "text/plain": [
       "Value(data=-0.20621376512410294)"
      ]
     },
     "execution_count": 488,
     "metadata": {},
     "output_type": "execute_result"
    }
   ],
   "source": [
    "x = [2.0, 3.0, -1.0] \n",
    "n = MLP(3, [4, 4, 1])\n",
    "n(x)"
   ]
  },
  {
   "cell_type": "code",
   "execution_count": 489,
   "id": "e7092e9f-996b-4e62-b4f8-46ac432b9234",
   "metadata": {
    "tags": []
   },
   "outputs": [],
   "source": [
    "#n.parameters()"
   ]
  },
  {
   "cell_type": "code",
   "execution_count": 490,
   "id": "d0a6c520-9c00-4d97-b1f9-b7ef58b11d07",
   "metadata": {
    "tags": []
   },
   "outputs": [],
   "source": [
    "# initialize the network \n",
    "x = [2.0, 3.0, -1.0] \n",
    "n = MLP(3, [4, 4, 1])"
   ]
  },
  {
   "cell_type": "code",
   "execution_count": 491,
   "id": "1c9fb731-7565-4eab-b50f-6fa364ef1ecc",
   "metadata": {
    "tags": []
   },
   "outputs": [],
   "source": [
    "xs = [\n",
    "  [2.0, 3.0, -1.0],\n",
    "  [3.0, -1.0, 0.5],\n",
    "  [0.5, 1.0, 1.0],\n",
    "  [1.0, 1.0, -1.0],\n",
    "]\n",
    "ys = [1.0, -1.0, -1.0, 1.0] # desired targets"
   ]
  },
  {
   "cell_type": "code",
   "execution_count": 492,
   "id": "30721c36-db50-488a-b53e-ea116653ee20",
   "metadata": {
    "tags": []
   },
   "outputs": [
    {
     "name": "stdout",
     "output_type": "stream",
     "text": [
      "0 4.890852776349074\n",
      "1 3.20542606608805\n",
      "2 2.5201716114880788\n",
      "3 1.9716053570552925\n",
      "4 1.4597275619982164\n",
      "5 1.0098664197614426\n",
      "6 0.6807056062005958\n",
      "7 0.47274594346408516\n",
      "8 0.34570210808711804\n",
      "9 0.26541234098381483\n",
      "10 0.21198868039447394\n",
      "11 0.174653203870596\n",
      "12 0.14744470950397442\n",
      "13 0.12691537122760604\n",
      "14 0.11097417371628904\n",
      "15 0.09829623589267114\n",
      "16 0.08800902338492991\n",
      "17 0.07951823056018695\n",
      "18 0.07240703924454442\n",
      "19 0.06637555988657066\n"
     ]
    }
   ],
   "source": [
    "for k in range(20):\n",
    "    \n",
    "    #forward pass\n",
    "    ypred = [n(x) for x in xs]\n",
    "    loss = sum([(yout - ygt)**2 for ygt, yout in zip(ys, ypred)])    \n",
    "    \n",
    "    #backward pass: before we do it we need to zero the gradients\n",
    "    # remeber, all our grads accumulate as self.grad += ... if we don't zero them, they stay there between interations\n",
    "    for p in n.parameters():\n",
    "        p.grad = 0.0\n",
    "    loss.backward()\n",
    "    \n",
    "    #weight update\n",
    "    for p in n.parameters():\n",
    "        p.data += -0.05 * p.grad\n",
    "    \n",
    "    print(k, loss.data)"
   ]
  },
  {
   "cell_type": "code",
   "execution_count": null,
   "id": "998ebb4b-423b-4e18-aa7b-66b63dac2fc7",
   "metadata": {},
   "outputs": [],
   "source": []
  },
  {
   "cell_type": "code",
   "execution_count": null,
   "id": "2e273117-ddb6-411f-9df6-ea2968623c99",
   "metadata": {},
   "outputs": [],
   "source": []
  },
  {
   "cell_type": "code",
   "execution_count": null,
   "id": "4c001f9e-d806-44b5-b4cd-6825ed8dca98",
   "metadata": {},
   "outputs": [],
   "source": []
  },
  {
   "cell_type": "code",
   "execution_count": null,
   "id": "aa7ad37c-0da6-4525-874f-1a6f1f36640b",
   "metadata": {},
   "outputs": [],
   "source": []
  },
  {
   "cell_type": "code",
   "execution_count": null,
   "id": "d3fca557-43ee-4540-8b6e-59e248d7704d",
   "metadata": {},
   "outputs": [],
   "source": []
  },
  {
   "cell_type": "code",
   "execution_count": null,
   "id": "1c070f2c-e763-4dc5-8eb6-1967a95e73a4",
   "metadata": {},
   "outputs": [],
   "source": []
  },
  {
   "cell_type": "code",
   "execution_count": null,
   "id": "fad9c9b0-5f27-4b4d-9478-dd36e761772f",
   "metadata": {},
   "outputs": [],
   "source": []
  },
  {
   "cell_type": "code",
   "execution_count": null,
   "id": "c8aaf125-63e5-4e4a-b685-cdd4c0512269",
   "metadata": {},
   "outputs": [],
   "source": []
  }
 ],
 "metadata": {
  "kernelspec": {
   "display_name": "Python 3 (ipykernel)",
   "language": "python",
   "name": "python3"
  },
  "language_info": {
   "codemirror_mode": {
    "name": "ipython",
    "version": 3
   },
   "file_extension": ".py",
   "mimetype": "text/x-python",
   "name": "python",
   "nbconvert_exporter": "python",
   "pygments_lexer": "ipython3",
   "version": "3.10.9"
  }
 },
 "nbformat": 4,
 "nbformat_minor": 5
}
