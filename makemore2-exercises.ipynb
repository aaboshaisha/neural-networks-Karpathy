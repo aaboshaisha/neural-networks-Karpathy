{
 "cells": [
  {
   "cell_type": "markdown",
   "id": "c28202c3-daf3-4e84-bcf5-b95d0423c299",
   "metadata": {},
   "source": [
    "### Exercises: Building makemore Part 2: MLP"
   ]
  },
  {
   "cell_type": "markdown",
   "id": "5e3bc8bf-d8f8-44cf-8a2f-4b7e7b0fd830",
   "metadata": {},
   "source": [
    "- E01: Tune the hyperparameters of the training to beat my best validation loss of 2.2\n",
    "- E02: I was not careful with the intialization of the network in this video. (1) What is the loss you'd get if the predicted probabilities at initialization were perfectly uniform? What loss do we achieve? (2) Can you tune the initialization to get a starting loss that is much more similar to (1)?\n",
    "- E03: Read the Bengio et al 2003 paper (link above), implement and try any idea from the paper. Did it work?"
   ]
  },
  {
   "cell_type": "code",
   "execution_count": 288,
   "id": "714f3516-20d8-4313-932f-ad365e442a3f",
   "metadata": {},
   "outputs": [],
   "source": [
    "import torch\n",
    "import matplotlib.pyplot as plt\n",
    "import torch.nn.functional as F"
   ]
  },
  {
   "cell_type": "markdown",
   "id": "0e21d44d-e0a1-4d5b-8189-0b36a7594722",
   "metadata": {},
   "source": [
    "### E01: \n",
    "Tune the hyperparameters of the training to beat my best validation loss of 2.2"
   ]
  },
  {
   "cell_type": "code",
   "execution_count": 289,
   "id": "535041e0-7032-4f63-953b-d7a75b631216",
   "metadata": {},
   "outputs": [
    {
     "data": {
      "text/plain": [
       "['emma', 'olivia', 'ava', 'isabella', 'sophia']"
      ]
     },
     "execution_count": 289,
     "metadata": {},
     "output_type": "execute_result"
    }
   ],
   "source": [
    "words = open('names.txt', 'r').read().splitlines()\n",
    "words[:5]"
   ]
  },
  {
   "cell_type": "code",
   "execution_count": 290,
   "id": "4643cff4-b36e-412c-831a-2553af8d29ae",
   "metadata": {},
   "outputs": [
    {
     "data": {
      "text/plain": [
       "['a', 'b', 'c', 'd', 'e']"
      ]
     },
     "execution_count": 290,
     "metadata": {},
     "output_type": "execute_result"
    }
   ],
   "source": [
    "chars = sorted(list(set(''.join(words))))\n",
    "chars[:5]"
   ]
  },
  {
   "cell_type": "code",
   "execution_count": 291,
   "id": "908d6bfc-3baf-41da-abb1-7b74110a481e",
   "metadata": {},
   "outputs": [],
   "source": [
    "stoi = {s:i+1 for i, s in enumerate(chars)}\n",
    "stoi['.'] = 0\n",
    "itos = {i:s for s,i in stoi.items()}"
   ]
  },
  {
   "cell_type": "code",
   "execution_count": 292,
   "id": "1017754c-5b4d-4bbb-84ee-856953846c46",
   "metadata": {},
   "outputs": [],
   "source": [
    "# function to create datasets\n",
    "block_size = 3\n",
    "\n",
    "def build_dataset(words):\n",
    "    X, Y = [], []\n",
    "    \n",
    "    for word in words:\n",
    "        context = [0] * block_size\n",
    "        \n",
    "        for ch in word+'.':\n",
    "            ix = stoi[ch]\n",
    "            X.append(context)\n",
    "            Y.append(ix)\n",
    "            context = context[1:] + [ix]\n",
    "    \n",
    "    X = torch.tensor(X)\n",
    "    Y = torch.tensor(Y)\n",
    "    \n",
    "    return X, Y"
   ]
  },
  {
   "cell_type": "code",
   "execution_count": 44,
   "id": "af559945-508c-49b9-9430-305456430031",
   "metadata": {},
   "outputs": [],
   "source": [
    "import random\n",
    "random.seed(42)"
   ]
  },
  {
   "cell_type": "code",
   "execution_count": 45,
   "id": "accfac2e-783a-486c-aabc-05555fa97167",
   "metadata": {},
   "outputs": [],
   "source": [
    "# split the dataset into train / dev / test 80/10/10\n",
    "random.shuffle(words)\n",
    "n1 = int(0.8*len(words)) # index for 80 - 90 \n",
    "n2 = int(0.9*len(words)) # index for 90 - 100\n",
    "\n",
    "xtr, ytr = build_dataset(words[:n1])\n",
    "xdev, ydev = build_dataset(words[n1:n2])\n",
    "xte, yte = build_dataset(words[n2:])"
   ]
  },
  {
   "cell_type": "code",
   "execution_count": 46,
   "id": "5ca3a279-092f-44e3-9c7e-c55b48066920",
   "metadata": {},
   "outputs": [
    {
     "data": {
      "text/plain": [
       "(torch.Size([182580, 3]),\n",
       " torch.Size([182580]),\n",
       " torch.Size([22767, 3]),\n",
       " torch.Size([22767]),\n",
       " torch.Size([22799, 3]),\n",
       " torch.Size([22799]))"
      ]
     },
     "execution_count": 46,
     "metadata": {},
     "output_type": "execute_result"
    }
   ],
   "source": [
    "xtr.shape, ytr.shape, xdev.shape, ydev.shape, xte.shape, yte.shape"
   ]
  },
  {
   "cell_type": "code",
   "execution_count": 253,
   "id": "5679808f-735e-447a-ba37-0f5c328a3857",
   "metadata": {},
   "outputs": [],
   "source": [
    "# initialize embedding layer, weights and biases\n",
    "feature_size = 10 #size of feature vector\n",
    "C = torch.randn((27, feature_size))\n",
    "emb = C[xtr].view(-1, block_size * feature_size)\n",
    "hidden_size = 200\n",
    "W1 = torch.randn((block_size * feature_size, hidden_size), requires_grad = True)\n",
    "b1 = torch.randn(hidden_size, requires_grad = True)\n",
    "W2 = torch.randn((hidden_size, 27), requires_grad = True)\n",
    "b2 = torch.randn(27, requires_grad = True)\n",
    "\n",
    "parameters = [W1, b1, W2, b2]"
   ]
  },
  {
   "cell_type": "code",
   "execution_count": 195,
   "id": "0f923351-e061-41d7-93dc-a67ed4357bc0",
   "metadata": {},
   "outputs": [],
   "source": [
    "def train(X, Y, num_iters, lr, bs):\n",
    "    # keep stats\n",
    "    lossi = []\n",
    "    iteration = []\n",
    "    \n",
    "    for i in range(num_iters):\n",
    "        ixs = torch.randint(0, X.shape[0], (bs, ))\n",
    "        # forward\n",
    "        hidden = torch.tanh((C[X[ixs]].view(-1, block_size * feature_size) @ W1 + b1))\n",
    "        logits = hidden @ W2 + b2\n",
    "        loss = F.cross_entropy(logits, Y[ixs])\n",
    "    \n",
    "        # backward\n",
    "        for p in parameters: # zero grads\n",
    "            p.grad = None\n",
    "        loss.backward() #backprop\n",
    "\n",
    "        #lr = 0.1 if i < 10000 else lr\n",
    "        if i < 100000:\n",
    "            lr = 0.1\n",
    "        elif ((i > 100000) and (i < 150000)):\n",
    "            lr = 0.01\n",
    "        else:\n",
    "            lr = lr\n",
    "        \n",
    "        for p in parameters: # weight update\n",
    "            p.data -= lr * p.grad\n",
    "\n",
    "        lossi.append(loss.item())\n",
    "        iteration.append(i)\n",
    "    \n",
    "    return iteration, lossi"
   ]
  },
  {
   "cell_type": "code",
   "execution_count": 196,
   "id": "805a4e88-76a1-450b-a694-15ca01786c7a",
   "metadata": {},
   "outputs": [],
   "source": [
    "def eval_loss(x, y):\n",
    "    hidden = torch.tanh(C[x].view(-1, block_size * feature_size) @ W1 + b1)\n",
    "    logits = hidden @ W2 + b2\n",
    "    loss = F.cross_entropy(logits, y).item()\n",
    "    print(f'Loss: {loss}')"
   ]
  },
  {
   "cell_type": "code",
   "execution_count": 197,
   "id": "0f5c884e-1a83-4748-b676-0b8d535a16a2",
   "metadata": {},
   "outputs": [],
   "source": [
    "i, lossi = train(xtr, ytr, 200000, 0.001, 64)"
   ]
  },
  {
   "cell_type": "code",
   "execution_count": 198,
   "id": "ab4edf63-e933-4432-87f9-dc3f3acaf150",
   "metadata": {},
   "outputs": [
    {
     "data": {
      "text/plain": [
       "2.190006732940674"
      ]
     },
     "execution_count": 198,
     "metadata": {},
     "output_type": "execute_result"
    }
   ],
   "source": [
    "lossi[-1]"
   ]
  },
  {
   "cell_type": "code",
   "execution_count": 199,
   "id": "c643365e-98c5-406b-aca8-47e702d1ff14",
   "metadata": {},
   "outputs": [
    {
     "name": "stdout",
     "output_type": "stream",
     "text": [
      "Loss: 2.0791778564453125\n"
     ]
    }
   ],
   "source": [
    "eval_loss(xtr, ytr)"
   ]
  },
  {
   "cell_type": "code",
   "execution_count": 200,
   "id": "44b95d9e-264f-4f36-b3eb-0c6bdf309bb4",
   "metadata": {},
   "outputs": [
    {
     "name": "stdout",
     "output_type": "stream",
     "text": [
      "Loss: 2.1441211700439453\n"
     ]
    }
   ],
   "source": [
    "eval_loss(xdev, ydev)"
   ]
  },
  {
   "cell_type": "markdown",
   "id": "e1fd5924-b824-4220-b5bb-3e6ba36ff8a7",
   "metadata": {},
   "source": [
    "Managed to beat Karpathy's score. I doubled the batch size to 64, iterated for 200,000 times and varied the learning rate during the iterations such that the network uses a slower learning rate the more iterations it goes through."
   ]
  },
  {
   "cell_type": "markdown",
   "id": "1e5806f5-4f1a-4bbf-a018-3766cee34fe1",
   "metadata": {},
   "source": [
    "### E02: \n",
    "I was not careful with the intialization of the network in this video. \n",
    "\n",
    "(1) What is the loss you'd get if the predicted probabilities at initialization were perfectly uniform? What loss do we achieve?\\\n",
    "(2) Can you tune the initialization to get a starting loss that is much more similar to (1)?"
   ]
  },
  {
   "cell_type": "markdown",
   "id": "1f097b5e-1303-481a-9d12-d0227755dd57",
   "metadata": {},
   "source": [
    "#### E2-1 What is the loss you'd get if the predicted probabilities at initialization were perfectly uniform? What loss do we achieve?"
   ]
  },
  {
   "cell_type": "code",
   "execution_count": 215,
   "id": "3d425da7-452e-42be-8d3b-0accd13f7268",
   "metadata": {},
   "outputs": [
    {
     "data": {
      "text/plain": [
       "3.3361799716949463"
      ]
     },
     "execution_count": 215,
     "metadata": {},
     "output_type": "execute_result"
    }
   ],
   "source": [
    "uniform_logits = torch.nn.init.uniform_(logits, 0, 1)\n",
    "uniform_loss = F.cross_entropy(uniform_logits, ytr)\n",
    "uniform_loss.item()"
   ]
  },
  {
   "cell_type": "markdown",
   "id": "ffb85f84-6431-4fb4-a79b-e915ee710d1d",
   "metadata": {},
   "source": [
    "#### E2-2 Can you tune the initialization to get a starting loss that is much more similar to (1)?"
   ]
  },
  {
   "cell_type": "code",
   "execution_count": 264,
   "id": "069b0471-42ff-4dbb-933a-b6939da72b71",
   "metadata": {},
   "outputs": [],
   "source": [
    "hidden_size = 200\n",
    "W1 = torch.ones((block_size * feature_size, hidden_size))\n",
    "b1 = torch.ones(hidden_size)\n",
    "W2 = torch.ones((hidden_size, 27))\n",
    "b2 = torch.ones(27)\n",
    "\n",
    "parameters = [W1, b1, W2, b2]\n",
    "\n",
    "for p in parameters:\n",
    "    p.requires_grad = True"
   ]
  },
  {
   "cell_type": "code",
   "execution_count": 265,
   "id": "88e89a5f-2cba-4a87-8fe3-2d0e5a9e51b8",
   "metadata": {},
   "outputs": [
    {
     "name": "stdout",
     "output_type": "stream",
     "text": [
      "3.295837163925171\n"
     ]
    }
   ],
   "source": [
    "# forward\n",
    "hidden = torch.tanh((C[xtr].view(-1, block_size * feature_size) @ W1 + b1))\n",
    "logits = hidden @ W2 + b2\n",
    "loss = F.cross_entropy(logits, ytr)\n",
    "\n",
    "# backward\n",
    "for p in parameters: # zero grads\n",
    "    p.grad = None\n",
    "loss.backward() #backprop\n",
    "\n",
    "for p in parameters: # weight update\n",
    "    p.data -= 0.5 * p.grad\n",
    "\n",
    "print(loss.item())"
   ]
  },
  {
   "cell_type": "markdown",
   "id": "2451425c-3197-4dc6-9311-53d7203dd130",
   "metadata": {},
   "source": [
    "We want the predicted probabilities to be perfectly uniform.\\\n",
    "Remeber how we get `F.cross_entropy(logits, ytr)`:\n",
    "\n",
    "```\n",
    "logits = ....\n",
    "counts = logits.exp()\n",
    "probs = counts / counts.sum(dim=1, keepdims=True)\n",
    "```\n",
    "So, probs will be uniform if counts were the same which means logits are the same.\\\n",
    "logits are the same if we set all the weights and biases of the network to be the same = 1 (which means our network expects all embeddings to be equally likely)."
   ]
  },
  {
   "cell_type": "markdown",
   "id": "f5a2d35a-82fc-4fa9-9c11-fbf141300ade",
   "metadata": {},
   "source": [
    "#### E03 \n",
    "Read the Bengio et al 2003 paper (link above), implement and try any idea from the paper. Did it work?"
   ]
  },
  {
   "cell_type": "code",
   "execution_count": 266,
   "id": "4f426767-b81b-4bc5-869a-9a6c8cb54ef2",
   "metadata": {},
   "outputs": [],
   "source": [
    "# we'll experiment with regularization\n",
    "# initialize embedding layer, weights and biases\n",
    "feature_size = 10 #size of feature vector\n",
    "C = torch.randn((27, feature_size))\n",
    "emb = C[xtr].view(-1, block_size * feature_size)\n",
    "hidden_size = 200\n",
    "W1 = torch.randn((block_size * feature_size, hidden_size), requires_grad = True)\n",
    "b1 = torch.randn(hidden_size, requires_grad = True)\n",
    "W2 = torch.randn((hidden_size, 27), requires_grad = True)\n",
    "b2 = torch.randn(27, requires_grad = True)\n",
    "\n",
    "parameters = [W1, b1, W2, b2]"
   ]
  },
  {
   "cell_type": "code",
   "execution_count": 267,
   "id": "220713a7-12e8-4196-96b6-1b63e5da0aa4",
   "metadata": {},
   "outputs": [],
   "source": [
    "def train2(X, Y, num_iters, lr, bs):\n",
    "    # keep stats\n",
    "    lossi = []\n",
    "    iteration = []\n",
    "    \n",
    "    for i in range(num_iters):\n",
    "        ixs = torch.randint(0, X.shape[0], (bs, ))\n",
    "        # forward\n",
    "        hidden = torch.tanh((C[X[ixs]].view(-1, block_size * feature_size) @ W1 + b1))\n",
    "        logits = hidden @ W2 + b2\n",
    "        loss = F.cross_entropy(logits, Y[ixs]) + W1.pow(2).mean() + W2.pow(2).mean()\n",
    "    \n",
    "        # backward\n",
    "        for p in parameters: # zero grads\n",
    "            p.grad = None\n",
    "        loss.backward() #backprop\n",
    "\n",
    "        #lr = 0.1 if i < 10000 else lr\n",
    "        if i < 100000:\n",
    "            lr = 0.1\n",
    "        elif ((i > 100000) and (i < 150000)):\n",
    "            lr = 0.01\n",
    "        else:\n",
    "            lr = lr\n",
    "        \n",
    "        for p in parameters: # weight update\n",
    "            p.data -= lr * p.grad\n",
    "\n",
    "        lossi.append(loss.item())\n",
    "        iteration.append(i)\n",
    "    \n",
    "    return iteration, lossi"
   ]
  },
  {
   "cell_type": "code",
   "execution_count": 270,
   "id": "0dd96954-1690-4b31-a55d-6b7304ddcb9f",
   "metadata": {},
   "outputs": [],
   "source": [
    "def eval_loss2(x, y):\n",
    "    hidden = torch.tanh(C[x].view(-1, block_size * feature_size) @ W1 + b1)\n",
    "    logits = hidden @ W2 + b2\n",
    "    loss = F.cross_entropy(logits, y).item() + W1.pow(2).mean() + W2.pow(2).mean()\n",
    "    print(f'Loss: {loss}')"
   ]
  },
  {
   "cell_type": "code",
   "execution_count": 268,
   "id": "8e710a8c-fe31-4cc2-a208-21939c92839b",
   "metadata": {},
   "outputs": [],
   "source": [
    "i2, losses2 = train2(xtr, ytr, 200000, 0.001, 64)"
   ]
  },
  {
   "cell_type": "code",
   "execution_count": 272,
   "id": "ce43e1cc-e643-4e40-af80-437ceb9c6db1",
   "metadata": {},
   "outputs": [
    {
     "name": "stdout",
     "output_type": "stream",
     "text": [
      "Loss: 2.208491086959839\n",
      "Loss: 2.237893581390381\n"
     ]
    },
    {
     "data": {
      "text/plain": [
       "(None, None)"
      ]
     },
     "execution_count": 272,
     "metadata": {},
     "output_type": "execute_result"
    }
   ],
   "source": [
    "eval_loss2(xtr, ytr), eval_loss2(xdev, ydev)"
   ]
  },
  {
   "cell_type": "code",
   "execution_count": 284,
   "id": "f33e48ca-1330-4515-a226-f86c513ffaaf",
   "metadata": {},
   "outputs": [],
   "source": [
    "# let's try it with the uniformly initialized weights\n",
    "hidden_size = 200\n",
    "W1 = torch.ones((block_size * feature_size, hidden_size))\n",
    "b1 = torch.ones(hidden_size)\n",
    "W2 = torch.ones((hidden_size, 27))\n",
    "b2 = torch.ones(27)\n",
    "\n",
    "parameters = [W1, b1, W2, b2]\n",
    "\n",
    "for p in parameters:\n",
    "    p.requires_grad = True"
   ]
  },
  {
   "cell_type": "code",
   "execution_count": 285,
   "id": "9f1c8005-e0bf-4ad4-96d2-80cf91c6cb73",
   "metadata": {},
   "outputs": [],
   "source": [
    "i2, losses2 = train2(xtr, ytr, 200000, 0.001, 64)"
   ]
  },
  {
   "cell_type": "code",
   "execution_count": 286,
   "id": "89f45bcb-2a04-48a6-a9f2-cc5f2b84c6a3",
   "metadata": {},
   "outputs": [
    {
     "name": "stdout",
     "output_type": "stream",
     "text": [
      "Loss: 2.534567356109619\n",
      "Loss: 2.5287091732025146\n"
     ]
    },
    {
     "data": {
      "text/plain": [
       "(None, None)"
      ]
     },
     "execution_count": 286,
     "metadata": {},
     "output_type": "execute_result"
    }
   ],
   "source": [
    "eval_loss2(xtr, ytr), eval_loss2(xdev, ydev)"
   ]
  },
  {
   "cell_type": "code",
   "execution_count": 287,
   "id": "ab3836f7-1656-4ac2-a1a7-bb384febf941",
   "metadata": {},
   "outputs": [
    {
     "data": {
      "image/png": "[encoded data removed]",
      "text/plain": [
       "<Figure size 640x480 with 1 Axes>"
      ]
     },
     "metadata": {},
     "output_type": "display_data"
    }
   ],
   "source": [
    "plt.plot(i2, losses2);"
   ]
  },
  {
   "cell_type": "markdown",
   "id": "15aa120c-4b67-4d7e-aa7d-494d16c9975f",
   "metadata": {},
   "source": [
    "I ran a couple of experiments with regularization using different batch sizes (32 and 64), also using randomly vs uniformly initialized weights. In both cases we couldn't improve on the previous result and we had worse loss with the uniform initialization."
   ]
  },
  {
   "cell_type": "markdown",
   "id": "4abbea22-ec46-42d9-9a86-0db5f792e29d",
   "metadata": {},
   "source": [
    "**NB** I found out I trained all the above without inclduing C in the list of parameters to be backpropagated on. I'll repeat some of the experiments again while including C"
   ]
  },
  {
   "cell_type": "code",
   "execution_count": 302,
   "id": "31069499-274a-436e-951f-c4661e3d94f9",
   "metadata": {},
   "outputs": [],
   "source": [
    "feature_size = 10 #size of feature vector\n",
    "C = torch.randn((27, feature_size), requires_grad = True)\n",
    "emb = C[xtr].view(-1, block_size * feature_size)\n",
    "hidden_size = 200\n",
    "W1 = torch.randn((block_size * feature_size, hidden_size), requires_grad = True)\n",
    "b1 = torch.randn(hidden_size, requires_grad = True)\n",
    "W2 = torch.randn((hidden_size, 27), requires_grad = True)\n",
    "b2 = torch.randn(27, requires_grad = True)\n",
    "\n",
    "parameters = [C, W1, b1, W2, b2]"
   ]
  },
  {
   "cell_type": "code",
   "execution_count": 303,
   "id": "81f9d9ae-a6bf-4d30-81fa-1a8be8db9e9b",
   "metadata": {},
   "outputs": [],
   "source": [
    "def train(X, Y, num_iters, lr, bs):\n",
    "    # keep stats\n",
    "    lossi = []\n",
    "    iteration = []\n",
    "    \n",
    "    for i in range(num_iters):\n",
    "        ixs = torch.randint(0, X.shape[0], (bs, ))\n",
    "        # forward\n",
    "        hidden = torch.tanh((C[X[ixs]].view(-1, block_size * feature_size) @ W1 + b1))\n",
    "        logits = hidden @ W2 + b2\n",
    "        loss = F.cross_entropy(logits, Y[ixs])\n",
    "    \n",
    "        # backward\n",
    "        for p in parameters: # zero grads\n",
    "            p.grad = None\n",
    "        loss.backward() #backprop\n",
    "\n",
    "        #lr = 0.1 if i < 10000 else lr\n",
    "        if i < 100000:\n",
    "            lr = 0.1\n",
    "        elif ((i > 100000) and (i < 150000)):\n",
    "            lr = 0.01\n",
    "        else:\n",
    "            lr = lr\n",
    "        \n",
    "        for p in parameters: # weight update\n",
    "            p.data -= lr * p.grad\n",
    "\n",
    "        lossi.append(loss.item())\n",
    "        iteration.append(i)\n",
    "    \n",
    "    return iteration, lossi"
   ]
  },
  {
   "cell_type": "code",
   "execution_count": 304,
   "id": "61632229-69af-46d0-af59-a866cd783788",
   "metadata": {},
   "outputs": [],
   "source": [
    "def eval_loss(x, y):\n",
    "    hidden = torch.tanh(C[x].view(-1, block_size * feature_size) @ W1 + b1)\n",
    "    logits = hidden @ W2 + b2\n",
    "    loss = F.cross_entropy(logits, y).item()\n",
    "    print(f'Loss: {loss}')"
   ]
  },
  {
   "cell_type": "code",
   "execution_count": 305,
   "id": "40dcf83e-eed6-4070-ace5-beffb5cb0db8",
   "metadata": {},
   "outputs": [],
   "source": [
    "i, lossi = train(xtr, ytr, 200000, 0.001, 64)"
   ]
  },
  {
   "cell_type": "code",
   "execution_count": 306,
   "id": "2c420189-5fbd-4eb6-8f73-fb0289ea9a6c",
   "metadata": {},
   "outputs": [
    {
     "name": "stdout",
     "output_type": "stream",
     "text": [
      "Loss: 2.1048717498779297\n",
      "Loss: 2.149653911590576\n"
     ]
    },
    {
     "data": {
      "text/plain": [
       "(None, None)"
      ]
     },
     "execution_count": 306,
     "metadata": {},
     "output_type": "execute_result"
    }
   ],
   "source": [
    "eval_loss(xtr, ytr), eval_loss(xdev, ydev)"
   ]
  },
  {
   "cell_type": "markdown",
   "id": "e7524409-6708-4ce6-8354-2d8e4c4beeac",
   "metadata": {},
   "source": [
    "Ok, we get the same losses as before (without C)."
   ]
  },
  {
   "cell_type": "markdown",
   "id": "00167226-7c14-47d8-8f68-a95bd4584707",
   "metadata": {},
   "source": [
    "#### Use uniform weight initialization:"
   ]
  },
  {
   "cell_type": "code",
   "execution_count": 307,
   "id": "08a3f6e9-47ee-4a04-a24e-9c556fe5615b",
   "metadata": {},
   "outputs": [],
   "source": [
    "feature_size = 10 #size of feature vector\n",
    "C = torch.ones((27, feature_size), requires_grad = True)\n",
    "emb = C[xtr].view(-1, block_size * feature_size)\n",
    "hidden_size = 200\n",
    "W1 = torch.ones((block_size * feature_size, hidden_size), requires_grad = True)\n",
    "b1 = torch.ones(hidden_size, requires_grad = True)\n",
    "W2 = torch.ones((hidden_size, 27), requires_grad = True)\n",
    "b2 = torch.ones(27, requires_grad = True)\n",
    "\n",
    "parameters = [C, W1, b1, W2, b2]"
   ]
  },
  {
   "cell_type": "code",
   "execution_count": 308,
   "id": "f903f0df-b589-4150-ab78-06a7b2e3fa93",
   "metadata": {},
   "outputs": [],
   "source": [
    "i, lossi = train(xtr, ytr, 200000, 0.001, 64)"
   ]
  },
  {
   "cell_type": "code",
   "execution_count": 309,
   "id": "ee00414c-b692-4b83-807e-79fff2945da4",
   "metadata": {},
   "outputs": [
    {
     "name": "stdout",
     "output_type": "stream",
     "text": [
      "Loss: 2.8340959548950195\n",
      "Loss: 2.827920913696289\n"
     ]
    },
    {
     "data": {
      "text/plain": [
       "(None, None)"
      ]
     },
     "execution_count": 309,
     "metadata": {},
     "output_type": "execute_result"
    }
   ],
   "source": [
    "eval_loss(xtr, ytr), eval_loss(xdev, ydev)"
   ]
  },
  {
   "cell_type": "markdown",
   "id": "049cad15-d178-4b1a-a019-ae0300bde278",
   "metadata": {},
   "source": [
    "Much worse"
   ]
  },
  {
   "cell_type": "markdown",
   "id": "28cf4083-9876-4849-bdbc-1898c3543980",
   "metadata": {},
   "source": [
    "#### Use Regularization in loss function"
   ]
  },
  {
   "cell_type": "code",
   "execution_count": 310,
   "id": "138ebd77-7356-45b1-8af0-c88c4062adaf",
   "metadata": {},
   "outputs": [],
   "source": [
    "feature_size = 10 #size of feature vector\n",
    "C = torch.randn((27, feature_size), requires_grad = True)\n",
    "emb = C[xtr].view(-1, block_size * feature_size)\n",
    "hidden_size = 200\n",
    "W1 = torch.randn((block_size * feature_size, hidden_size), requires_grad = True)\n",
    "b1 = torch.randn(hidden_size, requires_grad = True)\n",
    "W2 = torch.randn((hidden_size, 27), requires_grad = True)\n",
    "b2 = torch.randn(27, requires_grad = True)\n",
    "\n",
    "parameters = [C, W1, b1, W2, b2]"
   ]
  },
  {
   "cell_type": "code",
   "execution_count": 311,
   "id": "041edaea-845f-41fb-be8d-8e9df83542a0",
   "metadata": {},
   "outputs": [],
   "source": [
    "def train(X, Y, num_iters, lr, bs):\n",
    "    # keep stats\n",
    "    lossi = []\n",
    "    iteration = []\n",
    "    \n",
    "    for i in range(num_iters):\n",
    "        ixs = torch.randint(0, X.shape[0], (bs, ))\n",
    "        # forward\n",
    "        hidden = torch.tanh((C[X[ixs]].view(-1, block_size * feature_size) @ W1 + b1))\n",
    "        logits = hidden @ W2 + b2\n",
    "        loss = F.cross_entropy(logits, Y[ixs]) + W1.pow(2).mean() + W2.pow(2).mean()\n",
    "    \n",
    "        # backward\n",
    "        for p in parameters: # zero grads\n",
    "            p.grad = None\n",
    "        loss.backward() #backprop\n",
    "\n",
    "        #lr = 0.1 if i < 10000 else lr\n",
    "        if i < 100000:\n",
    "            lr = 0.1\n",
    "        elif ((i > 100000) and (i < 150000)):\n",
    "            lr = 0.01\n",
    "        else:\n",
    "            lr = lr\n",
    "        \n",
    "        for p in parameters: # weight update\n",
    "            p.data -= lr * p.grad\n",
    "\n",
    "        lossi.append(loss.item())\n",
    "        iteration.append(i)\n",
    "    \n",
    "    return iteration, lossi"
   ]
  },
  {
   "cell_type": "code",
   "execution_count": 312,
   "id": "5882e9b8-63cf-4e31-91b2-af1cfec076cc",
   "metadata": {},
   "outputs": [],
   "source": [
    "i, lossi = train(xtr, ytr, 200000, 0.001, 64)"
   ]
  },
  {
   "cell_type": "code",
   "execution_count": 314,
   "id": "0d3435d5-7c6d-433e-a76d-f3db1b141e04",
   "metadata": {},
   "outputs": [
    {
     "name": "stdout",
     "output_type": "stream",
     "text": [
      "Loss: 2.059695243835449\n",
      "Loss: 2.106905698776245\n"
     ]
    },
    {
     "data": {
      "text/plain": [
       "(None, None)"
      ]
     },
     "execution_count": 314,
     "metadata": {},
     "output_type": "execute_result"
    }
   ],
   "source": [
    "eval_loss(xtr, ytr), eval_loss(xdev, ydev)"
   ]
  },
  {
   "cell_type": "markdown",
   "id": "8d57039f-705d-4656-80b2-f974dc8a972f",
   "metadata": {},
   "source": [
    "Not bad. Slight improvement."
   ]
  },
  {
   "cell_type": "markdown",
   "id": "ea1f1bc8-5c39-404a-a5b3-2550680a407d",
   "metadata": {},
   "source": [
    "#### Train without hidden layer"
   ]
  },
  {
   "cell_type": "code",
   "execution_count": 319,
   "id": "b891d91e-eb9b-41cc-b2a4-897638b15a0f",
   "metadata": {},
   "outputs": [],
   "source": [
    "feature_size = 10 #size of feature vector\n",
    "C = torch.randn((27, feature_size), requires_grad = True)\n",
    "emb = C[xtr].view(-1, block_size * feature_size)\n",
    "out_size = 27\n",
    "W1 = torch.randn((block_size * feature_size, out_size), requires_grad = True)\n",
    "b1 = torch.randn(out_size, requires_grad = True)\n",
    "\n",
    "parameters = [C, W1, b1]"
   ]
  },
  {
   "cell_type": "code",
   "execution_count": 320,
   "id": "c14fc54c-93e0-486b-b1f1-bf60292a86d6",
   "metadata": {},
   "outputs": [],
   "source": [
    "# without the hidden layer\n",
    "\n",
    "def train(X, Y, num_iters, lr, bs):\n",
    "    # keep stats\n",
    "    lossi = []\n",
    "    iteration = []\n",
    "    \n",
    "    for i in range(num_iters):\n",
    "        ixs = torch.randint(0, X.shape[0], (bs, ))\n",
    "        # forward\n",
    "        logits = torch.tanh((C[X[ixs]].view(-1, block_size * feature_size) @ W1 + b1))\n",
    "        loss = F.cross_entropy(logits, Y[ixs]) + W1.pow(2).mean()\n",
    "    \n",
    "        # backward\n",
    "        for p in parameters: # zero grads\n",
    "            p.grad = None\n",
    "        loss.backward() #backprop\n",
    "\n",
    "        #lr = 0.1 if i < 10000 else lr\n",
    "        if i < 100000:\n",
    "            lr = 0.1\n",
    "        elif ((i > 100000) and (i < 150000)):\n",
    "            lr = 0.01\n",
    "        else:\n",
    "            lr = lr\n",
    "        \n",
    "        for p in parameters: # weight update\n",
    "            p.data -= lr * p.grad\n",
    "\n",
    "        lossi.append(loss.item())\n",
    "        iteration.append(i)\n",
    "    \n",
    "    return iteration, lossi"
   ]
  },
  {
   "cell_type": "code",
   "execution_count": 323,
   "id": "54db6846-f6d8-4993-9c83-8135eea33c29",
   "metadata": {},
   "outputs": [],
   "source": [
    "def eval_loss(x, y):\n",
    "    logits = torch.tanh(C[x].view(-1, block_size * feature_size) @ W1 + b1)\n",
    "    loss = F.cross_entropy(logits, y).item()\n",
    "    print(f'Loss: {loss}')"
   ]
  },
  {
   "cell_type": "code",
   "execution_count": 321,
   "id": "0b281622-f83c-4e6f-b0ea-d1efbe39e3d2",
   "metadata": {},
   "outputs": [],
   "source": [
    "i, lossi = train(xtr, ytr, 200000, 0.001, 64)"
   ]
  },
  {
   "cell_type": "code",
   "execution_count": 324,
   "id": "614b223e-063b-4f95-a98e-ecf4661cd8bd",
   "metadata": {},
   "outputs": [
    {
     "name": "stdout",
     "output_type": "stream",
     "text": [
      "Loss: 2.5447640419006348\n",
      "Loss: 2.5435798168182373\n"
     ]
    },
    {
     "data": {
      "text/plain": [
       "(None, None)"
      ]
     },
     "execution_count": 324,
     "metadata": {},
     "output_type": "execute_result"
    }
   ],
   "source": [
    "eval_loss(xtr, ytr), eval_loss(xdev, ydev)"
   ]
  },
  {
   "cell_type": "markdown",
   "id": "aa78a269-9181-4b8d-a370-d655bf79f5e5",
   "metadata": {},
   "source": [
    "Worse but still works."
   ]
  },
  {
   "cell_type": "code",
   "execution_count": 325,
   "id": "b30aeb00-50d0-4762-b614-7e6085540811",
   "metadata": {},
   "outputs": [
    {
     "name": "stdout",
     "output_type": "stream",
     "text": [
      "Loss: 2.550022840499878\n"
     ]
    }
   ],
   "source": [
    "eval_loss(xte, yte)"
   ]
  },
  {
   "cell_type": "code",
   "execution_count": null,
   "id": "e40094db-9bfa-40b1-81c7-62ccfe4e89a6",
   "metadata": {},
   "outputs": [],
   "source": []
  }
 ],
 "metadata": {
  "kernelspec": {
   "display_name": "Python 3 (ipykernel)",
   "language": "python",
   "name": "python3"
  },
  "language_info": {
   "codemirror_mode": {
    "name": "ipython",
    "version": 3
   },
   "file_extension": ".py",
   "mimetype": "text/x-python",
   "name": "python",
   "nbconvert_exporter": "python",
   "pygments_lexer": "ipython3",
   "version": "3.10.9"
  }
 },
 "nbformat": 4,
 "nbformat_minor": 5
}
