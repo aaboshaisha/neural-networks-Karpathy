{
 "cells": [
  {
   "cell_type": "markdown",
   "id": "4e9f09e3-866f-4379-845e-eb19c6c2b6bb",
   "metadata": {
    "tags": []
   },
   "source": [
    "Useful links for practice:\n",
    "- [Python + Numpy tutorial from CS231n](https://cs231n.github.io/python-numpy)... . We use torch.tensor instead of numpy.array in this video. Their design (e.g. broadcasting, data types, etc.) is so similar that practicing one is basically practicing the other, just be careful with some of the APIs - how various functions are named, what arguments they take, etc. - these details can vary.\n",
    "- [PyTorch tutorial on Tensor](https://pytorch.org/tutorials/beginne)...\n",
    "- [Another PyTorch intro to Tensor](https://pytorch.org/tutorials/beginne)..."
   ]
  },
  {
   "cell_type": "markdown",
   "id": "2fa74284-a7a2-43d6-9691-e0295dbaef1f",
   "metadata": {
    "tags": []
   },
   "source": [
    "## Exercises:"
   ]
  },
  {
   "cell_type": "markdown",
   "id": "be588108-ce9e-464f-8873-999ae48751b0",
   "metadata": {
    "tags": []
   },
   "source": [
    "### E01: \n",
    "Train a trigram language model, i.e. take two characters as an input to predict the 3rd one. Feel free to use either counting or a neural net. Evaluate the loss; Did it improve over a bigram model?"
   ]
  },
  {
   "cell_type": "markdown",
   "id": "a65490f7-1653-4ea0-9f5a-4518d7ad7916",
   "metadata": {
    "tags": []
   },
   "source": [
    "### E02: \n",
    "Split up the dataset randomly into 80% train set, 10% dev set, 10% test set. Train the bigram and trigram models only on the training set. Evaluate them on dev and test splits. What can you see?"
   ]
  },
  {
   "cell_type": "markdown",
   "id": "807f9b6b-ae57-4997-a58b-7c0f0d9abf26",
   "metadata": {
    "tags": []
   },
   "source": [
    "### E03: \n",
    "Use the dev set to tune the strength of smoothing (or regularization) for the trigram model - i.e. try many possibilities and see which one works best based on the dev set loss. What patterns can you see in the train and dev set loss as you tune this strength? Take the best setting of the smoothing and evaluate on the test set once and at the end. How good of a loss do you achieve?"
   ]
  },
  {
   "cell_type": "markdown",
   "id": "767b5ecf-1a84-4d5c-b79e-4893f4fe2282",
   "metadata": {
    "tags": []
   },
   "source": [
    "### E04: \n",
    "We saw that our 1-hot vectors merely select a row of W, so producing these vectors explicitly feels wasteful. Can you delete our use of F.one_hot in favor of simply indexing into rows of W?"
   ]
  },
  {
   "cell_type": "markdown",
   "id": "eece74a7-97fb-4ca7-a9dc-df0c7ced9770",
   "metadata": {
    "tags": []
   },
   "source": [
    "### E05: \n",
    "Look up and use F.cross_entropy instead. You should achieve the same result. Can you think of why we'd prefer to use F.cross_entropy instead?"
   ]
  },
  {
   "cell_type": "markdown",
   "id": "9715c4e5-37a6-4389-8fe5-ef04127db325",
   "metadata": {
    "tags": []
   },
   "source": [
    "### E06: \n",
    "Meta-exercise! Think of a fun/interesting exercise and complete it."
   ]
  },
  {
   "cell_type": "code",
   "execution_count": null,
   "id": "b0b07744-f593-40ef-a6f9-1934e07e88a1",
   "metadata": {},
   "outputs": [],
   "source": []
  },
  {
   "cell_type": "code",
   "execution_count": null,
   "id": "ca4ff866-6cda-4ff5-8e67-c85c0002260c",
   "metadata": {},
   "outputs": [],
   "source": []
  }
 ],
 "metadata": {
  "kernelspec": {
   "display_name": "Python 3 (ipykernel)",
   "language": "python",
   "name": "python3"
  },
  "language_info": {
   "codemirror_mode": {
    "name": "ipython",
    "version": 3
   },
   "file_extension": ".py",
   "mimetype": "text/x-python",
   "name": "python",
   "nbconvert_exporter": "python",
   "pygments_lexer": "ipython3",
   "version": "3.10.9"
  }
 },
 "nbformat": 4,
 "nbformat_minor": 5
}
