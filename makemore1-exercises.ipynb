{
 "cells": [
  {
   "cell_type": "markdown",
   "id": "4e9f09e3-866f-4379-845e-eb19c6c2b6bb",
   "metadata": {
    "tags": []
   },
   "source": [
    "Useful links for practice:\n",
    "- [Python + Numpy tutorial from CS231n](https://cs231n.github.io/python-numpy)... . We use torch.tensor instead of numpy.array in this video. Their design (e.g. broadcasting, data types, etc.) is so similar that practicing one is basically practicing the other, just be careful with some of the APIs - how various functions are named, what arguments they take, etc. - these details can vary.\n",
    "- [PyTorch tutorial on Tensor](https://pytorch.org/tutorials/beginne)...\n",
    "- [Another PyTorch intro to Tensor](https://pytorch.org/tutorials/beginne)..."
   ]
  },
  {
   "cell_type": "markdown",
   "id": "2fa74284-a7a2-43d6-9691-e0295dbaef1f",
   "metadata": {
    "tags": []
   },
   "source": [
    "## Exercises:"
   ]
  },
  {
   "cell_type": "markdown",
   "id": "be588108-ce9e-464f-8873-999ae48751b0",
   "metadata": {
    "tags": []
   },
   "source": [
    "### E01: \n",
    "Train a trigram language model, i.e. take two characters as an input to predict the 3rd one. Feel free to use either counting or a neural net. Evaluate the loss; Did it improve over a bigram model?"
   ]
  },
  {
   "cell_type": "markdown",
   "id": "68ddc498-a764-4f4c-8d2e-b5bc6dd11214",
   "metadata": {},
   "source": [
    "#### Ans\n",
    "First I'll attempt the solution using counting."
   ]
  },
  {
   "cell_type": "code",
   "execution_count": 1,
   "id": "6f7faeda-91ab-4d06-8482-428584189be3",
   "metadata": {
    "tags": []
   },
   "outputs": [
    {
     "data": {
      "text/plain": [
       "['emma', 'olivia', 'ava', 'isabella', 'sophia']"
      ]
     },
     "execution_count": 1,
     "metadata": {},
     "output_type": "execute_result"
    }
   ],
   "source": [
    "# load the data\n",
    "words = open('/Users/amralaa/Desktop/nbs/zero2hero/names.txt').read().splitlines()\n",
    "words[:5]"
   ]
  },
  {
   "cell_type": "markdown",
   "id": "ecd3b2f8-0574-43a0-acad-d5666fc77eee",
   "metadata": {
    "tags": []
   },
   "source": [
    "We want first to be able to extract trigrams from the data. We'll put them in a dict and keep counts of occurences."
   ]
  },
  {
   "cell_type": "code",
   "execution_count": 2,
   "id": "dd61bb85-98a6-4e4c-925e-f6a301f315ca",
   "metadata": {
    "tags": []
   },
   "outputs": [],
   "source": [
    "t = {}\n",
    "pairs = [] #get pairs of characters as we'll need later\n",
    "\n",
    "for w in words:\n",
    "    w = ['.'] + list(w) + ['.']\n",
    "    for ch1, ch2, ch3 in zip(w,w[1:],w[2:]):\n",
    "        #print(f'{ch1+ch2} {ch3}')\n",
    "        t[(ch1+ch2, ch3)] = t.get((ch1+ch2, ch3), 0) + 1\n",
    "        if (ch1+ch2) not in pairs:\n",
    "            pairs.append(ch1+ch2)   "
   ]
  },
  {
   "cell_type": "code",
   "execution_count": 3,
   "id": "111cbb4d-c945-4a58-b872-eb390b3c02f2",
   "metadata": {
    "tags": []
   },
   "outputs": [],
   "source": [
    "#t.items()"
   ]
  },
  {
   "cell_type": "code",
   "execution_count": 4,
   "id": "bf532db9-b3fe-47d0-a349-4c5cd605d582",
   "metadata": {
    "tags": []
   },
   "outputs": [
    {
     "data": {
      "text/plain": [
       "601"
      ]
     },
     "execution_count": 4,
     "metadata": {},
     "output_type": "execute_result"
    }
   ],
   "source": [
    "len(pairs)"
   ]
  },
  {
   "cell_type": "code",
   "execution_count": 5,
   "id": "7f4fbf69-ed56-4a26-8d8b-e7f244000ef1",
   "metadata": {
    "tags": []
   },
   "outputs": [],
   "source": [
    "# we can sort them by frequency same as we did in the lecture\n",
    "#sorted(t.items(), key=lambda kv:-kv[1])"
   ]
  },
  {
   "cell_type": "code",
   "execution_count": 6,
   "id": "9913acbd-3fde-4029-9839-4a1bd7965141",
   "metadata": {
    "tags": []
   },
   "outputs": [],
   "source": [
    "counts = sorted(t.items(), key=lambda kv:-kv[1])"
   ]
  },
  {
   "cell_type": "markdown",
   "id": "0a1f8f4b-2c9e-4a06-bdcb-9cebfa2ac533",
   "metadata": {},
   "source": [
    "The `dict.items()` method returns a view object. The view object is a list containing the key-value pairs of the dictionary, as tuples."
   ]
  },
  {
   "cell_type": "markdown",
   "id": "562647a9-5f79-4e16-a010-1406af055074",
   "metadata": {},
   "source": [
    "We then need to build a table (as torch tensor) which has 1st 2 ccs as rows and 3rd cc as columns such that each cell will give counts of how many times this single cc follows that pair of ccs."
   ]
  },
  {
   "cell_type": "code",
   "execution_count": 7,
   "id": "c006306f-0b69-4ef3-ab70-db3bbe412de6",
   "metadata": {},
   "outputs": [
    {
     "data": {
      "text/plain": [
       "['.', 'a', 'b', 'c', 'd', 'e', 'f', 'g', 'h', 'i']"
      ]
     },
     "execution_count": 7,
     "metadata": {},
     "output_type": "execute_result"
    }
   ],
   "source": [
    "# get unique characters\n",
    "chars = ['.'] + sorted(list(set(''.join(words))))\n",
    "chars[:10]"
   ]
  },
  {
   "cell_type": "code",
   "execution_count": 8,
   "id": "e8da2c87-587b-42c8-b5a6-c5d381de886a",
   "metadata": {},
   "outputs": [],
   "source": [
    "stoi_c = {}\n",
    "for ix, ch in enumerate(chars):\n",
    "    stoi_c[ch] = ix\n",
    "#stoi_c"
   ]
  },
  {
   "cell_type": "code",
   "execution_count": 9,
   "id": "b2d1da0a-0a8b-4f10-aebd-d001cff6c314",
   "metadata": {
    "tags": []
   },
   "outputs": [],
   "source": [
    "stoi_p = {}\n",
    "for ix, pr in enumerate(pairs):\n",
    "    stoi_p[pr] = ix\n",
    "#stoi_p"
   ]
  },
  {
   "cell_type": "code",
   "execution_count": 10,
   "id": "cfe28934-b673-454b-ae3b-75d2b06e43bc",
   "metadata": {
    "tags": []
   },
   "outputs": [],
   "source": [
    "import torch\n",
    "import matplotlib.pyplot as plt"
   ]
  },
  {
   "cell_type": "code",
   "execution_count": 11,
   "id": "45f6cae6-2868-4ca4-ac46-129b2fc5266d",
   "metadata": {
    "tags": []
   },
   "outputs": [
    {
     "data": {
      "text/plain": [
       "torch.Size([601, 27])"
      ]
     },
     "execution_count": 11,
     "metadata": {},
     "output_type": "execute_result"
    }
   ],
   "source": [
    "# now let's create the table / array / tensor\n",
    "N = torch.zeros((len(pairs), len(chars)), dtype=torch.int32)\n",
    "N.shape"
   ]
  },
  {
   "cell_type": "code",
   "execution_count": 12,
   "id": "5ff7684e-83a5-4df0-9333-1754c44c9ef0",
   "metadata": {
    "tags": []
   },
   "outputs": [],
   "source": [
    "# now, let's populate it with counts\n",
    "for w in words:\n",
    "    w = ['.'] + list(w) + ['.']\n",
    "    for ch1, ch2, ch3 in zip(w, w[1:], w[2:]):\n",
    "        ix1 = stoi_p[ch1+ch2]\n",
    "        ix2 = stoi_c[ch3]\n",
    "        N[ix1, ix2] += 1\n",
    "        #print((ch1+ch2, ch3))"
   ]
  },
  {
   "cell_type": "code",
   "execution_count": 13,
   "id": "ac632f4a-7229-4915-a678-ae9e8ec91ed1",
   "metadata": {
    "tags": []
   },
   "outputs": [],
   "source": [
    "itos_c = {v:k for k,v in stoi_c.items()}\n",
    "itos_p = {v:k for k,v in stoi_p.items()}"
   ]
  },
  {
   "cell_type": "code",
   "execution_count": 14,
   "id": "c87c8e2c-a444-49be-b109-43544c8e4b92",
   "metadata": {
    "tags": []
   },
   "outputs": [
    {
     "data": {
      "text/plain": [
       "torch.Size([601, 27])"
      ]
     },
     "execution_count": 14,
     "metadata": {},
     "output_type": "execute_result"
    }
   ],
   "source": [
    "N.shape"
   ]
  },
  {
   "cell_type": "markdown",
   "id": "85eecb20-1d27-4594-a753-45479dd032f2",
   "metadata": {
    "tags": []
   },
   "source": [
    "Now, we have a table where each row represents a bigram and each column represents how many times a single letter follows that bigram in the dataset.\n",
    "\n",
    "Remeber we want to make a model that given a bigram can predict the next letter that follows and can generate new names this way. In this model, we could for example start with \".e\" and the model predict \"m\" then we have \"em\" and the model predicts \"a\" and so on. \n",
    "\n",
    "The question the model is asking each time then: given I see \".e\", what is the probability I get \"a\" or \"b\" or \"c\" ..etc.\n",
    "So, given a bigram, we want a probability distribution over the single characters. We use it to sample from them.\n",
    "But, we have counts not probabilities. We thus need to generate probabilities from counts.\n",
    "\n",
    "We have 601 x 27 tensor. We want a probabilty distribution over the single letters (columns) for each of the 601 bigrams (rows). So, we want to divide each cell in a row by the sum of that row."
   ]
  },
  {
   "cell_type": "code",
   "execution_count": 15,
   "id": "68e77ba2-084d-4fc1-9480-b4559a090243",
   "metadata": {
    "tags": []
   },
   "outputs": [
    {
     "data": {
      "text/plain": [
       "torch.Size([601, 1])"
      ]
     },
     "execution_count": 15,
     "metadata": {},
     "output_type": "execute_result"
    }
   ],
   "source": [
    "# to get row sums\n",
    "N.sum(1, keepdim=True).shape"
   ]
  },
  {
   "cell_type": "code",
   "execution_count": 16,
   "id": "e3384a26-694c-4b14-abb7-fd8832aa998c",
   "metadata": {
    "tags": []
   },
   "outputs": [],
   "source": [
    "P = N / N.sum(1, keepdim=True)"
   ]
  },
  {
   "cell_type": "code",
   "execution_count": 17,
   "id": "8c836d8e-e836-4228-8ef6-f6a42802e599",
   "metadata": {
    "tags": []
   },
   "outputs": [
    {
     "data": {
      "text/plain": [
       "tensor([[1.0000],\n",
       "        [1.0000],\n",
       "        [1.0000],\n",
       "        [1.0000],\n",
       "        [1.0000],\n",
       "        [1.0000],\n",
       "        [1.0000],\n",
       "        [1.0000],\n",
       "        [1.0000],\n",
       "        [1.0000]])"
      ]
     },
     "execution_count": 17,
     "metadata": {},
     "output_type": "execute_result"
    }
   ],
   "source": [
    "#confirm probability worked out\n",
    "P.sum(1, keepdim=True)[:10]"
   ]
  },
  {
   "cell_type": "code",
   "execution_count": 18,
   "id": "37e87c77-4159-44a1-9d71-a23e616e2169",
   "metadata": {
    "tags": []
   },
   "outputs": [],
   "source": [
    "# a generator for the sampling\n",
    "g = torch.Generator().manual_seed(42)"
   ]
  },
  {
   "cell_type": "markdown",
   "id": "ca4c5d06-fc2e-4f2b-9c80-b4ff47435ead",
   "metadata": {
    "tags": []
   },
   "source": [
    "How to sample? \n",
    "\n",
    "We have rows of bigrams \".a, .b, .c, ... aa, ab, .. , zz\"\\\n",
    "We have cols of singles \"a, b, c .. .\"\\\n",
    "The only possible start bigrams are \".a, .b, ...z\"\\\n",
    "```\n",
    "We need to initialize our draw by sampling from the possible 27 \".letter\" bigrams out of the 601 bigram rows.\n",
    "Suppose we pull \".e\", we then get its row and sample the next single letter from it eg \"m\"\n",
    "Our bigram then becomes \"em\" and we gets its row and sample a single letter from it.\n",
    "We keep going until we hit \".\"\n",
    "```"
   ]
  },
  {
   "cell_type": "markdown",
   "id": "8d29c44f-7e85-4af3-938e-0a5d2dc38c6a",
   "metadata": {
    "tags": []
   },
   "source": [
    "The Multinomial distribution is a generalization of the Binomial.\\\n",
    "Binomial counts the successes in a fixed number of trials that can only be categorized as success or failure.\\\n",
    "Multinomial keeps track of trials whose outcomes can fall into multiple categories, such as excellent, adequate, poor; or red, yellow, green, blue. (From:introduction-to-probability-by-joseph-k-blitzstein-and-jessica-hwang)."
   ]
  },
  {
   "cell_type": "code",
   "execution_count": 19,
   "id": "16695850-9158-4352-ac6d-2d59f42b29f8",
   "metadata": {
    "tags": []
   },
   "outputs": [],
   "source": [
    "# frequencies of .letter bigrams (possible start bigrams)\n",
    "alphabet = sorted(list(set(''.join(words))))\n",
    "starts = {}\n",
    "for w in words:\n",
    "    chs = ['.'] + list(w) + ['.']\n",
    "    for ch1, ch2 in zip(chs, chs[1:]):\n",
    "        if ch1 == '.':\n",
    "            starts[ch1+ch2] = starts.get(ch1+ch2, 0) + 1"
   ]
  },
  {
   "cell_type": "code",
   "execution_count": 20,
   "id": "1e8f9d64-def8-47b1-921b-64092851b1e0",
   "metadata": {
    "tags": []
   },
   "outputs": [],
   "source": [
    "#for tup in sorted(starts.items()):\n",
    "    #print(tup[0], tup[1])"
   ]
  },
  {
   "cell_type": "code",
   "execution_count": 21,
   "id": "40e72509-8ea1-4a9e-bc53-99a8232c079a",
   "metadata": {
    "tags": []
   },
   "outputs": [],
   "source": [
    "Nstarts = torch.tensor([tup[1] for tup in sorted(starts.items())])"
   ]
  },
  {
   "cell_type": "code",
   "execution_count": 22,
   "id": "9449a448-47f6-44b6-91f0-537305685ca9",
   "metadata": {
    "tags": []
   },
   "outputs": [],
   "source": [
    "pstarts = Nstarts / Nstarts.sum()"
   ]
  },
  {
   "cell_type": "code",
   "execution_count": 23,
   "id": "e7d3af40-8054-49e5-a7d3-c21156bef473",
   "metadata": {
    "tags": []
   },
   "outputs": [
    {
     "data": {
      "text/plain": [
       "tensor([0.1377, 0.0408, 0.0481, 0.0528, 0.0478, 0.0130, 0.0209, 0.0273, 0.0184,\n",
       "        0.0756, 0.0925, 0.0491, 0.0792, 0.0358, 0.0123, 0.0161, 0.0029, 0.0512,\n",
       "        0.0642, 0.0408, 0.0024, 0.0117, 0.0096, 0.0042, 0.0167, 0.0290])"
      ]
     },
     "execution_count": 23,
     "metadata": {},
     "output_type": "execute_result"
    }
   ],
   "source": [
    "pstarts"
   ]
  },
  {
   "cell_type": "code",
   "execution_count": 24,
   "id": "50065a5d-7230-4ce7-8043-c6a0a6310173",
   "metadata": {},
   "outputs": [],
   "source": [
    "# let's create conversion dicts for these \n",
    "itos_bi = {i:'.'+ltr for i, ltr in enumerate(alphabet)}\n",
    "#itos_bi"
   ]
  },
  {
   "cell_type": "code",
   "execution_count": 25,
   "id": "ba85f009-b4f0-4609-a56c-fcda84c5f71b",
   "metadata": {
    "tags": []
   },
   "outputs": [
    {
     "data": {
      "text/plain": [
       "'.a'"
      ]
     },
     "execution_count": 25,
     "metadata": {},
     "output_type": "execute_result"
    }
   ],
   "source": [
    "# now we can sample from starts and find out which bigram we sampled\n",
    "ixr = torch.multinomial(pstarts, num_samples=1, replacement=True, generator=g).item()\n",
    "bigram = itos_bi[ixr]\n",
    "bigram"
   ]
  },
  {
   "cell_type": "code",
   "execution_count": 26,
   "id": "2ffb9abf-1a15-4e42-86a5-f879c2c4f99c",
   "metadata": {
    "tags": []
   },
   "outputs": [
    {
     "data": {
      "text/plain": [
       "10"
      ]
     },
     "execution_count": 26,
     "metadata": {},
     "output_type": "execute_result"
    }
   ],
   "source": [
    "# then we can get the row of that bigram\n",
    "single = stoi_p[bigram] #next single\n",
    "single"
   ]
  },
  {
   "cell_type": "code",
   "execution_count": 27,
   "id": "67f75c42-e1ba-4271-ab40-d164d2c8663b",
   "metadata": {
    "tags": []
   },
   "outputs": [
    {
     "data": {
      "text/plain": [
       "'.a'"
      ]
     },
     "execution_count": 27,
     "metadata": {},
     "output_type": "execute_result"
    }
   ],
   "source": [
    "# confirm we have the right bigram\n",
    "itos_p[10]"
   ]
  },
  {
   "cell_type": "code",
   "execution_count": 28,
   "id": "2a779598-8a48-4950-aaaf-763c1c045347",
   "metadata": {
    "tags": []
   },
   "outputs": [
    {
     "data": {
      "text/plain": [
       "tensor([0.0000, 0.0469, 0.0431, 0.0070, 0.0830, 0.0125, 0.0048, 0.0039, 0.0206,\n",
       "        0.0349, 0.0061, 0.0170, 0.1433, 0.0871, 0.1413, 0.0023, 0.0039, 0.0020,\n",
       "        0.1093, 0.0440, 0.0163, 0.0345, 0.0551, 0.0014, 0.0061, 0.0392, 0.0345])"
      ]
     },
     "execution_count": 28,
     "metadata": {},
     "output_type": "execute_result"
    }
   ],
   "source": [
    "# get its row\n",
    "psingle = P[single]\n",
    "psingle"
   ]
  },
  {
   "cell_type": "code",
   "execution_count": 29,
   "id": "8f452bde-78d7-48a8-82a7-0fa8c80f1b95",
   "metadata": {
    "tags": []
   },
   "outputs": [
    {
     "data": {
      "text/plain": [
       "2"
      ]
     },
     "execution_count": 29,
     "metadata": {},
     "output_type": "execute_result"
    }
   ],
   "source": [
    "# sample from it\n",
    "ixc = torch.multinomial(psingle, num_samples=1, replacement=True, generator=g).item()\n",
    "ixc"
   ]
  },
  {
   "cell_type": "code",
   "execution_count": 30,
   "id": "d35f67d4-7276-4b13-8797-d4e8f6fe675d",
   "metadata": {
    "tags": []
   },
   "outputs": [
    {
     "data": {
      "text/plain": [
       "'b'"
      ]
     },
     "execution_count": 30,
     "metadata": {},
     "output_type": "execute_result"
    }
   ],
   "source": [
    "mono = itos_c[ixc]\n",
    "mono"
   ]
  },
  {
   "cell_type": "code",
   "execution_count": 31,
   "id": "7c607be5-f634-453b-95ff-b2589553d03f",
   "metadata": {
    "tags": []
   },
   "outputs": [
    {
     "data": {
      "text/plain": [
       "'ab'"
      ]
     },
     "execution_count": 31,
     "metadata": {},
     "output_type": "execute_result"
    }
   ],
   "source": [
    "bigram[1] + mono"
   ]
  },
  {
   "cell_type": "code",
   "execution_count": 32,
   "id": "83fefdb1-1459-45fb-98b4-4bdc74154443",
   "metadata": {
    "tags": []
   },
   "outputs": [
    {
     "data": {
      "text/plain": [
       "16"
      ]
     },
     "execution_count": 32,
     "metadata": {},
     "output_type": "execute_result"
    }
   ],
   "source": [
    "# next bigram & repeat\n",
    "stoi_p[bigram[1] + mono]"
   ]
  },
  {
   "cell_type": "code",
   "execution_count": 33,
   "id": "4b2f8c3e-d7ff-4ec5-b6d9-c95b8210bbc3",
   "metadata": {
    "tags": []
   },
   "outputs": [
    {
     "name": "stdout",
     "output_type": "stream",
     "text": [
      "abelyra.\n",
      "blisen.\n",
      "mel.\n",
      "mak.\n",
      "aya.\n",
      "aidalinmakey.\n",
      "jazoe.\n",
      "mckeandy.\n",
      "hel.\n",
      "nah.\n",
      "jett.\n",
      "kylan.\n",
      "khaiona.\n",
      "ty.\n",
      "na.\n",
      "vi.\n",
      "kylen.\n",
      "yadondie.\n",
      "lie.\n",
      "aahawayledaloran.\n"
     ]
    }
   ],
   "source": [
    "# in a loop\n",
    "for _ in range(20):\n",
    "    \n",
    "    ixbi = torch.multinomial(pstarts, num_samples=1, replacement=True, generator=g).item() # ix of starting bigram\n",
    "    bi = itos_bi[ixbi] # the bigram itself\n",
    "    out = [bi[1]] \n",
    "\n",
    "    while True:\n",
    "        ixr = stoi_p[bi] # pull the row of the bigram\n",
    "        p = P[ixr] # distribution over single letters following the bigram\n",
    "        ixc = torch.multinomial(p, num_samples=1, replacement=True, generator=g).item() # sample from it\n",
    "        mono = itos_c[ixc] # get the single letter to add to output\n",
    "        out.append(mono)\n",
    "        bi = bi[1]+mono # new bigram (move 1 letter in prev bigram + add new single)\n",
    "        if mono == '.':\n",
    "            break\n",
    "    print(''.join(out))"
   ]
  },
  {
   "cell_type": "markdown",
   "id": "de4f6513-e383-400c-8787-1b40a3f7142d",
   "metadata": {},
   "source": [
    "**How to evaluate the quality of this model**\n",
    "\n",
    "Let's compare the frequency counts (probabilities) of our model to the random model where any single character could follow any bigram.\\\n",
    "If any single character could follow any bigram, what do we expect the probability of that to be? \n",
    "\n",
    "?? is it 1/ num bigrams = 1 / 601 ???"
   ]
  },
  {
   "cell_type": "code",
   "execution_count": 34,
   "id": "9c095979-bab9-495c-a369-e28ddaa4d3b4",
   "metadata": {
    "tags": []
   },
   "outputs": [
    {
     "name": "stdout",
     "output_type": "stream",
     "text": [
      "em , m : 0.1300390064716339\n",
      "mm , a : 0.4285714328289032\n",
      "ol , i : 0.11147011071443558\n",
      "li , v : 0.02177419327199459\n",
      "iv , i : 0.2899628281593323\n",
      "vi , a : 0.16136114299297333\n",
      "av , a : 0.19304555654525757\n",
      "is , a : 0.10790273547172546\n",
      "sa , b : 0.06328059732913971\n",
      "ab , e : 0.319778174161911\n",
      "be , l : 0.3068702220916748\n",
      "el , l : 0.253078818321228\n",
      "ll , a : 0.25055763125419617\n",
      "so , p : 0.03954802080988884\n",
      "op , h : 0.38947367668151855\n",
      "ph , i : 0.29901960492134094\n",
      "hi , a : 0.1111111119389534\n"
     ]
    }
   ],
   "source": [
    "for w in words[:5]:\n",
    "    chs = ['.'] + list(w) + ['.']\n",
    "    for ch1, ch2, ch3 in zip(w, w[1:], w[2:]):\n",
    "        ixr = stoi_p[ch1+ch2]\n",
    "        ixc = stoi_c[ch3]\n",
    "        print(f'{ch1+ch2} , {ch3} : {P[ixr, ixc]}')"
   ]
  },
  {
   "cell_type": "markdown",
   "id": "a3338dd4-be61-4ded-b6aa-9c2af3c277d3",
   "metadata": {},
   "source": [
    "### An Exploration of Negative log-likelihood:"
   ]
  },
  {
   "cell_type": "markdown",
   "id": "24360142-2391-4e2f-8307-1b3d7c22a16d",
   "metadata": {},
   "source": [
    "Can we summarize all of these probabilities into one number? Each one of these is the probability that our model (the table) produces each one of these (bigram, monogram) tuples. What is the probability that our model produces all these examples (samples)? Well, multiply all these probabilities together. We call the resulting number the likelihood.\\\n",
    "Since multiplying probabilities (floats between 0 and 1) is problematic, we'll change this to a summation of log(probs):"
   ]
  },
  {
   "cell_type": "code",
   "execution_count": 35,
   "id": "d2d09757-da0d-4024-a464-20d29d836c44",
   "metadata": {
    "tags": []
   },
   "outputs": [
    {
     "name": "stdout",
     "output_type": "stream",
     "text": [
      "em , m : 0.1300390064716339 , -2.0399208068847656\n",
      "mm , a : 0.4285714328289032 , -0.8472978472709656\n",
      "ol , i : 0.11147011071443558 , -2.1939988136291504\n",
      "li , v : 0.02177419327199459 , -3.8270297050476074\n",
      "iv , i : 0.2899628281593323 , -1.2380025386810303\n",
      "vi , a : 0.16136114299297333 , -1.8241102695465088\n",
      "av , a : 0.19304555654525757 , -1.6448290348052979\n",
      "is , a : 0.10790273547172546 , -2.226525068283081\n",
      "sa , b : 0.06328059732913971 , -2.760176420211792\n",
      "ab , e : 0.319778174161911 , -1.1401277780532837\n",
      "be , l : 0.3068702220916748 , -1.1813303232192993\n",
      "el , l : 0.253078818321228 , -1.3740543127059937\n",
      "ll , a : 0.25055763125419617 , -1.3840663433074951\n",
      "so , p : 0.03954802080988884 , -3.2302396297454834\n",
      "op , h : 0.38947367668151855 , -0.9429590106010437\n",
      "ph , i : 0.29901960492134094 , -1.20724618434906\n",
      "hi , a : 0.1111111119389534 , -2.1972246170043945\n",
      "-31.259136199951172\n"
     ]
    }
   ],
   "source": [
    "log_likelihood = 0\n",
    "for w in words[:5]:\n",
    "    chs = ['.'] + list(w) + ['.']\n",
    "    for ch1, ch2, ch3 in zip(w, w[1:], w[2:]):\n",
    "        ixr = stoi_p[ch1+ch2]\n",
    "        ixc = stoi_c[ch3]\n",
    "        p = P[ixr, ixc]\n",
    "        logp = torch.log(p)\n",
    "        log_likelihood += logp\n",
    "        print(f'{ch1+ch2} , {ch3} : {p} , {logp}')\n",
    "print(log_likelihood.item())"
   ]
  },
  {
   "cell_type": "code",
   "execution_count": 36,
   "id": "598faca2-661d-42e2-b945-773baace6943",
   "metadata": {
    "tags": []
   },
   "outputs": [
    {
     "name": "stdout",
     "output_type": "stream",
     "text": [
      "Mean negative log-likelihood : 2.2954144641680614\n"
     ]
    }
   ],
   "source": [
    "#Turn to positive number and take the mean. Do for all words\n",
    "n = 0 #num probs added\n",
    "log_likelihood = 0\n",
    "\n",
    "for w in words:\n",
    "    chs = ['.'] + list(w) + ['.']\n",
    "    for ch1, ch2, ch3 in zip(w, w[1:], w[2:]):\n",
    "        ixr = stoi_p[ch1+ch2]\n",
    "        ixc = stoi_c[ch3]\n",
    "        p = P[ixr, ixc]\n",
    "        logp = torch.log(p)\n",
    "        n += 1\n",
    "        log_likelihood += logp\n",
    "        #print(f'{ch1+ch2} , {ch3} : {p} , {logp}')\n",
    "\n",
    "nll = - log_likelihood.item()\n",
    "nll /= n\n",
    "print(f'Mean negative log-likelihood : {nll}')"
   ]
  },
  {
   "cell_type": "markdown",
   "id": "f267b341-dbbd-4e08-8d8a-620cb3876c4a",
   "metadata": {
    "tags": []
   },
   "source": [
    "#### Using a Neural Network"
   ]
  },
  {
   "cell_type": "markdown",
   "id": "35b29c46-53b8-4a9d-9079-163a235ed398",
   "metadata": {},
   "source": [
    "How do we train a neural network to do the above? We want the neural network to learn the frequency counts by itself from the data. It takes as input a bigram and outputs a likely monogram following it.\\\n",
    "Each pair of (bigram, monogram) will be an example to the NN.\\"
   ]
  },
  {
   "cell_type": "code",
   "execution_count": 37,
   "id": "d7fdf41c-cab8-444a-9976-f7ba50c69d2c",
   "metadata": {
    "tags": []
   },
   "outputs": [
    {
     "data": {
      "text/plain": [
       "(601, 27)"
      ]
     },
     "execution_count": 37,
     "metadata": {},
     "output_type": "execute_result"
    }
   ],
   "source": [
    "len(pairs), len(chars)"
   ]
  },
  {
   "cell_type": "code",
   "execution_count": 38,
   "id": "dbf1eb15-8f02-4cfc-9f03-9995125768d2",
   "metadata": {
    "tags": []
   },
   "outputs": [],
   "source": [
    "xs = []\n",
    "ys = []\n",
    "\n",
    "for w in words:\n",
    "    chs = ['.'] + list(w) + ['.']\n",
    "    for ch1, ch2, ch3 in zip(chs, chs[1:], chs[2:]):\n",
    "        xs.append(stoi_p[ch1+ch2])\n",
    "        ys.append(stoi_c[ch3])"
   ]
  },
  {
   "cell_type": "code",
   "execution_count": 39,
   "id": "46d369e2-e645-451b-ac90-24a1d06631ca",
   "metadata": {
    "tags": []
   },
   "outputs": [
    {
     "data": {
      "text/plain": [
       "True"
      ]
     },
     "execution_count": 39,
     "metadata": {},
     "output_type": "execute_result"
    }
   ],
   "source": [
    "len(xs) == len(ys)"
   ]
  },
  {
   "cell_type": "code",
   "execution_count": 40,
   "id": "3e557855-f0c5-4095-8fa1-39fe013876cd",
   "metadata": {
    "tags": []
   },
   "outputs": [],
   "source": [
    "# convert to tensors to provide to NN\n",
    "xs = torch.tensor(xs)\n",
    "ys = torch.tensor(ys)"
   ]
  },
  {
   "cell_type": "code",
   "execution_count": 41,
   "id": "cee962ed-0318-449b-b4fc-a2346af5f7b1",
   "metadata": {
    "tags": []
   },
   "outputs": [
    {
     "data": {
      "text/plain": [
       "(torch.Size([196113]), torch.Size([196113]))"
      ]
     },
     "execution_count": 41,
     "metadata": {},
     "output_type": "execute_result"
    }
   ],
   "source": [
    "xs.shape, ys.shape"
   ]
  },
  {
   "cell_type": "markdown",
   "id": "d922bcb2-3df1-4ac9-ba5d-067b7bb79a8c",
   "metadata": {},
   "source": [
    "But these are indices which we can't provide to a neural network. We will need to do one-hot-encoding."
   ]
  },
  {
   "cell_type": "code",
   "execution_count": 42,
   "id": "12cf4089-0761-4308-ab58-73fc338376a3",
   "metadata": {
    "tags": []
   },
   "outputs": [],
   "source": [
    "xenc = torch.nn.functional.one_hot(xs).float()"
   ]
  },
  {
   "cell_type": "code",
   "execution_count": 43,
   "id": "59ea6e90-6888-4847-b460-bf986c757b89",
   "metadata": {
    "tags": []
   },
   "outputs": [
    {
     "data": {
      "text/plain": [
       "(torch.Size([196113, 601]), torch.float32)"
      ]
     },
     "execution_count": 43,
     "metadata": {},
     "output_type": "execute_result"
    }
   ],
   "source": [
    "xenc.shape, xenc.dtype"
   ]
  },
  {
   "cell_type": "markdown",
   "id": "a05fe302-c143-4dd4-afc2-419ea7afcaa0",
   "metadata": {},
   "source": [
    "We now get 196113 sample inputs. Each sample is encoded in 601 digits (so will need at least 601 synapses). We try to predict the distribution over the 27 single characters that can follow. "
   ]
  },
  {
   "cell_type": "code",
   "execution_count": 44,
   "id": "45761afa-d3a8-46ef-af24-1cbc6e5a8a99",
   "metadata": {
    "tags": []
   },
   "outputs": [],
   "source": [
    "W = torch.randn((xenc.shape[1], 27), requires_grad=True)"
   ]
  },
  {
   "cell_type": "code",
   "execution_count": 45,
   "id": "0dd1a7cb-d03f-466e-a432-cf02c0439f23",
   "metadata": {
    "tags": []
   },
   "outputs": [
    {
     "data": {
      "text/plain": [
       "torch.Size([196113, 27])"
      ]
     },
     "execution_count": 45,
     "metadata": {},
     "output_type": "execute_result"
    }
   ],
   "source": [
    "(xenc@W).shape # 1 prediction per example"
   ]
  },
  {
   "cell_type": "code",
   "execution_count": 46,
   "id": "c1df9403-cd82-4763-be24-eba255eb425b",
   "metadata": {
    "tags": []
   },
   "outputs": [
    {
     "data": {
      "text/plain": [
       "tensor([13, 13,  1,  0, 12,  9, 22,  9,  1,  0])"
      ]
     },
     "execution_count": 46,
     "metadata": {},
     "output_type": "execute_result"
    }
   ],
   "source": [
    "ys[:10]"
   ]
  },
  {
   "cell_type": "code",
   "execution_count": 47,
   "id": "e3b5c899-8926-4d07-abba-dc1a3371871f",
   "metadata": {
    "tags": []
   },
   "outputs": [
    {
     "data": {
      "text/plain": [
       "tensor([[0.2194, 1.6857, 2.1620,  ..., 1.1893, 0.5361, 0.3062],\n",
       "        [1.7395, 1.5871, 1.6435,  ..., 0.8266, 3.8805, 1.0525],\n",
       "        [1.5640, 1.9469, 0.7122,  ..., 0.8532, 5.6416, 0.2246],\n",
       "        ...,\n",
       "        [0.3268, 0.4620, 3.4924,  ..., 0.3951, 0.3109, 7.8389],\n",
       "        [8.8747, 0.3107, 1.6506,  ..., 0.9247, 4.1936, 1.9793],\n",
       "        [0.6362, 1.6863, 2.4741,  ..., 0.2520, 0.6225, 2.8831]],\n",
       "       grad_fn=<ExpBackward0>)"
      ]
     },
     "execution_count": 47,
     "metadata": {},
     "output_type": "execute_result"
    }
   ],
   "source": [
    "(xenc@W).exp()"
   ]
  },
  {
   "cell_type": "markdown",
   "id": "5566501d-59ae-4737-b8d9-cafd30fc97da",
   "metadata": {},
   "source": [
    "We interpret the numbers the network produces as log(counts) aka logits. We therefore can get counts from them using exp(logits). Once we have counts, we can get probabilities. When we have probabilities, we can get negative log-likelihood."
   ]
  },
  {
   "cell_type": "code",
   "execution_count": 48,
   "id": "eb0c6898-2d5d-4d60-b5a9-5341dfa07502",
   "metadata": {
    "tags": []
   },
   "outputs": [
    {
     "data": {
      "text/plain": [
       "torch.Size([196113, 27])"
      ]
     },
     "execution_count": 48,
     "metadata": {},
     "output_type": "execute_result"
    }
   ],
   "source": [
    "logits = (xenc@W)\n",
    "counts = logits.exp()\n",
    "counts.shape"
   ]
  },
  {
   "cell_type": "code",
   "execution_count": 49,
   "id": "003e7452-0c8b-4901-81fb-385b036d21ee",
   "metadata": {
    "tags": []
   },
   "outputs": [
    {
     "data": {
      "text/plain": [
       "torch.Size([196113, 27])"
      ]
     },
     "execution_count": 49,
     "metadata": {},
     "output_type": "execute_result"
    }
   ],
   "source": [
    "probs = counts / counts.sum(dim=1, keepdim=True)\n",
    "probs.shape"
   ]
  },
  {
   "cell_type": "code",
   "execution_count": 50,
   "id": "afd2756c-a573-4859-af15-e50be9afd887",
   "metadata": {
    "tags": []
   },
   "outputs": [
    {
     "data": {
      "text/plain": [
       "tensor([0.0065, 0.0501, 0.0642, 0.0074, 0.0445, 0.0208, 0.0911, 0.0665, 0.0219,\n",
       "        0.0444, 0.0217, 0.0707, 0.0373, 0.0229, 0.0043, 0.0176, 0.0450, 0.0191,\n",
       "        0.0564, 0.0784, 0.0339, 0.0217, 0.0698, 0.0236, 0.0353, 0.0159, 0.0091],\n",
       "       grad_fn=<SelectBackward0>)"
      ]
     },
     "execution_count": 50,
     "metadata": {},
     "output_type": "execute_result"
    }
   ],
   "source": [
    "probs[0]"
   ]
  },
  {
   "cell_type": "code",
   "execution_count": 51,
   "id": "71f583a4-12af-4422-a88b-cdd2f08c4ec9",
   "metadata": {
    "tags": []
   },
   "outputs": [
    {
     "data": {
      "text/plain": [
       "tensor(1., grad_fn=<SumBackward0>)"
      ]
     },
     "execution_count": 51,
     "metadata": {},
     "output_type": "execute_result"
    }
   ],
   "source": [
    "probs[0].sum()"
   ]
  },
  {
   "cell_type": "code",
   "execution_count": 52,
   "id": "22892624-c57d-42a3-b226-4834141d83ab",
   "metadata": {
    "tags": []
   },
   "outputs": [
    {
     "data": {
      "text/plain": [
       "0.02287328615784645"
      ]
     },
     "execution_count": 52,
     "metadata": {},
     "output_type": "execute_result"
    }
   ],
   "source": [
    "# what is the probability of the right next character (ie prob of ys) \n",
    "probs[0][ys[0]].item()"
   ]
  },
  {
   "cell_type": "code",
   "execution_count": 53,
   "id": "a82ac98a-0f99-4034-a6d7-fe1ebc860757",
   "metadata": {
    "tags": []
   },
   "outputs": [
    {
     "data": {
      "text/plain": [
       "196113"
      ]
     },
     "execution_count": 53,
     "metadata": {},
     "output_type": "execute_result"
    }
   ],
   "source": [
    "len(probs[torch.arange(ys.shape[0]), ys]) # to extract all the probabilties of the true ys"
   ]
  },
  {
   "cell_type": "code",
   "execution_count": 54,
   "id": "58c7e229-550c-49b9-88c6-fabb44375c54",
   "metadata": {
    "tags": []
   },
   "outputs": [],
   "source": [
    "loss = - probs[torch.arange(ys.shape[0]), ys].log().mean()"
   ]
  },
  {
   "cell_type": "code",
   "execution_count": 55,
   "id": "32536c38-edcb-4936-a920-e8f2c60df47f",
   "metadata": {
    "tags": []
   },
   "outputs": [
    {
     "data": {
      "text/plain": [
       "3.8207290172576904"
      ]
     },
     "execution_count": 55,
     "metadata": {},
     "output_type": "execute_result"
    }
   ],
   "source": [
    "loss.item()"
   ]
  },
  {
   "cell_type": "code",
   "execution_count": 56,
   "id": "453598f2-a8a5-4fdf-9d37-20c7cb9ecfb3",
   "metadata": {
    "tags": []
   },
   "outputs": [],
   "source": [
    "W.grad = None"
   ]
  },
  {
   "cell_type": "code",
   "execution_count": 57,
   "id": "5f61f09f-60e6-4c5d-9472-bbbc37e41abc",
   "metadata": {},
   "outputs": [],
   "source": [
    "loss.backward()"
   ]
  },
  {
   "cell_type": "code",
   "execution_count": 58,
   "id": "a89553e8-3094-48cc-bbd8-5829f487d268",
   "metadata": {},
   "outputs": [],
   "source": [
    "W.data += -2.0 * W.grad"
   ]
  },
  {
   "cell_type": "code",
   "execution_count": 59,
   "id": "2ecdce92-f14a-4c42-86c0-e290dd02c8f4",
   "metadata": {
    "tags": []
   },
   "outputs": [
    {
     "name": "stdout",
     "output_type": "stream",
     "text": [
      "loss: 3.841233730316162\n",
      "loss: 3.1860947608947754\n",
      "loss: 2.911208391189575\n",
      "loss: 2.7542829513549805\n",
      "loss: 2.6705567836761475\n",
      "loss: 2.580219268798828\n",
      "loss: 2.526594400405884\n",
      "loss: 2.48793625831604\n",
      "loss: 2.4681761264801025\n",
      "loss: 2.4183642864227295\n",
      "loss: 2.394963026046753\n",
      "loss: 2.3791348934173584\n",
      "loss: 2.3775863647460938\n",
      "loss: 2.338414192199707\n",
      "loss: 2.323744058609009\n",
      "loss: 2.3141183853149414\n",
      "loss: 2.3131654262542725\n",
      "loss: 2.2958877086639404\n",
      "loss: 2.2991456985473633\n",
      "loss: 2.2738101482391357\n",
      "loss: 2.270207643508911\n",
      "loss: 2.265763998031616\n",
      "loss: 2.275935649871826\n",
      "loss: 2.2441213130950928\n",
      "loss: 2.2365331649780273\n",
      "loss: 2.231226682662964\n",
      "loss: 2.225750207901001\n",
      "loss: 2.221259593963623\n",
      "loss: 2.2166547775268555\n",
      "loss: 2.213848352432251\n"
     ]
    }
   ],
   "source": [
    "# let's train in a loop\n",
    "W = torch.randn((xenc.shape[1], 27), requires_grad=True) #initialize random weights\n",
    "for _ in range(30):\n",
    "    # forward pass\n",
    "    logits = xenc@W # output which we interpret as log(counts) aka logits\n",
    "    counts = logits.exp() # get the coutns themselves\n",
    "    probs = counts / counts.sum(dim=1, keepdims=True) # get probabilities from counts\n",
    "    loss = -probs[torch.arange(ys.shape[0]), ys].log().mean() # mean negative log-likelihood\n",
    "    print(f'loss: {loss.item()}')\n",
    "    \n",
    "    # backward pass\n",
    "    W.grad = None #zero the gradients so they don't accumulate from one loop to the next\n",
    "    loss.backward() #backprop\n",
    "    W.data -= 500 * W.grad #update the weights    "
   ]
  },
  {
   "cell_type": "markdown",
   "id": "19ba3a4a-57e5-44c4-b61f-a9df90d889f4",
   "metadata": {},
   "source": [
    "You see, we ge a slightly better loss than the Frequency Table model."
   ]
  },
  {
   "cell_type": "code",
   "execution_count": 60,
   "id": "9a9bd0e4-6632-45f8-a3a9-647a2ec92673",
   "metadata": {
    "tags": []
   },
   "outputs": [
    {
     "data": {
      "text/plain": [
       "torch.Size([3, 2])"
      ]
     },
     "execution_count": 60,
     "metadata": {},
     "output_type": "execute_result"
    }
   ],
   "source": [
    "# sampling\n",
    "a = torch.tensor([[1,2],[3,4],[5,6]])\n",
    "a.shape\n"
   ]
  },
  {
   "cell_type": "markdown",
   "id": "d1a47ab5-2bef-4079-8af3-cd8429fcfb78",
   "metadata": {
    "tags": []
   },
   "source": [
    "### Redo with better pre-processing:"
   ]
  },
  {
   "cell_type": "markdown",
   "id": "2cdc718b-75e9-4ca2-89c0-72a3f0baae4a",
   "metadata": {
    "tags": []
   },
   "source": [
    "Can we pre-process the data in a different way? I made an initial choice of how to represent the bigrams that made the sampling later more complicated. Let's redo the processing, but this time, we'll represent each trigram as a 3d vector. So, we'll have a 3D tensor where each cell is encoded by 3 indices x,y,z where P(x,y)->(z) "
   ]
  },
  {
   "cell_type": "code",
   "execution_count": 61,
   "id": "7536934e-801f-45af-83f6-702821e5ba14",
   "metadata": {
    "tags": []
   },
   "outputs": [
    {
     "data": {
      "text/plain": [
       "['.', 'a', 'b', 'c', 'd']"
      ]
     },
     "execution_count": 61,
     "metadata": {},
     "output_type": "execute_result"
    }
   ],
   "source": [
    "chars = ['.'] + sorted(list(set(''.join(words))))\n",
    "chars[:5]"
   ]
  },
  {
   "cell_type": "code",
   "execution_count": 62,
   "id": "af4ad014-5471-4950-8a96-0344b90f7147",
   "metadata": {
    "tags": []
   },
   "outputs": [],
   "source": [
    "stoi = {s:i for i,s in enumerate(chars)}\n",
    "itos = {i:s for s,i in stoi.items()}"
   ]
  },
  {
   "cell_type": "code",
   "execution_count": 63,
   "id": "1c03a024-8bea-43e1-a806-ebba7e6dd28c",
   "metadata": {
    "tags": []
   },
   "outputs": [
    {
     "data": {
      "text/plain": [
       "('a', 1)"
      ]
     },
     "execution_count": 63,
     "metadata": {},
     "output_type": "execute_result"
    }
   ],
   "source": [
    "itos[1], stoi['a']"
   ]
  },
  {
   "cell_type": "code",
   "execution_count": 64,
   "id": "0f2aab4a-809b-4d0c-b363-e497fb6585ba",
   "metadata": {
    "tags": []
   },
   "outputs": [
    {
     "data": {
      "text/plain": [
       "{('em', 'm'): 1,\n",
       " ('mm', 'a'): 1,\n",
       " ('ol', 'i'): 1,\n",
       " ('li', 'v'): 1,\n",
       " ('iv', 'i'): 1,\n",
       " ('vi', 'a'): 1,\n",
       " ('av', 'a'): 1,\n",
       " ('is', 'a'): 1,\n",
       " ('sa', 'b'): 1,\n",
       " ('ab', 'e'): 1,\n",
       " ('be', 'l'): 1,\n",
       " ('el', 'l'): 1,\n",
       " ('ll', 'a'): 1,\n",
       " ('so', 'p'): 1,\n",
       " ('op', 'h'): 1,\n",
       " ('ph', 'i'): 1,\n",
       " ('hi', 'a'): 1}"
      ]
     },
     "execution_count": 64,
     "metadata": {},
     "output_type": "execute_result"
    }
   ],
   "source": [
    "D = {}\n",
    "for w in words[:5]:\n",
    "    chs = ['.'] + list(w) + ['.']\n",
    "    for ch1, ch2, ch3 in zip(w, w[1:], w[2:]):\n",
    "        ix1 = stoi[ch1]\n",
    "        ix2 = stoi[ch2]\n",
    "        ix3 = stoi[ch3]\n",
    "        D[(ch1+ch2, ch3)] = D.get((ch1+ch2, ch3), 0) + 1\n",
    "D"
   ]
  },
  {
   "cell_type": "code",
   "execution_count": 65,
   "id": "f3e8c051-69c6-48a5-94c8-c36d59551973",
   "metadata": {
    "tags": []
   },
   "outputs": [],
   "source": [
    "N = torch.ones((27,27,27), dtype=torch.int32) # we'll do smoothing (no zero entries)\n",
    "for w in words:\n",
    "    chs = ['.'] + list(w) + ['.']\n",
    "    for ch1, ch2, ch3 in zip(chs, chs[1:], chs[2:]):\n",
    "        ix1 = stoi[ch1]\n",
    "        ix2 = stoi[ch2]\n",
    "        ix3 = stoi[ch3]\n",
    "        N[ix1, ix2, ix3] += 1"
   ]
  },
  {
   "cell_type": "markdown",
   "id": "9ff6dca5-c772-4023-b47d-663d48af8585",
   "metadata": {},
   "source": [
    "Let's make the table of counts into one of probabilities. How?\\\n",
    "For each bigram, we need to sum across all possible monograms that could follow it and divide each one by the sum.\\\n",
    "When we only had bigrams (x,y), we sum acorss y. When we have (x,y,z), we sum acorss z."
   ]
  },
  {
   "cell_type": "code",
   "execution_count": 66,
   "id": "77473b83-cda9-43e2-b44e-4884be4713f1",
   "metadata": {
    "tags": []
   },
   "outputs": [
    {
     "data": {
      "text/plain": [
       "torch.Size([27, 27, 1])"
      ]
     },
     "execution_count": 66,
     "metadata": {},
     "output_type": "execute_result"
    }
   ],
   "source": [
    "N.sum(dim=2, keepdim=True).shape"
   ]
  },
  {
   "cell_type": "code",
   "execution_count": 67,
   "id": "a8016969-7b23-4375-b2df-0b9a87bb3a65",
   "metadata": {
    "tags": []
   },
   "outputs": [],
   "source": [
    "P = N / N.sum(dim=2, keepdims=True)"
   ]
  },
  {
   "cell_type": "code",
   "execution_count": 68,
   "id": "a9044f88-586c-410d-ac76-03d583440478",
   "metadata": {
    "tags": []
   },
   "outputs": [
    {
     "data": {
      "text/plain": [
       "tensor(1.0000)"
      ]
     },
     "execution_count": 68,
     "metadata": {},
     "output_type": "execute_result"
    }
   ],
   "source": [
    "# confirm \n",
    "P[1,1].sum()"
   ]
  },
  {
   "cell_type": "code",
   "execution_count": 69,
   "id": "78886fee-4b04-4c2a-b81f-8af0b6220647",
   "metadata": {
    "tags": []
   },
   "outputs": [
    {
     "name": "stdout",
     "output_type": "stream",
     "text": [
      ".\n",
      "wuel.\n",
      "xion.\n",
      "brecheliel.\n",
      "preniella.\n",
      "yeisnyyfarynn.\n",
      "ba.\n",
      "khamir.\n",
      "quanah.\n",
      "ana.\n"
     ]
    }
   ],
   "source": [
    "# let's do sampling\n",
    "for _ in range(10):\n",
    "    ix1 = 0\n",
    "    ix2 = 0\n",
    "    out = []\n",
    "    \n",
    "    while True:\n",
    "        p = P[ix1, ix2]\n",
    "        ix1 = ix2\n",
    "        ix2 = torch.multinomial(p, num_samples=1, replacement=True, generator=g).item()\n",
    "        out.append(itos[ix2])\n",
    "\n",
    "        if ix2==0:\n",
    "            break\n",
    "        \n",
    "    print(''.join(out))"
   ]
  },
  {
   "cell_type": "code",
   "execution_count": 70,
   "id": "054526b4-1ab5-4666-b5f0-3c11e995f82d",
   "metadata": {
    "tags": []
   },
   "outputs": [
    {
     "name": "stdout",
     "output_type": "stream",
     "text": [
      "negative log-likelihood loss: 2.092747449874878\n"
     ]
    }
   ],
   "source": [
    "# evaluation using negative log-likelihood\n",
    "n = 0\n",
    "likelihood = 0\n",
    "for w in words:\n",
    "    chs = ['.'] + list(w) + ['.']\n",
    "    for ch1, ch2, ch3 in zip(chs, chs[1:], chs[2:]):\n",
    "        ix1 = stoi[ch1]\n",
    "        ix2 = stoi[ch2]\n",
    "        ix3 = stoi[ch3]\n",
    "        \n",
    "        n += 1\n",
    "        prob = P[ix1, ix2, ix3]\n",
    "        logp = prob.log()\n",
    "        likelihood += logp\n",
    "        #print(f'{ch1+ch2} -> {ch3} : {prob} : {logp}') \n",
    "\n",
    "nll = - likelihood / n\n",
    "print(f'negative log-likelihood loss: {nll}')"
   ]
  },
  {
   "cell_type": "markdown",
   "id": "aaeaa9ac-b1aa-4184-b4c8-ff6f82b6902a",
   "metadata": {},
   "source": [
    "#### Let's re-do using NNs"
   ]
  },
  {
   "cell_type": "code",
   "execution_count": 71,
   "id": "9aa875c0-2fb6-4efe-ad01-c6be79cb329a",
   "metadata": {
    "tags": []
   },
   "outputs": [],
   "source": [
    "xs = []; ys = []\n",
    "for w in words:\n",
    "    chs = ['.'] + list(w) + ['.']\n",
    "    for ch1, ch2, ch3 in zip(chs, chs[1:], chs[2:]):\n",
    "        ix1 = stoi[ch1]\n",
    "        ix2 = stoi[ch2]\n",
    "        ix3 = stoi[ch3]\n",
    "        \n",
    "        xs.append([ix1, ix2])\n",
    "        ys.append(ix3)\n",
    "\n",
    "xs = torch.tensor(xs, dtype=torch.int64)\n",
    "ys = torch.tensor(ys, dtype=torch.int64)"
   ]
  },
  {
   "cell_type": "code",
   "execution_count": 72,
   "id": "41c034d9-d42f-4307-b7a9-84120c6e24ed",
   "metadata": {
    "tags": []
   },
   "outputs": [
    {
     "data": {
      "text/plain": [
       "(torch.Size([196113, 2]), torch.Size([196113]))"
      ]
     },
     "execution_count": 72,
     "metadata": {},
     "output_type": "execute_result"
    }
   ],
   "source": [
    "xs.shape, ys.shape"
   ]
  },
  {
   "cell_type": "code",
   "execution_count": 73,
   "id": "48a6c493-4416-4d31-9832-4f286571d2fa",
   "metadata": {
    "tags": []
   },
   "outputs": [
    {
     "data": {
      "text/plain": [
       "tensor([ 0,  5, 13,  ..., 26, 25, 26])"
      ]
     },
     "execution_count": 73,
     "metadata": {},
     "output_type": "execute_result"
    }
   ],
   "source": [
    "xs[:,0]"
   ]
  },
  {
   "cell_type": "markdown",
   "id": "5aa5ac97-f4e4-42ee-b2f6-b5188c818a00",
   "metadata": {
    "tags": []
   },
   "source": [
    "How to do one-hot-encoding for this dataset? \n",
    "\n",
    "Consider what one-hot-encoding is doing: it takes a list of numbers (indices) and converts each one to an array of all 0s except one position of that index.\\\n",
    "Here, we have 2 indices x and y. What we can do is create a 3D Weight Matrix (like the table above) and one-hot encode each x and y then use them to index into it."
   ]
  },
  {
   "cell_type": "code",
   "execution_count": 74,
   "id": "4f0aca3d-49a6-4529-bbe9-ab1d9cd038f8",
   "metadata": {
    "tags": []
   },
   "outputs": [
    {
     "data": {
      "text/plain": [
       "torch.Size([196113, 2])"
      ]
     },
     "execution_count": 74,
     "metadata": {},
     "output_type": "execute_result"
    }
   ],
   "source": [
    "xs.shape"
   ]
  },
  {
   "cell_type": "code",
   "execution_count": 75,
   "id": "d92555e1-9cbe-4918-9918-6d1399cb435c",
   "metadata": {
    "tags": []
   },
   "outputs": [],
   "source": [
    "# think of 2 inputs x1, x2 and one output y (originally 3 dimensions x, y, z)\n",
    "x1enc = torch.nn.functional.one_hot(xs[:,0])\n",
    "x2enc = torch.nn.functional.one_hot(xs[:,1])"
   ]
  },
  {
   "cell_type": "code",
   "execution_count": 76,
   "id": "54de13be-2615-46de-bf4f-1252b96e1d5d",
   "metadata": {
    "tags": []
   },
   "outputs": [
    {
     "data": {
      "text/plain": [
       "torch.Size([27, 27, 27])"
      ]
     },
     "execution_count": 76,
     "metadata": {},
     "output_type": "execute_result"
    }
   ],
   "source": [
    "# and we can then have a 3D weight matrix to index into\n",
    "W = torch.randn((27, 27, 27), requires_grad=True)\n",
    "W.shape"
   ]
  },
  {
   "cell_type": "code",
   "execution_count": 77,
   "id": "50bc7a70-7d3a-41cd-8450-4fef75e8a1ba",
   "metadata": {
    "tags": []
   },
   "outputs": [
    {
     "data": {
      "text/plain": [
       "torch.Size([196113, 2, 27])"
      ]
     },
     "execution_count": 77,
     "metadata": {},
     "output_type": "execute_result"
    }
   ],
   "source": [
    "# but indexing might become more complicated then. Instead,\n",
    "# this could be done in one pass then we change the shape of the tensor\n",
    "xenc = torch.nn.functional.one_hot(xs).float()\n",
    "xenc.shape"
   ]
  },
  {
   "cell_type": "code",
   "execution_count": 78,
   "id": "1bfa51e2-a27e-40bd-9d21-e524bec0bdfc",
   "metadata": {
    "tags": []
   },
   "outputs": [
    {
     "data": {
      "text/plain": [
       "tensor([[1., 0., 0., 0., 0., 0., 0., 0., 0., 0., 0., 0., 0., 0., 0., 0., 0., 0.,\n",
       "         0., 0., 0., 0., 0., 0., 0., 0., 0.],\n",
       "        [0., 0., 0., 0., 0., 1., 0., 0., 0., 0., 0., 0., 0., 0., 0., 0., 0., 0.,\n",
       "         0., 0., 0., 0., 0., 0., 0., 0., 0.]])"
      ]
     },
     "execution_count": 78,
     "metadata": {},
     "output_type": "execute_result"
    }
   ],
   "source": [
    "xenc[0]"
   ]
  },
  {
   "cell_type": "markdown",
   "id": "c14af4e8-c530-410d-963e-63d363f7b08d",
   "metadata": {},
   "source": [
    "We have 196113 x 2 x 27. If we think of our 3 dimensions (for the 3 letters of the trigram) as x, y, z, then each x,y is represented by a 2 x 27 one-hot vector.\\\n",
    "What if instead of having a 3D weight matrix we combine the first 2 dimensions and make it 2D. We then can similarly combine the 2 dimensions x,y in our one-hot-encoded `xenc` such that each x,y is represented by 1 x 54 one-hot vector "
   ]
  },
  {
   "cell_type": "code",
   "execution_count": 79,
   "id": "9b8a24bc-29f9-4fd8-b4af-472db56d2f55",
   "metadata": {
    "tags": []
   },
   "outputs": [
    {
     "data": {
      "text/plain": [
       "torch.Size([196113, 54])"
      ]
     },
     "execution_count": 79,
     "metadata": {},
     "output_type": "execute_result"
    }
   ],
   "source": [
    "xenc.view(-1, 54).shape"
   ]
  },
  {
   "cell_type": "code",
   "execution_count": 80,
   "id": "338c16b7-4274-4a65-9089-d99dbfb38e3a",
   "metadata": {
    "tags": []
   },
   "outputs": [],
   "source": [
    "W = torch.randn((27*2, 27), requires_grad=True).float()"
   ]
  },
  {
   "cell_type": "markdown",
   "id": "c95f104a-680b-4547-ac49-51ee8611febe",
   "metadata": {},
   "source": [
    "`W = torch.randn((27*2, 27), requires_grad=True).float()`: 27*2 = 54 is the number of synapses needed. 27 is the number of outputs."
   ]
  },
  {
   "cell_type": "code",
   "execution_count": 81,
   "id": "c7e5a7a0-602b-43da-9077-003e673f08d9",
   "metadata": {
    "tags": []
   },
   "outputs": [],
   "source": [
    "xenc = xenc.view(-1, 54)"
   ]
  },
  {
   "cell_type": "code",
   "execution_count": 82,
   "id": "818aee0e-b125-46e7-b0b2-0b0549b04a13",
   "metadata": {
    "tags": []
   },
   "outputs": [
    {
     "data": {
      "text/plain": [
       "torch.Size([196113, 27])"
      ]
     },
     "execution_count": 82,
     "metadata": {},
     "output_type": "execute_result"
    }
   ],
   "source": [
    "# and now proceed as usual\n",
    "logits = xenc@W\n",
    "logits.shape"
   ]
  },
  {
   "cell_type": "code",
   "execution_count": 83,
   "id": "17ef504a-465e-4b7c-8d25-c78af1973657",
   "metadata": {
    "tags": []
   },
   "outputs": [],
   "source": [
    "counts = logits.exp()"
   ]
  },
  {
   "cell_type": "code",
   "execution_count": 84,
   "id": "9843b605-8771-4cdf-b694-862281a7edc4",
   "metadata": {
    "tags": []
   },
   "outputs": [],
   "source": [
    "probs = counts / counts.sum(dim=1, keepdims=True)"
   ]
  },
  {
   "cell_type": "code",
   "execution_count": 85,
   "id": "302d6c4b-a414-4a22-be12-829e025658fa",
   "metadata": {
    "tags": []
   },
   "outputs": [
    {
     "data": {
      "text/plain": [
       "tensor(4.3053, grad_fn=<NegBackward0>)"
      ]
     },
     "execution_count": 85,
     "metadata": {},
     "output_type": "execute_result"
    }
   ],
   "source": [
    "- probs[torch.arange(ys.shape[0]), ys].log().mean()"
   ]
  },
  {
   "cell_type": "code",
   "execution_count": 86,
   "id": "7eb2240a-bbf8-46fb-8067-91818661ba1a",
   "metadata": {
    "tags": []
   },
   "outputs": [],
   "source": [
    "import matplotlib.pyplot as plt"
   ]
  },
  {
   "cell_type": "code",
   "execution_count": 87,
   "id": "db786f32-a523-44b8-a060-36db19e9ccb0",
   "metadata": {
    "tags": []
   },
   "outputs": [],
   "source": [
    "xenc = torch.nn.functional.one_hot(xs).float()\n",
    "xenc = xenc.view(-1, 54)\n",
    "W = torch.randn((27*2, 27), requires_grad=True).float()\n",
    "num_epochs = 100\n",
    "lloss = []\n",
    "\n",
    "for _ in range(num_epochs):\n",
    "    #forward pass\n",
    "    logits = xenc@W\n",
    "    counts = logits.exp()\n",
    "    probs = counts / counts.sum(dim=1, keepdims=True)\n",
    "    loss = - probs[torch.arange(ys.shape[0]), ys].log().mean()\n",
    "    #print(f'Loss: {loss.item()}')\n",
    "    lloss.append(loss.item())\n",
    "\n",
    "    # backward pass\n",
    "    W.grad = None\n",
    "    loss.backward()\n",
    "    W.data -= 50 * W.grad"
   ]
  },
  {
   "cell_type": "code",
   "execution_count": 88,
   "id": "51b687fd-af99-4d8f-b24c-ae600131f536",
   "metadata": {
    "tags": []
   },
   "outputs": [
    {
     "data": {
      "image/png": "[encoded data removed]",
      "text/plain": [
       "<Figure size 640x480 with 1 Axes>"
      ]
     },
     "metadata": {},
     "output_type": "display_data"
    }
   ],
   "source": [
    "plt.plot(range(num_epochs), lloss);"
   ]
  },
  {
   "cell_type": "code",
   "execution_count": 89,
   "id": "8d9d7d98-2910-483f-9bb6-fed48ae6c966",
   "metadata": {
    "tags": []
   },
   "outputs": [
    {
     "name": "stdout",
     "output_type": "stream",
     "text": [
      "Final loss: 2.263171434402466\n"
     ]
    }
   ],
   "source": [
    "print(f'Final loss: {lloss[-1]}')"
   ]
  },
  {
   "cell_type": "markdown",
   "id": "e6305415-4d4f-4712-b999-d6d2e03a11af",
   "metadata": {
    "tags": []
   },
   "source": [
    "We can there see the loss going down over time and reaching a final loss close to our Table model."
   ]
  },
  {
   "cell_type": "markdown",
   "id": "a65490f7-1653-4ea0-9f5a-4518d7ad7916",
   "metadata": {
    "tags": []
   },
   "source": [
    "### E02: \n",
    "Split up the dataset randomly into 80% train set, 10% dev set, 10% test set. Train the bigram and trigram models only on the training set. Evaluate them on dev and test splits. What can you see?"
   ]
  },
  {
   "cell_type": "code",
   "execution_count": 90,
   "id": "057f6b8a-eedf-469e-9cd2-ab2a49989032",
   "metadata": {
    "tags": []
   },
   "outputs": [
    {
     "data": {
      "text/plain": [
       "(torch.Size([196113, 2]), torch.Size([196113]))"
      ]
     },
     "execution_count": 90,
     "metadata": {},
     "output_type": "execute_result"
    }
   ],
   "source": [
    "xs.shape, ys.shape"
   ]
  },
  {
   "cell_type": "code",
   "execution_count": 91,
   "id": "23ce684e-c385-41e5-9e3b-51f9fd284597",
   "metadata": {
    "tags": []
   },
   "outputs": [
    {
     "data": {
      "text/plain": [
       "39223"
      ]
     },
     "execution_count": 91,
     "metadata": {},
     "output_type": "execute_result"
    }
   ],
   "source": [
    "n = round(0.2 * ys.shape[0])\n",
    "n"
   ]
  },
  {
   "cell_type": "code",
   "execution_count": 92,
   "id": "b1638ecb-bbca-4c61-b66d-5ee538f74d9a",
   "metadata": {
    "tags": []
   },
   "outputs": [
    {
     "data": {
      "text/plain": [
       "0.20000203964041138"
      ]
     },
     "execution_count": 92,
     "metadata": {},
     "output_type": "execute_result"
    }
   ],
   "source": [
    "39223 / ys.shape[0]"
   ]
  },
  {
   "cell_type": "code",
   "execution_count": 93,
   "id": "0e2dfd7d-a571-4f6b-8244-89a2f1a1ad3c",
   "metadata": {
    "tags": []
   },
   "outputs": [],
   "source": [
    "import random"
   ]
  },
  {
   "cell_type": "code",
   "execution_count": 94,
   "id": "0fcb22bf-6517-4820-bdfa-8da6ccf977c4",
   "metadata": {
    "tags": []
   },
   "outputs": [
    {
     "data": {
      "text/plain": [
       "True"
      ]
     },
     "execution_count": 94,
     "metadata": {},
     "output_type": "execute_result"
    }
   ],
   "source": [
    "# generate some random indices, save them and use them as \n",
    "rand_ixs = [random.randrange(ys.shape[0]) for _ in range(n)]\n",
    "dev_ixs = rand_ixs[0:round(n/2)]\n",
    "test_ixs = rand_ixs[round(n/2): ]\n",
    "train_ixs = list(set(range(ys.shape[0])) - set(rand_ixs))\n",
    "len(dev_ixs) + len(test_ixs) == n"
   ]
  },
  {
   "cell_type": "code",
   "execution_count": 95,
   "id": "9580c626-5a17-488c-90e2-6d112d968c58",
   "metadata": {
    "tags": []
   },
   "outputs": [
    {
     "data": {
      "text/plain": [
       "tensor([[1., 0., 0.,  ..., 0., 1., 0.],\n",
       "        [1., 0., 0.,  ..., 0., 0., 0.],\n",
       "        [0., 0., 0.,  ..., 0., 0., 0.],\n",
       "        ...,\n",
       "        [0., 0., 0.,  ..., 0., 0., 0.],\n",
       "        [0., 0., 0.,  ..., 0., 0., 0.],\n",
       "        [0., 0., 0.,  ..., 0., 0., 0.]])"
      ]
     },
     "execution_count": 95,
     "metadata": {},
     "output_type": "execute_result"
    }
   ],
   "source": [
    "xenc[dev_ixs]"
   ]
  },
  {
   "cell_type": "code",
   "execution_count": 96,
   "id": "1311f036-8695-4a84-90dc-f4676d30c71a",
   "metadata": {
    "tags": []
   },
   "outputs": [
    {
     "data": {
      "text/plain": [
       "[1, 2]"
      ]
     },
     "execution_count": 96,
     "metadata": {},
     "output_type": "execute_result"
    }
   ],
   "source": [
    "# subtracting two lists \n",
    "a = [1, 2, 3, 4]\n",
    "b = [3, 4]\n",
    "\n",
    "list(set(a) - set(b))"
   ]
  },
  {
   "cell_type": "code",
   "execution_count": 97,
   "id": "c568f97d-fb66-4aac-8114-c5f14c966559",
   "metadata": {
    "tags": []
   },
   "outputs": [
    {
     "data": {
      "text/plain": [
       "tensor([ 1,  1,  0,  ...,  5, 12,  1])"
      ]
     },
     "execution_count": 97,
     "metadata": {},
     "output_type": "execute_result"
    }
   ],
   "source": [
    "ys[dev_ixs]"
   ]
  },
  {
   "cell_type": "code",
   "execution_count": 98,
   "id": "9acb94c8-7934-4586-9ad9-b5f8fcaa7b9d",
   "metadata": {
    "tags": []
   },
   "outputs": [],
   "source": [
    "# get the split datasets\n",
    "xtrain = xenc[train_ixs]\n",
    "ytrain = ys[train_ixs]\n",
    "\n",
    "xdev = xenc[dev_ixs]\n",
    "ydev = ys[dev_ixs] \n",
    "\n",
    "xtest = xenc[test_ixs]\n",
    "ytest = ys[test_ixs]"
   ]
  },
  {
   "cell_type": "code",
   "execution_count": 99,
   "id": "ea78ef70-7181-4c48-bf2d-30085884cc37",
   "metadata": {
    "tags": []
   },
   "outputs": [
    {
     "data": {
      "text/plain": [
       "torch.Size([160590, 54])"
      ]
     },
     "execution_count": 99,
     "metadata": {},
     "output_type": "execute_result"
    }
   ],
   "source": [
    "xtrain.shape"
   ]
  },
  {
   "cell_type": "code",
   "execution_count": 100,
   "id": "e4982000-8207-4596-a8ac-c16cf2a39dfc",
   "metadata": {
    "tags": []
   },
   "outputs": [],
   "source": [
    "# train on the train set only\n",
    "W_train = torch.randn((xtrain.shape[1], 27), requires_grad=True).float()\n",
    "n_epochs = 50\n",
    "losses = []\n",
    "\n",
    "for _ in range(n_epochs):\n",
    "    \n",
    "    #forward pass\n",
    "    logits = xtrain@W_train\n",
    "    counts = logits.exp()\n",
    "    probs = counts / counts.sum(dim=1, keepdims=True)\n",
    "    loss = - probs[torch.arange(ytrain.shape[0]), ytrain].log().mean()\n",
    "    #print(f'loss: {loss.item()}')\n",
    "    losses.append(loss.item())\n",
    "    \n",
    "    #backward pass\n",
    "    W_train.grad = None\n",
    "    loss.backward()\n",
    "    W_train.data -= 50 * W_train.grad"
   ]
  },
  {
   "cell_type": "code",
   "execution_count": 101,
   "id": "89cafe57-572b-4ba2-bb9f-ad5474323f2c",
   "metadata": {
    "tags": []
   },
   "outputs": [
    {
     "data": {
      "image/png": "[encoded data removed]",
      "text/plain": [
       "<Figure size 640x480 with 1 Axes>"
      ]
     },
     "metadata": {},
     "output_type": "display_data"
    }
   ],
   "source": [
    "plt.plot(range(n_epochs), losses);"
   ]
  },
  {
   "cell_type": "code",
   "execution_count": 110,
   "id": "8344bf56-4540-4d47-9a71-7fd204ebf613",
   "metadata": {
    "tags": []
   },
   "outputs": [
    {
     "name": "stdout",
     "output_type": "stream",
     "text": [
      "final loss on training set: 2.2905867099761963\n"
     ]
    }
   ],
   "source": [
    "print(f'final loss on training set: {losses[-1]}')"
   ]
  },
  {
   "cell_type": "code",
   "execution_count": 102,
   "id": "54e71922-806f-42c3-a66c-f930e90c45cf",
   "metadata": {
    "tags": []
   },
   "outputs": [
    {
     "data": {
      "text/plain": [
       "(torch.Size([19612, 54]), torch.Size([19611, 54]))"
      ]
     },
     "execution_count": 102,
     "metadata": {},
     "output_type": "execute_result"
    }
   ],
   "source": [
    "xdev.shape, xtest.shape"
   ]
  },
  {
   "cell_type": "code",
   "execution_count": 103,
   "id": "9409f368-0800-4a55-9ef7-b8a8ea324507",
   "metadata": {
    "tags": []
   },
   "outputs": [
    {
     "data": {
      "text/plain": [
       "torch.Size([160590, 54])"
      ]
     },
     "execution_count": 103,
     "metadata": {},
     "output_type": "execute_result"
    }
   ],
   "source": [
    "xtrain.shape"
   ]
  },
  {
   "cell_type": "code",
   "execution_count": 104,
   "id": "20e87ea4-f01d-469e-86de-e95a9b353f10",
   "metadata": {
    "tags": []
   },
   "outputs": [
    {
     "data": {
      "text/plain": [
       "torch.Size([54, 27])"
      ]
     },
     "execution_count": 104,
     "metadata": {},
     "output_type": "execute_result"
    }
   ],
   "source": [
    "W_train.shape"
   ]
  },
  {
   "cell_type": "code",
   "execution_count": 107,
   "id": "286e9c50-9fa9-4e36-8e60-418234029018",
   "metadata": {},
   "outputs": [
    {
     "data": {
      "text/plain": [
       "2.297111749649048"
      ]
     },
     "execution_count": 107,
     "metadata": {},
     "output_type": "execute_result"
    }
   ],
   "source": [
    "# evaluate on the dev set\n",
    "dlogits = xdev@W_train\n",
    "dcounts = dlogits.exp()\n",
    "dprobs = dcounts / dcounts.sum(dim=1, keepdims=True)\n",
    "dloss = - dprobs[torch.arange(ydev.shape[0]), ydev].log().mean()\n",
    "dloss.item()"
   ]
  },
  {
   "cell_type": "code",
   "execution_count": 108,
   "id": "ded50684-8db5-417b-8770-97ddbf7db297",
   "metadata": {},
   "outputs": [
    {
     "data": {
      "text/plain": [
       "2.2976696491241455"
      ]
     },
     "execution_count": 108,
     "metadata": {},
     "output_type": "execute_result"
    }
   ],
   "source": [
    "# evaluate on the test set\n",
    "tlogits = xtest@W_train\n",
    "tcounts = tlogits.exp()\n",
    "tprobs = tcounts / tcounts.sum(dim=1, keepdims=True)\n",
    "tloss = - tprobs[torch.arange(ytest.shape[0]), ytest].log().mean()\n",
    "tloss.item()"
   ]
  },
  {
   "cell_type": "code",
   "execution_count": 111,
   "id": "791a81ac-6339-4108-9991-e3700e6778c3",
   "metadata": {},
   "outputs": [],
   "source": [
    "# refactor into one function \n",
    "\n",
    "def nn_loss(X, y, W):\n",
    "    logits = X@W\n",
    "    counts = logits.exp()\n",
    "    probs = counts / counts.sum(dim=1, keepdims=True)\n",
    "    loss = - probs[torch.arange(y.shape[0]), y].log().mean()\n",
    "    return loss.item()"
   ]
  },
  {
   "cell_type": "code",
   "execution_count": 112,
   "id": "919e6e23-5ddb-4f77-b7ce-9e2167da888d",
   "metadata": {},
   "outputs": [
    {
     "name": "stdout",
     "output_type": "stream",
     "text": [
      "Tain data loss: 2.289400339126587\n",
      "Dev data loss: 2.297111749649048\n",
      "Test data loss: 2.2976696491241455\n"
     ]
    }
   ],
   "source": [
    "print(f'Tain data loss: {nn_loss(xtrain, ytrain, W_train)}')\n",
    "print(f'Dev data loss: {nn_loss(xdev, ydev, W_train)}')\n",
    "print(f'Test data loss: {nn_loss(xtest, ytest, W_train)}')"
   ]
  },
  {
   "cell_type": "markdown",
   "id": "001e0133-a7cc-45aa-80be-7a62a7fa2d90",
   "metadata": {},
   "source": [
    "We notice there is very slightly higher loss on Dev and Test data. Also, we get a slightly higher loss on training data than the previous 2.263171434402466"
   ]
  },
  {
   "cell_type": "markdown",
   "id": "807f9b6b-ae57-4997-a58b-7c0f0d9abf26",
   "metadata": {
    "tags": []
   },
   "source": [
    "### E03: \n",
    "Use the dev set to tune the strength of smoothing (or regularization) for the trigram model - i.e. try many possibilities and see which one works best based on the dev set loss. What patterns can you see in the train and dev set loss as you tune this strength? Take the best setting of the smoothing and evaluate on the test set once and at the end. How good of a loss do you achieve?"
   ]
  },
  {
   "cell_type": "markdown",
   "id": "ef58fa35-07c6-4572-ae64-fa43e1e39efc",
   "metadata": {},
   "source": [
    "Ans: How do we do smoothing? We do it by adding a component to the loss function that tries to make the Weights close to zero by increasing the loss if weights were high. Eg:\n",
    "\n",
    "`loss = - probs[torch.arange(y.shape[0]), y].log().mean() + 0.01 * (W**2).mean()`"
   ]
  },
  {
   "cell_type": "code",
   "execution_count": 134,
   "id": "7c5e04e2-2879-44d1-b90f-01455e2b0bef",
   "metadata": {
    "tags": []
   },
   "outputs": [],
   "source": [
    "# let's put the training loop in a function so we can call it multiple times as needed\n",
    "\n",
    "def train(X, y, n_epochs, sfactor):\n",
    "    \n",
    "    W = torch.randn((X.shape[1], 27), requires_grad=True).float()\n",
    "    losses = []\n",
    "\n",
    "    for _ in range(n_epochs):\n",
    "\n",
    "        #forward pass\n",
    "        logits = X@W\n",
    "        counts = logits.exp()\n",
    "        probs = counts / counts.sum(dim=1, keepdims=True)\n",
    "        loss = - probs[torch.arange(y.shape[0]), y].log().mean() + sfactor * (W**2).mean()\n",
    "        losses.append(loss.item())\n",
    "\n",
    "        #backward pass\n",
    "        W.grad = None\n",
    "        loss.backward()\n",
    "        W.data -= 50 * W.grad\n",
    "    \n",
    "    dloss = nn_loss(xdev, ydev, W)\n",
    "    \n",
    "    return loss.item(), dloss"
   ]
  },
  {
   "cell_type": "code",
   "execution_count": 135,
   "id": "18d4e7e7-7193-4953-a566-702af37f0fdb",
   "metadata": {
    "tags": []
   },
   "outputs": [],
   "source": [
    "l, dloss = train(xtrain, ytrain, 10, 0.001)"
   ]
  },
  {
   "cell_type": "code",
   "execution_count": 136,
   "id": "638a0126-c671-456a-9f70-7c12bc5f2119",
   "metadata": {
    "tags": []
   },
   "outputs": [
    {
     "data": {
      "text/plain": [
       "(2.532381296157837, 2.515805721282959)"
      ]
     },
     "execution_count": 136,
     "metadata": {},
     "output_type": "execute_result"
    }
   ],
   "source": [
    "l, dloss"
   ]
  },
  {
   "cell_type": "code",
   "execution_count": 144,
   "id": "efdce630-3433-472e-8a95-5156714ad9bb",
   "metadata": {
    "tags": []
   },
   "outputs": [
    {
     "name": "stdout",
     "output_type": "stream",
     "text": [
      "Train loss 2.52, Dev loss 2.50\n",
      "Train loss 2.58, Dev loss 2.50\n",
      "Train loss 2.63, Dev loss 2.48\n",
      "Train loss 2.68, Dev loss 2.49\n",
      "Train loss 2.70, Dev loss 2.47\n",
      "Train loss 2.69, Dev loss 2.45\n",
      "Train loss 2.73, Dev loss 2.46\n",
      "Train loss 2.75, Dev loss 2.47\n",
      "Train loss 2.74, Dev loss 2.45\n",
      "Train loss 2.75, Dev loss 2.45\n"
     ]
    }
   ],
   "source": [
    "# evaluate with different sfactor values on the dev set loss\n",
    "for s in torch.arange(0, 1, 0.1):\n",
    "    tloss, dloss = train(xtrain, ytrain, 10, s.item())\n",
    "    print(f'Train loss {tloss:.2f}, Dev loss {dloss:.2f}')"
   ]
  },
  {
   "cell_type": "code",
   "execution_count": 143,
   "id": "19ecd864-edfe-4358-8ba0-a5ed73828606",
   "metadata": {
    "tags": []
   },
   "outputs": [
    {
     "name": "stdout",
     "output_type": "stream",
     "text": [
      "Train loss 2.29, Dev loss 2.30\n",
      "Train loss 2.35, Dev loss 2.30\n",
      "Train loss 2.39, Dev loss 2.31\n",
      "Train loss 2.41, Dev loss 2.32\n",
      "Train loss 2.43, Dev loss 2.33\n",
      "Train loss 2.46, Dev loss 2.34\n",
      "Train loss 2.48, Dev loss 2.36\n",
      "Train loss 2.50, Dev loss 2.37\n",
      "Train loss 2.51, Dev loss 2.38\n",
      "Train loss 2.53, Dev loss 2.39\n"
     ]
    }
   ],
   "source": [
    "# evaluate with different sfactor values on the dev set loss\n",
    "for s in torch.arange(0, 1, 0.1):\n",
    "    tloss, dloss = train(xtrain, ytrain, 50, s.item())\n",
    "    print(f'Train loss {tloss:.2f}, Dev loss {dloss:.2f}')"
   ]
  },
  {
   "cell_type": "markdown",
   "id": "2ae66198-88d1-486d-ac31-17204e3f9fd2",
   "metadata": {},
   "source": [
    "Comment: When we train for 10 epochs only, the higher regularization seems to lead to worse loss on train dataset but better on dev dataset. It maybe that since we train for such a short time, regularization leads to better geenralization to the dev dataset.\\\n",
    "But when we train for longer (50 epochs), now any regularization leads to worse results. Perhaps it's because we lose what we learn."
   ]
  },
  {
   "cell_type": "markdown",
   "id": "767b5ecf-1a84-4d5c-b79e-4893f4fe2282",
   "metadata": {
    "tags": []
   },
   "source": [
    "### E04: \n",
    "We saw that our 1-hot vectors merely select a row of W, so producing these vectors explicitly feels wasteful. Can you delete our use of F.one_hot in favor of simply indexing into rows of W?"
   ]
  },
  {
   "cell_type": "code",
   "execution_count": 145,
   "id": "c21855f2-e7e1-4d68-b971-65dc4fe42ccd",
   "metadata": {
    "tags": []
   },
   "outputs": [
    {
     "data": {
      "text/plain": [
       "torch.Size([196113, 2])"
      ]
     },
     "execution_count": 145,
     "metadata": {},
     "output_type": "execute_result"
    }
   ],
   "source": [
    "xs.shape"
   ]
  },
  {
   "cell_type": "code",
   "execution_count": 146,
   "id": "e14be2d7-99cc-4cc4-b396-697925622269",
   "metadata": {
    "tags": []
   },
   "outputs": [
    {
     "data": {
      "text/plain": [
       "tensor([[ 0,  5],\n",
       "        [ 5, 13],\n",
       "        [13, 13],\n",
       "        ...,\n",
       "        [26, 25],\n",
       "        [25, 26],\n",
       "        [26, 24]])"
      ]
     },
     "execution_count": 146,
     "metadata": {},
     "output_type": "execute_result"
    }
   ],
   "source": [
    "xs"
   ]
  },
  {
   "cell_type": "code",
   "execution_count": 153,
   "id": "ac287129-7eb6-4d85-8ca0-707ff0545f8f",
   "metadata": {
    "tags": []
   },
   "outputs": [
    {
     "data": {
      "text/plain": [
       "torch.Size([196113, 2])"
      ]
     },
     "execution_count": 153,
     "metadata": {},
     "output_type": "execute_result"
    }
   ],
   "source": [
    "xs.shape"
   ]
  },
  {
   "cell_type": "code",
   "execution_count": 183,
   "id": "ad5585f4-35ba-4c06-b339-f9963619d49b",
   "metadata": {
    "tags": []
   },
   "outputs": [
    {
     "data": {
      "text/plain": [
       "tensor([ 0,  5, 13,  ..., 26, 25, 26])"
      ]
     },
     "execution_count": 183,
     "metadata": {},
     "output_type": "execute_result"
    }
   ],
   "source": [
    "xs[:, 0]"
   ]
  },
  {
   "cell_type": "code",
   "execution_count": 184,
   "id": "705cb1a5-d3bb-45de-8219-27e56ab1e527",
   "metadata": {
    "tags": []
   },
   "outputs": [
    {
     "data": {
      "text/plain": [
       "tensor([ 5, 13, 13,  ..., 25, 26, 24])"
      ]
     },
     "execution_count": 184,
     "metadata": {},
     "output_type": "execute_result"
    }
   ],
   "source": [
    "xs[:, 1]"
   ]
  },
  {
   "cell_type": "code",
   "execution_count": 148,
   "id": "17bb346f-17e6-49ae-8f85-ef77c13221fc",
   "metadata": {
    "tags": []
   },
   "outputs": [
    {
     "data": {
      "text/plain": [
       "torch.Size([54, 27])"
      ]
     },
     "execution_count": 148,
     "metadata": {},
     "output_type": "execute_result"
    }
   ],
   "source": [
    "W.shape"
   ]
  },
  {
   "cell_type": "code",
   "execution_count": 150,
   "id": "a073be81-c8dc-417b-a374-bf4682f3abb2",
   "metadata": {
    "tags": []
   },
   "outputs": [
    {
     "data": {
      "text/plain": [
       "torch.Size([2, 27])"
      ]
     },
     "execution_count": 150,
     "metadata": {},
     "output_type": "execute_result"
    }
   ],
   "source": [
    "W[xs[0]].shape"
   ]
  },
  {
   "cell_type": "code",
   "execution_count": 194,
   "id": "f28f01cb-c555-4863-b111-a760768a3736",
   "metadata": {
    "tags": []
   },
   "outputs": [
    {
     "data": {
      "text/plain": [
       "tensor([0, 5])"
      ]
     },
     "execution_count": 194,
     "metadata": {},
     "output_type": "execute_result"
    }
   ],
   "source": [
    "xs[0]"
   ]
  },
  {
   "cell_type": "code",
   "execution_count": 190,
   "id": "7163c60c-29fd-412d-bbc1-ef9182945492",
   "metadata": {
    "tags": []
   },
   "outputs": [
    {
     "data": {
      "text/plain": [
       "tensor(1.2372, grad_fn=<SelectBackward0>)"
      ]
     },
     "execution_count": 190,
     "metadata": {},
     "output_type": "execute_result"
    }
   ],
   "source": [
    "W[0][5]"
   ]
  },
  {
   "cell_type": "code",
   "execution_count": 197,
   "id": "6165e4ec-c577-42e2-9005-2a5298acc8cd",
   "metadata": {
    "tags": []
   },
   "outputs": [
    {
     "data": {
      "text/plain": [
       "tensor([-2.0616,  1.6098, -0.6138, -1.2288,  0.7778,  1.4193, -2.0392, -2.0787,\n",
       "        -0.3492,  0.8818, -2.5392, -1.2180,  2.8218,  1.5374,  1.5319,  0.5432,\n",
       "        -2.4590, -3.4870,  2.3933,  0.9883,  0.0536, -0.0620,  1.0439, -2.1429,\n",
       "        -1.9111,  1.1217,  0.0470], grad_fn=<SqueezeBackward3>)"
      ]
     },
     "execution_count": 197,
     "metadata": {},
     "output_type": "execute_result"
    }
   ],
   "source": [
    "(xenc[0]@W)"
   ]
  },
  {
   "cell_type": "code",
   "execution_count": 207,
   "id": "7068e9f5-9e87-4a28-aa8e-c32a4529f952",
   "metadata": {
    "tags": []
   },
   "outputs": [
    {
     "data": {
      "text/plain": [
       "tensor([-2.0616,  1.6098, -0.6138, -1.2288,  0.7778,  1.4193, -2.0392, -2.0787,\n",
       "        -0.3492,  0.8818, -2.5392, -1.2180,  2.8218,  1.5374,  1.5319,  0.5432,\n",
       "        -2.4590, -3.4870,  2.3933,  0.9883,  0.0536, -0.0620,  1.0439, -2.1429,\n",
       "        -1.9111,  1.1217,  0.0470], grad_fn=<SumBackward1>)"
      ]
     },
     "execution_count": 207,
     "metadata": {},
     "output_type": "execute_result"
    }
   ],
   "source": [
    "W[[0, 5+27], :].sum(dim=0)"
   ]
  },
  {
   "cell_type": "code",
   "execution_count": 225,
   "id": "7b57b063-c526-4ac2-924f-1ff1ac1824ea",
   "metadata": {
    "tags": []
   },
   "outputs": [],
   "source": [
    "def train2(xs, y, n_epochs, sfactor):\n",
    "    \n",
    "    W = torch.randn((xs.shape[0], 27), requires_grad=True).float()\n",
    "    losses = []\n",
    "\n",
    "    for _ in range(n_epochs):\n",
    "\n",
    "        #forward pass       \n",
    "        logits = W[xs[:,0]] + W[xs[:,1] + 27]\n",
    "        counts = logits.exp()\n",
    "        probs = counts / counts.sum(dim=1, keepdims=True)\n",
    "        loss = - probs[torch.arange(y.shape[0]), y].log().mean() + sfactor * (W**2).mean()\n",
    "        losses.append(loss.item())\n",
    "\n",
    "        #backward pass\n",
    "        W.grad = None\n",
    "        loss.backward()\n",
    "        W.data -= 50 * W.grad\n",
    "    \n",
    "    \n",
    "    return loss.item(), losses"
   ]
  },
  {
   "cell_type": "code",
   "execution_count": 226,
   "id": "efa877ca-849f-48a8-ada4-4cf4e553d806",
   "metadata": {
    "tags": []
   },
   "outputs": [
    {
     "data": {
      "text/plain": [
       "torch.Size([196113, 27])"
      ]
     },
     "execution_count": 226,
     "metadata": {},
     "output_type": "execute_result"
    }
   ],
   "source": [
    "(W[xs[:,0]] + W[xs[:,1] + 27]).shape"
   ]
  },
  {
   "cell_type": "code",
   "execution_count": 229,
   "id": "6f537f41-77cf-4dfd-bba2-43c5cffba390",
   "metadata": {
    "tags": []
   },
   "outputs": [],
   "source": [
    "final, ls = train2(xs, ys, 10, 0.1)"
   ]
  },
  {
   "cell_type": "code",
   "execution_count": 230,
   "id": "be6983a5-b8dc-43b4-a6ff-fb361c9e9f83",
   "metadata": {
    "tags": []
   },
   "outputs": [
    {
     "data": {
      "text/plain": [
       "2.6263694763183594"
      ]
     },
     "execution_count": 230,
     "metadata": {},
     "output_type": "execute_result"
    }
   ],
   "source": [
    "final"
   ]
  },
  {
   "cell_type": "markdown",
   "id": "eece74a7-97fb-4ca7-a9dc-df0c7ced9770",
   "metadata": {
    "tags": []
   },
   "source": [
    "### E05: \n",
    "Look up and use F.cross_entropy instead. You should achieve the same result. Can you think of why we'd prefer to use F.cross_entropy instead?"
   ]
  },
  {
   "cell_type": "markdown",
   "id": "4fedca45-7440-4dae-9110-135ac63588c0",
   "metadata": {},
   "source": [
    "From documentation:\n",
    "\n",
    "`torch.nn.functional.cross_entropy()`\n",
    "\n",
    "input (Tensor) – Predicted unnormalized logits; see Shape section below for supported shapes.\\\n",
    "target (Tensor) – Ground truth class indices or class probabilities; see Shape section below for supported shapes.\n",
    "\n",
    "**Example of target with class indices**\n",
    "```\n",
    "input = torch.randn(3, 5, requires_grad=True)\n",
    "target = torch.randint(5, (3,), dtype=torch.int64)\n",
    "loss = F.cross_entropy(input, target)\n",
    "loss.backward()\n",
    "```\n",
    "**Example of target with class probabilities**\n",
    "```\n",
    "input = torch.randn(3, 5, requires_grad=True)\n",
    "target = torch.randn(3, 5).softmax(dim=1)\n",
    "loss = F.cross_entropy(input, target)\n",
    "loss.backward()\n",
    "```"
   ]
  },
  {
   "cell_type": "code",
   "execution_count": 235,
   "id": "56eea8d2-1a44-4977-8432-47f8cd366f32",
   "metadata": {
    "tags": []
   },
   "outputs": [],
   "source": [
    "def train3(xs, y, n_epochs):\n",
    "    \n",
    "    W = torch.randn((xs.shape[0], 27), requires_grad=True).float()\n",
    "    losses = []\n",
    "\n",
    "    for _ in range(n_epochs):\n",
    "\n",
    "        #forward pass       \n",
    "        logits = W[xs[:,0]] + W[xs[:,1] + 27]\n",
    "        counts = logits.exp()\n",
    "        probs = counts / counts.sum(dim=1, keepdims=True)\n",
    "        loss = torch.nn.functional.cross_entropy(logits, ys)\n",
    "        losses.append(loss.item())\n",
    "\n",
    "        #backward pass\n",
    "        W.grad = None\n",
    "        loss.backward()\n",
    "        W.data -= 50 * W.grad\n",
    "    \n",
    "    \n",
    "    return loss.item(), losses"
   ]
  },
  {
   "cell_type": "code",
   "execution_count": 237,
   "id": "00bb4930-98fe-4592-9785-a4b58df8c236",
   "metadata": {
    "tags": []
   },
   "outputs": [
    {
     "data": {
      "text/plain": [
       "2.293501853942871"
      ]
     },
     "execution_count": 237,
     "metadata": {},
     "output_type": "execute_result"
    }
   ],
   "source": [
    "loss, losslist = train3(xs, ys, 50)\n",
    "loss"
   ]
  },
  {
   "cell_type": "code",
   "execution_count": 238,
   "id": "e1490a09-16e7-4d05-a0ad-d1f1897688ad",
   "metadata": {
    "tags": []
   },
   "outputs": [
    {
     "data": {
      "image/png": "[encoded data removed]",
      "text/plain": [
       "<Figure size 640x480 with 1 Axes>"
      ]
     },
     "metadata": {},
     "output_type": "display_data"
    }
   ],
   "source": [
    "plt.plot(torch.arange(50), losslist);"
   ]
  },
  {
   "cell_type": "markdown",
   "id": "416569ba-8dac-4718-9616-056fb8b7b3f0",
   "metadata": {},
   "source": [
    "### Cross Entropy Explained:\n",
    "\n",
    "In our loss function, we do the following:\n",
    "```\n",
    "logits = W[xs[:,0]] + W[xs[:,1] + 27]\n",
    "counts = logits.exp()\n",
    "probs = counts / counts.sum(dim=1, keepdims=True)\n",
    "```\n",
    "In math terms, the last 2 steps are:\n",
    "\n",
    "$$ \\frac{exp(z_i)} {\\sum_{j=1}^{k} exp(z_j)} $$\n",
    "\n",
    "And this exponentiation and normalization of counts is called softmax.\n",
    "\n",
    "**What does soft-max mean**?\\\n",
    "Consider the 27 possible classes we have as output. When we do `logits.exp()` , each class' logit becomes a proability between 0 and 1. This means when we interpret them, our result can belong to more than one class. If we normalize however, this means we're telling it we want only one class to be the right one.\\\n",
    "Then, CrossEntropy does `log(softmax)` for easier calculations.\\\n",
    "Finally, it selects the probability (logSoftmax) of the \"True\" class using the output labels."
   ]
  },
  {
   "cell_type": "markdown",
   "id": "9715c4e5-37a6-4389-8fe5-ef04127db325",
   "metadata": {
    "tags": []
   },
   "source": [
    "### E06: \n",
    "Meta-exercise! Think of a fun/interesting exercise and complete it."
   ]
  }
 ],
 "metadata": {
  "kernelspec": {
   "display_name": "Python 3 (ipykernel)",
   "language": "python",
   "name": "python3"
  },
  "language_info": {
   "codemirror_mode": {
    "name": "ipython",
    "version": 3
   },
   "file_extension": ".py",
   "mimetype": "text/x-python",
   "name": "python",
   "nbconvert_exporter": "python",
   "pygments_lexer": "ipython3",
   "version": "3.10.9"
  }
 },
 "nbformat": 4,
 "nbformat_minor": 5
}
